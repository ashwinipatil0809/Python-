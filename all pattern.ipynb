{
 "cells": [
  {
   "cell_type": "code",
   "execution_count": 2,
   "id": "c308c71c-eca3-437f-8614-03afc964464d",
   "metadata": {},
   "outputs": [
    {
     "name": "stdout",
     "output_type": "stream",
     "text": [
      "1 1 1 1 1 \n",
      "1 1 1 1 1 \n",
      "1 1 1 1 1 \n",
      "1 1 1 1 1 \n",
      "1 1 1 1 1 \n"
     ]
    }
   ],
   "source": [
    "for i in range(5):\n",
    "    for j in range(5):\n",
    "        print(\"1\",end=\" \")\n",
    "    print()"
   ]
  },
  {
   "cell_type": "code",
   "execution_count": 5,
   "id": "ce86eadb-0375-4a1b-8dcf-dec35c7a6d4b",
   "metadata": {},
   "outputs": [
    {
     "name": "stdin",
     "output_type": "stream",
     "text": [
      "Enter a star number 9\n"
     ]
    },
    {
     "name": "stdout",
     "output_type": "stream",
     "text": [
      "1 1 1 1 1 1 1 1 1 \n",
      "1 1 1 1 1 1 1 1 1 \n",
      "1 1 1 1 1 1 1 1 1 \n",
      "1 1 1 1 1 1 1 1 1 \n",
      "1 1 1 1 1 1 1 1 1 \n",
      "1 1 1 1 1 1 1 1 1 \n",
      "1 1 1 1 1 1 1 1 1 \n",
      "1 1 1 1 1 1 1 1 1 \n",
      "1 1 1 1 1 1 1 1 1 \n"
     ]
    }
   ],
   "source": [
    "n=int(input(\"Enter a star number\"))\n",
    "for i in range(n):\n",
    "    for j in range(n):\n",
    "        print(\"1\",end=\" \")\n",
    "    print()"
   ]
  },
  {
   "cell_type": "code",
   "execution_count": 6,
   "id": "75c82d6e-fb27-4d0e-b994-8ac1f8cacabf",
   "metadata": {},
   "outputs": [
    {
     "name": "stdin",
     "output_type": "stream",
     "text": [
      "Enter a star number 9\n"
     ]
    },
    {
     "name": "stdout",
     "output_type": "stream",
     "text": [
      "1 1 1 1 1 1 1 1 1 \n",
      "1 1 1 1 1 1 1 1 1 \n",
      "1 1 1 1 1 1 1 1 1 \n",
      "1 1 1 1 1 1 1 1 1 \n",
      "1 1 1 1 1 1 1 1 1 \n",
      "1 1 1 1 1 1 1 1 1 \n",
      "1 1 1 1 1 1 1 1 1 \n",
      "1 1 1 1 1 1 1 1 1 \n",
      "1 1 1 1 1 1 1 1 1 \n"
     ]
    }
   ],
   "source": [
    "n=int(input(\"Enter a star number\"))\n",
    "for i in range(n):\n",
    "    for j in range(n):\n",
    "        print(\"1\",end=\" \")\n",
    "    print()"
   ]
  },
  {
   "cell_type": "code",
   "execution_count": 9,
   "id": "01c9df32-e09c-4d81-a600-71c374465dd6",
   "metadata": {},
   "outputs": [
    {
     "name": "stdin",
     "output_type": "stream",
     "text": [
      "Enter a star number 8\n"
     ]
    },
    {
     "name": "stdout",
     "output_type": "stream",
     "text": [
      "0 1 2 3 4 5 6 7 \n",
      "0 1 2 3 4 5 6 7 \n",
      "0 1 2 3 4 5 6 7 \n",
      "0 1 2 3 4 5 6 7 \n",
      "0 1 2 3 4 5 6 7 \n",
      "0 1 2 3 4 5 6 7 \n",
      "0 1 2 3 4 5 6 7 \n",
      "0 1 2 3 4 5 6 7 \n"
     ]
    }
   ],
   "source": [
    "n=int(input(\"Enter a star number\"))\n",
    "for i in range(n):#range(5)  [0,1,2,3,4]  #i=1          #i=2\n",
    "    for j in range(n):                   #j=0,1,2,3,4   #j=0,1,2,3,4  \n",
    "        print(j,end=\" \")\n",
    "    print()"
   ]
  },
  {
   "cell_type": "code",
   "execution_count": 10,
   "id": "1e2d2f1e-5c67-4212-9671-c4348e4f9b70",
   "metadata": {},
   "outputs": [
    {
     "name": "stdin",
     "output_type": "stream",
     "text": [
      "Enter a star number 4\n"
     ]
    },
    {
     "name": "stdout",
     "output_type": "stream",
     "text": [
      "0 0 0 0 \n",
      "1 1 1 1 \n",
      "2 2 2 2 \n",
      "3 3 3 3 \n"
     ]
    }
   ],
   "source": [
    "n=int(input(\"Enter a star number\"))\n",
    "for i in range(n):#range(5)  [0,1,2,3,4]  i=0               #i=1          #i=2\n",
    "    for j in range(n):                   #j=0,1,2,3,4   #j=0,1,2,3,4  \n",
    "        print(i,end=\" \")\n",
    "    print()"
   ]
  },
  {
   "cell_type": "code",
   "execution_count": 11,
   "id": "2ec24636-83d5-4ae2-8f28-cec4e17280f9",
   "metadata": {},
   "outputs": [
    {
     "name": "stdin",
     "output_type": "stream",
     "text": [
      "Enter a star number 4\n"
     ]
    },
    {
     "name": "stdout",
     "output_type": "stream",
     "text": [
      "A A A A \n",
      "A A A A \n",
      "A A A A \n",
      "A A A A \n"
     ]
    }
   ],
   "source": [
    "n=int(input(\"Enter a star number\"))\n",
    "for i in range(n):\n",
    "    for j in range(n):\n",
    "        print(\"A\",end=\" \")\n",
    "    print()"
   ]
  },
  {
   "cell_type": "code",
   "execution_count": 12,
   "id": "947fe4ae-4535-4049-8236-f8ce07de0857",
   "metadata": {},
   "outputs": [
    {
     "name": "stdin",
     "output_type": "stream",
     "text": [
      "Enter a star number 4\n"
     ]
    },
    {
     "ename": "NameError",
     "evalue": "name 'char' is not defined",
     "output_type": "error",
     "traceback": [
      "\u001b[1;31m---------------------------------------------------------------------------\u001b[0m",
      "\u001b[1;31mNameError\u001b[0m                                 Traceback (most recent call last)",
      "Cell \u001b[1;32mIn[12], line 5\u001b[0m\n\u001b[0;32m      3\u001b[0m \u001b[38;5;28;01mfor\u001b[39;00m i \u001b[38;5;129;01min\u001b[39;00m \u001b[38;5;28mrange\u001b[39m(n):\n\u001b[0;32m      4\u001b[0m     \u001b[38;5;28;01mfor\u001b[39;00m j \u001b[38;5;129;01min\u001b[39;00m \u001b[38;5;28mrange\u001b[39m(n):\n\u001b[1;32m----> 5\u001b[0m         \u001b[38;5;28mprint\u001b[39m(char(num),end\u001b[38;5;241m=\u001b[39m\u001b[38;5;124m\"\u001b[39m\u001b[38;5;124m \u001b[39m\u001b[38;5;124m\"\u001b[39m)\n\u001b[0;32m      6\u001b[0m     \u001b[38;5;28mprint\u001b[39m()\n",
      "\u001b[1;31mNameError\u001b[0m: name 'char' is not defined"
     ]
    }
   ],
   "source": [
    "n=int(input(\"Enter a star number\"))\n",
    "num=65\n",
    "for i in range(n):\n",
    "    for j in range(n):\n",
    "        print(char(num),end=\" \")\n",
    "    print()"
   ]
  },
  {
   "cell_type": "code",
   "execution_count": 13,
   "id": "28e7f86a-6f5f-4db7-8922-22e1dbc0664d",
   "metadata": {},
   "outputs": [
    {
     "name": "stdin",
     "output_type": "stream",
     "text": [
      "Enter a star number A\n"
     ]
    },
    {
     "ename": "ValueError",
     "evalue": "invalid literal for int() with base 10: 'A'",
     "output_type": "error",
     "traceback": [
      "\u001b[1;31m---------------------------------------------------------------------------\u001b[0m",
      "\u001b[1;31mValueError\u001b[0m                                Traceback (most recent call last)",
      "Cell \u001b[1;32mIn[13], line 1\u001b[0m\n\u001b[1;32m----> 1\u001b[0m n\u001b[38;5;241m=\u001b[39m\u001b[38;5;28mint\u001b[39m(\u001b[38;5;28minput\u001b[39m(\u001b[38;5;124m\"\u001b[39m\u001b[38;5;124mEnter a star number\u001b[39m\u001b[38;5;124m\"\u001b[39m))\n\u001b[0;32m      2\u001b[0m num\u001b[38;5;241m=\u001b[39m\u001b[38;5;241m65\u001b[39m\n\u001b[0;32m      3\u001b[0m \u001b[38;5;28;01mfor\u001b[39;00m i \u001b[38;5;129;01min\u001b[39;00m \u001b[38;5;28mrange\u001b[39m(n):\n",
      "\u001b[1;31mValueError\u001b[0m: invalid literal for int() with base 10: 'A'"
     ]
    }
   ],
   "source": [
    "n=int(input(\"Enter a star number\"))\n",
    "num=65\n",
    "for i in range(n):\n",
    "    for j in range(n):\n",
    "        print(char(num),end=\" \")\n",
    "    print()"
   ]
  },
  {
   "cell_type": "code",
   "execution_count": 15,
   "id": "8c12c878-d562-4e2d-a2f8-bdf4159d44dd",
   "metadata": {},
   "outputs": [
    {
     "name": "stdin",
     "output_type": "stream",
     "text": [
      "Enter a star number 5\n"
     ]
    },
    {
     "name": "stdout",
     "output_type": "stream",
     "text": [
      "A B C D E \n",
      "F G H I J \n",
      "K L M N O \n",
      "P Q R S T \n",
      "U V W X Y \n"
     ]
    }
   ],
   "source": [
    "n=int(input(\"Enter a star number\"))\n",
    "num=65\n",
    "for i in range(n):\n",
    "    for j in range(n):\n",
    "        print(chr(num),end=\" \")\n",
    "        num=num+1\n",
    "    print()"
   ]
  },
  {
   "cell_type": "code",
   "execution_count": 16,
   "id": "b6413f9a-5cdd-4365-a667-bd3d9315665a",
   "metadata": {},
   "outputs": [
    {
     "name": "stdin",
     "output_type": "stream",
     "text": [
      "Enter a star number 5\n"
     ]
    },
    {
     "name": "stdout",
     "output_type": "stream",
     "text": [
      "a b c d e \n",
      "f g h i j \n",
      "k l m n o \n",
      "p q r s t \n",
      "u v w x y \n"
     ]
    }
   ],
   "source": [
    "n=int(input(\"Enter a star number\"))\n",
    "num=97\n",
    "for i in range(n):\n",
    "    for j in range(n):\n",
    "        print(chr(num),end=\" \")\n",
    "        num=num+1\n",
    "    print()"
   ]
  },
  {
   "cell_type": "code",
   "execution_count": 17,
   "id": "900f33f2-015a-4a36-a9af-43b7d1e5785d",
   "metadata": {},
   "outputs": [
    {
     "name": "stdin",
     "output_type": "stream",
     "text": [
      "Enter a star number 5\n"
     ]
    },
    {
     "name": "stdout",
     "output_type": "stream",
     "text": [
      "a \n",
      "b c \n",
      "d e f \n",
      "g h i j \n",
      "k l m n o \n"
     ]
    }
   ],
   "source": [
    "n=int(input(\"Enter a star number\"))\n",
    "num=97\n",
    "for i in range(1,n+1):\n",
    "    for j in range(i):\n",
    "        print(chr(num),end=\" \")\n",
    "        num=num+1\n",
    "    print()"
   ]
  },
  {
   "cell_type": "code",
   "execution_count": 18,
   "id": "94e72796-aef9-47fc-ac10-948b3cba3cb4",
   "metadata": {},
   "outputs": [
    {
     "name": "stdout",
     "output_type": "stream",
     "text": [
      "char----> P\n",
      "j*************: 0\n",
      "j*************: 1\n",
      "j*************: 2\n",
      "j*************: 3\n",
      "j*************: 4\n",
      "j*************: 5\n",
      "\n",
      "char----> y\n",
      "j*************: 0\n",
      "j*************: 1\n",
      "j*************: 2\n",
      "j*************: 3\n",
      "j*************: 4\n",
      "j*************: 5\n",
      "\n",
      "char----> t\n",
      "j*************: 0\n",
      "j*************: 1\n",
      "j*************: 2\n",
      "j*************: 3\n",
      "j*************: 4\n",
      "j*************: 5\n",
      "\n",
      "char----> h\n",
      "j*************: 0\n",
      "j*************: 1\n",
      "j*************: 2\n",
      "j*************: 3\n",
      "j*************: 4\n",
      "j*************: 5\n",
      "\n",
      "char----> o\n",
      "j*************: 0\n",
      "j*************: 1\n",
      "j*************: 2\n",
      "j*************: 3\n",
      "j*************: 4\n",
      "j*************: 5\n",
      "\n",
      "char----> n\n",
      "j*************: 0\n",
      "j*************: 1\n",
      "j*************: 2\n",
      "j*************: 3\n",
      "j*************: 4\n",
      "j*************: 5\n",
      "\n"
     ]
    }
   ],
   "source": [
    "#nested for loop me \n",
    "\n",
    "for i in \"Python\":\n",
    "    print(\"char---->\",i)\n",
    "    for j in range(6):\n",
    "        print(\"j*************:\",j)\n",
    "        if(j==2) and (j==\"t\"):\n",
    "            break\n",
    "    print()"
   ]
  },
  {
   "cell_type": "code",
   "execution_count": null,
   "id": "0a5a7d42-6a0f-4e0c-92c3-d33591cc65ed",
   "metadata": {},
   "outputs": [],
   "source": [
    "for i in \"Python\":\n",
    "    print(\"char---->\",i)    #i=p\n",
    "    for j in range(6):\n",
    "        print(\"j*************:\",j) #j=0,1,2,3,4,5\n",
    "        if(j==2) and (j==\"t\"):\n",
    "            break\n",
    "        for k in range(2):#j=0       J=1\n",
    "            print(k)      #K=0,1    k=0,1\n",
    "    print()"
   ]
  },
  {
   "cell_type": "code",
   "execution_count": null,
   "id": "6b068d61-0a23-4560-bd66-0764f551609e",
   "metadata": {},
   "outputs": [],
   "source": [
    "#while loop\n"
   ]
  },
  {
   "cell_type": "code",
   "execution_count": null,
   "id": "4152ae4c-9490-4b20-b348-9c051843fbb2",
   "metadata": {},
   "outputs": [],
   "source": []
  },
  {
   "cell_type": "code",
   "execution_count": null,
   "id": "a9e54207-8886-4601-a9f7-413ee11415ca",
   "metadata": {},
   "outputs": [],
   "source": []
  },
  {
   "cell_type": "code",
   "execution_count": null,
   "id": "9657d0f0-be57-4090-a393-2f868c07a7db",
   "metadata": {},
   "outputs": [],
   "source": []
  },
  {
   "cell_type": "code",
   "execution_count": null,
   "id": "f258bbfe-fa3b-45e3-ac90-a3ac19ce2641",
   "metadata": {},
   "outputs": [],
   "source": []
  }
 ],
 "metadata": {
  "kernelspec": {
   "display_name": "Python 3 (ipykernel)",
   "language": "python",
   "name": "python3"
  },
  "language_info": {
   "codemirror_mode": {
    "name": "ipython",
    "version": 3
   },
   "file_extension": ".py",
   "mimetype": "text/x-python",
   "name": "python",
   "nbconvert_exporter": "python",
   "pygments_lexer": "ipython3",
   "version": "3.13.5"
  }
 },
 "nbformat": 4,
 "nbformat_minor": 5
}
