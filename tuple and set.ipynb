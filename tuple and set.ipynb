{
 "cells": [
  {
   "cell_type": "markdown",
   "id": "370f34a1-d099-437e-9e3e-e99dc6a14908",
   "metadata": {},
   "source": [
    "# Tuple"
   ]
  },
  {
   "cell_type": "code",
   "execution_count": 1,
   "id": "2f51ca2d-be90-4755-8646-83cfae94f35a",
   "metadata": {},
   "outputs": [
    {
     "name": "stdout",
     "output_type": "stream",
     "text": [
      "()\n"
     ]
    }
   ],
   "source": [
    "tuple1=()\n",
    "print(tuple1)"
   ]
  },
  {
   "cell_type": "code",
   "execution_count": 2,
   "id": "7e6e4eba-84f0-45a5-abf4-e03fcc7d6478",
   "metadata": {},
   "outputs": [
    {
     "name": "stdout",
     "output_type": "stream",
     "text": [
      "<class 'tuple'>\n"
     ]
    }
   ],
   "source": [
    "tuple1=()\n",
    "print(type(tuple1))"
   ]
  },
  {
   "cell_type": "code",
   "execution_count": 3,
   "id": "5f4ed238-aa94-4127-a8ad-dba22536dddb",
   "metadata": {},
   "outputs": [
    {
     "ename": "AttributeError",
     "evalue": "'tuple' object has no attribute 'append'",
     "output_type": "error",
     "traceback": [
      "\u001b[1;31m---------------------------------------------------------------------------\u001b[0m",
      "\u001b[1;31mAttributeError\u001b[0m                            Traceback (most recent call last)",
      "Cell \u001b[1;32mIn[3], line 2\u001b[0m\n\u001b[0;32m      1\u001b[0m typle1\u001b[38;5;241m=\u001b[39m()\n\u001b[1;32m----> 2\u001b[0m tuple1\u001b[38;5;241m.\u001b[39mappend(\u001b[38;5;241m10\u001b[39m)\n",
      "\u001b[1;31mAttributeError\u001b[0m: 'tuple' object has no attribute 'append'"
     ]
    }
   ],
   "source": [
    "typle1=()\n",
    "tuple1.append(10)"
   ]
  },
  {
   "cell_type": "code",
   "execution_count": 6,
   "id": "3ffbc21d-4649-4756-ab5a-01c81b6c064c",
   "metadata": {},
   "outputs": [
    {
     "name": "stdout",
     "output_type": "stream",
     "text": [
      "[100, 20, 30]\n"
     ]
    }
   ],
   "source": [
    "list1=[10,20,30]\n",
    "list1[0]=100\n",
    "print(list1)"
   ]
  },
  {
   "cell_type": "code",
   "execution_count": 7,
   "id": "aab87a19-d2e6-4a21-8768-d86445506825",
   "metadata": {},
   "outputs": [
    {
     "ename": "TypeError",
     "evalue": "'tuple' object does not support item assignment",
     "output_type": "error",
     "traceback": [
      "\u001b[1;31m---------------------------------------------------------------------------\u001b[0m",
      "\u001b[1;31mTypeError\u001b[0m                                 Traceback (most recent call last)",
      "Cell \u001b[1;32mIn[7], line 2\u001b[0m\n\u001b[0;32m      1\u001b[0m tuple2\u001b[38;5;241m=\u001b[39m(\u001b[38;5;241m10\u001b[39m,\u001b[38;5;241m20\u001b[39m,\u001b[38;5;241m30\u001b[39m,\u001b[38;5;241m40\u001b[39m)\n\u001b[1;32m----> 2\u001b[0m tuple2[\u001b[38;5;241m0\u001b[39m]\u001b[38;5;241m=\u001b[39m\u001b[38;5;241m22\u001b[39m\n\u001b[0;32m      3\u001b[0m \u001b[38;5;28mprint\u001b[39m(tuple2)\n",
      "\u001b[1;31mTypeError\u001b[0m: 'tuple' object does not support item assignment"
     ]
    }
   ],
   "source": [
    "tuple2=(10,20,30,40)\n",
    "tuple2[0]=22\n",
    "print(tuple2)\n"
   ]
  },
  {
   "cell_type": "code",
   "execution_count": 9,
   "id": "c6030abd-e325-4265-9e71-3b71947df8ac",
   "metadata": {},
   "outputs": [
    {
     "name": "stdout",
     "output_type": "stream",
     "text": [
      "10\n"
     ]
    }
   ],
   "source": [
    "a=(10)\n",
    "print(a)"
   ]
  },
  {
   "cell_type": "code",
   "execution_count": 10,
   "id": "7e93d1f5-4c51-4473-ab82-bf835e534795",
   "metadata": {},
   "outputs": [
    {
     "name": "stdout",
     "output_type": "stream",
     "text": [
      "<class 'int'>\n"
     ]
    }
   ],
   "source": [
    "a=(10)\n",
    "print(type(a))"
   ]
  },
  {
   "cell_type": "code",
   "execution_count": 11,
   "id": "c3d15765-4e31-4a63-9c74-c0192309ae88",
   "metadata": {},
   "outputs": [
    {
     "name": "stdout",
     "output_type": "stream",
     "text": [
      "(10,)\n"
     ]
    }
   ],
   "source": [
    "b=(10,)\n",
    "print(b)"
   ]
  },
  {
   "cell_type": "code",
   "execution_count": 12,
   "id": "065baf07-a967-4fb9-b54f-fa42024db4af",
   "metadata": {},
   "outputs": [
    {
     "name": "stdout",
     "output_type": "stream",
     "text": [
      "<class 'tuple'>\n"
     ]
    }
   ],
   "source": [
    "b=(10,)\n",
    "print(type(b))"
   ]
  },
  {
   "cell_type": "code",
   "execution_count": 13,
   "id": "13c9b0ba-2552-49e9-8493-bd774ad5ccb0",
   "metadata": {},
   "outputs": [
    {
     "name": "stdout",
     "output_type": "stream",
     "text": [
      "(10, 20, 30, 40)\n"
     ]
    }
   ],
   "source": [
    "tuple1=(10,20,30,40)\n",
    "print(tuple1)"
   ]
  },
  {
   "cell_type": "code",
   "execution_count": 14,
   "id": "651dfcd9-5358-4ed9-b125-ac4f19ee7c13",
   "metadata": {},
   "outputs": [
    {
     "name": "stdout",
     "output_type": "stream",
     "text": [
      "<class 'tuple'>\n"
     ]
    }
   ],
   "source": [
    "tuple1=(10,20,30,40)\n",
    "print(type(tuple1))"
   ]
  },
  {
   "cell_type": "code",
   "execution_count": 15,
   "id": "0ed60279-3557-4616-978b-51dbbb9490e2",
   "metadata": {},
   "outputs": [
    {
     "name": "stdout",
     "output_type": "stream",
     "text": [
      "(10, 20, 'ashu', 'paras', 10.3, 89.3)\n"
     ]
    }
   ],
   "source": [
    "tuple2=(10,20,\"ashu\",\"paras\",10.3,89.3)\n",
    "print(tuple2)"
   ]
  },
  {
   "cell_type": "code",
   "execution_count": 16,
   "id": "d2f07df3-1b8e-484e-9536-ca4cadff429d",
   "metadata": {},
   "outputs": [
    {
     "name": "stdout",
     "output_type": "stream",
     "text": [
      "<class 'tuple'>\n"
     ]
    }
   ],
   "source": [
    "tuple2=(10,20,\"ashu\",\"paras\",10.3,89.3)\n",
    "print(type(tuple2))"
   ]
  },
  {
   "cell_type": "code",
   "execution_count": 26,
   "id": "67fa3ab9-799c-46ca-811e-bc016d7bf1b9",
   "metadata": {},
   "outputs": [
    {
     "name": "stdout",
     "output_type": "stream",
     "text": [
      "()\n",
      "range(10, 20, 30)\n",
      "<class 'range'>\n",
      "(11, 22, 33, 99) <class 'tuple'>\n",
      "<class 'tuple'>\n",
      "ashu\n"
     ]
    }
   ],
   "source": [
    "t1=()\n",
    "print(t1)\n",
    "t2=(range(10,20,30))\n",
    "print(t2)\n",
    "print(type(t2))\n",
    "t3=t([11,22,33,99])\n",
    "print(t3,type(t3))\n",
    "print(type(t3))\n",
    "t4=(\"ashu\")\n",
    "print(t4)"
   ]
  },
  {
   "cell_type": "code",
   "execution_count": 33,
   "id": "b77c921e-0643-4bc8-90c5-c1264dc8ee60",
   "metadata": {},
   "outputs": [
    {
     "name": "stdout",
     "output_type": "stream",
     "text": [
      "()\n",
      "[10, 20, 30, 40] <class 'list'>\n",
      "(10, 20, 30, 40) <class 'tuple'>\n",
      "ashu <class 'str'>\n",
      "('a', 's', 'h', 'u') <class 'tuple'>\n"
     ]
    }
   ],
   "source": [
    "t1=()\n",
    "print(t1)\n",
    "t2=([10,20,30,40])\n",
    "print(t2,type(t2))\n",
    "t2=tuple([10,20,30,40])\n",
    "print(t2,type(t2))\n",
    "t3=(\"ashu\")\n",
    "print(t3,type(t3))\n",
    "t3=tuple(\"ashu\")\n",
    "print(t3,type(t3))"
   ]
  },
  {
   "cell_type": "code",
   "execution_count": 34,
   "id": "733e83e0-2b1b-4a02-8d43-b14cf5ddd62a",
   "metadata": {},
   "outputs": [
    {
     "ename": "TypeError",
     "evalue": "'tuple' object does not support item assignment",
     "output_type": "error",
     "traceback": [
      "\u001b[1;31m---------------------------------------------------------------------------\u001b[0m",
      "\u001b[1;31mTypeError\u001b[0m                                 Traceback (most recent call last)",
      "Cell \u001b[1;32mIn[34], line 2\u001b[0m\n\u001b[0;32m      1\u001b[0m fruits\u001b[38;5;241m=\u001b[39m(\u001b[38;5;124m\"\u001b[39m\u001b[38;5;124mapple\u001b[39m\u001b[38;5;124m\"\u001b[39m,\u001b[38;5;124m\"\u001b[39m\u001b[38;5;124mbanana\u001b[39m\u001b[38;5;124m\"\u001b[39m,\u001b[38;5;124m\"\u001b[39m\u001b[38;5;124mgava\u001b[39m\u001b[38;5;124m\"\u001b[39m)\n\u001b[1;32m----> 2\u001b[0m fruits[\u001b[38;5;241m0\u001b[39m]\u001b[38;5;241m=\u001b[39m\u001b[38;5;124m\"\u001b[39m\u001b[38;5;124mmango\u001b[39m\u001b[38;5;124m\"\u001b[39m\n",
      "\u001b[1;31mTypeError\u001b[0m: 'tuple' object does not support item assignment"
     ]
    }
   ],
   "source": [
    "fruits=(\"apple\",\"banana\",\"gava\")\n",
    "fruits[0]=\"mango\""
   ]
  },
  {
   "cell_type": "code",
   "execution_count": 37,
   "id": "a4fc303b-ffbc-400f-a746-b18bacb102f2",
   "metadata": {},
   "outputs": [
    {
     "data": {
      "text/plain": [
       "('Mango', 'banana', 'gava')"
      ]
     },
     "execution_count": 37,
     "metadata": {},
     "output_type": "execute_result"
    }
   ],
   "source": [
    "fruits=(\"apple\",\"banana\",\"gava\")\n",
    "fruit_list=list(fruits)   #convert to list\n",
    "fruit_list[0]=\"Mango\"   #mofidy\n",
    "fruits=tuple(fruit_list)   #back to tuple\n",
    "fruits"
   ]
  },
  {
   "cell_type": "code",
   "execution_count": 38,
   "id": "edab8bdb-82e5-4a73-a06c-39bb6e095644",
   "metadata": {},
   "outputs": [
    {
     "name": "stdout",
     "output_type": "stream",
     "text": [
      "(99, 20, 30, 40)\n"
     ]
    }
   ],
   "source": [
    "a=(10,20,30,40)\n",
    "a_list=list(a)\n",
    "a_list[0]=99\n",
    "a=tuple(a_list)\n",
    "print(a)"
   ]
  },
  {
   "cell_type": "code",
   "execution_count": 39,
   "id": "f241f4a3-04d9-4b9f-aab5-bae687204835",
   "metadata": {},
   "outputs": [
    {
     "name": "stdout",
     "output_type": "stream",
     "text": [
      "(10, 20, 'hello', 'byee', 553, 23.45, [12, 34])\n"
     ]
    }
   ],
   "source": [
    "tuple1=(10,20,\"hello\",\"good\",553,23.45,[12,34])\n",
    "t1=list(tuple1)\n",
    "t1[3]=\"byee\"\n",
    "tuple1=tuple(t1)\n",
    "print(tuple1)"
   ]
  },
  {
   "cell_type": "markdown",
   "id": "1a9808b5-8e5a-4a8a-9406-7d874b3863a2",
   "metadata": {},
   "source": [
    "# indexing"
   ]
  },
  {
   "cell_type": "code",
   "execution_count": 40,
   "id": "90fd5002-baf0-4715-b29b-4e77df38c446",
   "metadata": {},
   "outputs": [
    {
     "name": "stdout",
     "output_type": "stream",
     "text": [
      "c\n"
     ]
    }
   ],
   "source": [
    "\n",
    "t1=(\"machine learning\")\n",
    "print(t1[2])"
   ]
  },
  {
   "cell_type": "code",
   "execution_count": 41,
   "id": "b70c48e2-218f-42b4-a758-d54f9e9c292e",
   "metadata": {},
   "outputs": [
    {
     "name": "stdout",
     "output_type": "stream",
     "text": [
      "g\n"
     ]
    }
   ],
   "source": [
    "t1=(\"machine learning\")\n",
    "print(t1[-1])"
   ]
  },
  {
   "cell_type": "code",
   "execution_count": 43,
   "id": "1cc19340-78ac-4bb9-adc7-7efb53f138ae",
   "metadata": {},
   "outputs": [
    {
     "name": "stdout",
     "output_type": "stream",
     "text": [
      "m\n"
     ]
    }
   ],
   "source": [
    "t1=(\"machine learning\")\n",
    "print(t1[0])"
   ]
  },
  {
   "cell_type": "code",
   "execution_count": 44,
   "id": "97f1b83a-7a36-4cb1-a31e-e11ed5e6f357",
   "metadata": {},
   "outputs": [
    {
     "name": "stdout",
     "output_type": "stream",
     "text": [
      "10\n",
      "20\n",
      "30\n",
      "40\n"
     ]
    }
   ],
   "source": [
    "t2=[10,20,30,40]\n",
    "for i in t2:\n",
    "    print(i)"
   ]
  },
  {
   "cell_type": "code",
   "execution_count": 45,
   "id": "21f1af9a-069e-4105-bdad-4fdf01a8cd40",
   "metadata": {},
   "outputs": [
    {
     "name": "stdout",
     "output_type": "stream",
     "text": [
      "10\n",
      "20\n",
      "30\n",
      "40\n"
     ]
    }
   ],
   "source": [
    "t2=[10,20,30,40]\n",
    "for i in range(len(t2)):\n",
    "    print(t2[i])"
   ]
  },
  {
   "cell_type": "markdown",
   "id": "8723b542-5c1c-4391-9017-00906db80093",
   "metadata": {},
   "source": [
    "# silcing"
   ]
  },
  {
   "cell_type": "code",
   "execution_count": 47,
   "id": "60d41071-d0af-450b-aa83-be999c1b99d8",
   "metadata": {},
   "outputs": [
    {
     "name": "stdout",
     "output_type": "stream",
     "text": [
      "[10, 20, 30, 40, 50, 60, 70, 80, 90, 100]\n"
     ]
    }
   ],
   "source": [
    "A=list(range(10,110,10))\n",
    "print(A)"
   ]
  },
  {
   "cell_type": "code",
   "execution_count": 50,
   "id": "a7c3b9c1-0d55-4c5f-8968-db19f9771b96",
   "metadata": {},
   "outputs": [
    {
     "name": "stdout",
     "output_type": "stream",
     "text": [
      "[10, 20, 30]\n"
     ]
    }
   ],
   "source": [
    "B=A[0:3]\n",
    "print(B)"
   ]
  },
  {
   "cell_type": "code",
   "execution_count": 54,
   "id": "aaee9b7b-aa9f-4ee0-8d8c-40e92fdcf1c4",
   "metadata": {},
   "outputs": [
    {
     "name": "stdout",
     "output_type": "stream",
     "text": [
      "[60, 70, 80, 90, 100]\n"
     ]
    }
   ],
   "source": [
    "C=A[-5::1]\n",
    "print(C)"
   ]
  },
  {
   "cell_type": "code",
   "execution_count": 55,
   "id": "e8a34d1c-4e55-448f-9d4b-af509549a9f6",
   "metadata": {},
   "outputs": [
    {
     "name": "stdout",
     "output_type": "stream",
     "text": [
      "[100, 90, 80, 70, 60, 50, 40, 30, 20, 10]\n"
     ]
    }
   ],
   "source": [
    "d=A[-1:-11:-1]\n",
    "print(d)"
   ]
  },
  {
   "cell_type": "code",
   "execution_count": 62,
   "id": "6ac197eb-0198-42d0-a10e-a1fbca11ecb1",
   "metadata": {},
   "outputs": [
    {
     "data": {
      "text/plain": [
       "(1, 4, 6, 8)"
      ]
     },
     "execution_count": 62,
     "metadata": {},
     "output_type": "execute_result"
    }
   ],
   "source": [
    "t=(4,1,8,6)\n",
    "tuple(sorted(t))"
   ]
  },
  {
   "cell_type": "markdown",
   "id": "875a36b8-6af3-4f28-a8ac-42f2f0f57f93",
   "metadata": {},
   "source": [
    "\n",
    "## sorting\n"
   ]
  },
  {
   "cell_type": "code",
   "execution_count": 63,
   "id": "a034df52-68cf-44d1-aecc-773a4da497bc",
   "metadata": {},
   "outputs": [
    {
     "ename": "NameError",
     "evalue": "name 'sort' is not defined",
     "output_type": "error",
     "traceback": [
      "\u001b[1;31m---------------------------------------------------------------------------\u001b[0m",
      "\u001b[1;31mNameError\u001b[0m                                 Traceback (most recent call last)",
      "Cell \u001b[1;32mIn[63], line 2\u001b[0m\n\u001b[0;32m      1\u001b[0m t\u001b[38;5;241m=\u001b[39m(\u001b[38;5;241m4\u001b[39m,\u001b[38;5;241m1\u001b[39m,\u001b[38;5;241m8\u001b[39m,\u001b[38;5;241m6\u001b[39m)\n\u001b[1;32m----> 2\u001b[0m \u001b[38;5;28mtuple\u001b[39m(sort(t))\n",
      "\u001b[1;31mNameError\u001b[0m: name 'sort' is not defined"
     ]
    }
   ],
   "source": [
    "t=(4,1,8,6)\n",
    "tuple(sort(t))"
   ]
  },
  {
   "cell_type": "code",
   "execution_count": null,
   "id": "91b07b6f-66f3-4846-882b-d236e284f549",
   "metadata": {},
   "outputs": [],
   "source": []
  },
  {
   "cell_type": "markdown",
   "id": "41319cb5-b09a-4726-be5b-658e00a06d10",
   "metadata": {},
   "source": [
    "# Practice"
   ]
  },
  {
   "cell_type": "code",
   "execution_count": null,
   "id": "a811458c-ec37-4703-8d65-af56f50cdb36",
   "metadata": {},
   "outputs": [],
   "source": []
  },
  {
   "cell_type": "code",
   "execution_count": null,
   "id": "2f6c36d4-4009-4108-aa7e-080061902c0d",
   "metadata": {},
   "outputs": [],
   "source": []
  },
  {
   "cell_type": "code",
   "execution_count": null,
   "id": "33dfd667-c92f-4dc5-803b-fda2177e166d",
   "metadata": {},
   "outputs": [],
   "source": []
  },
  {
   "cell_type": "code",
   "execution_count": 65,
   "id": "31cda0fd-32c5-47db-85b0-168e27f8dcc9",
   "metadata": {},
   "outputs": [
    {
     "name": "stdout",
     "output_type": "stream",
     "text": [
      "ASHU\n"
     ]
    }
   ],
   "source": [
    "a=\"ashu\"\n",
    "b=a.upper()\n",
    "print(b)"
   ]
  },
  {
   "cell_type": "code",
   "execution_count": 66,
   "id": "e881b947-851a-4041-8186-dc1dd56b1ea4",
   "metadata": {},
   "outputs": [
    {
     "name": "stdout",
     "output_type": "stream",
     "text": [
      "ashu\n"
     ]
    }
   ],
   "source": [
    "a=\"ashu\"\n",
    "a.upper()\n",
    "print(a)"
   ]
  },
  {
   "cell_type": "code",
   "execution_count": 68,
   "id": "c2398a6a-4238-4fe5-a933-6a0f7864894c",
   "metadata": {},
   "outputs": [
    {
     "name": "stdout",
     "output_type": "stream",
     "text": [
      "ashu\n"
     ]
    }
   ],
   "source": [
    "b=\"ASHU\"\n",
    "d=b.lower()\n",
    "print(d)"
   ]
  },
  {
   "cell_type": "code",
   "execution_count": 70,
   "id": "607106bc-f015-4717-b639-8d40fed66f5c",
   "metadata": {},
   "outputs": [
    {
     "name": "stdout",
     "output_type": "stream",
     "text": [
      "Ashu is beautuful\n"
     ]
    }
   ],
   "source": [
    "a=\"ashu is beautuful\"\n",
    "b=a.capitalize()\n",
    "print(b)"
   ]
  },
  {
   "cell_type": "code",
   "execution_count": 72,
   "id": "080c2d41-857a-4513-b6d3-56470fda1c5a",
   "metadata": {},
   "outputs": [
    {
     "name": "stdout",
     "output_type": "stream",
     "text": [
      "Ashu\n"
     ]
    }
   ],
   "source": [
    "a=\"ashu\"\n",
    "c=a.title()\n",
    "print(c)"
   ]
  },
  {
   "cell_type": "code",
   "execution_count": 74,
   "id": "2ace3b8a-5e40-4f3c-a14c-3862d4fa4428",
   "metadata": {},
   "outputs": [
    {
     "name": "stdout",
     "output_type": "stream",
     "text": [
      "AsHU Is BEcGhTUFUL\n"
     ]
    }
   ],
   "source": [
    "a=\"aShu iS beCgHtuful\"\n",
    "b=a.swapcase()\n",
    "print(b)"
   ]
  },
  {
   "cell_type": "code",
   "execution_count": 75,
   "id": "207c6fb7-38de-4bfe-abad-030c892a89b7",
   "metadata": {},
   "outputs": [
    {
     "name": "stdout",
     "output_type": "stream",
     "text": [
      "goa\n"
     ]
    }
   ],
   "source": [
    "state=\"           goa\"\n",
    "new_state=state.lstrip()\n",
    "print(new_state)"
   ]
  },
  {
   "cell_type": "code",
   "execution_count": 76,
   "id": "065fea39-baf6-4521-b58d-cc0cf7d262cf",
   "metadata": {},
   "outputs": [
    {
     "name": "stdout",
     "output_type": "stream",
     "text": [
      "['python', 'is', 'easy']\n"
     ]
    }
   ],
   "source": [
    "a=\"python is easy\"\n",
    "print(a.split())"
   ]
  },
  {
   "cell_type": "code",
   "execution_count": 81,
   "id": "7315016b-3501-45f8-9370-28f79916cca5",
   "metadata": {},
   "outputs": [
    {
     "ename": "AttributeError",
     "evalue": "'tuple' object has no attribute 'split'",
     "output_type": "error",
     "traceback": [
      "\u001b[1;31m---------------------------------------------------------------------------\u001b[0m",
      "\u001b[1;31mAttributeError\u001b[0m                            Traceback (most recent call last)",
      "Cell \u001b[1;32mIn[81], line 2\u001b[0m\n\u001b[0;32m      1\u001b[0m friuts\u001b[38;5;241m=\u001b[39m\u001b[38;5;124m\"\u001b[39m\u001b[38;5;124mbanana\u001b[39m\u001b[38;5;124m\"\u001b[39m,\u001b[38;5;124m\"\u001b[39m\u001b[38;5;124mapple\u001b[39m\u001b[38;5;124m\"\u001b[39m,\u001b[38;5;124m\"\u001b[39m\u001b[38;5;124mgava\u001b[39m\u001b[38;5;124m\"\u001b[39m\n\u001b[1;32m----> 2\u001b[0m data\u001b[38;5;241m=\u001b[39mfriuts\u001b[38;5;241m.\u001b[39msplit(\u001b[38;5;124m'\u001b[39m\u001b[38;5;124m,\u001b[39m\u001b[38;5;124m'\u001b[39m)\n\u001b[0;32m      3\u001b[0m \u001b[38;5;28mprint\u001b[39m(data)\n",
      "\u001b[1;31mAttributeError\u001b[0m: 'tuple' object has no attribute 'split'"
     ]
    }
   ],
   "source": [
    "friuts=\"banana\",\"apple\",\"gava\"\n",
    "data=friuts.split(',')\n",
    "print(data)"
   ]
  },
  {
   "cell_type": "code",
   "execution_count": 84,
   "id": "28fbf5fd-f8c2-4554-85b7-b3fbe141e0d2",
   "metadata": {},
   "outputs": [
    {
     "name": "stdout",
     "output_type": "stream",
     "text": [
      "['banana ', 'apple ', 'gava']\n"
     ]
    }
   ],
   "source": [
    "a=\"banana ,apple ,gava\"\n",
    "data=a.split(',')\n",
    "print(data)"
   ]
  },
  {
   "cell_type": "code",
   "execution_count": 90,
   "id": "19efa304-faaa-4d88-a107-82b097bb3bd3",
   "metadata": {},
   "outputs": [
    {
     "name": "stdout",
     "output_type": "stream",
     "text": [
      "['c:', 'users', 'documments/file.txt/anv']\n"
     ]
    }
   ],
   "source": [
    "path=\"c:/users/documments/file.txt/anv\"\n",
    "p=path.split('/',2)\n",
    "print(p)"
   ]
  },
  {
   "cell_type": "code",
   "execution_count": null,
   "id": "5b8048c4-6da1-4750-92c4-0ecae9cdf74b",
   "metadata": {},
   "outputs": [],
   "source": []
  },
  {
   "cell_type": "code",
   "execution_count": null,
   "id": "f30af972-09c8-4878-b85a-5b953030b1b8",
   "metadata": {},
   "outputs": [],
   "source": []
  },
  {
   "cell_type": "code",
   "execution_count": null,
   "id": "692af925-dd15-4a7f-88e7-0d9c89c0fa84",
   "metadata": {},
   "outputs": [],
   "source": []
  },
  {
   "cell_type": "code",
   "execution_count": null,
   "id": "23866d93-cc10-411b-8199-86426c450531",
   "metadata": {},
   "outputs": [],
   "source": []
  },
  {
   "cell_type": "code",
   "execution_count": null,
   "id": "d890739e-ba68-459a-9bcb-4199613fba58",
   "metadata": {},
   "outputs": [],
   "source": []
  },
  {
   "cell_type": "code",
   "execution_count": null,
   "id": "c4d7f1ab-03d2-471e-bc5b-434c6ae701d6",
   "metadata": {},
   "outputs": [],
   "source": []
  },
  {
   "cell_type": "code",
   "execution_count": null,
   "id": "869a03bb-ab29-4e8b-8219-4cebe4bab713",
   "metadata": {},
   "outputs": [],
   "source": []
  },
  {
   "cell_type": "code",
   "execution_count": null,
   "id": "d85c012d-a4f4-485c-aff5-f2c23fc66207",
   "metadata": {},
   "outputs": [],
   "source": []
  },
  {
   "cell_type": "code",
   "execution_count": null,
   "id": "b34b3610-8486-4c4b-ae92-09d899be7990",
   "metadata": {},
   "outputs": [],
   "source": []
  },
  {
   "cell_type": "code",
   "execution_count": null,
   "id": "ea0f6a4a-2f78-4d21-885f-0a4a5ebd0894",
   "metadata": {},
   "outputs": [],
   "source": []
  },
  {
   "cell_type": "code",
   "execution_count": null,
   "id": "ea2bd7c3-1ea7-419d-aab1-0d13637c5c12",
   "metadata": {},
   "outputs": [],
   "source": []
  }
 ],
 "metadata": {
  "kernelspec": {
   "display_name": "Python 3 (ipykernel)",
   "language": "python",
   "name": "python3"
  },
  "language_info": {
   "codemirror_mode": {
    "name": "ipython",
    "version": 3
   },
   "file_extension": ".py",
   "mimetype": "text/x-python",
   "name": "python",
   "nbconvert_exporter": "python",
   "pygments_lexer": "ipython3",
   "version": "3.13.5"
  }
 },
 "nbformat": 4,
 "nbformat_minor": 5
}
