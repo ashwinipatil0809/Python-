{
 "cells": [
  {
   "cell_type": "code",
   "execution_count": 4,
   "id": "7329b267-f92e-462d-bce1-1033dfb16555",
   "metadata": {},
   "outputs": [
    {
     "name": "stdout",
     "output_type": "stream",
     "text": [
      "()\n"
     ]
    }
   ],
   "source": [
    "tuple1=()\n",
    "print(tuple1)"
   ]
  },
  {
   "cell_type": "code",
   "execution_count": 5,
   "id": "4cdc4723-f10f-4801-8d30-a3ab80b7ef00",
   "metadata": {},
   "outputs": [
    {
     "name": "stdout",
     "output_type": "stream",
     "text": [
      "(10, 20)\n"
     ]
    }
   ],
   "source": [
    "tuple1=10,20\n",
    "print(tuple1)"
   ]
  },
  {
   "cell_type": "code",
   "execution_count": 6,
   "id": "9dbd9b91-7b4c-4104-9bd6-26e9f2ecb67a",
   "metadata": {},
   "outputs": [
    {
     "name": "stdout",
     "output_type": "stream",
     "text": [
      "(10,)\n"
     ]
    }
   ],
   "source": [
    "tuple1=10,\n",
    "print(tuple1)"
   ]
  },
  {
   "cell_type": "code",
   "execution_count": 4,
   "id": "497da3bc-86e9-4f91-977d-25d241cb70fb",
   "metadata": {},
   "outputs": [
    {
     "ename": "IndexError",
     "evalue": "list assignment index out of range",
     "output_type": "error",
     "traceback": [
      "\u001b[1;31m---------------------------------------------------------------------------\u001b[0m",
      "\u001b[1;31mIndexError\u001b[0m                                Traceback (most recent call last)",
      "Cell \u001b[1;32mIn[4], line 2\u001b[0m\n\u001b[0;32m      1\u001b[0m a\u001b[38;5;241m=\u001b[39m[\u001b[38;5;241m20\u001b[39m,\u001b[38;5;241m2\u001b[39m,\u001b[38;5;241m5\u001b[39m]\n\u001b[1;32m----> 2\u001b[0m a[\u001b[38;5;241m3\u001b[39m]\u001b[38;5;241m=\u001b[39m\u001b[38;5;241m23\u001b[39m\n\u001b[0;32m      3\u001b[0m a\n",
      "\u001b[1;31mIndexError\u001b[0m: list assignment index out of range"
     ]
    }
   ],
   "source": [
    "a=[20,2,5]\n",
    "a[]=23\n",
    "a"
   ]
  },
  {
   "cell_type": "code",
   "execution_count": 5,
   "id": "47bb1676-8a81-4e5a-895d-c7a037034694",
   "metadata": {},
   "outputs": [
    {
     "ename": "SyntaxError",
     "evalue": "invalid syntax (2967424933.py, line 2)",
     "output_type": "error",
     "traceback": [
      "\u001b[1;36m  Cell \u001b[1;32mIn[5], line 2\u001b[1;36m\u001b[0m\n\u001b[1;33m    a[1]=10  bcz of immutable\u001b[0m\n\u001b[1;37m             ^\u001b[0m\n\u001b[1;31mSyntaxError\u001b[0m\u001b[1;31m:\u001b[0m invalid syntax\n"
     ]
    }
   ],
   "source": [
    "a=(20,2,5)\n",
    "a[1]=10  bcz of immutable\n",
    "a"
   ]
  },
  {
   "cell_type": "code",
   "execution_count": 7,
   "id": "bf4391ee-1803-478f-96fa-228af411b612",
   "metadata": {},
   "outputs": [
    {
     "data": {
      "text/plain": [
       "'good'"
      ]
     },
     "execution_count": 7,
     "metadata": {},
     "output_type": "execute_result"
    }
   ],
   "source": [
    "#insexing\n",
    "tuple1=(10,20,\"hello\",\"good\",553,23.45)\n",
    "tuple1[3]"
   ]
  },
  {
   "cell_type": "code",
   "execution_count": 13,
   "id": "a9126f4b-2e72-41b3-8884-7f11ef8762f7",
   "metadata": {},
   "outputs": [
    {
     "data": {
      "text/plain": [
       "(10, 20, 'hello', 'good', 553, 23.45)"
      ]
     },
     "execution_count": 13,
     "metadata": {},
     "output_type": "execute_result"
    }
   ],
   "source": [
    "#silicing\n",
    "tuple1=(10,20,\"hello\",\"good\",553,23.45)\n",
    "#tuple1[0:4]\n",
    "tuple1[:]"
   ]
  },
  {
   "cell_type": "code",
   "execution_count": 10,
   "id": "1aff3032-9cc8-4ae3-8f85-1ce4e3bcaeac",
   "metadata": {},
   "outputs": [
    {
     "data": {
      "text/plain": [
       "(10, 20, 'hello', 'good', 553, 23.45, [12, 34])"
      ]
     },
     "execution_count": 10,
     "metadata": {},
     "output_type": "execute_result"
    }
   ],
   "source": [
    "\n",
    "tuple1=(10,20,\"hello\",\"good\",553,23.45,[12,34])\n",
    "tuple1"
   ]
  },
  {
   "cell_type": "code",
   "execution_count": 13,
   "id": "3b1aff32-b18f-4beb-83a3-d8fb83438475",
   "metadata": {},
   "outputs": [
    {
     "data": {
      "text/plain": [
       "(10, 20, 'hello', 'good', 553, 23.45, [34, 34])"
      ]
     },
     "execution_count": 13,
     "metadata": {},
     "output_type": "execute_result"
    }
   ],
   "source": [
    "#immutable fail when list inside tuple\n",
    "tuple1=(10,20,\"hello\",\"good\",553,23.45,[12,34])\n",
    "tuple1[-1][0]=45\n",
    "tuple1"
   ]
  },
  {
   "cell_type": "code",
   "execution_count": 14,
   "id": "02473193-2729-41fc-9252-d68e842b6904",
   "metadata": {},
   "outputs": [
    {
     "data": {
      "text/plain": [
       "(10, 40, 'hello', 'good', 553, 23.45, [12, 34])"
      ]
     },
     "execution_count": 14,
     "metadata": {},
     "output_type": "execute_result"
    }
   ],
   "source": [
    "#convert tuple to list and then iteam assign\n",
    "\n",
    "tuple1=(10,20,\"hello\",\"good\",553,23.45,[12,34])\n",
    "tuple1=list(tuple1)  #convert list\n",
    "tuple1[1]=40\n",
    "tuple1\n",
    "tuple1=tuple(tuple1)\n",
    "tuple1"
   ]
  },
  {
   "cell_type": "code",
   "execution_count": 19,
   "id": "35573083-e75f-4cbc-8aae-1308d179516e",
   "metadata": {},
   "outputs": [
    {
     "data": {
      "text/plain": [
       "(10, 20, 'abc', 'good', 553, 23.45, [12, 34])"
      ]
     },
     "execution_count": 19,
     "metadata": {},
     "output_type": "execute_result"
    }
   ],
   "source": [
    "tuple1=(10,20,\"hello\",\"good\",553,23.45,[12,34])\n",
    "a=list(tuple1)\n",
    "a[2]=\"abc\"\n",
    "\n",
    "tuple1=tuple(a)\n",
    "tuple1"
   ]
  },
  {
   "cell_type": "code",
   "execution_count": 16,
   "id": "2a08ceef-a966-440f-9e69-8c0ef1b5b81e",
   "metadata": {},
   "outputs": [
    {
     "data": {
      "text/plain": [
       "(2, 34, 45, 2, 2, 34, 45, 2)"
      ]
     },
     "execution_count": 16,
     "metadata": {},
     "output_type": "execute_result"
    }
   ],
   "source": [
    "# operation \n",
    "#multilication\n",
    "t1=(2,34,45,2)\n",
    "t2=(12,34,53,1)\n",
    "t1*2"
   ]
  },
  {
   "cell_type": "markdown",
   "id": "4e0189f8-4879-48e0-8c77-95fce7d36499",
   "metadata": {},
   "source": [
    "# function\n",
    "## index"
   ]
  },
  {
   "cell_type": "code",
   "execution_count": 17,
   "id": "42da0d77-9c16-4600-9d16-7bef59bd475b",
   "metadata": {},
   "outputs": [
    {
     "data": {
      "text/plain": [
       "4"
      ]
     },
     "execution_count": 17,
     "metadata": {},
     "output_type": "execute_result"
    }
   ],
   "source": [
    "#index \n",
    "t1=(10,20,30,\"python\",10.8,\"Data\",\"class\",10000,20000)\n",
    "t1.index(10.8)"
   ]
  },
  {
   "cell_type": "code",
   "execution_count": 19,
   "id": "da3210f4-da28-43f7-84a4-8bfee9ab4fe3",
   "metadata": {},
   "outputs": [
    {
     "ename": "ValueError",
     "evalue": "tuple.index(x): x not in tuple",
     "output_type": "error",
     "traceback": [
      "\u001b[1;31m---------------------------------------------------------------------------\u001b[0m",
      "\u001b[1;31mValueError\u001b[0m                                Traceback (most recent call last)",
      "Cell \u001b[1;32mIn[19], line 3\u001b[0m\n\u001b[0;32m      1\u001b[0m \u001b[38;5;66;03m#index \u001b[39;00m\n\u001b[0;32m      2\u001b[0m t1\u001b[38;5;241m=\u001b[39m(\u001b[38;5;241m10\u001b[39m,\u001b[38;5;241m20\u001b[39m,\u001b[38;5;241m30\u001b[39m,\u001b[38;5;124m\"\u001b[39m\u001b[38;5;124mpython\u001b[39m\u001b[38;5;124m\"\u001b[39m,\u001b[38;5;241m10.8\u001b[39m,\u001b[38;5;124m\"\u001b[39m\u001b[38;5;124mData\u001b[39m\u001b[38;5;124m\"\u001b[39m,\u001b[38;5;124m\"\u001b[39m\u001b[38;5;124mclass\u001b[39m\u001b[38;5;124m\"\u001b[39m,\u001b[38;5;241m10000\u001b[39m,\u001b[38;5;241m20000\u001b[39m)\n\u001b[1;32m----> 3\u001b[0m t1\u001b[38;5;241m.\u001b[39mindex(\u001b[38;5;241m34\u001b[39m)\n",
      "\u001b[1;31mValueError\u001b[0m: tuple.index(x): x not in tuple"
     ]
    }
   ],
   "source": [
    "#index \n",
    "t1=(10,20,30,\"python\",10.8,\"Data\",\"class\",10000,20000)\n",
    "t1.index(34)"
   ]
  },
  {
   "cell_type": "code",
   "execution_count": 20,
   "id": "19c4684c-788f-43df-99bd-aac35e9f4072",
   "metadata": {},
   "outputs": [
    {
     "ename": "ValueError",
     "evalue": "tuple.index(x): x not in tuple",
     "output_type": "error",
     "traceback": [
      "\u001b[1;31m---------------------------------------------------------------------------\u001b[0m",
      "\u001b[1;31mValueError\u001b[0m                                Traceback (most recent call last)",
      "Cell \u001b[1;32mIn[20], line 3\u001b[0m\n\u001b[0;32m      1\u001b[0m \u001b[38;5;66;03m#index \u001b[39;00m\n\u001b[0;32m      2\u001b[0m t1\u001b[38;5;241m=\u001b[39m(\u001b[38;5;241m10\u001b[39m,\u001b[38;5;241m20\u001b[39m,\u001b[38;5;241m30\u001b[39m,\u001b[38;5;124m\"\u001b[39m\u001b[38;5;124mpython\u001b[39m\u001b[38;5;124m\"\u001b[39m,\u001b[38;5;241m10.8\u001b[39m,\u001b[38;5;124m\"\u001b[39m\u001b[38;5;124mData\u001b[39m\u001b[38;5;124m\"\u001b[39m,\u001b[38;5;124m\"\u001b[39m\u001b[38;5;124mclass\u001b[39m\u001b[38;5;124m\"\u001b[39m,\u001b[38;5;241m10000\u001b[39m,\u001b[38;5;241m20000\u001b[39m)\n\u001b[1;32m----> 3\u001b[0m t1\u001b[38;5;241m.\u001b[39mindex(\u001b[38;5;124m\"\u001b[39m\u001b[38;5;124m100000\u001b[39m\u001b[38;5;124m\"\u001b[39m)\n",
      "\u001b[1;31mValueError\u001b[0m: tuple.index(x): x not in tuple"
     ]
    }
   ],
   "source": [
    "#index \n",
    "t1=(10,20,30,\"python\",10.8,\"Data\",\"class\",10000,20000)\n",
    "t1.index(\"100000\")"
   ]
  },
  {
   "cell_type": "code",
   "execution_count": 21,
   "id": "a493b820-16d8-4c14-9fb2-1e5c55fd1b6b",
   "metadata": {},
   "outputs": [
    {
     "data": {
      "text/plain": [
       "1"
      ]
     },
     "execution_count": 21,
     "metadata": {},
     "output_type": "execute_result"
    }
   ],
   "source": [
    "#index \n",
    "t1=(10,20,30,\"python\",10.8,\"Data\",\"class\",10000,20000)\n",
    "t1.count(30)"
   ]
  },
  {
   "cell_type": "code",
   "execution_count": 1,
   "id": "193242df-edf9-4a1d-8669-930aadaf9cdf",
   "metadata": {},
   "outputs": [
    {
     "ename": "AttributeError",
     "evalue": "'tuple' object has no attribute 'sort'",
     "output_type": "error",
     "traceback": [
      "\u001b[1;31m---------------------------------------------------------------------------\u001b[0m",
      "\u001b[1;31mAttributeError\u001b[0m                            Traceback (most recent call last)",
      "Cell \u001b[1;32mIn[1], line 2\u001b[0m\n\u001b[0;32m      1\u001b[0m t1\u001b[38;5;241m=\u001b[39m(\u001b[38;5;241m10\u001b[39m,\u001b[38;5;241m20\u001b[39m,\u001b[38;5;241m30\u001b[39m)\n\u001b[1;32m----> 2\u001b[0m t1\u001b[38;5;241m.\u001b[39msort\n",
      "\u001b[1;31mAttributeError\u001b[0m: 'tuple' object has no attribute 'sort'"
     ]
    }
   ],
   "source": [
    "t1=(10,20,30)\n",
    "t1.sort"
   ]
  },
  {
   "cell_type": "code",
   "execution_count": 23,
   "id": "3bf7bb3d-974b-4e85-aa7f-c0bf68eecdda",
   "metadata": {},
   "outputs": [
    {
     "data": {
      "text/plain": [
       "[10, 10.8, 20, 30, 10000, 20000]"
      ]
     },
     "execution_count": 23,
     "metadata": {},
     "output_type": "execute_result"
    }
   ],
   "source": [
    "#sorted\n",
    "t1=(10,20,30,10.8,10000,20000)\n",
    "sorted(t1)\n"
   ]
  },
  {
   "cell_type": "code",
   "execution_count": 24,
   "id": "b6d069a2-ceab-4d6f-9612-89f8a1d64ecd",
   "metadata": {},
   "outputs": [
    {
     "data": {
      "text/plain": [
       "(10, 10.8, 20, 30, 10000, 20000)"
      ]
     },
     "execution_count": 24,
     "metadata": {},
     "output_type": "execute_result"
    }
   ],
   "source": [
    "#sorted\n",
    "t1=(10,20,30,10.8,10000,20000)\n",
    "tuple(sorted(t1))"
   ]
  },
  {
   "cell_type": "code",
   "execution_count": 25,
   "id": "af3dad05-7aff-440d-b6b2-7d4da1cc99aa",
   "metadata": {},
   "outputs": [
    {
     "data": {
      "text/plain": [
       "(20000, 10000, 10.8, 30, 20, 10)"
      ]
     },
     "execution_count": 25,
     "metadata": {},
     "output_type": "execute_result"
    }
   ],
   "source": [
    "t1=(10,20,30,10.8,10000,20000)\n",
    "tuple(reversed(t1))"
   ]
  },
  {
   "cell_type": "code",
   "execution_count": 34,
   "id": "f815dc6d-8c7e-42bf-ae28-8872fbec6c43",
   "metadata": {},
   "outputs": [
    {
     "data": {
      "text/plain": [
       "<generator object <genexpr> at 0x0000020592B113C0>"
      ]
     },
     "execution_count": 34,
     "metadata": {},
     "output_type": "execute_result"
    }
   ],
   "source": [
    "#list compreshsion -->\n",
    "tuple1=(12,34,45)\n",
    "b=(i**2 for i in tuple1) # --->list bcz tuple is immuatble so we can \n",
    "b"
   ]
  },
  {
   "cell_type": "code",
   "execution_count": 36,
   "id": "7ab4b4e9-8972-44e4-86c8-457c27d46af3",
   "metadata": {},
   "outputs": [
    {
     "data": {
      "text/plain": [
       "[144, 1156, 2025]"
      ]
     },
     "execution_count": 36,
     "metadata": {},
     "output_type": "execute_result"
    }
   ],
   "source": [
    "tuple1=(12,34,45)\n",
    "b=([i**2 for i in tuple1])# --->list bcz tuple is immuatble so we can \n",
    "b"
   ]
  },
  {
   "cell_type": "code",
   "execution_count": 37,
   "id": "c93635ed-cb30-440e-9808-3d0b5f572151",
   "metadata": {},
   "outputs": [
    {
     "name": "stdout",
     "output_type": "stream",
     "text": [
      "{'jii', 23, (934, 50), 10, 45}\n"
     ]
    }
   ],
   "source": [
    "#Set dfine\n",
    "a={23,45,\"jii\",(934,50),10}    #unorderd bcz of hash value each element difff\n",
    "print(a)"
   ]
  },
  {
   "cell_type": "code",
   "execution_count": 38,
   "id": "7e864ca5-26d2-49f8-9a93-8008da44219d",
   "metadata": {},
   "outputs": [
    {
     "ename": "TypeError",
     "evalue": "unhashable type: 'list'",
     "output_type": "error",
     "traceback": [
      "\u001b[1;31m---------------------------------------------------------------------------\u001b[0m",
      "\u001b[1;31mTypeError\u001b[0m                                 Traceback (most recent call last)",
      "Cell \u001b[1;32mIn[38], line 1\u001b[0m\n\u001b[1;32m----> 1\u001b[0m a\u001b[38;5;241m=\u001b[39m{\u001b[38;5;241m23\u001b[39m,\u001b[38;5;241m45\u001b[39m,\u001b[38;5;124m\"\u001b[39m\u001b[38;5;124mjii\u001b[39m\u001b[38;5;124m\"\u001b[39m,(\u001b[38;5;241m934\u001b[39m,\u001b[38;5;241m50\u001b[39m),\u001b[38;5;241m10\u001b[39m,[\u001b[38;5;241m78\u001b[39m,\u001b[38;5;241m5\u001b[39m]}    \u001b[38;5;66;03m#unorderd bcz of hash value each element difff\u001b[39;00m\n\u001b[0;32m      2\u001b[0m \u001b[38;5;28mprint\u001b[39m(a)\n",
      "\u001b[1;31mTypeError\u001b[0m: unhashable type: 'list'"
     ]
    }
   ],
   "source": [
    "a={23,45,\"jii\",(934,50),10,[78,5]}    #bcz of set allowed immutable datatype\n",
    "print(a)"
   ]
  },
  {
   "cell_type": "code",
   "execution_count": 40,
   "id": "44fcd33e-dbf3-4c62-84a7-ef41bdd55f85",
   "metadata": {},
   "outputs": [
    {
     "data": {
      "text/plain": [
       "[1, 2, 3, 5, 6, 7, 40, 12]"
      ]
     },
     "execution_count": 40,
     "metadata": {},
     "output_type": "execute_result"
    }
   ],
   "source": [
    "#duplicate remove\n",
    "a=[12,3,5,6,7,2,3,5,1,40]\n",
    "a2=[]\n",
    "list(set(a))\n"
   ]
  },
  {
   "cell_type": "code",
   "execution_count": 41,
   "id": "9f767904-d4cd-478c-bdb4-5f892c2ccaae",
   "metadata": {},
   "outputs": [
    {
     "data": {
      "text/plain": [
       "{1, 5, 6, 22}"
      ]
     },
     "execution_count": 41,
     "metadata": {},
     "output_type": "execute_result"
    }
   ],
   "source": [
    "#rempve\n",
    "s1={2,22,5,6,2,1}\n",
    "s1.remove(2)\n",
    "s1"
   ]
  },
  {
   "cell_type": "code",
   "execution_count": 42,
   "id": "a81e3e7f-3852-488f-a03c-5b5a5b5f64be",
   "metadata": {},
   "outputs": [
    {
     "ename": "KeyError",
     "evalue": "11",
     "output_type": "error",
     "traceback": [
      "\u001b[1;31m---------------------------------------------------------------------------\u001b[0m",
      "\u001b[1;31mKeyError\u001b[0m                                  Traceback (most recent call last)",
      "Cell \u001b[1;32mIn[42], line 3\u001b[0m\n\u001b[0;32m      1\u001b[0m \u001b[38;5;66;03m#rempve\u001b[39;00m\n\u001b[0;32m      2\u001b[0m s1\u001b[38;5;241m=\u001b[39m{\u001b[38;5;241m2\u001b[39m,\u001b[38;5;241m22\u001b[39m,\u001b[38;5;241m5\u001b[39m,\u001b[38;5;241m6\u001b[39m,\u001b[38;5;241m2\u001b[39m,\u001b[38;5;241m1\u001b[39m}\n\u001b[1;32m----> 3\u001b[0m s1\u001b[38;5;241m.\u001b[39mremove(\u001b[38;5;241m11\u001b[39m)\n\u001b[0;32m      4\u001b[0m s1\n",
      "\u001b[1;31mKeyError\u001b[0m: 11"
     ]
    }
   ],
   "source": [
    "#rempve\n",
    "s1={2,22,5,6,2,1} #keyeeor buz hash value\n",
    "s1.remove(11)\n",
    "s1"
   ]
  },
  {
   "cell_type": "code",
   "execution_count": 43,
   "id": "fe7d1ee3-cf75-46b6-9e29-aff446918216",
   "metadata": {},
   "outputs": [
    {
     "data": {
      "text/plain": [
       "{1, 2, 5, 6, 22}"
      ]
     },
     "execution_count": 43,
     "metadata": {},
     "output_type": "execute_result"
    }
   ],
   "source": [
    "#discard\n",
    "s1={2,22,5,6,2,1}\n",
    "s1.discard(10) #error not \n",
    "s1"
   ]
  },
  {
   "cell_type": "code",
   "execution_count": 44,
   "id": "0fe9a705-7a1a-40a7-b6b2-1bc294b9c24f",
   "metadata": {},
   "outputs": [
    {
     "data": {
      "text/plain": [
       "{2, 5, 6, 22}"
      ]
     },
     "execution_count": 44,
     "metadata": {},
     "output_type": "execute_result"
    }
   ],
   "source": [
    "#pop randamily deleete\n",
    "s1={2,22,5,6,2,1}\n",
    "s1.pop()\n",
    "s1"
   ]
  },
  {
   "cell_type": "code",
   "execution_count": 45,
   "id": "0390c10a-d3c3-48ab-b754-cb0e30962fef",
   "metadata": {},
   "outputs": [
    {
     "data": {
      "text/plain": [
       "{2, 5, 6, 22}"
      ]
     },
     "execution_count": 45,
     "metadata": {},
     "output_type": "execute_result"
    }
   ],
   "source": [
    "#pop randamily deleete\n",
    "s1={2,22,5,6,2,1}\n",
    "s1.pop()\n",
    "s1"
   ]
  },
  {
   "cell_type": "code",
   "execution_count": 46,
   "id": "7cbcec2c-c302-4d75-8d35-0390cef63c94",
   "metadata": {},
   "outputs": [
    {
     "data": {
      "text/plain": [
       "set()"
      ]
     },
     "execution_count": 46,
     "metadata": {},
     "output_type": "execute_result"
    }
   ],
   "source": [
    "s1={2,22,5,6,2,1}\n",
    "s1.clear()\n",
    "s1"
   ]
  },
  {
   "cell_type": "code",
   "execution_count": 49,
   "id": "052faa7a-e866-4789-9e89-1f6642c810e8",
   "metadata": {},
   "outputs": [
    {
     "ename": "SyntaxError",
     "evalue": "invalid syntax (2745999431.py, line 1)",
     "output_type": "error",
     "traceback": [
      "\u001b[1;36m  Cell \u001b[1;32mIn[49], line 1\u001b[1;36m\u001b[0m\n\u001b[1;33m    s1.del()\u001b[0m\n\u001b[1;37m       ^\u001b[0m\n\u001b[1;31mSyntaxError\u001b[0m\u001b[1;31m:\u001b[0m invalid syntax\n"
     ]
    }
   ],
   "source": [
    "s1.del()\n",
    "s1"
   ]
  },
  {
   "cell_type": "code",
   "execution_count": 50,
   "id": "982628ca-8eb8-4024-a627-f4a207bccc3d",
   "metadata": {},
   "outputs": [
    {
     "data": {
      "text/plain": [
       "{10, 20, 34, 49, 'a', 'm'}"
      ]
     },
     "execution_count": 50,
     "metadata": {},
     "output_type": "execute_result"
    }
   ],
   "source": [
    "#add -->randaom any postion\n",
    "set1={10,20,\"a\",\"m\",49}\n",
    "set1.add(34)\n",
    "set1"
   ]
  },
  {
   "cell_type": "code",
   "execution_count": 52,
   "id": "4fb7e737-28ff-4541-a3ab-9c6d5200e2a1",
   "metadata": {},
   "outputs": [
    {
     "data": {
      "text/plain": [
       "{1, 10, 20, 49, 'a', 'm', 'pooja'}"
      ]
     },
     "execution_count": 52,
     "metadata": {},
     "output_type": "execute_result"
    }
   ],
   "source": [
    "#upadte like extend\n",
    "set1={10,20,\"a\",\"m\",49}\n",
    "set2={1,\"pooja\"}\n",
    "set1.update(set2)\n",
    "set1"
   ]
  },
  {
   "cell_type": "code",
   "execution_count": 53,
   "id": "6bc0c0e5-7204-41d0-a44c-7d90f7d33914",
   "metadata": {},
   "outputs": [
    {
     "name": "stdout",
     "output_type": "stream",
     "text": [
      "None\n"
     ]
    }
   ],
   "source": [
    "set1={10,20,\"a\",\"m\",49}\n",
    "set2={1,\"pooja\"}\n",
    "a=set1.update(set2)  #variable not assign\n",
    "print(a)   "
   ]
  },
  {
   "cell_type": "code",
   "execution_count": 54,
   "id": "7360c54b-0c33-4aa8-8c0f-6a0e8d51c7cd",
   "metadata": {},
   "outputs": [
    {
     "name": "stdout",
     "output_type": "stream",
     "text": [
      "{'p', 1, 'm', 10, 7948, 1999, 'a', 49, 20, 'pooja'}\n"
     ]
    }
   ],
   "source": [
    "\n",
    "#multiple set update\n",
    "set1={10,20,\"a\",\"m\",49}\n",
    "set2={1,\"pooja\"}\n",
    "s2={1999,7948,\"p\"}\n",
    "set1.update(set2,s2)\n",
    "print(set1)"
   ]
  },
  {
   "cell_type": "code",
   "execution_count": 57,
   "id": "0f14163d-b06f-4e6d-a9e8-a5279153925d",
   "metadata": {},
   "outputs": [
    {
     "name": "stdout",
     "output_type": "stream",
     "text": [
      "{2, 'm', 3, 4, 10, 'a', 20, 23, 49}\n"
     ]
    }
   ],
   "source": [
    "set1={10,20,\"a\",\"m\",49}\n",
    "lst=[23,2,3,4]     #he separte and backend la forloop chalu ahe lst vegal ahe set chya aat nhi\n",
    "set1.update(lst)\n",
    "print(set1)"
   ]
  },
  {
   "cell_type": "code",
   "execution_count": 58,
   "id": "2c371aed-426b-4cdf-88da-3d6364bb2358",
   "metadata": {},
   "outputs": [
    {
     "data": {
      "text/plain": [
       "{1, 10, 20, 49, 'a', 'm', 'pooja'}"
      ]
     },
     "execution_count": 58,
     "metadata": {},
     "output_type": "execute_result"
    }
   ],
   "source": [
    "# union  --> assign varible\n",
    "set1={10,20,\"a\",\"m\",49}\n",
    "set2={1,\"pooja\"}\n",
    "set3=set1.union(set2)\n",
    "set3"
   ]
  },
  {
   "cell_type": "code",
   "execution_count": 59,
   "id": "d7171fe1-4ba3-46b8-ae61-8b7b7639510f",
   "metadata": {},
   "outputs": [
    {
     "data": {
      "text/plain": [
       "{'a'}"
      ]
     },
     "execution_count": 59,
     "metadata": {},
     "output_type": "execute_result"
    }
   ],
   "source": [
    "s1={\"pooja\",\"a\",\"b\"}\n",
    "s2={\"kunal\",\"a\",\"u\"}\n",
    "s3=s1.intersection(s2)\n",
    "s3"
   ]
  },
  {
   "cell_type": "code",
   "execution_count": null,
   "id": "cda059f6-e6e3-4a20-ad17-6e424052c27e",
   "metadata": {},
   "outputs": [],
   "source": [
    "s1={\"pooja\",\"a\",\"b\"}\n",
    "s2={\"kunal\",\"a\",\"u\"}\n",
    "s3=s1.intersection_upa(s2)\n",
    "s3"
   ]
  },
  {
   "cell_type": "code",
   "execution_count": 61,
   "id": "662a0433-986e-46f9-8216-db2fbd5e709a",
   "metadata": {},
   "outputs": [
    {
     "data": {
      "text/plain": [
       "{'b', 'pooja'}"
      ]
     },
     "execution_count": 61,
     "metadata": {},
     "output_type": "execute_result"
    }
   ],
   "source": [
    "s1={\"pooja\",\"a\",\"b\"}\n",
    "s2={\"kunal\",\"a\",\"u\"}\n",
    "s3=s1.difference(s2)\n",
    "s3"
   ]
  }
 ],
 "metadata": {
  "kernelspec": {
   "display_name": "Python 3 (ipykernel)",
   "language": "python",
   "name": "python3"
  },
  "language_info": {
   "codemirror_mode": {
    "name": "ipython",
    "version": 3
   },
   "file_extension": ".py",
   "mimetype": "text/x-python",
   "name": "python",
   "nbconvert_exporter": "python",
   "pygments_lexer": "ipython3",
   "version": "3.13.5"
  }
 },
 "nbformat": 4,
 "nbformat_minor": 5
}
