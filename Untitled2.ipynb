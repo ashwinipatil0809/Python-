{
 "cells": [
  {
   "cell_type": "markdown",
   "id": "e9b17ce6-4ac6-4b3b-be19-8a8c27768020",
   "metadata": {},
   "source": [
    "# Web Scraping"
   ]
  },
  {
   "cell_type": "markdown",
   "id": "2eaddda1-9cfe-4e61-9341-8afe462abb2f",
   "metadata": {},
   "source": [
    "\n",
    "## regular Excpression"
   ]
  },
  {
   "cell_type": "markdown",
   "id": "78d99217-bd6e-4504-85f8-a6a294400fae",
   "metadata": {},
   "source": [
    "## re module"
   ]
  },
  {
   "cell_type": "markdown",
   "id": "1b584fed-e401-4f0a-947d-c7e17b91533e",
   "metadata": {},
   "source": [
    "## 1.Findall()"
   ]
  },
  {
   "cell_type": "code",
   "execution_count": 17,
   "id": "3bd40f95-ee44-48b7-8982-b08e369e7ec0",
   "metadata": {},
   "outputs": [],
   "source": [
    "import re\n",
    "text=\"\"\"mobile number is \n",
    "        9511827927\n",
    "        7249656686\n",
    "        7249141047\n",
    "Birth Date: 24-09-2025\n",
    "            24/05/2004\n",
    "            08-02-2018\n",
    "            09-08-2022\n",
    "            24_08_2016\n",
    "            30_01_2020\n",
    "Email id:rohitshrma24@gmail.com\n",
    "         neeta@gmail.com\n",
    "         12ashu@gmail.com\"\"\"\n",
    "            \n",
    "    "
   ]
  },
  {
   "cell_type": "code",
   "execution_count": 6,
   "id": "830e3689-3f6b-42fe-be1b-2490c0ac792a",
   "metadata": {},
   "outputs": [
    {
     "name": "stdout",
     "output_type": "stream",
     "text": [
      "['9', '5', '1', '1', '8', '2', '7', '9', '2', '7', '7', '2', '4', '9', '6', '5', '6', '6', '8', '6', '7', '2', '4', '9', '1', '4', '1', '0', '4', '7', '0', '9', '9']\n"
     ]
    }
   ],
   "source": [
    "a=re.findall(\"[0-9]\",text)\n",
    "print(a)"
   ]
  },
  {
   "cell_type": "code",
   "execution_count": 7,
   "id": "c3c119dd-0a06-4b0a-bb97-0e6b78b324ed",
   "metadata": {},
   "outputs": [
    {
     "name": "stdout",
     "output_type": "stream",
     "text": [
      "['9511827927', '7249656686', '7249141047']\n"
     ]
    }
   ],
   "source": [
    "a=re.findall(\"[0-9]{10}\",text)\n",
    "print(a)"
   ]
  },
  {
   "cell_type": "code",
   "execution_count": 13,
   "id": "213b0113-03fa-4d8d-b14d-da16e97e78ca",
   "metadata": {},
   "outputs": [
    {
     "name": "stdout",
     "output_type": "stream",
     "text": [
      "['24-09-2025', '08-02-2018', '09-08-2022']\n"
     ]
    }
   ],
   "source": [
    "a=re.findall(r\"[0-9]{2}[-][0-9]{2}[-][0-9]{4}\",text)\n",
    "print(a)"
   ]
  },
  {
   "cell_type": "code",
   "execution_count": 15,
   "id": "6da01f8c-e278-427b-90c9-d97532afc332",
   "metadata": {},
   "outputs": [
    {
     "name": "stdout",
     "output_type": "stream",
     "text": [
      "['24-09-2025', '24/05/2004', '08-02-2018', '09-08-2022', '24_08_2016', '30_01_2020']\n"
     ]
    }
   ],
   "source": [
    "a=re.findall(r\"[0-9]{2}[-/_][0-9]{2}[-/_][0-9]{4}\",text)\n",
    "print(a)"
   ]
  },
  {
   "cell_type": "code",
   "execution_count": 18,
   "id": "6000b326-7d38-4ad5-b0d1-25ce7c0bdf7a",
   "metadata": {},
   "outputs": [
    {
     "name": "stdout",
     "output_type": "stream",
     "text": [
      "['rohitshrma24@gmail.com', 'neeta@gmail.com', '12ashu@gmail.com']\n"
     ]
    }
   ],
   "source": [
    "a=re.findall(\"[a-z0-9]{3,20}[@][a-z]{5}[.][a-z]{3}\",text)\n",
    "print(a)"
   ]
  },
  {
   "cell_type": "code",
   "execution_count": 33,
   "id": "6a1a9724-48bc-497a-8240-62d0ee40e4e1",
   "metadata": {},
   "outputs": [],
   "source": [
    "import re\n",
    "text1=\"\"\"Email id:\n",
    "        rohitshrma24@gmail.com\n",
    "         neeta@gmail.com\n",
    "         12ashu@gmail.com\n",
    "         neeta.kadam@gmail.com\n",
    "         ashu_patil43@gmail.com\n",
    "         onkar.gorpade@gmail.com\"\"\"\n"
   ]
  },
  {
   "cell_type": "code",
   "execution_count": 34,
   "id": "ac866bc1-c434-4512-88a2-9d04a01818e3",
   "metadata": {},
   "outputs": [
    {
     "name": "stdout",
     "output_type": "stream",
     "text": [
      "['rohitshrma24@gmail.com', 'neeta@gmail.com', '12ashu@gmail.com', 'kadam@gmail.com', 'patil43@gmail.com', 'gorpade@gmail.com']\n"
     ]
    }
   ],
   "source": [
    "a1=re.findall(\"[a-z0-9]{3,20}[@][a-z]{5}[.][a-z]{3}\",text1)   #each letter can be check so that kadam only print\n",
    "print(a1)"
   ]
  },
  {
   "cell_type": "code",
   "execution_count": 35,
   "id": "b3bc4771-a56f-4f2b-8843-5f43d54111c9",
   "metadata": {},
   "outputs": [
    {
     "name": "stdout",
     "output_type": "stream",
     "text": [
      "['rohitshrma24@gmail.com', 'neeta@gmail.com', '12ashu@gmail.com', 'neeta.kadam@gmail.com', 'ashu_patil43@gmail.com', 'onkar.gorpade@gmail.com']\n"
     ]
    }
   ],
   "source": [
    "a1=re.findall(\"[a-z0-9._]{3,20}[@][a-z]{5}[.][a-z]{3}\",text1)   \n",
    "print(a1)"
   ]
  },
  {
   "cell_type": "code",
   "execution_count": 36,
   "id": "5672081b-f047-4e57-ba56-df4bce42a570",
   "metadata": {},
   "outputs": [],
   "source": [
    "import re\n",
    "text1=\"\"\"Email id:\n",
    "        rohitshrma24@gmail.com\n",
    "         neeta@gmail.com\n",
    "         12ashu@gmail.com\n",
    "         neeta.kadam@gmail.com\n",
    "         ashu_patil43@gmail.com\n",
    "         onkar.gorpade@gmail.com \n",
    "         ABCashu@gmail.com\n",
    "         PARAS45@gmail.com\n",
    "         \"\"\"\n"
   ]
  },
  {
   "cell_type": "code",
   "execution_count": 37,
   "id": "516ad7e2-c762-40e1-8cdc-fa676b14e251",
   "metadata": {},
   "outputs": [
    {
     "name": "stdout",
     "output_type": "stream",
     "text": [
      "['rohitshrma24@gmail.com', 'neeta@gmail.com', '12ashu@gmail.com', 'neeta.kadam@gmail.com', 'ashu_patil43@gmail.com', 'onkar.gorpade@gmail.com', 'ABCashu@gmail.com', 'PARAS45@gmail.com']\n"
     ]
    }
   ],
   "source": [
    "a1=re.findall(\"[a-z0-9._A-Z]{3,20}[@][a-z]{5}[.][a-z]{3}\",text1)   \n",
    "print(a1)\n"
   ]
  },
  {
   "cell_type": "code",
   "execution_count": 40,
   "id": "9b13b9fe-444b-4fa7-afb3-f762b1ad6c11",
   "metadata": {},
   "outputs": [],
   "source": [
    "import re\n",
    "pancard_no=\"\"\"BAJPC4350M\n",
    "            DAJPC4150P\n",
    "            XGZFE7225A\n",
    "            CTUGE1616I\n",
    "            PEVFV4506Y\n",
    "            UWPCL6780T\n",
    "            LQDTD5444T\n",
    "            YUGFJ2046V\n",
    "            DDWCH0856B\"\"\"\n"
   ]
  },
  {
   "cell_type": "code",
   "execution_count": 42,
   "id": "8d62adfa-9406-40f5-abaf-0e9aa4ca5f93",
   "metadata": {},
   "outputs": [
    {
     "name": "stdout",
     "output_type": "stream",
     "text": [
      "['BAJPC4350M', 'DAJPC4150P', 'XGZFE7225A', 'CTUGE1616I', 'PEVFV4506Y', 'UWPCL6780T', 'LQDTD5444T', 'YUGFJ2046V', 'DDWCH0856B']\n"
     ]
    }
   ],
   "source": [
    "p=re.findall(\"[A-Z]{5}[0-9]{4}[A-Z]\",pancard_no)\n",
    "print(p)"
   ]
  },
  {
   "cell_type": "code",
   "execution_count": 46,
   "id": "002f427e-63bd-4593-af92-ac05ef18d2c4",
   "metadata": {},
   "outputs": [],
   "source": [
    "import re\n",
    "IFSC_code = \"\"\" SBIN0005943\n",
    "              CNRB0000791\n",
    "              BKID0008426\n",
    "              UBIN0530786\n",
    "              HDFC0000003\n",
    "              KKBK0000172\n",
    "              ICIC0000047\n",
    "              UTIB0000009 \"\"\"\n"
   ]
  },
  {
   "cell_type": "code",
   "execution_count": 51,
   "id": "a7ac2404-6767-41bc-a6fc-1eca6501ea1c",
   "metadata": {},
   "outputs": [
    {
     "name": "stdout",
     "output_type": "stream",
     "text": [
      "['SBIN0005943', 'CNRB0000791', 'BKID0008426', 'UBIN0530786', 'HDFC0000003', 'KKBK0000172', 'ICIC0000047', 'UTIB0000009']\n"
     ]
    }
   ],
   "source": [
    "i=re.findall(\"[A-Z]{4}[0-9]{7}\",IFSC_code)\n",
    "print(i)"
   ]
  },
  {
   "cell_type": "code",
   "execution_count": 59,
   "id": "aa45bbb2-95f4-4c92-b76a-3dfb1b91c896",
   "metadata": {},
   "outputs": [],
   "source": [
    "import re\n",
    "mobile_no=\"\"\"+91 9960782314\n",
    "             +91 7723451678\n",
    "                 9511934562\n",
    "                 8768910234\n",
    "             +91 1234567890\n",
    "             +91 9876543210\n",
    "                 9912345678\n",
    "                 \"\"\""
   ]
  },
  {
   "cell_type": "code",
   "execution_count": 60,
   "id": "3153fb78-d429-4d87-afd7-0030e007e00e",
   "metadata": {},
   "outputs": [
    {
     "name": "stdout",
     "output_type": "stream",
     "text": [
      "['+91 9960782314', '+91 7723451678', '+91 1234567890', '+91 9876543210']\n"
     ]
    }
   ],
   "source": [
    "# only print currency_code +91\n",
    "m=re.findall(\"[+][0-9 ]{3}[0-9]{10}\",mobile_no)\n",
    "print(m)"
   ]
  },
  {
   "cell_type": "code",
   "execution_count": 66,
   "id": "45cb9fd4-e0ea-48ba-bc96-e0c272bb6e3e",
   "metadata": {},
   "outputs": [
    {
     "name": "stdout",
     "output_type": "stream",
     "text": [
      "['9960782314', '7723451678', '9511934562', '8768910234', '1234567890', '9876543210', '9912345678']\n"
     ]
    }
   ],
   "source": [
    "#only print without currency_code \n",
    "m1=re.findall(\"[0-9]{10}\",mobile_no)\n",
    "print(m1)"
   ]
  },
  {
   "cell_type": "markdown",
   "id": "21abe402-ec93-4d98-8ebc-7c03c7c0248b",
   "metadata": {},
   "source": [
    "## special sequence\n"
   ]
  },
  {
   "cell_type": "code",
   "execution_count": null,
   "id": "71c859b4-1f4d-45c0-ae5d-23c30e34f068",
   "metadata": {},
   "outputs": [],
   "source": [
    "🔹 Special Sequences\n",
    "1.\t\\d → Matches any digit (0–9).\n",
    "o\tExample: \\d+ matches \"123\" in \"abc123xyz\".\n",
    "2.\t\\D → Matches any non-digit character.\n",
    "o\tExample: \\D+ matches \"abc\" in \"abc123\".\n",
    "3.\t\\w → Matches any word character (alphanumeric + underscore: [A-Za-z0-9_]).\n",
    "o\tExample: \\w+ matches \"hello_123\".\n",
    "4.\t\\W → Matches any non-word character.\n",
    "o\tExample: \\W+ matches \"@#\" in \"hello@#world\".\n",
    "5.\t\\s → Matches any whitespace character (space, tab, newline).\n",
    "o\tExample: \\s+ matches spaces \" \" in \"hello world\".\n",
    "6.\t\\S → Matches any non-whitespace character.\n",
    "o\tExample: \\S+ matches \"hello\" in \"hello world\".\n",
    "7.\t\\A → Matches only at the start of the string.\n",
    "o\tExample: \\Ahello matches \"hello\" in \"hello world\" but not \"world hello\".\n",
    "8.\t\\Z → Matches only at the end of the string.\n",
    "o\tExample: world\\Z matches \"world\" in \"hello world\".\n",
    "9.\t\\b → Matches a word boundary (position between word and non-word).\n",
    "o\tExample: \\bcat\\b matches \"cat\" in \"a cat is here\", but not \"category\".\n",
    "10.\t\\B → Matches a position that is not a word boundary.\n",
    "o\tExample: \\Bcat matches \"category\" but not \"cat\" alone.\n",
    "11.\t\\n, \\t, etc. → Matches escape sequences like newline (\\n), tab (\\t).\n"
   ]
  },
  {
   "cell_type": "code",
   "execution_count": 79,
   "id": "fe7eae08-ef98-45d1-9553-1731035bcf6d",
   "metadata": {},
   "outputs": [],
   "source": [
    "import re\n",
    "a=\"\"\"         1234 7876 6543\n",
    "              1234 5674 5461\n",
    "              2461 6819 4519\n",
    "              3452 1276 8971 \"\"\"\n",
    "c=re.findall(\"[0-9]{4}[][0-9]{4}[][0-9]{4}\",a)\n",
    "print(c)"
   ]
  },
  {
   "cell_type": "code",
   "execution_count": 84,
   "id": "ddfaae49-9323-4626-aa05-890d7694930f",
   "metadata": {},
   "outputs": [
    {
     "name": "stdout",
     "output_type": "stream",
     "text": [
      "['1234 7876 6543', '1234 5674 5461', '2461 6819 4519', '3452 1276 8971']\n"
     ]
    }
   ],
   "source": [
    "c=re.findall(\"[0-9]{4}[ ][0-9]{4}[ ][0-9]{4}\",a)\n",
    "print(c)"
   ]
  },
  {
   "cell_type": "code",
   "execution_count": null,
   "id": "638d131f-6a63-477a-818b-ee9f60076ced",
   "metadata": {},
   "outputs": [],
   "source": [
    "\n",
    "- In Python, the re module supports special sequences that make regex patterns easier and shorter.\n",
    "- These are predefined shortcuts for common character classes (like digits, words, spaces) and positions (like start, end, word boundary).\n",
    "- They are written using a backslash \\ followed by a character.\n",
    "- Special sequences are shortcuts for frequently used patterns.\n",
    "- They improve readability compared to long character classes."
   ]
  },
  {
   "cell_type": "code",
   "execution_count": null,
   "id": "c15877ea-a9f9-4046-9155-6df819226b3f",
   "metadata": {},
   "outputs": [],
   "source": [
    " \\d → Matches any digit (0–9).\n",
    "\n",
    "Example: \\d matches \"123\" in \"abc123xyz\"."
   ]
  },
  {
   "cell_type": "code",
   "execution_count": 94,
   "id": "6554db0e-2034-4704-ab63-beb7e2ac8f17",
   "metadata": {},
   "outputs": [
    {
     "name": "stdout",
     "output_type": "stream",
     "text": [
      "['1234 7876 6543', '1234 5674 5461', '2461 6819 4519', '3452 1276 8971']\n"
     ]
    }
   ],
   "source": [
    "c=re.findall(r\"\\d{4}[ ]\\d{4}[ ]\\d{4}\",a)\n",
    "print(c)"
   ]
  },
  {
   "cell_type": "code",
   "execution_count": null,
   "id": "4c8322d8-9d86-4cd5-8a06-df7a8bf5611b",
   "metadata": {},
   "outputs": [],
   "source": [
    "\\D =→ Matches any non-digit character.\n",
    "\\D= except[0-9] or \\D=[0^9]\n",
    "\n",
    "Example: \\D matches \"abc\" in \"abc123\"."
   ]
  },
  {
   "cell_type": "code",
   "execution_count": 101,
   "id": "4c04dd80-028b-4036-9e52-cb67a6341b2b",
   "metadata": {},
   "outputs": [
    {
     "name": "stdout",
     "output_type": "stream",
     "text": [
      "[' pyth', 'on is', ' easy', ' lang', 'auage']\n"
     ]
    },
    {
     "data": {
      "text/plain": [
       "' python is easy langauage'"
      ]
     },
     "execution_count": 101,
     "metadata": {},
     "output_type": "execute_result"
    }
   ],
   "source": [
    "text4=\"\"\"5465 7865 123456 python is easy langauage\"\"\"\n",
    "b=re.findall(r\"\\D{5}\",text4)\n",
    "print(b)\n",
    "\"\".join(b)"
   ]
  },
  {
   "cell_type": "code",
   "execution_count": null,
   "id": "4e21c58a-3703-4a8e-8872-8f8772ec2a7e",
   "metadata": {},
   "outputs": [],
   "source": [
    "\\w → Matches any word character (alphanumeric + underscore: [A-Za-z0-9_]).\n",
    "Example: \\w+ matches \"hello_123\".\n"
   ]
  },
  {
   "cell_type": "code",
   "execution_count": 102,
   "id": "87bacafb-91e4-4ae5-af2d-9576a46f6f28",
   "metadata": {},
   "outputs": [],
   "source": [
    "import re\n",
    "data=\"\"\"Machine learning (ML) is a field of study in artificial intelligence concerned with the development and study of statistical algorithms that \n",
    "can learn from data and generalise#$$%% to unseen data, and thus perform tasks #@##^%*&^% without explicit instructions.[1] Within a subdiscipline in machine learning, \n",
    "advances in the field of deep learning have allowed neural @#$*&8$#@$networks, a class of statistical (*&^^%#@ algorithms, to surpass many previous machine learning\n",
    "approaches in performance\"\"\"\n"
   ]
  },
  {
   "cell_type": "code",
   "execution_count": 109,
   "id": "198eec1d-3fa4-4b7e-a0a4-9e5d5e764b20",
   "metadata": {},
   "outputs": [
    {
     "data": {
      "text/plain": [
       "'Machine learning ML is a field of study in artificial intelligence concerned with the development and study of statistical algorithms that can learn from data and generalise to unseen data and thus perform tasks  without explicit instructions1 Within a subdiscipline in machine learning advances in the field of deep learning have allowed neural 8networks a class of statistical  algorithms to surpass many previous machine learningapproaches in performance'"
      ]
     },
     "execution_count": 109,
     "metadata": {},
     "output_type": "execute_result"
    }
   ],
   "source": [
    "d=re.findall(r\"[\\w ]\",data)\n",
    "#print(d)\n",
    "\"\".join(d)"
   ]
  },
  {
   "cell_type": "code",
   "execution_count": null,
   "id": "b68d47d2-42ca-4ef1-a9a6-7cbd74e4b6bc",
   "metadata": {},
   "outputs": [],
   "source": []
  },
  {
   "cell_type": "code",
   "execution_count": null,
   "id": "56503d66-f921-42c6-803b-d04a510ac0ff",
   "metadata": {},
   "outputs": [],
   "source": [
    "import re\n",
    "data=\"\"\"Machine learning (ML) is a field of study in artificial intelligence concerned with the development and study of statistical algorithms that \n",
    "can learn from data and generalise#$$%% to unseen data, and thus perform tasks #@##^%*&^% without explicit instructions.[1] Within a subdiscipline in machine learning, \n",
    "advances in the field of deep learning have allowed neural @#$*&8$#@$networks, a class of statistical (*&^^%#@ algorithms, to surpass many previous machine learning\n",
    "approaches in performance\"\"\""
   ]
  },
  {
   "cell_type": "code",
   "execution_count": null,
   "id": "b19ea92f-ac0d-4178-b433-2d25fbf931c5",
   "metadata": {},
   "outputs": [],
   "source": [
    "\\W → Matches any non-word character.\n",
    "Example: \\W+ matches \"@#\" in \"hello@#world\".\n",
    "\\W=except[0-9a-zA-z] or [^0-9a-zA-z]"
   ]
  },
  {
   "cell_type": "code",
   "execution_count": 110,
   "id": "27333782-ac43-4b07-acd9-9c77ed359c46",
   "metadata": {},
   "outputs": [
    {
     "data": {
      "text/plain": [
       "'  ()                   \\n     #$$%%   ,     #@##^%*&^%   .[]      , \\n          @#$*&$#@$,     (*&^^%#@ ,      \\n  '"
      ]
     },
     "execution_count": 110,
     "metadata": {},
     "output_type": "execute_result"
    }
   ],
   "source": [
    "d=re.findall(r\"[\\W]\",data)\n",
    "#print(d)\n",
    "\"\".join(d)"
   ]
  },
  {
   "cell_type": "code",
   "execution_count": null,
   "id": "c5dc7b66-5b45-49f7-9487-285414bd4fdf",
   "metadata": {},
   "outputs": [],
   "source": [
    "\\s → Matches any whitespace character (space, tab, newline).\n",
    "Example:\\s+ matches spaces \" \" in \"hello world\".\n"
   ]
  },
  {
   "cell_type": "code",
   "execution_count": 111,
   "id": "ef4dbeb7-149f-4fa9-99ad-37af509db63c",
   "metadata": {},
   "outputs": [],
   "source": [
    "import re\n",
    "word=\"hello world\"\n"
   ]
  },
  {
   "cell_type": "code",
   "execution_count": 116,
   "id": "b046e8bd-84d4-4138-baa0-7dd5561798db",
   "metadata": {},
   "outputs": [
    {
     "name": "stdout",
     "output_type": "stream",
     "text": [
      "[' ']\n"
     ]
    }
   ],
   "source": [
    "n=re.findall(r\"\\s\",word)\n",
    "print(n)"
   ]
  },
  {
   "cell_type": "code",
   "execution_count": null,
   "id": "a6affbd1-e669-47d8-b057-b9d14cb8ae95",
   "metadata": {},
   "outputs": [],
   "source": [
    "\\S → Matches any non-whitespace character."
   ]
  },
  {
   "cell_type": "code",
   "execution_count": 121,
   "id": "823e46a3-8d77-44f8-939b-dafe77ea0887",
   "metadata": {},
   "outputs": [
    {
     "data": {
      "text/plain": [
       "'helloworld'"
      ]
     },
     "execution_count": 121,
     "metadata": {},
     "output_type": "execute_result"
    }
   ],
   "source": [
    "h=re.findall(r\"\\S\",word)\n",
    "#print(h)\n",
    "\"\".join(h)"
   ]
  },
  {
   "cell_type": "code",
   "execution_count": null,
   "id": "1526b8e4-0ca8-421f-9872-f3d22046f817",
   "metadata": {},
   "outputs": [],
   "source": [
    "\\b → word boundary (between word and space/punctuation)\n",
    "Example: \\bcat\\b matches \"cat\" in \"a cat is here\", but not \"category\".\n",
    "\\bword → matches word starting with word.\n",
    "\n",
    "word\\b → matches word ending with word.\n",
    "\n",
    "\\bword\\b → matches the exact word."
   ]
  },
  {
   "cell_type": "code",
   "execution_count": 172,
   "id": "96dac27c-adf7-4ffa-a969-0330cca61d0e",
   "metadata": {},
   "outputs": [],
   "source": [
    "import re\n",
    "word=\"a cat is here but not category\""
   ]
  },
  {
   "cell_type": "code",
   "execution_count": 173,
   "id": "f1d2173f-926a-4e4e-8601-1400622899d6",
   "metadata": {},
   "outputs": [
    {
     "data": {
      "text/plain": [
       "['cat', 'cat']"
      ]
     },
     "execution_count": 173,
     "metadata": {},
     "output_type": "execute_result"
    }
   ],
   "source": [
    "m=re.findall(r\"\\bcat\",word)\n",
    "m"
   ]
  },
  {
   "cell_type": "code",
   "execution_count": null,
   "id": "31cca9e7-fae9-40e7-a2dd-b00b2b0389f9",
   "metadata": {},
   "outputs": [],
   "source": [
    "\\B → not a word boundary\n",
    "\n",
    "Example: \\Bcat matches \"category\" but not \"cat\" alone."
   ]
  },
  {
   "cell_type": "code",
   "execution_count": 169,
   "id": "d90d142e-3925-4af5-b4f0-2112d242b4c6",
   "metadata": {},
   "outputs": [],
   "source": [
    "import re\n",
    "a=\"certificate\"\n"
   ]
  },
  {
   "cell_type": "code",
   "execution_count": 175,
   "id": "77a8bea0-410d-4c16-a690-83a4bbeb919e",
   "metadata": {},
   "outputs": [
    {
     "data": {
      "text/plain": [
       "['cat']"
      ]
     },
     "execution_count": 175,
     "metadata": {},
     "output_type": "execute_result"
    }
   ],
   "source": [
    "z=re.findall(r\"\\Bcat\",a)\n",
    "z"
   ]
  },
  {
   "cell_type": "code",
   "execution_count": null,
   "id": "a2f95cac-d264-49fe-a931-9620e6ab3f17",
   "metadata": {},
   "outputs": [],
   "source": []
  },
  {
   "cell_type": "code",
   "execution_count": null,
   "id": "0167ca7f-e0a8-44c6-a59f-953c52f858d1",
   "metadata": {},
   "outputs": [],
   "source": []
  },
  {
   "cell_type": "code",
   "execution_count": null,
   "id": "a65f0c67-cc74-4374-820c-33d92c491563",
   "metadata": {},
   "outputs": [],
   "source": []
  },
  {
   "cell_type": "code",
   "execution_count": null,
   "id": "e663dff0-68bd-4c92-8a09-918c19a07980",
   "metadata": {},
   "outputs": [],
   "source": []
  },
  {
   "cell_type": "code",
   "execution_count": null,
   "id": "ef386036-947b-4f01-910e-8ba087d35191",
   "metadata": {},
   "outputs": [],
   "source": []
  },
  {
   "cell_type": "code",
   "execution_count": null,
   "id": "fd1c52e2-bd2e-4559-9e39-ca69188935ee",
   "metadata": {},
   "outputs": [],
   "source": []
  },
  {
   "cell_type": "code",
   "execution_count": null,
   "id": "dcd0f8da-5847-4e7d-a081-6a5509356f94",
   "metadata": {},
   "outputs": [],
   "source": []
  },
  {
   "cell_type": "code",
   "execution_count": null,
   "id": "82f3da2d-07a2-42c2-99f2-03caa07a40be",
   "metadata": {},
   "outputs": [],
   "source": []
  },
  {
   "cell_type": "code",
   "execution_count": null,
   "id": "174fafce-c50b-41b3-b89a-ec7cabcb4db0",
   "metadata": {},
   "outputs": [],
   "source": []
  },
  {
   "cell_type": "code",
   "execution_count": null,
   "id": "1474457c-5f44-4d12-be64-27e78a7b7406",
   "metadata": {},
   "outputs": [],
   "source": []
  },
  {
   "cell_type": "code",
   "execution_count": null,
   "id": "74c9a225-97e4-4441-85a3-70b059e9224f",
   "metadata": {},
   "outputs": [],
   "source": []
  },
  {
   "cell_type": "markdown",
   "id": "530236a2-f448-4981-ab35-2d0f48b8e517",
   "metadata": {},
   "source": [
    "## 2.sub()"
   ]
  },
  {
   "cell_type": "code",
   "execution_count": 130,
   "id": "2682fed0-3f4c-4882-a63f-29dfc79d627d",
   "metadata": {},
   "outputs": [],
   "source": [
    "import re\n",
    "string=\"python and data science %$#^&#&\"\n"
   ]
  },
  {
   "cell_type": "code",
   "execution_count": 143,
   "id": "f3639ec6-6947-478f-a84d-845413f6110d",
   "metadata": {},
   "outputs": [
    {
     "data": {
      "text/plain": [
       "'    %$#^&#&'"
      ]
     },
     "execution_count": 143,
     "metadata": {},
     "output_type": "execute_result"
    }
   ],
   "source": [
    "e=re.sub(\"[a-zA-Z]\",\"\",string)\n",
    "e"
   ]
  },
  {
   "cell_type": "code",
   "execution_count": 141,
   "id": "cffe6163-0c8a-4ef6-af84-fa3ed53b5760",
   "metadata": {},
   "outputs": [],
   "source": [
    "import re\n",
    "q=\"python & data science 2543 2673\"\n"
   ]
  },
  {
   "cell_type": "code",
   "execution_count": 142,
   "id": "57c7e644-5179-47b9-8b1a-64e168a61ce1",
   "metadata": {},
   "outputs": [
    {
     "data": {
      "text/plain": [
       "'python & data science  '"
      ]
     },
     "execution_count": 142,
     "metadata": {},
     "output_type": "execute_result"
    }
   ],
   "source": [
    "a=re.sub(\"[0-9]\",\"\",q)\n",
    "a"
   ]
  },
  {
   "cell_type": "code",
   "execution_count": 146,
   "id": "83289dc9-c740-46b4-95c5-62e73ea062d9",
   "metadata": {},
   "outputs": [
    {
     "data": {
      "text/plain": [
       "'python & data science 2543 2673 64528 1245'"
      ]
     },
     "execution_count": 146,
     "metadata": {},
     "output_type": "execute_result"
    }
   ],
   "source": [
    "import re\n",
    "q=\"python & data science 2543 2673 64528 1245\"\n",
    "a=re.sub(r\"\\b[0-9]{4}\",\"\",q)\n",
    "q"
   ]
  },
  {
   "cell_type": "code",
   "execution_count": null,
   "id": "95ded2f5-2446-423a-ab9c-32a996ba1e6e",
   "metadata": {},
   "outputs": [],
   "source": []
  }
 ],
 "metadata": {
  "kernelspec": {
   "display_name": "Python 3 (ipykernel)",
   "language": "python",
   "name": "python3"
  },
  "language_info": {
   "codemirror_mode": {
    "name": "ipython",
    "version": 3
   },
   "file_extension": ".py",
   "mimetype": "text/x-python",
   "name": "python",
   "nbconvert_exporter": "python",
   "pygments_lexer": "ipython3",
   "version": "3.13.5"
  }
 },
 "nbformat": 4,
 "nbformat_minor": 5
}
