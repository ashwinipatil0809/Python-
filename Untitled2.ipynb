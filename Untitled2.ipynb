{
 "cells": [
  {
   "cell_type": "code",
   "execution_count": 2,
   "id": "e2ce10f8-b81d-4eab-8230-0ff27519734c",
   "metadata": {},
   "outputs": [
    {
     "name": "stdout",
     "output_type": "stream",
     "text": [
      "<class 'int'>\n"
     ]
    }
   ],
   "source": [
    "a=1.7\n",
    "a=int(a)\n",
    "b=a*a\n",
    "print(type(b))"
   ]
  },
  {
   "cell_type": "code",
   "execution_count": 4,
   "id": "a0ce1260-5b3e-47b6-92e4-e20d7697e4d8",
   "metadata": {},
   "outputs": [
    {
     "name": "stdout",
     "output_type": "stream",
     "text": [
      "True False\n"
     ]
    }
   ],
   "source": [
    "str1=str(1234) \n",
    "str2='1234' \n",
    "print(str1==str2,end=' ') \n",
    "print(str1 is str2)"
   ]
  },
  {
   "cell_type": "code",
   "execution_count": 9,
   "id": "f313917e-c2f1-4e4c-84f6-762d6a41bd5d",
   "metadata": {},
   "outputs": [
    {
     "name": "stdout",
     "output_type": "stream",
     "text": [
      "True False\n"
     ]
    }
   ],
   "source": [
    "str1=str(1234) \n",
    "str2='1234' \n",
    "print(str1==str2,end=' ') \n",
    "print(str1 is str2)"
   ]
  },
  {
   "cell_type": "code",
   "execution_count": 11,
   "id": "243486bf-899c-41d6-a3c5-74dbcb435cfc",
   "metadata": {},
   "outputs": [
    {
     "name": "stdout",
     "output_type": "stream",
     "text": [
      "4\n"
     ]
    }
   ],
   "source": [
    "a=4\n",
    "if a<0:\n",
    "    print('Negative') \n",
    "print(a)"
   ]
  },
  {
   "cell_type": "code",
   "execution_count": 13,
   "id": "4f2f91e4-8d01-4095-8bc0-c1e87c58142d",
   "metadata": {},
   "outputs": [
    {
     "name": "stdout",
     "output_type": "stream",
     "text": [
      "5\n"
     ]
    }
   ],
   "source": [
    "x=5 \n",
    "y=3\n",
    "z=2\n",
    "if(y-z>5-y):\n",
    "    y=y+3\n",
    "elif(z-x):\n",
    "    z=z+4 \n",
    "else:\n",
    "    x=x-1\n",
    "print(x+y*2-z)"
   ]
  },
  {
   "cell_type": "code",
   "execution_count": 16,
   "id": "8adf9562-f994-4d27-b512-215b6576d6f1",
   "metadata": {},
   "outputs": [
    {
     "name": "stdout",
     "output_type": "stream",
     "text": [
      "5 "
     ]
    }
   ],
   "source": [
    "for i in range(1,6,2): \n",
    "    if (i==4): \n",
    "        break\n",
    "print(i,end=' ')"
   ]
  },
  {
   "cell_type": "code",
   "execution_count": 17,
   "id": "ad46c3e8-852b-4df0-a6e2-fec484f81a6e",
   "metadata": {},
   "outputs": [
    {
     "name": "stdout",
     "output_type": "stream",
     "text": [
      "0\n",
      "1\n",
      "2\n",
      "0\n"
     ]
    }
   ],
   "source": [
    "i = 0 \n",
    "while i < 3: \n",
    "    print(i)\n",
    "    i += 1 \n",
    "else:\n",
    "    print(0)"
   ]
  },
  {
   "cell_type": "code",
   "execution_count": 18,
   "id": "bbfb739c-c452-4158-a0ba-28d797a9969d",
   "metadata": {},
   "outputs": [
    {
     "name": "stdout",
     "output_type": "stream",
     "text": [
      "[1, 3, 5, 7, 8]\n"
     ]
    }
   ],
   "source": [
    "list1 = [1,2,3,4]\n",
    "list2 = [2,4,5,6] \n",
    "list3 = [2,6,7,8] \n",
    "result = list() \n",
    "result.extend(i for i in list1 if i not in (list2+list3) and i not in result)\n",
    "result.extend(i for i in list2 if i not in (list1+list3) and i not in result) \n",
    "result.extend(i for i in list3 if i not in (list1+list2) and i not in result) \n",
    "print(result)"
   ]
  },
  {
   "cell_type": "code",
   "execution_count": null,
   "id": "38514711-2868-47f1-bc16-2561b27889ed",
   "metadata": {},
   "outputs": [],
   "source": [
    "def fun(lst):\n",
    "    def func(n): \n",
    "        s=0 \n",
    "        for i in range(0,n+1): \n",
    "            s=s+lst[i] \n",
    "        return s \n",
    "    for i in range(len(lst)): \n",
    "        print(func(i),end=' ')\n"
   ]
  },
  {
   "cell_type": "code",
   "execution_count": null,
   "id": "051c8619-60e6-487b-9ec6-19d36abe15b7",
   "metadata": {},
   "outputs": [],
   "source": [
    "fun([1,3,5]) "
   ]
  },
  {
   "cell_type": "code",
   "execution_count": null,
   "id": "7acc9f46-aac7-4a21-8e39-814df88d395d",
   "metadata": {},
   "outputs": [],
   "source": [
    "count = 0 \n",
    "while count < 3: \n",
    "    (count) \n",
    "count += 1"
   ]
  },
  {
   "cell_type": "code",
   "execution_count": null,
   "id": "229c2c9f-cdd1-4d1a-bda1-7f658bb63d94",
   "metadata": {},
   "outputs": [],
   "source": [
    "def multiple_returns():\n",
    "    return 1, 2, 3 \n",
    "    result = multiple_returns() \n",
    "    print(result)"
   ]
  },
  {
   "cell_type": "code",
   "execution_count": null,
   "id": "81749b0c-e8fa-42cd-8fbc-ce1e4b736766",
   "metadata": {},
   "outputs": [],
   "source": []
  },
  {
   "cell_type": "code",
   "execution_count": null,
   "id": "4438d25c-6643-4c55-a331-f3b69eb2c324",
   "metadata": {},
   "outputs": [],
   "source": [
    "def empty_return():\n",
    "    return result = empty_return() \n",
    "    print(result)"
   ]
  },
  {
   "cell_type": "code",
   "execution_count": null,
   "id": "bc158b96-b3d7-4529-90f5-32fc4c479b50",
   "metadata": {},
   "outputs": [],
   "source": [
    "i=0 while (i<10): \n",
    "    if(i%2): \n",
    "        i=i+3 \n",
    "        i=i+1 "
   ]
  },
  {
   "cell_type": "code",
   "execution_count": null,
   "id": "68be042c-7e2e-4a94-8004-b42d07d004e3",
   "metadata": {},
   "outputs": [],
   "source": [
    "for i in range(1,6,2):\n",
    "    if (i==4): \n",
    "        break \n",
    "print(i,end=' ')"
   ]
  },
  {
   "cell_type": "code",
   "execution_count": null,
   "id": "a9b5da5f-c14f-4bac-8b03-6d698a6fa4d3",
   "metadata": {},
   "outputs": [],
   "source": [
    "if('' or 5 and True):\n",
    "    print(\"Hello\",end=\" \") \n",
    "else: \n",
    "    print('Hi',end=\" \") \n",
    "print('!')"
   ]
  },
  {
   "cell_type": "code",
   "execution_count": null,
   "id": "03e06cba-07d0-4eb5-aa9c-bc45a2641d07",
   "metadata": {},
   "outputs": [],
   "source": []
  },
  {
   "cell_type": "code",
   "execution_count": null,
   "id": "607bb34f-9a63-47ec-952f-16fd157e62f6",
   "metadata": {},
   "outputs": [],
   "source": []
  },
  {
   "cell_type": "code",
   "execution_count": null,
   "id": "a0838c73-be2f-4415-9d94-a2befedb9d9c",
   "metadata": {},
   "outputs": [],
   "source": []
  },
  {
   "cell_type": "code",
   "execution_count": null,
   "id": "d8aa5e8b-cabe-436d-9f63-ba25e352e82d",
   "metadata": {},
   "outputs": [],
   "source": []
  },
  {
   "cell_type": "code",
   "execution_count": null,
   "id": "9f98d085-f115-4f97-8e04-cfee2f3da141",
   "metadata": {},
   "outputs": [],
   "source": []
  }
 ],
 "metadata": {
  "kernelspec": {
   "display_name": "Python 3 (ipykernel)",
   "language": "python",
   "name": "python3"
  },
  "language_info": {
   "codemirror_mode": {
    "name": "ipython",
    "version": 3
   },
   "file_extension": ".py",
   "mimetype": "text/x-python",
   "name": "python",
   "nbconvert_exporter": "python",
   "pygments_lexer": "ipython3",
   "version": "3.13.5"
  }
 },
 "nbformat": 4,
 "nbformat_minor": 5
}
