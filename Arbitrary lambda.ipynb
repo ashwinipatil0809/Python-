{
 "cells": [
  {
   "cell_type": "markdown",
   "id": "3a2d45fb-b7ce-4037-bcf6-d43dcec4a623",
   "metadata": {},
   "source": [
    "## Arbitrary positional argument"
   ]
  },
  {
   "cell_type": "code",
   "execution_count": null,
   "id": "d58ad1d1-a6fc-46a7-86bc-94b9031c0a7d",
   "metadata": {},
   "outputs": [],
   "source": []
  },
  {
   "cell_type": "code",
   "execution_count": 19,
   "id": "7a2298c9-17f8-4d1a-8c95-178ad85b65b6",
   "metadata": {},
   "outputs": [],
   "source": [
    "# additiona \n",
    "def addition(*var):\n",
    "    total=0\n",
    "    for i in var:\n",
    "        total=total+i\n",
    "    print(f\"sum={total}\")"
   ]
  },
  {
   "cell_type": "code",
   "execution_count": 20,
   "id": "86ea0c73-c24e-4497-a3e1-5d2f6f590763",
   "metadata": {},
   "outputs": [
    {
     "name": "stdout",
     "output_type": "stream",
     "text": [
      "sum=60\n"
     ]
    }
   ],
   "source": [
    "addition(10,20,30)"
   ]
  },
  {
   "cell_type": "code",
   "execution_count": 25,
   "id": "e02a7052-e453-4e0e-ac85-45ef73117066",
   "metadata": {},
   "outputs": [],
   "source": [
    "#multiplication\n",
    "def multiplication(*arg):\n",
    "    print(arg)\n",
    "    multi=1\n",
    "    for i in arg:\n",
    "        multi=multi*i\n",
    "    print(f\"multilplication:{multi}\")"
   ]
  },
  {
   "cell_type": "code",
   "execution_count": 27,
   "id": "48bd0042-4361-4ee2-807d-ee83615063b6",
   "metadata": {},
   "outputs": [
    {
     "name": "stdout",
     "output_type": "stream",
     "text": [
      "(10, 2, 3, 4)\n",
      "multilplication:240\n"
     ]
    }
   ],
   "source": [
    "multiplication(10,2,3,4)"
   ]
  },
  {
   "cell_type": "markdown",
   "id": "ee20480c-f478-4cf8-8078-6e76e44ab3c0",
   "metadata": {},
   "source": [
    "##  Arbitrary keyword argument"
   ]
  },
  {
   "cell_type": "code",
   "execution_count": 28,
   "id": "30afc681-9ac4-496c-b4d3-66d912b96f0f",
   "metadata": {},
   "outputs": [
    {
     "name": "stdout",
     "output_type": "stream",
     "text": [
      "10 20\n"
     ]
    }
   ],
   "source": [
    "def result(a,b):\n",
    "    print(a,b)\n",
    "result(a=10,b=20)"
   ]
  },
  {
   "cell_type": "code",
   "execution_count": 30,
   "id": "23837f8d-73e0-48e4-837e-7f00f82fd8d5",
   "metadata": {},
   "outputs": [
    {
     "name": "stdout",
     "output_type": "stream",
     "text": [
      "{'a': 10, 'b': 20}\n"
     ]
    }
   ],
   "source": [
    "def result(**kwargs):\n",
    "    print(kwargs)\n",
    "result(a=10,b=20)"
   ]
  },
  {
   "cell_type": "code",
   "execution_count": null,
   "id": "29311e62-2399-45f8-a4de-681a683dc8fc",
   "metadata": {},
   "outputs": [],
   "source": []
  },
  {
   "cell_type": "code",
   "execution_count": 32,
   "id": "9a2bfcc6-596b-420b-b28f-acde906ceced",
   "metadata": {},
   "outputs": [
    {
     "name": "stdout",
     "output_type": "stream",
     "text": [
      "{'maths': 90, 'science': 20}\n"
     ]
    }
   ],
   "source": [
    "def result(**kwargs):\n",
    "    print(kwargs)\n",
    "result(maths=90,science=20)"
   ]
  },
  {
   "cell_type": "code",
   "execution_count": null,
   "id": "4cc78283-22a6-462c-b308-41359e21618d",
   "metadata": {},
   "outputs": [],
   "source": []
  },
  {
   "cell_type": "code",
   "execution_count": 38,
   "id": "3d5e74dd-8883-4b77-92e8-e262a958e2a1",
   "metadata": {},
   "outputs": [
    {
     "name": "stdout",
     "output_type": "stream",
     "text": [
      "81.66666666666667\n"
     ]
    }
   ],
   "source": [
    "#percentage\n",
    "def percentage(**kwargs):\n",
    "    print(sum(kwargs.values())/len(kwargs))\n",
    "  \n",
    "percentage(math=78,science=90,phy=77)\n",
    "    \n",
    "    "
   ]
  },
  {
   "cell_type": "code",
   "execution_count": 44,
   "id": "84b003a4-0275-4e86-b177-f136808f5dd7",
   "metadata": {},
   "outputs": [
    {
     "name": "stdout",
     "output_type": "stream",
     "text": [
      "name,ashu\n",
      "age,34\n",
      "marks,88\n"
     ]
    }
   ],
   "source": [
    "def student_info(**details):\n",
    "    for key,values in details.items():\n",
    "        print(f\"{key},{values}\")\n",
    "\n",
    "student_info(name=\"ashu\",age=34,marks=88)\n",
    "        "
   ]
  },
  {
   "cell_type": "code",
   "execution_count": 45,
   "id": "e2ff8c6b-24fc-444f-8023-b797617c3481",
   "metadata": {},
   "outputs": [],
   "source": [
    "# order\n",
    "def test_args(a,b,c,*args,x=100,y=20,**kwargs):\n",
    "    print(\"positional argument==>\",a,b,c)\n",
    "    print(\"arbitaray postional ag==>\",args)\n",
    "    print(\"default argument==>\",x,y)\n",
    "    print(\"arbiatary keyword ==>\",kwargs)\n"
   ]
  },
  {
   "cell_type": "code",
   "execution_count": 46,
   "id": "fdde236d-d6f9-429b-8108-2d81d41150c8",
   "metadata": {},
   "outputs": [
    {
     "name": "stdout",
     "output_type": "stream",
     "text": [
      "positional argument==> 2 3 4\n",
      "arbitaray postional ag==> (5, 6, 7, 8, 9)\n",
      "default argument==> 10 40\n",
      "arbiatary keyword ==> {'n1': 2, 'n2': 4, 'n3': 8}\n"
     ]
    }
   ],
   "source": [
    "test_args(2,3,4,5,6,7,8,9,x=10,y=40,n1=2,n2=4,n3=8)"
   ]
  },
  {
   "cell_type": "markdown",
   "id": "5753e7d5-43a5-441e-87df-986212af71bc",
   "metadata": {},
   "source": [
    "# Lambda function"
   ]
  },
  {
   "cell_type": "code",
   "execution_count": null,
   "id": "9189ecfe-bf34-4669-a774-0ddf8b77ca09",
   "metadata": {},
   "outputs": [],
   "source": [
    "syntax\n",
    "lambda argument:expression\n"
   ]
  },
  {
   "cell_type": "code",
   "execution_count": 48,
   "id": "06349808-5124-4164-ab74-489667242ea1",
   "metadata": {},
   "outputs": [
    {
     "name": "stdout",
     "output_type": "stream",
     "text": [
      "4\n"
     ]
    }
   ],
   "source": [
    "def square(a):\n",
    "    print(a**2)\n",
    "square(2)"
   ]
  },
  {
   "cell_type": "code",
   "execution_count": 49,
   "id": "70117523-2653-456a-8038-95293c7ad5fe",
   "metadata": {},
   "outputs": [
    {
     "data": {
      "text/plain": [
       "<function __main__.<lambda>(a)>"
      ]
     },
     "execution_count": 49,
     "metadata": {},
     "output_type": "execute_result"
    }
   ],
   "source": [
    "lambda a:a**2"
   ]
  },
  {
   "cell_type": "code",
   "execution_count": 53,
   "id": "b325a05c-ff1d-47db-a929-42085c7cf0d4",
   "metadata": {},
   "outputs": [
    {
     "data": {
      "text/plain": [
       "9"
      ]
     },
     "execution_count": 53,
     "metadata": {},
     "output_type": "execute_result"
    }
   ],
   "source": [
    "(lambda a:a**2)(3)\n"
   ]
  },
  {
   "cell_type": "code",
   "execution_count": 55,
   "id": "fe65fda7-2bbb-4205-b7df-053d097fe67c",
   "metadata": {},
   "outputs": [
    {
     "data": {
      "text/plain": [
       "5"
      ]
     },
     "execution_count": 55,
     "metadata": {},
     "output_type": "execute_result"
    }
   ],
   "source": [
    "add=(lambda a,b:a+b)\n",
    "add(2,3)"
   ]
  },
  {
   "cell_type": "code",
   "execution_count": 56,
   "id": "145016da-e6b7-49f1-a2d5-38d0cf716249",
   "metadata": {},
   "outputs": [
    {
     "data": {
      "text/plain": [
       "20"
      ]
     },
     "execution_count": 56,
     "metadata": {},
     "output_type": "execute_result"
    }
   ],
   "source": [
    "multi=(lambda a,b:a*b)\n",
    "multi(10,2)"
   ]
  },
  {
   "cell_type": "code",
   "execution_count": 59,
   "id": "76502964-e922-494d-91d4-d5529a092f32",
   "metadata": {},
   "outputs": [
    {
     "data": {
      "text/plain": [
       "50"
      ]
     },
     "execution_count": 59,
     "metadata": {},
     "output_type": "execute_result"
    }
   ],
   "source": [
    "#sum of list\n",
    "add=(lambda lst:sum(lst))\n",
    "add([10,5,10,20,5])"
   ]
  },
  {
   "cell_type": "code",
   "execution_count": 63,
   "id": "0fb11e76-c04f-4512-a45a-c5b5072af3b3",
   "metadata": {},
   "outputs": [
    {
     "data": {
      "text/plain": [
       "20.0"
      ]
     },
     "execution_count": 63,
     "metadata": {},
     "output_type": "execute_result"
    }
   ],
   "source": [
    "#avreage\n",
    "avg=(lambda a,b,c:(a+b+c)/3)\n",
    "avg(10,20,30)"
   ]
  },
  {
   "cell_type": "code",
   "execution_count": 64,
   "id": "4895b41f-dcf1-47a1-aca3-77e4fc8b3d45",
   "metadata": {},
   "outputs": [
    {
     "data": {
      "text/plain": [
       "[4, 9, 16, 25, 36, 49]"
      ]
     },
     "execution_count": 64,
     "metadata": {},
     "output_type": "execute_result"
    }
   ],
   "source": [
    "#we normal square of list\n",
    "a=[2,3,4,5,6,7]\n",
    "[i**2 for i in a]"
   ]
  },
  {
   "cell_type": "code",
   "execution_count": 66,
   "id": "bc0de9b4-fac5-4b1e-95d1-a594612d94a1",
   "metadata": {},
   "outputs": [
    {
     "data": {
      "text/plain": [
       "[4, 9, 16, 25, 36, 1]"
      ]
     },
     "execution_count": 66,
     "metadata": {},
     "output_type": "execute_result"
    }
   ],
   "source": [
    "square=(lambda a:[i**2 for i in a])\n",
    "square([2,3,4,5,6,1])"
   ]
  },
  {
   "cell_type": "code",
   "execution_count": null,
   "id": "03acace6-e5dd-4088-9ddb-273944048c24",
   "metadata": {},
   "outputs": [],
   "source": [
    "#short hand if\n",
    "x=20\n",
    "y=10\n",
    "x if x>y else y"
   ]
  },
  {
   "cell_type": "code",
   "execution_count": 67,
   "id": "bd85de6a-afb7-4feb-bddb-a6644cf6067e",
   "metadata": {},
   "outputs": [
    {
     "data": {
      "text/plain": [
       "20"
      ]
     },
     "execution_count": 67,
     "metadata": {},
     "output_type": "execute_result"
    }
   ],
   "source": [
    "maximum=(lambda x,y:x if x>y else y)\n",
    "maximum(20,3)\n"
   ]
  },
  {
   "cell_type": "code",
   "execution_count": 68,
   "id": "11388cb9-89b7-403e-b413-7e5e2ccf2f75",
   "metadata": {},
   "outputs": [],
   "source": [
    "maximum=lambda x,y:print(f\"{x} is greater\")  if x>y else print(f\" {y} is greater\")"
   ]
  },
  {
   "cell_type": "code",
   "execution_count": 70,
   "id": "8470121d-c4bc-4a62-bbbf-6d26842dc0c0",
   "metadata": {},
   "outputs": [
    {
     "name": "stdout",
     "output_type": "stream",
     "text": [
      "5 is greater\n"
     ]
    }
   ],
   "source": [
    "maximum(5,4)"
   ]
  }
 ],
 "metadata": {
  "kernelspec": {
   "display_name": "Python 3 (ipykernel)",
   "language": "python",
   "name": "python3"
  },
  "language_info": {
   "codemirror_mode": {
    "name": "ipython",
    "version": 3
   },
   "file_extension": ".py",
   "mimetype": "text/x-python",
   "name": "python",
   "nbconvert_exporter": "python",
   "pygments_lexer": "ipython3",
   "version": "3.13.5"
  }
 },
 "nbformat": 4,
 "nbformat_minor": 5
}
