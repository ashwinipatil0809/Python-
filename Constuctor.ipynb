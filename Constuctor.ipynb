{
 "cells": [
  {
   "cell_type": "markdown",
   "id": "c840eeff-2f36-4396-96e3-f1e1f1c31e9d",
   "metadata": {},
   "source": [
    "# Constructor"
   ]
  },
  {
   "cell_type": "markdown",
   "id": "37736567-5114-4d35-8f75-71677a03ca20",
   "metadata": {},
   "source": [
    "# 1. Default constructor/without parameter constructor\n"
   ]
  },
  {
   "cell_type": "code",
   "execution_count": null,
   "id": "e38d55ed-0105-406a-8c4f-092083701203",
   "metadata": {},
   "outputs": [],
   "source": [
    "#syntax\n",
    "class ClassName:\n",
    "    def __init__(self):\n",
    "        self.attribute = value\n",
    "obj=ClassName()"
   ]
  },
  {
   "cell_type": "code",
   "execution_count": 2,
   "id": "eb7ca65e-b434-4340-b408-5638adab1f92",
   "metadata": {},
   "outputs": [
    {
     "name": "stdout",
     "output_type": "stream",
     "text": [
      "jordan\n",
      "tesla\n",
      "2020\n"
     ]
    }
   ],
   "source": [
    "class car:\n",
    "    def __init__(self):\n",
    "        self.make=\"jordan\"\n",
    "        self.model=\"tesla\"\n",
    "        self.year=2020\n",
    "c=car()\n",
    "print(c.make)\n",
    "print(c.model)\n",
    "print(c.year)"
   ]
  },
  {
   "cell_type": "code",
   "execution_count": 9,
   "id": "d67d9afb-28cb-47d9-a585-9c2f0f42e2dd",
   "metadata": {},
   "outputs": [
    {
     "name": "stdin",
     "output_type": "stream",
     "text": [
      "Enter a name ashu\n",
      "Enter a course name: data science\n",
      "Enter a marks: 90\n"
     ]
    },
    {
     "name": "stdout",
     "output_type": "stream",
     "text": [
      "Name of student: ashu\n",
      "Name of course: data science\n",
      "marks of student: 90\n"
     ]
    },
    {
     "name": "stdin",
     "output_type": "stream",
     "text": [
      "Enter a name paras\n",
      "Enter a course name: python \n",
      "Enter a marks: 89\n"
     ]
    },
    {
     "name": "stdout",
     "output_type": "stream",
     "text": [
      "Name of student: paras\n",
      "Name of course: python \n",
      "marks of student: 89\n"
     ]
    }
   ],
   "source": [
    "class student:\n",
    "    def __init__(self):\n",
    "        self.name=input(\"Enter a name\")\n",
    "        self.course=input(\"Enter a course name:\")\n",
    "        self.marks=int(input(\"Enter a marks:\"))\n",
    "    def display(self):\n",
    "        print(\"Name of student:\",self.name)\n",
    "        print(\"Name of course:\",self.course)\n",
    "        print(\"marks of student:\",self.marks)\n",
    "\n",
    "s1=student() #automatically call _init method\n",
    "s1.display()\n",
    "s2=student()\n",
    "s2.display()"
   ]
  },
  {
   "cell_type": "code",
   "execution_count": null,
   "id": "c475943e-5f63-4d89-b402-68985d14b1b0",
   "metadata": {},
   "outputs": [],
   "source": []
  },
  {
   "cell_type": "markdown",
   "id": "cd4920af-570a-4b34-b322-ff3ff6822f44",
   "metadata": {},
   "source": [
    "# 2.Parameter constructor"
   ]
  },
  {
   "cell_type": "code",
   "execution_count": null,
   "id": "4a0737e5-da98-4a8b-9ff8-12d597f2526a",
   "metadata": {},
   "outputs": [],
   "source": [
    "#syntax\n",
    "class ClassName:\n",
    "    def __init__(self,parameter):\n",
    "        self.attribute = value\n",
    "obj=ClassName()"
   ]
  },
  {
   "cell_type": "code",
   "execution_count": 11,
   "id": "28f0c23b-7016-4861-8105-34acc1ef1f0e",
   "metadata": {},
   "outputs": [
    {
     "name": "stdout",
     "output_type": "stream",
     "text": [
      "Honda\n",
      "maruti\n",
      "2025\n"
     ]
    }
   ],
   "source": [
    "class car:\n",
    "    def __init__(self,make,model,year):\n",
    "        self.make=make\n",
    "        self.model=model\n",
    "        self.year=year\n",
    "\n",
    "c=car(\"Honda\",\"maruti\",2025)\n",
    "print(c.make)\n",
    "print(c.model)\n",
    "print(c.year)"
   ]
  },
  {
   "cell_type": "code",
   "execution_count": 16,
   "id": "2c22a5b7-c483-4e18-8251-5acb93f3fff7",
   "metadata": {},
   "outputs": [
    {
     "name": "stdout",
     "output_type": "stream",
     "text": [
      "faculty id: 101\n",
      "faculty Name: ashuu\n",
      "faculty salary: 20000\n",
      "faculty id: 102\n",
      "faculty Name: paras\n",
      "faculty salary: 30000\n"
     ]
    }
   ],
   "source": [
    "class faculty:\n",
    "    def __init__(self,a,b,c):\n",
    "        self.f_id=a\n",
    "        self.f_name=b\n",
    "        self.f_salary=c\n",
    "    def display(self):\n",
    "        print(\"faculty id:\",self.f_id)\n",
    "        print(\"faculty Name:\",self.f_name)\n",
    "        print(\"faculty salary:\",self.f_salary)\n",
    "\n",
    "f1=faculty(101,\"ashuu\",20000)\n",
    "f1.display()\n",
    "f2=faculty(102,\"paras\",30000)\n",
    "f2.display()"
   ]
  },
  {
   "cell_type": "code",
   "execution_count": null,
   "id": "cae2a2a5-16fd-4758-8648-7d26a62850d7",
   "metadata": {},
   "outputs": [],
   "source": []
  }
 ],
 "metadata": {
  "kernelspec": {
   "display_name": "Python 3 (ipykernel)",
   "language": "python",
   "name": "python3"
  },
  "language_info": {
   "codemirror_mode": {
    "name": "ipython",
    "version": 3
   },
   "file_extension": ".py",
   "mimetype": "text/x-python",
   "name": "python",
   "nbconvert_exporter": "python",
   "pygments_lexer": "ipython3",
   "version": "3.13.5"
  }
 },
 "nbformat": 4,
 "nbformat_minor": 5
}
