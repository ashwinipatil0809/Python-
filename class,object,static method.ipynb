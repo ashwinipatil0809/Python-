{
 "cells": [
  {
   "cell_type": "markdown",
   "id": "a2d78cdf-7887-4c77-920d-06c5c3da16f8",
   "metadata": {},
   "source": [
    "# Class and object"
   ]
  },
  {
   "cell_type": "code",
   "execution_count": 8,
   "id": "e2e4a232-e97d-483e-8963-6c0920ab6879",
   "metadata": {},
   "outputs": [
    {
     "name": "stdout",
     "output_type": "stream",
     "text": [
      "we are testing a class\n",
      "90\n",
      "***********************\n"
     ]
    }
   ],
   "source": [
    "x=9 #global variable\n",
    "class ClassName:\n",
    "    a=300    #class varirable\n",
    "    print(\"we are testing a class\")\n",
    "    def my_function(self,arg1,arg2):    #method/function\n",
    "        d=90     #variable of method\n",
    "        print(d)\n",
    "        print(\"***********************\")\n",
    "#create object of a class\n",
    "obj=ClassName()\n",
    "#obj.a\n",
    "obj.my_function(10,20)\n"
   ]
  },
  {
   "cell_type": "code",
   "execution_count": null,
   "id": "3d97df39-a629-4e7a-be74-6ed1db37a1cd",
   "metadata": {},
   "outputs": [],
   "source": []
  },
  {
   "cell_type": "code",
   "execution_count": null,
   "id": "e12b972d-396d-4c6a-bd74-b2fdea510937",
   "metadata": {},
   "outputs": [],
   "source": []
  },
  {
   "cell_type": "code",
   "execution_count": null,
   "id": "f076a933-95dc-470a-a557-96763faecc9b",
   "metadata": {},
   "outputs": [],
   "source": []
  },
  {
   "cell_type": "code",
   "execution_count": 23,
   "id": "a8758bb6-fd23-48d0-9fcb-9577aa76e6b0",
   "metadata": {},
   "outputs": [
    {
     "name": "stdout",
     "output_type": "stream",
     "text": [
      "ashu\n",
      "89\n"
     ]
    }
   ],
   "source": [
    "class person:\n",
    "    def __init__(self, name, age):\n",
    "        self.name=name\n",
    "        self.age=age\n",
    "    \n",
    "\n",
    "p1=person(\"ashu\",89)\n",
    "print(p1.name)\n",
    "print(p1.age)\n"
   ]
  },
  {
   "cell_type": "code",
   "execution_count": 38,
   "id": "2fffffba-6f1b-4997-b2e7-2a5b6123c88b",
   "metadata": {},
   "outputs": [
    {
     "name": "stdout",
     "output_type": "stream",
     "text": [
      "ashuu\n",
      "99\n"
     ]
    }
   ],
   "source": [
    "class person:\n",
    "    def __init__(self,name,age):\n",
    "        self.name=name\n",
    "        self.age=age\n",
    "        \n",
    "\n",
    "p1=person(\"ashuu\",99)\n",
    "print(p1.name)\n",
    "print(p1.age)"
   ]
  },
  {
   "cell_type": "code",
   "execution_count": 35,
   "id": "cb34b101-84c0-4937-8dcb-a146a01732b5",
   "metadata": {},
   "outputs": [
    {
     "name": "stdout",
     "output_type": "stream",
     "text": [
      "ashuu 23\n",
      "*****************\n"
     ]
    }
   ],
   "source": [
    "class student:\n",
    "    def exam(self,name,age):\n",
    "        print(name,age)\n",
    "        print(\"*****************\")\n",
    "\n",
    "p1=student()\n",
    "p1.exam(\"ashuu\",23)"
   ]
  },
  {
   "cell_type": "code",
   "execution_count": null,
   "id": "b455cb3e-5eca-413c-aab8-0057e5abfc89",
   "metadata": {},
   "outputs": [],
   "source": []
  },
  {
   "cell_type": "code",
   "execution_count": 36,
   "id": "df0caf98-24aa-4867-be76-e85b073d5be6",
   "metadata": {},
   "outputs": [
    {
     "name": "stdout",
     "output_type": "stream",
     "text": [
      "my name is:Paras and i got 99\n"
     ]
    }
   ],
   "source": [
    "class student:\n",
    "    def see_details(self,name,marks):\n",
    "        self.name=name\n",
    "        self.marks=marks\n",
    "    def show(self):\n",
    "        print(f\"my name is:{self.name} and i got {self.marks}\")\n",
    "\n",
    "#obj\n",
    "p1=student()\n",
    "p1.see_details(\"Paras\",99)\n",
    "p1.show()"
   ]
  },
  {
   "cell_type": "markdown",
   "id": "e5d4d8b2-2713-4547-819c-a8b12cd09b55",
   "metadata": {},
   "source": [
    "## Meaning of self\n",
    "\n",
    "- self represents the current object (instance) of the class.\n",
    "\n",
    "- It is used to access variables and methods inside the class.\n",
    "\n",
    "-  Similar to this keyword in other languages (like Java, C++).\n",
    "\n",
    "## Why?\n",
    "\n",
    "    To differentiate class variables and local variables.\n",
    "\n",
    "To make data specific to each object (not shared globally).\n",
    "\n",
    "Every instance method in Python takes self as its first parameter (passed automatically).\n",
    "\n",
    "\n",
    "\n",
    "## Interview Answer (short):\n",
    "\n",
    "\"self in Python is used inside a class to refer to the current object.\n",
    "It allows us to access instance variables and methods. It works like this in Java, but in Python,\n",
    "it must be explicitly declared as the first parameter of instance methods.\""
   ]
  },
  {
   "cell_type": "markdown",
   "id": "60a882d7-66b6-4238-9bb3-7678344b259a",
   "metadata": {},
   "source": [
    "# Static Method in Python\n",
    "🔹## Definition\n",
    "\n",
    "A method inside a class that does not need self (object) or cls (class reference).\n",
    "Declared using @staticmethod.\n",
    "\n",
    "Does not take self or cls as the first argument.\n",
    "\n",
    "Can be called using class name or object, but no difference.\n",
    "\n",
    "Used for utility methods related to the class but not dependent on it.\n",
    "\n",
    "\n",
    "It behaves like a normal function, but is grouped logically inside a class.\n",
    "\n",
    "Declared using the @staticmethod decorator.\n",
    "\n",
    "\n",
    "    \n",
    "## When to Use?\n",
    "\n",
    "When the method’s logic is independent of instance or class data.\n",
    "\n",
    "Used for utility/helper functions inside a class.\n",
    "\n",
    "\n",
    "\n",
    "## interview ans \n",
    "\"A static method in Python is defined inside a class using @staticmethod. It doesn’t need access to instance (self) or class (cls) variables. \n",
    "It is mainly used for utility or helper functions that are logically related to the class.\"\n",
    "                 \n",
    "## Syntax\n",
    "    class MyClass:\n",
    "    @staticmethod\n",
    "    def greet(name):\n",
    "        print(\"Hello\", name)\n",
    "\n",
    "#Calling static method\n",
    "MyClass.greet(\"Ashwini\")   # ✅ No object needed\n",
    "\n",
    "\n",
    "\n",
    "\n",
    "\n",
    "    "
   ]
  },
  {
   "cell_type": "code",
   "execution_count": 41,
   "id": "9eb3b555-c57a-469f-8237-7ad3897b61ba",
   "metadata": {},
   "outputs": [
    {
     "name": "stdout",
     "output_type": "stream",
     "text": [
      "{'__module__': '__main__', '__firstlineno__': 2, 'greet': <staticmethod(<function student.greet at 0x0000017EA7DB59E0>)>, '__static_attributes__': (), '__dict__': <attribute '__dict__' of 'student' objects>, '__weakref__': <attribute '__weakref__' of 'student' objects>, '__doc__': None}\n",
      "{}\n"
     ]
    }
   ],
   "source": [
    "#static\n",
    "class student:\n",
    "    @staticmethod\n",
    "    def greet(name):\n",
    "        print(\"heeelo i am styudemy\",name)\n",
    "s1=student()\n",
    "print(student.__dict__)\n",
    "print(s1.__dict__)"
   ]
  },
  {
   "cell_type": "code",
   "execution_count": null,
   "id": "0f2eeb9d-f0b7-40a1-a676-b3c418869098",
   "metadata": {},
   "outputs": [],
   "source": []
  },
  {
   "cell_type": "code",
   "execution_count": null,
   "id": "1521a31b-333c-40df-8751-431d5afef611",
   "metadata": {},
   "outputs": [],
   "source": []
  },
  {
   "cell_type": "code",
   "execution_count": 1,
   "id": "938b5021-7a72-4d65-88d7-cc0df24509e8",
   "metadata": {},
   "outputs": [
    {
     "ename": "SyntaxError",
     "evalue": "unterminated string literal (detected at line 1) (2597947327.py, line 1)",
     "output_type": "error",
     "traceback": [
      "\u001b[1;36m  Cell \u001b[1;32mIn[1], line 1\u001b[1;36m\u001b[0m\n\u001b[1;33m    if(\" or 5 and True):\u001b[0m\n\u001b[1;37m       ^\u001b[0m\n\u001b[1;31mSyntaxError\u001b[0m\u001b[1;31m:\u001b[0m unterminated string literal (detected at line 1)\n"
     ]
    }
   ],
   "source": [
    "if(\" or 5 and True):\n",
    "print(\"Hello\", end=\" \")\n",
    "else:\n",
    "print('Hi', end=\" \")\n",
    "print('!')"
   ]
  },
  {
   "cell_type": "code",
   "execution_count": null,
   "id": "3fa5eaeb-933b-42c0-994c-70c4294833e8",
   "metadata": {},
   "outputs": [],
   "source": []
  },
  {
   "cell_type": "code",
   "execution_count": 5,
   "id": "fad162a8-82a4-4c71-b142-3ea458c05ca2",
   "metadata": {},
   "outputs": [
    {
     "ename": "NameError",
     "evalue": "name 'data' is not defined",
     "output_type": "error",
     "traceback": [
      "\u001b[1;31m---------------------------------------------------------------------------\u001b[0m",
      "\u001b[1;31mNameError\u001b[0m                                 Traceback (most recent call last)",
      "Cell \u001b[1;32mIn[5], line 2\u001b[0m\n\u001b[0;32m      1\u001b[0m \u001b[38;5;28;01mimport\u001b[39;00m\u001b[38;5;250m \u001b[39m\u001b[38;5;21;01mnumpy\u001b[39;00m\u001b[38;5;250m \u001b[39m\u001b[38;5;28;01mas\u001b[39;00m\u001b[38;5;250m \u001b[39m\u001b[38;5;21;01mnp\u001b[39;00m\n\u001b[1;32m----> 2\u001b[0m data[\u001b[38;5;241m23\u001b[39m,\u001b[38;5;241m-\u001b[39m\u001b[38;5;241m1\u001b[39m,\u001b[38;5;241m25\u001b[39m,\u001b[38;5;241m19\u001b[39m,\u001b[38;5;241m-\u001b[39m\u001b[38;5;241m1\u001b[39m,\u001b[38;5;241m30\u001b[39m]\n\u001b[0;32m      3\u001b[0m \u001b[38;5;28;01mif\u001b[39;00m np\u001b[38;5;241m.\u001b[39mdata\u001b[38;5;241m<\u001b[39m\u001b[38;5;241m0\u001b[39m:\n\u001b[0;32m      4\u001b[0m     \u001b[38;5;28mprint\u001b[39m(data)\n",
      "\u001b[1;31mNameError\u001b[0m: name 'data' is not defined"
     ]
    }
   ],
   "source": [
    "import numpy as np\n",
    "data[23,-1,25,19,-1,30]\n",
    "if np.data<0:\n",
    "    print(data)\n",
    "    \n"
   ]
  },
  {
   "cell_type": "code",
   "execution_count": null,
   "id": "bf4e7c66-4872-48bf-9bec-80a2c9de4cc0",
   "metadata": {},
   "outputs": [],
   "source": []
  },
  {
   "cell_type": "code",
   "execution_count": 6,
   "id": "4d01493d-093c-461a-82da-75f04eff1583",
   "metadata": {},
   "outputs": [
    {
     "name": "stdout",
     "output_type": "stream",
     "text": [
      "[[10 20  0  2]]\n"
     ]
    }
   ],
   "source": [
    "import numpy as np\n",
    "a=[10,20,0,2]\n",
    "arr=np.array([a])\n",
    "print(arr)"
   ]
  },
  {
   "cell_type": "code",
   "execution_count": 9,
   "id": "78361f71-dc0c-49b1-828f-cce9fac66ea9",
   "metadata": {},
   "outputs": [
    {
     "name": "stdout",
     "output_type": "stream",
     "text": [
      "[10 20 30 40]\n"
     ]
    }
   ],
   "source": [
    "city1=[10,20,30,40]\n",
    "arr=np.array(city1)\n",
    "print(arr)"
   ]
  }
 ],
 "metadata": {
  "kernelspec": {
   "display_name": "Python 3 (ipykernel)",
   "language": "python",
   "name": "python3"
  },
  "language_info": {
   "codemirror_mode": {
    "name": "ipython",
    "version": 3
   },
   "file_extension": ".py",
   "mimetype": "text/x-python",
   "name": "python",
   "nbconvert_exporter": "python",
   "pygments_lexer": "ipython3",
   "version": "3.13.5"
  }
 },
 "nbformat": 4,
 "nbformat_minor": 5
}
