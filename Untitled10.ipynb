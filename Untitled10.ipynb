{
 "cells": [
  {
   "cell_type": "code",
   "execution_count": null,
   "id": "7918bd00-2308-4a45-a78f-478b84c90fa0",
   "metadata": {},
   "outputs": [],
   "source": [
    "1.Scenario: You're working in a warehouse automation system.\n",
    "You receive real-time stock data, but it includes items that are out of stock (quantity = 0).\n",
    "inventory = [(\"Pen\", 10), (\"Pencil\", 0), (\"Notebook\", 5), (\"Eraser\", 0)]\n",
    "Task:Your job is to clean the data so that only products that are currently available get processed for further tasks like restocking or display."
   ]
  },
  {
   "cell_type": "code",
   "execution_count": 4,
   "id": "00d90856-e864-4821-be19-5183e915ba4c",
   "metadata": {},
   "outputs": [
    {
     "data": {
      "text/plain": [
       "[('Pen', 10), ('Notebook', 5)]"
      ]
     },
     "execution_count": 4,
     "metadata": {},
     "output_type": "execute_result"
    }
   ],
   "source": [
    "inventory = [(\"Pen\", 10), (\"Pencil\", 0), (\"Notebook\", 5), (\"Eraser\", 0)]\n",
    "[(items,quantity)for items,quantity in inventory if quantity>0]\n",
    "\n",
    " \n",
    "\n",
    "    "
   ]
  },
  {
   "cell_type": "code",
   "execution_count": null,
   "id": "718e0b9b-135f-42e2-b882-768c8021453b",
   "metadata": {},
   "outputs": [],
   "source": []
  },
  {
   "cell_type": "code",
   "execution_count": null,
   "id": "72ec5389-e1bd-4997-aaa6-274380ba85ce",
   "metadata": {},
   "outputs": [],
   "source": [
    "2.Scenario: You are working as a data analyst in a customer service company. \n",
    "The company has a customer data list where each element is a tuple containing customer name and age.\n",
    "customer_data = [(\"John\", 25), (\"Alice\", 15), (\"Bob\", 65), (\"Mike\", 35), (\"Sara\", 9), (\"Tom\", 14)]\n",
    "Task: Classify customers into different age groups (children: 0-12, teenagers: 13-19, adults: 20-59, seniors: 60+). \n",
    "Implement this logic using loops and conditional statements\n"
   ]
  },
  {
   "cell_type": "code",
   "execution_count": 10,
   "id": "20e4453f-0c25-49d3-9a25-61fd91799949",
   "metadata": {},
   "outputs": [
    {
     "name": "stdout",
     "output_type": "stream",
     "text": [
      "Children name: ['Sara']\n",
      "teenagers name: ['Alice', 'Tom']\n",
      "adults name: ['John', 'Mike']\n",
      "seniors name: ['Bob']\n"
     ]
    }
   ],
   "source": [
    "customer_data = [(\"John\", 25), (\"Alice\", 15), (\"Bob\", 65), (\"Mike\", 35), (\"Sara\", 9), (\"Tom\", 14)]\n",
    "children=[]\n",
    "teenagers=[]\n",
    "adults=[]\n",
    "seniors=[]\n",
    "for name,age in customer_data:\n",
    "    if 0<age<12:\n",
    "        children.append(name)\n",
    "    elif 13<age<19:\n",
    "        teenagers.append(name)\n",
    "    elif 20<age<59:\n",
    "        adults.append(name)\n",
    "    else:\n",
    "        seniors.append(name)\n",
    "print(\"Children name:\",children)\n",
    "print(\"teenagers name:\",teenagers)\n",
    "print(\"adults name:\",adults)\n",
    "print(\"seniors name:\",seniors)\n",
    "\n",
    "\n"
   ]
  },
  {
   "cell_type": "code",
   "execution_count": 8,
   "id": "60579479-2023-49b4-85e1-7a62c3935a96",
   "metadata": {},
   "outputs": [
    {
     "name": "stdout",
     "output_type": "stream",
     "text": [
      "children name= ['Sara']\n",
      "teenagers name = ['Alice', 'Tom']\n",
      "adults name = ['John', 'Mike']\n",
      "seniors name = ['Bob']\n"
     ]
    }
   ],
   "source": [
    "customer_data = [(\"John\", 25), (\"Alice\", 15), (\"Bob\", 65), (\"Mike\", 35), (\"Sara\", 9), (\"Tom\", 14)]\n",
    "#custr=max(age for customer,age in customer_data)\n",
    "children=[]\n",
    "teenagers=[]\n",
    "adults=[]\n",
    "seniors=[]\n",
    "for name,age in customer_data:\n",
    "    if 0<= age <=12:\n",
    "        children.append(name)\n",
    "    elif 13<= age <=19:\n",
    "        teenagers.append(name)\n",
    "    elif 20<= age <=59:\n",
    "        adults.append(name)\n",
    "    else:\n",
    "        seniors.append(name)\n",
    "\n",
    "print(\"children name=\",children)\n",
    "print(\"teenagers name =\",teenagers)\n",
    "print(\"adults name =\",adults)\n",
    "print(\"seniors name =\",seniors)\n",
    "   \n",
    "        \n",
    "        "
   ]
  },
  {
   "cell_type": "code",
   "execution_count": null,
   "id": "d87f9991-b09d-4f9e-b097-f8847cbcdb09",
   "metadata": {},
   "outputs": [],
   "source": []
  },
  {
   "cell_type": "code",
   "execution_count": null,
   "id": "135667d3-55d7-464b-bb14-06e5b65930da",
   "metadata": {},
   "outputs": [],
   "source": [
    "3.Scenario:You are working for a logistics company. You're given inventory data from two warehouses. Each warehouse provides a list of tuples (product_name, quantity).\n",
    "warehouse1 = [(\"Pen\", 10), (\"Notebook\", 5), (\"Eraser\", -2)]\n",
    "warehouse2 = [(\"Pen\", -10), (\"Notebook\", 2), (\"Marker\", 4), (\"Eraser\", 1)]\n",
    "Task:Your task is to merge, sum up the quantities, and remove any product with total quantity 0."
   ]
  },
  {
   "cell_type": "code",
   "execution_count": 23,
   "id": "cd4a5d6e-909b-46dc-97e5-15c643989cdb",
   "metadata": {},
   "outputs": [
    {
     "name": "stdout",
     "output_type": "stream",
     "text": [
      "Notebook : 7\n",
      "Eraser : -1\n",
      "Marker : 4\n"
     ]
    }
   ],
   "source": [
    "warehouse1 = [(\"Pen\", 10), (\"Notebook\", 5), (\"Eraser\", -2)]\n",
    "warehouse2 = [(\"Pen\", -10), (\"Notebook\", 2), (\"Marker\", 4), (\"Eraser\", 1)]\n",
    "tot={}\n",
    "for product,qty in warehouse1+warehouse2:\n",
    "    if product in tot:\n",
    "        tot[product]+=qty\n",
    "    else:\n",
    "        tot[product]=qty\n",
    "for product in list(tot.keys()):\n",
    "    if tot[product]==0:\n",
    "        del tot[product]\n",
    "        \n",
    "for product,qty in tot.items():\n",
    "    print(product ,\":\",qty)\n"
   ]
  },
  {
   "cell_type": "code",
   "execution_count": 9,
   "id": "87d745c2-ada8-468d-a6bc-48db40e3eb4a",
   "metadata": {},
   "outputs": [
    {
     "name": "stdout",
     "output_type": "stream",
     "text": [
      "10\n",
      "5\n",
      "-2\n",
      "-10\n",
      "2\n",
      "4\n",
      "1\n"
     ]
    }
   ],
   "source": []
  },
  {
   "cell_type": "code",
   "execution_count": 14,
   "id": "47256eb7-5238-4041-9f83-a96f3dfa709c",
   "metadata": {},
   "outputs": [
    {
     "name": "stdout",
     "output_type": "stream",
     "text": [
      "Pen : 0\n",
      "Notebook : 7\n",
      "Eraser : -1\n",
      "Marker : 4\n"
     ]
    }
   ],
   "source": []
  },
  {
   "cell_type": "code",
   "execution_count": null,
   "id": "f36989e8-c3b7-4f3f-a73d-11bf48397005",
   "metadata": {},
   "outputs": [],
   "source": []
  },
  {
   "cell_type": "code",
   "execution_count": null,
   "id": "c8da48cd-b025-4117-9aec-7f598c69c457",
   "metadata": {},
   "outputs": [],
   "source": []
  },
  {
   "cell_type": "code",
   "execution_count": 11,
   "id": "a7dfd89a-aa48-4e47-b5ce-a1b22ffd5060",
   "metadata": {},
   "outputs": [
    {
     "name": "stdout",
     "output_type": "stream",
     "text": [
      "Notebook : 7\n",
      "Eraser : -1\n",
      "Marker : 4\n"
     ]
    }
   ],
   "source": [
    "warehouse1 = [(\"Pen\", 10), (\"Notebook\", 5), (\"Eraser\", -2)]\n",
    "warehouse2 = [(\"Pen\", -10), (\"Notebook\", 2), (\"Marker\", 4), (\"Eraser\", 1)]\n",
    "tot={}\n",
    "for products, quantity in warehouse1 + warehouse2:\n",
    "    if products in tot:\n",
    "        tot[products]+=quantity\n",
    "    else:\n",
    "        tot[products]=quantity\n",
    "        \n",
    "for products in list(tot.keys()):\n",
    "    if tot[products]==0:\n",
    "        del tot[products]\n",
    "\n",
    "for products, quantity in tot.items():    \n",
    "    print(products,\":\",quantity)\n",
    "\n"
   ]
  },
  {
   "cell_type": "code",
   "execution_count": null,
   "id": "2522753e-031c-4b39-ba21-da81fcdc5c60",
   "metadata": {},
   "outputs": [],
   "source": []
  },
  {
   "cell_type": "code",
   "execution_count": null,
   "id": "9fa93deb-6d27-454b-904a-0d7afc359465",
   "metadata": {},
   "outputs": [],
   "source": [
    "4.Scenario:You are working in an order processing team. The shipping system and billing system each produce a list of order IDs.\n",
    "shipped_orders = [101, 102, 103, 105, 108]\n",
    "billed_orders = [102, 103, 104, 108, 109]\n",
    "Task:Your task is to find out which orders are mismatched:\n",
    "● Either shipped but not billed\n",
    "● Or billed but not shipped"
   ]
  },
  {
   "cell_type": "code",
   "execution_count": 12,
   "id": "9ad6caa5-2e61-4abd-b4b1-1fd853a6c208",
   "metadata": {},
   "outputs": [
    {
     "name": "stdout",
     "output_type": "stream",
     "text": [
      "shipped but not billed: [101, 105]\n",
      "billed but not shipped [104, 109]\n"
     ]
    }
   ],
   "source": [
    "shipped_orders = [101, 102, 103, 105, 108]\n",
    "billed_orders = [102, 103, 104, 108, 109]\n",
    "sbn=[]\n",
    "bns=[]\n",
    "for order in shipped_orders:\n",
    "    if order not in billed_orders:\n",
    "        sbn.append(order)\n",
    "\n",
    "for order in billed_orders:\n",
    "    if order not in shipped_orders:\n",
    "        bns.append(order)\n",
    "\n",
    "\n",
    "print(\"shipped but not billed:\",sbn)\n",
    "print(\"billed but not shipped\",bns)\n",
    "    "
   ]
  },
  {
   "cell_type": "code",
   "execution_count": null,
   "id": "b633b9a2-28d5-4a68-8cbc-e61de973a8ab",
   "metadata": {},
   "outputs": [],
   "source": []
  },
  {
   "cell_type": "code",
   "execution_count": null,
   "id": "8bcfd1dd-8a35-48fc-8874-b622f75c5f9e",
   "metadata": {},
   "outputs": [],
   "source": []
  },
  {
   "cell_type": "code",
   "execution_count": null,
   "id": "964799dd-3345-463e-bdeb-362b0d2c58f6",
   "metadata": {},
   "outputs": [],
   "source": [
    "5.Scenario: Classify customers into children / teenagers / adults / seniors.\n",
    "customer_data = [(\"John\", 25), (\"Alice\", 15), (\"Bob\", 65), (\"Mike\", 35), (\"Sara\", 9), (\"Tom\", 14)]"
   ]
  },
  {
   "cell_type": "code",
   "execution_count": 13,
   "id": "cedd6b19-a06a-4ed3-a696-96cff5e665c2",
   "metadata": {},
   "outputs": [
    {
     "name": "stdout",
     "output_type": "stream",
     "text": [
      "children name= ['Sara']\n",
      "teenagers name = ['Alice', 'Tom']\n",
      "adults name = ['John', 'Mike']\n",
      "seniors name = ['Bob']\n"
     ]
    }
   ],
   "source": [
    "children=[]\n",
    "teenagers=[]\n",
    "adults=[]\n",
    "seniors=[]\n",
    "for name,age in customer_data:\n",
    "    if 0<= age <=12:\n",
    "        children.append(name)\n",
    "    elif 13<= age <=19:\n",
    "        teenagers.append(name)\n",
    "    elif 20<= age <=59:\n",
    "        adults.append(name)\n",
    "    else:\n",
    "        seniors.append(name)\n",
    "\n",
    "print(\"children name=\",children)\n",
    "print(\"teenagers name =\",teenagers)\n",
    "print(\"adults name =\",adults)\n",
    "print(\"seniors name =\",seniors)"
   ]
  },
  {
   "cell_type": "code",
   "execution_count": null,
   "id": "062c8d2a-509d-42d8-b2db-1d76ccde4cf1",
   "metadata": {},
   "outputs": [],
   "source": []
  },
  {
   "cell_type": "code",
   "execution_count": null,
   "id": "0ae92317-6b80-4a62-b6d2-0d63ae6dec6d",
   "metadata": {},
   "outputs": [],
   "source": []
  },
  {
   "cell_type": "code",
   "execution_count": null,
   "id": "5b5f6745-7dc2-4b7d-a8cb-48a537727fc6",
   "metadata": {},
   "outputs": [],
   "source": [
    "6.Scenario: Merge two warehouse lists, sum quantities per product, remove products whose total is 0.\n",
    "warehouse1 = [(\"Pen\", 10), (\"Notebook\", 5), (\"Eraser\", -2)]\n",
    "warehouse2 = [(\"Pen\", -10), (\"Notebook\", 2), (\"Marker\", 4), (\"Eraser\", 1)]"
   ]
  },
  {
   "cell_type": "code",
   "execution_count": 16,
   "id": "667bf330-a329-40af-ba56-8391c6f3cf65",
   "metadata": {},
   "outputs": [
    {
     "name": "stdout",
     "output_type": "stream",
     "text": [
      "Notebook : 7\n",
      "Eraser : -1\n",
      "Marker : 4\n"
     ]
    }
   ],
   "source": [
    "warehouse1 = [(\"Pen\", 10), (\"Notebook\", 5), (\"Eraser\", -2)]\n",
    "warehouse2 = [(\"Pen\", -10), (\"Notebook\", 2), (\"Marker\", 4), (\"Eraser\", 1)]\n",
    "tot={}\n",
    "for product, quantity in warehouse1 + warehouse2:\n",
    "    if product in tot:\n",
    "        tot[product]+=quantity\n",
    "    else:\n",
    "        tot[product]=quantity\n",
    "        \n",
    "for product in list(tot.keys()):\n",
    "    if tot[product]==0:\n",
    "        del tot[product]\n",
    "\n",
    "for product, quantity in tot.items():    \n",
    "    print(product,\":\",quantity)\n",
    "\n"
   ]
  },
  {
   "cell_type": "code",
   "execution_count": null,
   "id": "215e8450-81eb-44a1-ab9c-cf1d652a07b1",
   "metadata": {},
   "outputs": [],
   "source": [
    "7.Scenario: Find orders that are shipped but not billed and billed but not shipped.\n",
    "shipped_orders = [101, 102, 103, 105, 108]\n",
    "billed_orders = [102, 103, 104, 108, 109]"
   ]
  },
  {
   "cell_type": "code",
   "execution_count": 15,
   "id": "a72f312b-53d1-4751-8ee5-9567257fe14b",
   "metadata": {},
   "outputs": [
    {
     "name": "stdout",
     "output_type": "stream",
     "text": [
      "shipped but not billed : [101, 105]\n",
      "billed but not shipped.: [104, 109]\n"
     ]
    }
   ],
   "source": [
    "#7.Scenario: Find orders that are shipped but not billed and billed but not shipped.\n",
    "shipped_orders = [101, 102, 103, 105, 108]\n",
    "billed_orders = [102, 103, 104, 108, 109]\n",
    "sbn=[]\n",
    "bsn=[]\n",
    "for order in shipped_orders:\n",
    "    if order not in billed_orders:\n",
    "        sbn.append(order)\n",
    "\n",
    "for order in billed_orders:\n",
    "    if order not in shipped_orders:\n",
    "        bsn.append(order)\n",
    "\n",
    "print(\"shipped but not billed :\",sbn)\n",
    "print(\"billed but not shipped.:\",bsn)\n",
    "    \n",
    "\n",
    "    \n",
    "    "
   ]
  },
  {
   "cell_type": "code",
   "execution_count": null,
   "id": "3917ab39-c2f9-424c-b4b2-c6a0b4daff35",
   "metadata": {},
   "outputs": [],
   "source": []
  }
 ],
 "metadata": {
  "kernelspec": {
   "display_name": "Python 3 (ipykernel)",
   "language": "python",
   "name": "python3"
  },
  "language_info": {
   "codemirror_mode": {
    "name": "ipython",
    "version": 3
   },
   "file_extension": ".py",
   "mimetype": "text/x-python",
   "name": "python",
   "nbconvert_exporter": "python",
   "pygments_lexer": "ipython3",
   "version": "3.13.5"
  }
 },
 "nbformat": 4,
 "nbformat_minor": 5
}
