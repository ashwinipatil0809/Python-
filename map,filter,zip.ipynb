{
 "cells": [
  {
   "cell_type": "markdown",
   "id": "9efa73c2-be1c-4b2d-b3ea-a246f36ac44a",
   "metadata": {},
   "source": [
    "# Higher order Function"
   ]
  },
  {
   "cell_type": "markdown",
   "id": "85505e71-8d3c-4ff2-8a24-5feecced2950",
   "metadata": {},
   "source": [
    "## 1.Map()"
   ]
  },
  {
   "cell_type": "code",
   "execution_count": 1,
   "id": "5f95d768-e616-464f-a87c-e53ef78f34e7",
   "metadata": {},
   "outputs": [
    {
     "name": "stdout",
     "output_type": "stream",
     "text": [
      "[100, 4, 9, 16, 1]\n"
     ]
    }
   ],
   "source": [
    "lst=[10,2,3,4,1]\n",
    "new_list=[i**2 for i in lst]\n",
    "print(new_list)"
   ]
  },
  {
   "cell_type": "code",
   "execution_count": 2,
   "id": "fb509c13-f0a8-473e-a48c-17717035f310",
   "metadata": {},
   "outputs": [],
   "source": [
    "def square(x):\n",
    "    return x**2"
   ]
  },
  {
   "cell_type": "code",
   "execution_count": 3,
   "id": "80f86ad2-5a46-408b-b3c1-814258e47db0",
   "metadata": {},
   "outputs": [
    {
     "data": {
      "text/plain": [
       "36"
      ]
     },
     "execution_count": 3,
     "metadata": {},
     "output_type": "execute_result"
    }
   ],
   "source": [
    "square(6)"
   ]
  },
  {
   "cell_type": "code",
   "execution_count": 4,
   "id": "73285c25-a9d5-411e-9500-73c09048389e",
   "metadata": {},
   "outputs": [
    {
     "data": {
      "text/plain": [
       "[1, 4, 9, 16, 25]"
      ]
     },
     "execution_count": 4,
     "metadata": {},
     "output_type": "execute_result"
    }
   ],
   "source": [
    "lst=[1,2,3,4,5]\n",
    "lst1=[]\n",
    "for i in lst:\n",
    "    lst1.append(i**2)\n",
    "lst1"
   ]
  },
  {
   "cell_type": "code",
   "execution_count": 8,
   "id": "7357f26c-33a1-49b4-8245-4ff9d26f015a",
   "metadata": {},
   "outputs": [],
   "source": [
    "lst=[1,2,3,4,5]\n",
    "def square(n):\n",
    "    lst1=[]\n",
    "    for i in n:\n",
    "        lst1.append(i**2)\n",
    "    return lst1"
   ]
  },
  {
   "cell_type": "code",
   "execution_count": 9,
   "id": "21f9769e-539e-42be-b326-fba82443cb07",
   "metadata": {},
   "outputs": [
    {
     "data": {
      "text/plain": [
       "[1, 4, 9, 16, 25]"
      ]
     },
     "execution_count": 9,
     "metadata": {},
     "output_type": "execute_result"
    }
   ],
   "source": [
    "square(lst)"
   ]
  },
  {
   "cell_type": "code",
   "execution_count": 10,
   "id": "4331089b-396f-4748-b07c-64270938cfa1",
   "metadata": {},
   "outputs": [],
   "source": [
    "def square(x):\n",
    "    return x**2"
   ]
  },
  {
   "cell_type": "code",
   "execution_count": 11,
   "id": "413a9902-3091-4472-9f7f-b20835b7b8b7",
   "metadata": {},
   "outputs": [
    {
     "data": {
      "text/plain": [
       "4"
      ]
     },
     "execution_count": 11,
     "metadata": {},
     "output_type": "execute_result"
    }
   ],
   "source": [
    "square(2)"
   ]
  },
  {
   "cell_type": "code",
   "execution_count": 28,
   "id": "e152ab0c-7c5a-41c9-be70-c7d4206c7649",
   "metadata": {},
   "outputs": [
    {
     "name": "stdout",
     "output_type": "stream",
     "text": [
      "DGD"
     ]
    }
   ],
   "source": [
    "string=\"goood mornng DGD\"\n",
    "for i in string:\n",
    "    if i.isupper():\n",
    "        print(i,end=\"\")"
   ]
  },
  {
   "cell_type": "code",
   "execution_count": 34,
   "id": "87a3a710-e3c9-4e25-becb-dbaba9fdbb94",
   "metadata": {},
   "outputs": [],
   "source": [
    "string=\"PARAS ashu\"\n",
    "def isup(x):\n",
    "    for i in string:\n",
    "        return x if x.isupper() else \"\"\n",
    "   "
   ]
  },
  {
   "cell_type": "code",
   "execution_count": 41,
   "id": "240b11fd-6168-4763-9b0d-12235c9608cb",
   "metadata": {},
   "outputs": [
    {
     "data": {
      "text/plain": [
       "['P', 'A', 'R', 'A', 'S', '', '', '', '', '']"
      ]
     },
     "execution_count": 41,
     "metadata": {},
     "output_type": "execute_result"
    }
   ],
   "source": [
    "list(map(isup,string))"
   ]
  },
  {
   "cell_type": "code",
   "execution_count": 42,
   "id": "d5556dff-7af2-4502-adcd-c46c14224919",
   "metadata": {},
   "outputs": [
    {
     "data": {
      "text/plain": [
       "'PARAS'"
      ]
     },
     "execution_count": 42,
     "metadata": {},
     "output_type": "execute_result"
    }
   ],
   "source": [
    "\"\".join(map(isup,string))"
   ]
  },
  {
   "cell_type": "code",
   "execution_count": 54,
   "id": "138758dc-c846-4a2c-a24d-e9117616a986",
   "metadata": {},
   "outputs": [
    {
     "data": {
      "text/plain": [
       "'PUNE CITY'"
      ]
     },
     "execution_count": 54,
     "metadata": {},
     "output_type": "execute_result"
    }
   ],
   "source": [
    "string=\"Good morning PUNE CITY\"\n",
    "s=string.split()\n",
    "#print(s)\n",
    "lst1=[]\n",
    "for i in s:\n",
    "    if i.isupper():\n",
    "        lst1.append(i)\n",
    "\" \".join(lst1)\n",
    "    "
   ]
  },
  {
   "cell_type": "code",
   "execution_count": 66,
   "id": "12465cda-301b-4cfc-8eea-c70d48f21637",
   "metadata": {},
   "outputs": [],
   "source": [
    "string=\"good morning PUNE CITY\"\n",
    "def ispur(x):\n",
    "    for i in string:\n",
    "        return x if x.isupper() else\"\""
   ]
  },
  {
   "cell_type": "code",
   "execution_count": 67,
   "id": "afbcf9e8-6117-4b91-b0a1-5ef4d4b35d83",
   "metadata": {},
   "outputs": [
    {
     "data": {
      "text/plain": [
       "['',\n",
       " '',\n",
       " '',\n",
       " '',\n",
       " '',\n",
       " '',\n",
       " '',\n",
       " '',\n",
       " '',\n",
       " '',\n",
       " '',\n",
       " '',\n",
       " '',\n",
       " 'P',\n",
       " 'U',\n",
       " 'N',\n",
       " 'E',\n",
       " '',\n",
       " 'C',\n",
       " 'I',\n",
       " 'T',\n",
       " 'Y']"
      ]
     },
     "execution_count": 67,
     "metadata": {},
     "output_type": "execute_result"
    }
   ],
   "source": [
    "list(map(ispur,string))"
   ]
  },
  {
   "cell_type": "code",
   "execution_count": 69,
   "id": "e8a5c7be-85ee-48e5-9b83-cd1a023a4d7d",
   "metadata": {},
   "outputs": [
    {
     "data": {
      "text/plain": [
       "'             P U N E  C I T Y'"
      ]
     },
     "execution_count": 69,
     "metadata": {},
     "output_type": "execute_result"
    }
   ],
   "source": [
    "\" \".join(map(ispur,string))"
   ]
  },
  {
   "cell_type": "code",
   "execution_count": 75,
   "id": "a395b125-4a84-48fe-a000-3093c567b70d",
   "metadata": {},
   "outputs": [
    {
     "data": {
      "text/plain": [
       "[False, False, True, True]"
      ]
     },
     "execution_count": 75,
     "metadata": {},
     "output_type": "execute_result"
    }
   ],
   "source": [
    "string=\"Good Morning PUNE PEOPLE\"\n",
    "s=string.split()\n",
    "list(map(lambda x:x.isupper(),s))"
   ]
  },
  {
   "cell_type": "markdown",
   "id": "bc731986-f838-46cb-bc15-3c9425ef9048",
   "metadata": {},
   "source": [
    "## 2.Filter()"
   ]
  },
  {
   "cell_type": "code",
   "execution_count": 74,
   "id": "3821845b-03fb-4e2e-8da6-db7360e9046e",
   "metadata": {},
   "outputs": [
    {
     "data": {
      "text/plain": [
       "['PUNE', 'PEOPLE']"
      ]
     },
     "execution_count": 74,
     "metadata": {},
     "output_type": "execute_result"
    }
   ],
   "source": [
    "string=\"Good Morning PUNE PEOPLE\"\n",
    "s=string.split()\n",
    "list(filter(lambda x:x.isupper(),s))"
   ]
  },
  {
   "cell_type": "code",
   "execution_count": 77,
   "id": "fa73fce5-f5be-48d2-a451-8b6870754135",
   "metadata": {},
   "outputs": [
    {
     "data": {
      "text/plain": [
       "'PUNE PEOPLE'"
      ]
     },
     "execution_count": 77,
     "metadata": {},
     "output_type": "execute_result"
    }
   ],
   "source": [
    "string=\"Good Morning PUNE PEOPLE\"\n",
    "s=string.split()\n",
    "\" \".join(filter(lambda x:x.isupper(),s))"
   ]
  },
  {
   "cell_type": "markdown",
   "id": "6933a90d-1fc6-4ade-87dd-5b03cb159a26",
   "metadata": {},
   "source": [
    "## 3.Zip()"
   ]
  },
  {
   "cell_type": "code",
   "execution_count": 78,
   "id": "f9487c66-d254-48f1-937b-a02df0b945d3",
   "metadata": {},
   "outputs": [
    {
     "data": {
      "text/plain": [
       "{'phy': 'phy', 'chem': 'chem', 'v': 'v', 'l': 'l'}"
      ]
     },
     "execution_count": 78,
     "metadata": {},
     "output_type": "execute_result"
    }
   ],
   "source": [
    "#zip\n",
    "lst=[\"phy\",\"chem\",\"v\",\"l\"]\n",
    "lst1=[3,5,2,1]\n",
    "dict1={}\n",
    "for i in range(len(lst)):\n",
    "    dict1[lst[i]]=lst[i]\n",
    "dict1"
   ]
  },
  {
   "cell_type": "code",
   "execution_count": null,
   "id": "c5df0f50-de2a-4cec-9803-7d751f12d02b",
   "metadata": {},
   "outputs": [],
   "source": [
    "lst=[\"phy\",\"chem\",\"Bio\",\"englis\"]\n",
    "lst1=[60,70,89,99]"
   ]
  },
  {
   "cell_type": "code",
   "execution_count": 81,
   "id": "fa1357ed-513f-46a6-97a6-0864168fe095",
   "metadata": {},
   "outputs": [
    {
     "data": {
      "text/plain": [
       "<zip at 0x254ee485f80>"
      ]
     },
     "execution_count": 81,
     "metadata": {},
     "output_type": "execute_result"
    }
   ],
   "source": [
    "zip(lst,lst1)"
   ]
  },
  {
   "cell_type": "code",
   "execution_count": 82,
   "id": "f1740c0c-0889-47df-8f4c-617de5d46dfc",
   "metadata": {},
   "outputs": [
    {
     "data": {
      "text/plain": [
       "[('phy', 3), ('chem', 5), ('v', 2), ('l', 1)]"
      ]
     },
     "execution_count": 82,
     "metadata": {},
     "output_type": "execute_result"
    }
   ],
   "source": [
    "list(zip(lst,lst1))"
   ]
  },
  {
   "cell_type": "code",
   "execution_count": 83,
   "id": "a6d532bc-b139-408f-9d3b-1abc4898df73",
   "metadata": {},
   "outputs": [
    {
     "data": {
      "text/plain": [
       "(('phy', 3), ('chem', 5), ('v', 2), ('l', 1))"
      ]
     },
     "execution_count": 83,
     "metadata": {},
     "output_type": "execute_result"
    }
   ],
   "source": [
    "tuple(zip(lst,lst1))"
   ]
  }
 ],
 "metadata": {
  "kernelspec": {
   "display_name": "Python 3 (ipykernel)",
   "language": "python",
   "name": "python3"
  },
  "language_info": {
   "codemirror_mode": {
    "name": "ipython",
    "version": 3
   },
   "file_extension": ".py",
   "mimetype": "text/x-python",
   "name": "python",
   "nbconvert_exporter": "python",
   "pygments_lexer": "ipython3",
   "version": "3.13.5"
  }
 },
 "nbformat": 4,
 "nbformat_minor": 5
}
