{
 "cells": [
  {
   "cell_type": "markdown",
   "id": "ea6d2077-3848-4b51-b524-a489e9d40334",
   "metadata": {},
   "source": [
    "# Basic Python"
   ]
  },
  {
   "cell_type": "code",
   "execution_count": 4,
   "id": "b73c42fe-8f5e-4fd8-a57e-a557abdc1462",
   "metadata": {},
   "outputs": [
    {
     "name": "stdout",
     "output_type": "stream",
     "text": [
      "hello\n"
     ]
    }
   ],
   "source": [
    "print(\"hello\")\n"
   ]
  },
  {
   "cell_type": "code",
   "execution_count": 6,
   "id": "23569e9c-1c83-4dfc-ab5a-d31fbb5aed44",
   "metadata": {},
   "outputs": [
    {
     "name": "stdout",
     "output_type": "stream",
     "text": [
      "45\n",
      "ashu\n",
      "<class 'int'>\n",
      "<class 'str'>\n"
     ]
    }
   ],
   "source": [
    "a=45\n",
    "string=\"ashu\"\n",
    "print(a)\n",
    "print(string)\n",
    "print(type(a))\n",
    "print(type(string))"
   ]
  },
  {
   "cell_type": "markdown",
   "id": "e76f1fac-cb42-4eda-9b5b-f0380ce73c10",
   "metadata": {},
   "source": [
    "## Variable\n"
   ]
  },
  {
   "cell_type": "code",
   "execution_count": 7,
   "id": "c5fa42f3-c0f9-472e-b164-7e3668efd873",
   "metadata": {},
   "outputs": [
    {
     "ename": "SyntaxError",
     "evalue": "invalid decimal literal (2296755195.py, line 2)",
     "output_type": "error",
     "traceback": [
      "\u001b[1;36m  Cell \u001b[1;32mIn[7], line 2\u001b[1;36m\u001b[0m\n\u001b[1;33m    12as=23 #invalid\u001b[0m\n\u001b[1;37m     ^\u001b[0m\n\u001b[1;31mSyntaxError\u001b[0m\u001b[1;31m:\u001b[0m invalid decimal literal\n"
     ]
    }
   ],
   "source": [
    "var=45  #valid\n",
    "12as=23 #invalid\n",
    "_abc=20 #valid"
   ]
  },
  {
   "cell_type": "code",
   "execution_count": 8,
   "id": "b7a5972f-8c4b-42ab-bd56-9c02bb44d808",
   "metadata": {},
   "outputs": [
    {
     "ename": "SyntaxError",
     "evalue": "invalid syntax (1789146371.py, line 1)",
     "output_type": "error",
     "traceback": [
      "\u001b[1;36m  Cell \u001b[1;32mIn[8], line 1\u001b[1;36m\u001b[0m\n\u001b[1;33m    a 34 =34\u001b[0m\n\u001b[1;37m      ^\u001b[0m\n\u001b[1;31mSyntaxError\u001b[0m\u001b[1;31m:\u001b[0m invalid syntax\n"
     ]
    }
   ],
   "source": [
    "a 34 =34"
   ]
  },
  {
   "cell_type": "code",
   "execution_count": 14,
   "id": "2f205c32-089d-452f-a0e3-13e83c9a96d0",
   "metadata": {},
   "outputs": [],
   "source": [
    "if 10<5:\n",
    "    print(\"hello\")"
   ]
  },
  {
   "cell_type": "code",
   "execution_count": 10,
   "id": "43e487bc-8ee7-4502-a447-363dec30f0d6",
   "metadata": {},
   "outputs": [],
   "source": [
    "if 10>100:\n",
    "    print(\"hello\")"
   ]
  },
  {
   "cell_type": "code",
   "execution_count": 15,
   "id": "43ff33d3-e9bc-4f07-8575-eafeef31be2c",
   "metadata": {},
   "outputs": [],
   "source": [
    "if 10<5:\n",
    "    print(\"a\")"
   ]
  },
  {
   "cell_type": "code",
   "execution_count": null,
   "id": "23b70f15-9349-4770-9aff-594a94cd4999",
   "metadata": {},
   "outputs": [],
   "source": []
  },
  {
   "cell_type": "code",
   "execution_count": null,
   "id": "190abf74-7429-4d1f-abe9-380079d62bb9",
   "metadata": {},
   "outputs": [],
   "source": []
  },
  {
   "cell_type": "code",
   "execution_count": null,
   "id": "524b9f49-ef9f-488c-9860-22f286ba05be",
   "metadata": {},
   "outputs": [],
   "source": []
  },
  {
   "cell_type": "code",
   "execution_count": null,
   "id": "0fc405d9-6a25-49e5-af71-8e535929d003",
   "metadata": {},
   "outputs": [],
   "source": []
  },
  {
   "cell_type": "code",
   "execution_count": null,
   "id": "65c4443e-4064-4638-b5aa-fd7b196305c0",
   "metadata": {},
   "outputs": [],
   "source": []
  },
  {
   "cell_type": "code",
   "execution_count": null,
   "id": "05c49143-6d1e-4cc6-bbc3-933661e2ebbb",
   "metadata": {},
   "outputs": [],
   "source": []
  },
  {
   "cell_type": "code",
   "execution_count": null,
   "id": "47ef5032-90bc-4cf0-a8a9-ebeacfd3424b",
   "metadata": {},
   "outputs": [],
   "source": []
  },
  {
   "cell_type": "code",
   "execution_count": null,
   "id": "f2f38b6e-9cd3-4d86-a7fd-2dc40a0c9f89",
   "metadata": {},
   "outputs": [],
   "source": []
  },
  {
   "cell_type": "code",
   "execution_count": null,
   "id": "42f124fa-d7b1-423c-8940-5d2110c3ec7f",
   "metadata": {},
   "outputs": [],
   "source": []
  }
 ],
 "metadata": {
  "kernelspec": {
   "display_name": "Python 3 (ipykernel)",
   "language": "python",
   "name": "python3"
  },
  "language_info": {
   "codemirror_mode": {
    "name": "ipython",
    "version": 3
   },
   "file_extension": ".py",
   "mimetype": "text/x-python",
   "name": "python",
   "nbconvert_exporter": "python",
   "pygments_lexer": "ipython3",
   "version": "3.13.5"
  }
 },
 "nbformat": 4,
 "nbformat_minor": 5
}
