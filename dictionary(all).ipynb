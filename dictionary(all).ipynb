{
 "cells": [
  {
   "cell_type": "markdown",
   "id": "3cf99f2a-ac58-477d-97e8-938437665185",
   "metadata": {},
   "source": [
    "# Dict"
   ]
  },
  {
   "cell_type": "code",
   "execution_count": null,
   "id": "e17d8f1c-36c8-41b3-b4ec-7943d2f823ae",
   "metadata": {},
   "outputs": [],
   "source": [
    "dict1={\"key\":value1,\"key2\":value2}"
   ]
  },
  {
   "cell_type": "code",
   "execution_count": 2,
   "id": "0721b8f7-d2ce-4786-9b80-32ed556ba4f9",
   "metadata": {},
   "outputs": [
    {
     "data": {
      "text/plain": [
       "{'name': 'ashu', 'age': 27, 'socre': 74, 100: 200}"
      ]
     },
     "execution_count": 2,
     "metadata": {},
     "output_type": "execute_result"
    }
   ],
   "source": [
    "d1={\"name\":\"ashu\",\"age\":27,\"socre\":74,100:200}\n",
    "d1"
   ]
  },
  {
   "cell_type": "code",
   "execution_count": 3,
   "id": "f3616b1e-5abf-4669-8d53-93b21689e496",
   "metadata": {},
   "outputs": [
    {
     "ename": "SyntaxError",
     "evalue": "':' expected after dictionary key (246531524.py, line 1)",
     "output_type": "error",
     "traceback": [
      "\u001b[1;36m  Cell \u001b[1;32mIn[3], line 1\u001b[1;36m\u001b[0m\n\u001b[1;33m    d1={\"name\":\"ashu\",\"age\":27,\"socre\":74,100:200,[10,20]}\u001b[0m\n\u001b[1;37m                                                        ^\u001b[0m\n\u001b[1;31mSyntaxError\u001b[0m\u001b[1;31m:\u001b[0m ':' expected after dictionary key\n"
     ]
    }
   ],
   "source": [
    "d1={\"name\":\"ashu\",\"age\":27,\"socre\":74,100:200,[10,20]}   #list is mutabe we cannot add\n",
    "d1"
   ]
  },
  {
   "cell_type": "code",
   "execution_count": null,
   "id": "3e080d1f-f9c4-40fc-b272-08a7d7bd08e9",
   "metadata": {},
   "outputs": [],
   "source": [
    "d1={\"name\":\"ashu\",\"age\":27,\"socre\":74,100:200,\"marks\":[10,20]}   #list we add as a key\n",
    "d1"
   ]
  },
  {
   "cell_type": "code",
   "execution_count": null,
   "id": "176150a1-137f-4d8d-b95b-e817555d16fe",
   "metadata": {},
   "outputs": [],
   "source": [
    "d1={\"name\":\"ashu\",\"age\":27,\"socre\":74,100:200,\"marks\":[10,20]}   \n",
    "d1"
   ]
  },
  {
   "cell_type": "code",
   "execution_count": 11,
   "id": "9d04f340-999f-473c-9f08-5cd894ea4210",
   "metadata": {},
   "outputs": [
    {
     "data": {
      "text/plain": [
       "{'name': 'ashu',\n",
       " 'age': 27,\n",
       " 'socre': 74,\n",
       " 100: 200,\n",
       " 'marks': [10, 20],\n",
       " '{10,20}': [10]}"
      ]
     },
     "execution_count": 11,
     "metadata": {},
     "output_type": "execute_result"
    }
   ],
   "source": [
    "d1={\"name\":\"ashu\",\"age\":27,\"socre\":74,100:200,\"marks\":[10,20],\"{10,20}\":[10]}   we can not put key name as a muatble datatype\n",
    "d1"
   ]
  },
  {
   "cell_type": "code",
   "execution_count": null,
   "id": "6df45e90-95ab-4bec-a6aa-60ce8e4e4e7b",
   "metadata": {},
   "outputs": [],
   "source": [
    "#how to key value pair aceess"
   ]
  },
  {
   "cell_type": "code",
   "execution_count": 8,
   "id": "9a902be4-23b7-474a-b20b-79b3eacd356d",
   "metadata": {},
   "outputs": [
    {
     "name": "stdout",
     "output_type": "stream",
     "text": [
      "name\n",
      "age\n",
      "socre\n",
      "100\n"
     ]
    }
   ],
   "source": [
    "for i in d1:\n",
    "    print(i)"
   ]
  },
  {
   "cell_type": "code",
   "execution_count": 10,
   "id": "3c28e44f-ec14-4680-abcd-fd80991f720a",
   "metadata": {},
   "outputs": [
    {
     "data": {
      "text/plain": [
       "27"
      ]
     },
     "execution_count": 10,
     "metadata": {},
     "output_type": "execute_result"
    }
   ],
   "source": [
    "d1={\"name\":\"ashu\",\"age\":27,\"socre\":74,\"company\":\"tcs\"}\n",
    "d1[\"age\"]"
   ]
  },
  {
   "cell_type": "code",
   "execution_count": 12,
   "id": "d092bd45-0c6e-435a-a7be-fc5a243b94ea",
   "metadata": {},
   "outputs": [
    {
     "ename": "KeyError",
     "evalue": "'salary'",
     "output_type": "error",
     "traceback": [
      "\u001b[1;31m---------------------------------------------------------------------------\u001b[0m",
      "\u001b[1;31mKeyError\u001b[0m                                  Traceback (most recent call last)",
      "Cell \u001b[1;32mIn[12], line 2\u001b[0m\n\u001b[0;32m      1\u001b[0m d1\u001b[38;5;241m=\u001b[39m{\u001b[38;5;124m\"\u001b[39m\u001b[38;5;124mname\u001b[39m\u001b[38;5;124m\"\u001b[39m:\u001b[38;5;124m\"\u001b[39m\u001b[38;5;124mashu\u001b[39m\u001b[38;5;124m\"\u001b[39m,\u001b[38;5;124m\"\u001b[39m\u001b[38;5;124mage\u001b[39m\u001b[38;5;124m\"\u001b[39m:\u001b[38;5;241m27\u001b[39m,\u001b[38;5;124m\"\u001b[39m\u001b[38;5;124msocre\u001b[39m\u001b[38;5;124m\"\u001b[39m:\u001b[38;5;241m74\u001b[39m,\u001b[38;5;124m\"\u001b[39m\u001b[38;5;124mcompany\u001b[39m\u001b[38;5;124m\"\u001b[39m:\u001b[38;5;124m\"\u001b[39m\u001b[38;5;124mtcs\u001b[39m\u001b[38;5;124m\"\u001b[39m}\n\u001b[1;32m----> 2\u001b[0m d1[\u001b[38;5;124m\"\u001b[39m\u001b[38;5;124msalary\u001b[39m\u001b[38;5;124m\"\u001b[39m]\n",
      "\u001b[1;31mKeyError\u001b[0m: 'salary'"
     ]
    }
   ],
   "source": [
    "d1={\"name\":\"ashu\",\"age\":27,\"socre\":74,\"company\":\"tcs\"}\n",
    "d1[\"salary\"]   #presnet no\n",
    "d1"
   ]
  },
  {
   "cell_type": "code",
   "execution_count": 13,
   "id": "abb64cbb-63f9-41d5-b553-b4e88657b98d",
   "metadata": {},
   "outputs": [
    {
     "data": {
      "text/plain": [
       "'ashu'"
      ]
     },
     "execution_count": 13,
     "metadata": {},
     "output_type": "execute_result"
    }
   ],
   "source": [
    "#get\n",
    "d1={\"name\":\"ashu\",\"age\":27,\"socre\":74,\"company\":\"tcs\"}\n",
    "d1.get(\"name\")"
   ]
  },
  {
   "cell_type": "code",
   "execution_count": 15,
   "id": "a30c041b-4063-495f-a293-2b6f8484e6e5",
   "metadata": {},
   "outputs": [
    {
     "data": {
      "text/plain": [
       "{'name': 'ashu', 'age': 27, 'socre': 74, 'company': 'tcs'}"
      ]
     },
     "execution_count": 15,
     "metadata": {},
     "output_type": "execute_result"
    }
   ],
   "source": [
    "d1={\"name\":\"ashu\",\"age\":27,\"socre\":74,\"company\":\"tcs\"}\n",
    "d1.get(\"kpl\")    #not erroe when presnet\n",
    "d1"
   ]
  },
  {
   "cell_type": "code",
   "execution_count": 16,
   "id": "023902ab-75fc-4fd2-956c-4a0d2e5601dd",
   "metadata": {},
   "outputs": [
    {
     "data": {
      "text/plain": [
       "{'name': 'ashu', 'age': 27, 'socre': 74, 'company': 'tcs'}"
      ]
     },
     "execution_count": 16,
     "metadata": {},
     "output_type": "execute_result"
    }
   ],
   "source": [
    "d1={\"name\":\"ashu\",\"age\":27,\"socre\":74,\"company\":\"tcs\"}\n",
    "d1.values()\n",
    "d1"
   ]
  },
  {
   "cell_type": "code",
   "execution_count": 17,
   "id": "0f96222a-5032-427f-a13e-9d5d7efe9add",
   "metadata": {},
   "outputs": [
    {
     "data": {
      "text/plain": [
       "{'name': 'ashu', 'age': 27, 'socre': 74, 'company': 'tcs'}"
      ]
     },
     "execution_count": 17,
     "metadata": {},
     "output_type": "execute_result"
    }
   ],
   "source": [
    "d1={\"name\":\"ashu\",\"age\":27,\"socre\":74,\"company\":\"tcs\"}\n",
    "d1.keys()\n",
    "d1"
   ]
  },
  {
   "cell_type": "code",
   "execution_count": 18,
   "id": "c9b7dab6-a5fd-4777-a796-682197a2c20c",
   "metadata": {},
   "outputs": [
    {
     "data": {
      "text/plain": [
       "{'name': 'ashu', 'age': 27, 'socre': 74, 'company': 'tcs'}"
      ]
     },
     "execution_count": 18,
     "metadata": {},
     "output_type": "execute_result"
    }
   ],
   "source": [
    "d1={\"name\":\"ashu\",\"age\":27,\"socre\":74,\"company\":\"tcs\"}\n",
    "d1.items()\n",
    "d1"
   ]
  },
  {
   "cell_type": "code",
   "execution_count": 21,
   "id": "f1a0a0fd-eb58-4d00-b624-8c111d59f086",
   "metadata": {},
   "outputs": [
    {
     "name": "stdout",
     "output_type": "stream",
     "text": [
      "name\n",
      "age\n",
      "socre\n",
      "company\n"
     ]
    }
   ],
   "source": [
    "d1={\"name\":\"ashu\",\"age\":27,\"socre\":74,\"company\":\"tcs\"}\n",
    "for key in d1.keys():\n",
    "    print(key)"
   ]
  },
  {
   "cell_type": "code",
   "execution_count": 8,
   "id": "7b5613a0-2f37-4a0b-b9dd-f29d02f896c3",
   "metadata": {},
   "outputs": [
    {
     "name": "stdout",
     "output_type": "stream",
     "text": [
      "ashu\n",
      "27\n",
      "74\n",
      "tcs\n"
     ]
    }
   ],
   "source": [
    "d1={\"name\":\"ashu\",\"age\":27,\"socre\":74,\"company\":\"tcs\"}\n",
    "for key in d1.values():\n",
    "    print(key)"
   ]
  },
  {
   "cell_type": "code",
   "execution_count": 23,
   "id": "4cfd5b02-105f-467f-ba54-cd35cf61999e",
   "metadata": {},
   "outputs": [
    {
     "name": "stdout",
     "output_type": "stream",
     "text": [
      "('name', 'ashu')\n",
      "('age', 27)\n",
      "('socre', 74)\n",
      "('company', 'tcs')\n"
     ]
    }
   ],
   "source": [
    "d1={\"name\":\"ashu\",\"age\":27,\"socre\":74,\"company\":\"tcs\"}\n",
    "for key in d1.items():\n",
    "    print(key)"
   ]
  },
  {
   "cell_type": "code",
   "execution_count": 24,
   "id": "e237fc8a-83fd-4549-b6d8-6b58fcb447b9",
   "metadata": {},
   "outputs": [
    {
     "name": "stdout",
     "output_type": "stream",
     "text": [
      "name\n",
      "age\n",
      "socre\n",
      "company\n"
     ]
    }
   ],
   "source": [
    "#enumrate\n",
    "d1={\"name\":\"ashu\",\"age\":27,\"socre\":74,\"company\":\"tcs\"}\n",
    "for key,value in d1.items():\n",
    "    print(key)"
   ]
  },
  {
   "cell_type": "code",
   "execution_count": 25,
   "id": "88c304ed-9106-4c0b-832e-93a1f0d21975",
   "metadata": {},
   "outputs": [
    {
     "name": "stdout",
     "output_type": "stream",
     "text": [
      "ashu\n",
      "27\n",
      "74\n",
      "tcs\n"
     ]
    }
   ],
   "source": [
    "#enumrate\n",
    "d1={\"name\":\"ashu\",\"age\":27,\"socre\":74,\"company\":\"tcs\"}\n",
    "for key,value in d1.items():\n",
    "    print(value)"
   ]
  },
  {
   "cell_type": "code",
   "execution_count": 26,
   "id": "6acb7257-302e-48fc-94c6-df0cb5cb5dc4",
   "metadata": {},
   "outputs": [
    {
     "data": {
      "text/plain": [
       "{'name': 'ashu', 'age': 27, 'socre': 74, 'company': 'wipro'}"
      ]
     },
     "execution_count": 26,
     "metadata": {},
     "output_type": "execute_result"
    }
   ],
   "source": [
    "#update\n",
    "d1={\"name\":\"ashu\",\"age\":27,\"socre\":74,\"company\":\"tcs\"}\n",
    "d1[\"company\"]=\"wipro\"     #beacuse of muatble\n",
    "d1"
   ]
  },
  {
   "cell_type": "code",
   "execution_count": 27,
   "id": "c29a2d6b-e4cb-497c-9001-6251c8a083fd",
   "metadata": {},
   "outputs": [
    {
     "data": {
      "text/plain": [
       "{'name': 'ashu', 'age': 27, 'socre': 74, 'company': 'tcs', 'salary': 300000}"
      ]
     },
     "execution_count": 27,
     "metadata": {},
     "output_type": "execute_result"
    }
   ],
   "source": [
    "# add\n",
    "d1={\"name\":\"ashu\",\"age\":27,\"socre\":74,\"company\":\"tcs\"}\n",
    "d1[\"salary\"]=300000\n",
    "d1"
   ]
  },
  {
   "cell_type": "code",
   "execution_count": null,
   "id": "314a85c0-c1f4-4579-8373-c1ddc986d2fa",
   "metadata": {},
   "outputs": [],
   "source": []
  },
  {
   "cell_type": "code",
   "execution_count": 20,
   "id": "b6be9d32-5de9-4794-a065-908e3e7ff535",
   "metadata": {},
   "outputs": [
    {
     "name": "stdout",
     "output_type": "stream",
     "text": [
      "{'name': 'ashu', 'age': 30, 'socre': 74, 'company': 'wipro', 'salary': 40000}\n"
     ]
    }
   ],
   "source": [
    "#upadte function\n",
    "d1={\"name\":\"ashu\",\"age\":27,\"socre\":74,\"company\":\"tcs\"}\n",
    "newdict={\"salary\":40000,\"age\":30,\"company\":\"wipro\"}\n",
    "d1.update(newdict)\n",
    "print(d1)"
   ]
  },
  {
   "cell_type": "code",
   "execution_count": 30,
   "id": "b6414078-4290-4c20-9924-99a4eae6ab98",
   "metadata": {},
   "outputs": [
    {
     "data": {
      "text/plain": [
       "{'name': 'ashu', 'socre': 74, 'company': 'tcs', 'salary': 1000}"
      ]
     },
     "execution_count": 30,
     "metadata": {},
     "output_type": "execute_result"
    }
   ],
   "source": [
    "#remove\n",
    "d1={\"name\":\"ashu\",\"age\":27,\"socre\":74,\"company\":\"tcs\",\"salary\":1000}\n",
    "d1.pop(\"age\")   #age delete\n",
    "d1"
   ]
  },
  {
   "cell_type": "code",
   "execution_count": 32,
   "id": "ece9d9ea-4c40-46c1-97d5-5cbd09561058",
   "metadata": {},
   "outputs": [
    {
     "data": {
      "text/plain": [
       "{'name': 'ashu', 'age': 27, 'socre': 74, 'company': 'tcs'}"
      ]
     },
     "execution_count": 32,
     "metadata": {},
     "output_type": "execute_result"
    }
   ],
   "source": [
    "d1={\"name\":\"ashu\",\"age\":27,\"socre\":74,\"company\":\"tcs\",\"salary\":1000}\n",
    "d1.popitem()\n",
    "d1"
   ]
  },
  {
   "cell_type": "code",
   "execution_count": 33,
   "id": "c46f2457-749d-4889-899d-3cfeb56abb65",
   "metadata": {},
   "outputs": [
    {
     "data": {
      "text/plain": [
       "{}"
      ]
     },
     "execution_count": 33,
     "metadata": {},
     "output_type": "execute_result"
    }
   ],
   "source": [
    "d1={\"name\":\"ashu\",\"age\":27,\"socre\":74,\"company\":\"tcs\",\"salary\":1000}\n",
    "d1.clear()\n",
    "d1"
   ]
  },
  {
   "cell_type": "code",
   "execution_count": 21,
   "id": "004fb1e6-6f2f-4e9f-8c0f-d83a91b0d289",
   "metadata": {},
   "outputs": [
    {
     "ename": "AttributeError",
     "evalue": "'dict' object has no attribute 'de1'",
     "output_type": "error",
     "traceback": [
      "\u001b[1;31m---------------------------------------------------------------------------\u001b[0m",
      "\u001b[1;31mAttributeError\u001b[0m                            Traceback (most recent call last)",
      "Cell \u001b[1;32mIn[21], line 2\u001b[0m\n\u001b[0;32m      1\u001b[0m d1\u001b[38;5;241m=\u001b[39m{\u001b[38;5;124m\"\u001b[39m\u001b[38;5;124mname\u001b[39m\u001b[38;5;124m\"\u001b[39m:\u001b[38;5;124m\"\u001b[39m\u001b[38;5;124mashu\u001b[39m\u001b[38;5;124m\"\u001b[39m,\u001b[38;5;124m\"\u001b[39m\u001b[38;5;124mage\u001b[39m\u001b[38;5;124m\"\u001b[39m:\u001b[38;5;241m27\u001b[39m,\u001b[38;5;124m\"\u001b[39m\u001b[38;5;124msocre\u001b[39m\u001b[38;5;124m\"\u001b[39m:\u001b[38;5;241m74\u001b[39m,\u001b[38;5;124m\"\u001b[39m\u001b[38;5;124mcompany\u001b[39m\u001b[38;5;124m\"\u001b[39m:\u001b[38;5;124m\"\u001b[39m\u001b[38;5;124mtcs\u001b[39m\u001b[38;5;124m\"\u001b[39m,\u001b[38;5;124m\"\u001b[39m\u001b[38;5;124msalary\u001b[39m\u001b[38;5;124m\"\u001b[39m:\u001b[38;5;241m1000\u001b[39m}\n\u001b[1;32m----> 2\u001b[0m d1\u001b[38;5;241m.\u001b[39mde1()\n\u001b[0;32m      3\u001b[0m d1\n",
      "\u001b[1;31mAttributeError\u001b[0m: 'dict' object has no attribute 'de1'"
     ]
    }
   ],
   "source": [
    "d1={\"name\":\"ashu\",\"age\":27,\"socre\":74,\"company\":\"tcs\",\"salary\":1000}\n",
    "d1.de1()\n",
    "d1"
   ]
  },
  {
   "cell_type": "code",
   "execution_count": 36,
   "id": "0661bd81-bbba-41d1-80c9-c3b85569a606",
   "metadata": {},
   "outputs": [
    {
     "data": {
      "text/plain": [
       "{'CG001': {'name': 'ashu',\n",
       "  'age': 27,\n",
       "  'socre': 74,\n",
       "  'company': 'tcs',\n",
       "  'salary': 10000},\n",
       " 'CG002': {'name': 'paras',\n",
       "  'age': 20,\n",
       "  'socre': 86,\n",
       "  'company': 'wipro',\n",
       "  'salary': 2000}}"
      ]
     },
     "execution_count": 36,
     "metadata": {},
     "output_type": "execute_result"
    }
   ],
   "source": [
    "#nested dict\n",
    "emp_deatlis={\"CG001\":{\"name\":\"ashu\",\"age\":27,\"socre\":74,\"company\":\"tcs\",\"salary\":10000,},\n",
    "             \"CG002\":{\"name\":\"paras\",\"age\":20,\"socre\":86,\"company\":\"wipro\",\"salary\":2000,}}\n",
    "emp_deatlis"
   ]
  },
  {
   "cell_type": "code",
   "execution_count": 37,
   "id": "2685f8ed-4107-451d-bec8-f5dd261262b5",
   "metadata": {},
   "outputs": [
    {
     "data": {
      "text/plain": [
       "{'name': 'ashu', 'age': 27, 'socre': 74, 'company': 'tcs', 'salary': 10000}"
      ]
     },
     "execution_count": 37,
     "metadata": {},
     "output_type": "execute_result"
    }
   ],
   "source": [
    "emp_deatlis={\"CG001\":{\"name\":\"ashu\",\"age\":27,\"socre\":74,\"company\":\"tcs\",\"salary\":10000,},\n",
    "             \"CG002\":{\"name\":\"paras\",\"age\":20,\"socre\":86,\"company\":\"wipro\",\"salary\":2000,}}\n",
    "emp_deatlis[\"CG001\"]"
   ]
  },
  {
   "cell_type": "code",
   "execution_count": 38,
   "id": "71f7f1a9-7de2-48bb-9129-c4c823973d90",
   "metadata": {},
   "outputs": [
    {
     "data": {
      "text/plain": [
       "27"
      ]
     },
     "execution_count": 38,
     "metadata": {},
     "output_type": "execute_result"
    }
   ],
   "source": [
    "emp_deatlis={\"CG001\":{\"name\":\"ashu\",\"age\":27,\"socre\":74,\"company\":\"tcs\",\"salary\":10000,},\n",
    "             \"CG002\":{\"name\":\"paras\",\"age\":20,\"socre\":86,\"company\":\"wipro\",\"salary\":2000,}}\n",
    "emp_deatlis[\"CG001\"][\"age\"]"
   ]
  },
  {
   "cell_type": "code",
   "execution_count": 39,
   "id": "b77677d8-4d4f-4af1-9f6c-fd40117ee1d5",
   "metadata": {},
   "outputs": [
    {
     "ename": "TypeError",
     "evalue": "unhashable type: 'list'",
     "output_type": "error",
     "traceback": [
      "\u001b[1;31m---------------------------------------------------------------------------\u001b[0m",
      "\u001b[1;31mTypeError\u001b[0m                                 Traceback (most recent call last)",
      "Cell \u001b[1;32mIn[39], line 3\u001b[0m\n\u001b[0;32m      1\u001b[0m sub_name\u001b[38;5;241m=\u001b[39m[\u001b[38;5;124m\"\u001b[39m\u001b[38;5;124mphy\u001b[39m\u001b[38;5;124m\"\u001b[39m,\u001b[38;5;124m\"\u001b[39m\u001b[38;5;124mchem\u001b[39m\u001b[38;5;124m\"\u001b[39m,\u001b[38;5;124m\"\u001b[39m\u001b[38;5;124mbio\u001b[39m\u001b[38;5;124m\"\u001b[39m,\u001b[38;5;124m\"\u001b[39m\u001b[38;5;124meng\u001b[39m\u001b[38;5;124m\"\u001b[39m,\u001b[38;5;124m\"\u001b[39m\u001b[38;5;124mmaths\u001b[39m\u001b[38;5;124m\"\u001b[39m]\n\u001b[0;32m      2\u001b[0m sub_marks\u001b[38;5;241m=\u001b[39m[\u001b[38;5;241m90\u001b[39m,\u001b[38;5;241m67\u001b[39m,\u001b[38;5;241m88\u001b[39m,\u001b[38;5;241m56\u001b[39m,\u001b[38;5;241m80\u001b[39m]\n\u001b[1;32m----> 3\u001b[0m final\u001b[38;5;241m=\u001b[39m{sub_name\u001b[38;5;241m+\u001b[39msub_marks}\n\u001b[0;32m      4\u001b[0m final\n",
      "\u001b[1;31mTypeError\u001b[0m: unhashable type: 'list'"
     ]
    }
   ],
   "source": [
    "sub_name=[\"phy\",\"chem\",\"bio\",\"eng\",\"maths\"]\n",
    "sub_marks=[90,67,88,56,80]\n"
   ]
  },
  {
   "cell_type": "code",
   "execution_count": 42,
   "id": "1c0c4926-8f80-4bd6-bd6d-b26b6ba9335e",
   "metadata": {},
   "outputs": [
    {
     "data": {
      "text/plain": [
       "{'phy': 90, 'chem': 67, 'bio': 88, 'eng': 56, 'maths': 80}"
      ]
     },
     "execution_count": 42,
     "metadata": {},
     "output_type": "execute_result"
    }
   ],
   "source": [
    "sub_name=[\"phy\",\"chem\",\"bio\",\"eng\",\"maths\"]\n",
    "sub_marks=[90,67,88,56,80]\n",
    "dict1={}\n",
    "for i in range(len(sub_marks)):\n",
    "    #print(sub_name[i])\n",
    "    #print(sub_marks[i])\n",
    "    dict1[sub_name[i]]=sub_marks[i]\n",
    "dict1"
   ]
  },
  {
   "cell_type": "code",
   "execution_count": 43,
   "id": "7729f0d3-8597-48ab-9973-2963fc482f31",
   "metadata": {},
   "outputs": [
    {
     "data": {
      "text/plain": [
       "{'phy': 90, 'chem': 67, 'bio': 88, 'eng': 56, 'maths': 80}"
      ]
     },
     "execution_count": 43,
     "metadata": {},
     "output_type": "execute_result"
    }
   ],
   "source": [
    "sub_name=[\"phy\",\"chem\",\"bio\",\"eng\",\"maths\"]\n",
    "sub_marks=[90,67,88,56,80]\n",
    "dict1={}\n",
    "for i,v in enumerate(sub_name):\n",
    "    dict1[v]=sub_marks[i]\n",
    "dict1"
   ]
  },
  {
   "cell_type": "code",
   "execution_count": null,
   "id": "52bded46-ff39-41a9-8cc4-f1d247800678",
   "metadata": {},
   "outputs": [],
   "source": [
    "#update function try.."
   ]
  },
  {
   "cell_type": "code",
   "execution_count": 46,
   "id": "ad2cfa40-ad78-447b-b079-c5ae5ea0edb8",
   "metadata": {},
   "outputs": [
    {
     "name": "stdout",
     "output_type": "stream",
     "text": [
      "{11: 121, 12: 144, 13: 169, 14: 196, 15: 225, 16: 256, 17: 289, 18: 324, 19: 361, 20: 400, 21: 441, 22: 484, 23: 529, 24: 576, 25: 625, 26: 676, 27: 729, 28: 784, 29: 841, 30: 900}\n"
     ]
    }
   ],
   "source": [
    "\n",
    "square={}\n",
    "for i in range(11,31):\n",
    "    square[i]=i**2\n",
    "print(square)\n",
    "    \n",
    " \n",
    "    "
   ]
  },
  {
   "cell_type": "code",
   "execution_count": 49,
   "id": "af780a90-2a21-4725-9bb7-ce9840407313",
   "metadata": {},
   "outputs": [
    {
     "data": {
      "text/plain": [
       "{'bio': 88, 'chem': 67, 'eng': 56, 'maths': 80, 'phy': 90}"
      ]
     },
     "execution_count": 49,
     "metadata": {},
     "output_type": "execute_result"
    }
   ],
   "source": [
    "#sort the dict using key\n",
    "d1={'phy': 90, 'chem': 67, 'bio': 88, 'eng': 56, 'maths': 80}\n",
    "new_dict={}\n",
    "sorted_key=sorted(d1.keys())\n",
    "sorted_key\n",
    "for i in sorted_key:\n",
    "    new_dict[i]=d1[i]\n",
    "new_dict"
   ]
  },
  {
   "cell_type": "code",
   "execution_count": 22,
   "id": "e2db7c9a-f77a-4d88-b44f-a5200b083191",
   "metadata": {},
   "outputs": [
    {
     "data": {
      "text/plain": [
       "{'phy': 90, 'chem': 67, 'bio': 88, 'eng': 56, 'maths': 80}"
      ]
     },
     "execution_count": 22,
     "metadata": {},
     "output_type": "execute_result"
    }
   ],
   "source": [
    "d1={'phy': 90, 'chem': 67, 'bio': 88, 'eng': 56, 'maths': 80}\n",
    "d1.setdefault(\"phy\",99)   #already ah tymel ky change nhi\n",
    "d1"
   ]
  },
  {
   "cell_type": "code",
   "execution_count": 51,
   "id": "77a30b13-a46e-4dad-a57f-e6b415a9b131",
   "metadata": {},
   "outputs": [
    {
     "data": {
      "text/plain": [
       "{'phy': 90, 'chem': 67, 'bio': 88, 'eng': 56, 'maths': 80, 'geo': 99}"
      ]
     },
     "execution_count": 51,
     "metadata": {},
     "output_type": "execute_result"
    }
   ],
   "source": [
    "d1={'phy': 90, 'chem': 67, 'bio': 88, 'eng': 56, 'maths': 80}\n",
    "d1.setdefault(\"geo\",99) # nhi tymul add\n",
    "d1"
   ]
  },
  {
   "cell_type": "code",
   "execution_count": 53,
   "id": "e34fca2b-0cdd-4c74-87f0-aac3727991f3",
   "metadata": {},
   "outputs": [
    {
     "data": {
      "text/plain": [
       "{'a': 'vowels', 'e': 'vowels', 'i': 'vowels', 'o': 'vowels', 'u': 'vowels'}"
      ]
     },
     "execution_count": 53,
     "metadata": {},
     "output_type": "execute_result"
    }
   ],
   "source": [
    "dict.fromkeys([\"a\",\"e\",\"i\",\"o\",\"u\"],\"vowels\")"
   ]
  },
  {
   "cell_type": "code",
   "execution_count": 54,
   "id": "8b7b9af9-d6d8-4848-acd1-e8c2456c795b",
   "metadata": {},
   "outputs": [
    {
     "data": {
      "text/plain": [
       "{'a': None, 'e': None, 'i': None, 'o': None, 'u': None}"
      ]
     },
     "execution_count": 54,
     "metadata": {},
     "output_type": "execute_result"
    }
   ],
   "source": [
    "dict.fromkeys([\"a\",\"e\",\"i\",\"o\",\"u\"])"
   ]
  },
  {
   "cell_type": "code",
   "execution_count": 55,
   "id": "d6033a34-bb82-4c70-9abb-af6d2c1620a7",
   "metadata": {},
   "outputs": [
    {
     "name": "stdout",
     "output_type": "stream",
     "text": [
      "{'A': 65, 'B': 66, 'C': 67, 'D': 68, 'E': 69, 'F': 70, 'G': 71, 'H': 72, 'I': 73, 'J': 74, 'K': 75, 'L': 76, 'M': 77, 'N': 78, 'O': 79, 'P': 80, 'Q': 81, 'R': 82, 'S': 83, 'T': 84, 'U': 85, 'V': 86, 'W': 87, 'X': 88, 'Y': 89, 'Z': 90}\n"
     ]
    }
   ],
   "source": [
    "\n",
    "# print Ascii number in dict\n",
    "d1={}\n",
    "for i in range(65,91):\n",
    "    d1[chr(i)]=i\n",
    "print(d1)"
   ]
  },
  {
   "cell_type": "code",
   "execution_count": 60,
   "id": "3dd30b60-d93b-4788-80fb-60d348fe75aa",
   "metadata": {},
   "outputs": [
    {
     "name": "stdout",
     "output_type": "stream",
     "text": [
      "{'machine': 2, 'learning': 3, '(ml)': 1, 'is': 2, 'a': 45, 'subfield': 1, 'of': 5, 'artificial': 1, 'intelligence': 1, 'within': 1, 'computer': 2, 'science': 1, 'that': 3, 'evolved': 1, 'from': 3, 'the': 6, 'study': 3, 'pattern': 1, 'recognition': 1, 'and': 3, 'computational': 1, 'theory.[1]': 1, 'in': 16, '1959,': 1, 'arthur': 1, 'samuel': 1, 'defined': 1, 'as': 2, '\"field': 1, 'gives': 1, 'computers': 1, 'ability': 1, 'to': 2, 'learn': 5, 'without': 1, 'being': 1, 'explicitly': 1, 'programmed\".': 1, '[2]': 1, 'ml': 2, 'involves': 1, 'construction': 1, 'algorithms': 2, 'can': 1, 'make': 2, 'predictions': 2, 'on': 10, 'data.': 1, '[3]': 1, 'these': 1, 'operate': 1, 'by': 1, 'building': 1, 'model': 1, 'training': 1, 'set': 1, 'example': 1, 'observations': 1, 'data-driven': 1, 'or': 4, 'decisions': 1, 'expressed': 1, 'outputs,': 1, 'rather': 1, 'than': 1, 'following': 1, 'strictly': 1, 'static': 1, 'program': 2, 'instructions.': 1}\n"
     ]
    }
   ],
   "source": [
    "a=\"\"\"Machine learning (ML) is a subfield of artificial intelligence within computer science that evolved from the study of pattern recognition\n",
    "and computational learning theory.[1] In 1959, Arthur Samuel defined machine learning as a \n",
    "\"field of study that gives computers the ability to learn without being explicitly programmed\".\n",
    "[2] ML involves the study and construction of algorithms that can learn from and make predictions on data.\n",
    "[3] These algorithms operate by building a model from a training set of example observations to make data-driven predictions or decisions \n",
    "expressed as outputs, \n",
    "rather than following strictly static program instructions.\"\"\"\n",
    "\n",
    "string=a.lower()\n",
    "lst=string.split()\n",
    "result={}\n",
    "#print(lst)\n",
    "for i in lst:\n",
    "    cnt=string.count(i)\n",
    "#print(cnt)\n",
    "    result[i]=cnt\n",
    "print(result)"
   ]
  },
  {
   "cell_type": "code",
   "execution_count": 17,
   "id": "76e93bb5-0148-4f90-b346-f61d268773f6",
   "metadata": {},
   "outputs": [
    {
     "name": "stdout",
     "output_type": "stream",
     "text": [
      "{}\n",
      "{'naresh': 50, 'ramesh': 40}\n",
      "{'naresh': 20, 'ramesh': 40}\n"
     ]
    }
   ],
   "source": [
    "dict1={}\n",
    "print(dict1)\n",
    "dict1['naresh']=50\n",
    "dict1['ramesh']=40\n",
    "print(dict1)\n",
    "{'naresh': 50, 'ramesh': 40}\n",
    "dict1['naresh']=20\n",
    "print(dict1)\n"
   ]
  },
  {
   "cell_type": "code",
   "execution_count": null,
   "id": "4ff00289-2892-484b-bc15-97eb55c1bfd2",
   "metadata": {},
   "outputs": [],
   "source": [
    "#practice"
   ]
  },
  {
   "cell_type": "code",
   "execution_count": 3,
   "id": "ed132562-a441-4ec3-b883-df3aab73d6a3",
   "metadata": {},
   "outputs": [
    {
     "name": "stdout",
     "output_type": "stream",
     "text": [
      "frozenset() <class 'frozenset'>\n"
     ]
    }
   ],
   "source": [
    "A=frozenset()\n",
    "print(A,type(A))"
   ]
  },
  {
   "cell_type": "code",
   "execution_count": 4,
   "id": "1b1c9fe7-74d3-4752-ad94-17d601e28278",
   "metadata": {},
   "outputs": [
    {
     "ename": "AttributeError",
     "evalue": "'frozenset' object has no attribute 'add'",
     "output_type": "error",
     "traceback": [
      "\u001b[1;31m---------------------------------------------------------------------------\u001b[0m",
      "\u001b[1;31mAttributeError\u001b[0m                            Traceback (most recent call last)",
      "Cell \u001b[1;32mIn[4], line 1\u001b[0m\n\u001b[1;32m----> 1\u001b[0m A\u001b[38;5;241m.\u001b[39madd(\u001b[38;5;241m10\u001b[39m)\n",
      "\u001b[1;31mAttributeError\u001b[0m: 'frozenset' object has no attribute 'add'"
     ]
    }
   ],
   "source": [
    "A.add(10)"
   ]
  },
  {
   "cell_type": "code",
   "execution_count": 6,
   "id": "28685801-79cf-40f0-a219-d1dcee9313b6",
   "metadata": {},
   "outputs": [
    {
     "name": "stdout",
     "output_type": "stream",
     "text": [
      "frozenset({40, 10, 50, 20, 30})\n"
     ]
    }
   ],
   "source": [
    "B=frozenset(range(10,60,10))\n",
    "\n",
    "print(B)"
   ]
  },
  {
   "cell_type": "code",
   "execution_count": 7,
   "id": "94d6945a-7999-4ff4-ab23-1f726149b3a6",
   "metadata": {},
   "outputs": [
    {
     "name": "stdout",
     "output_type": "stream",
     "text": [
      "{frozenset({1, 2, 3, 4, 5}), frozenset({40, 10, 50, 20, 30})}\n",
      "frozenset({1, 2, 3, 4, 5})\n",
      "frozenset({40, 10, 50, 20, 30})\n",
      "40 10 50 20 30 \n"
     ]
    }
   ],
   "source": [
    "B={frozenset(range(1,6)),frozenset(range(10,60,10))}\n",
    "print(B)\n",
    "for x in B:\n",
    "    print(x)\n",
    "for y in x:\n",
    "    print(y,end=' ')\n",
    "print()"
   ]
  },
  {
   "cell_type": "code",
   "execution_count": null,
   "id": "7dcc59f6-04d7-45a6-b1e6-559c8041f099",
   "metadata": {},
   "outputs": [],
   "source": []
  },
  {
   "cell_type": "code",
   "execution_count": 13,
   "id": "47e3193c-d4f4-4350-bba1-7d9a85f39e4f",
   "metadata": {},
   "outputs": [
    {
     "name": "stdout",
     "output_type": "stream",
     "text": [
      "dict_keys(['naresh', 'suresh', 'ramesh', 'kishore'])\n",
      "naresh\n",
      "suresh\n",
      "ramesh\n",
      "kishore\n",
      "dict_values([998878899, 556676677, 556778975, 776566784])\n",
      "998878899\n",
      "556676677\n",
      "556778975\n",
      "776566784\n",
      "dict_items([('naresh', 998878899), ('suresh', 556676677), ('ramesh', 556778975), ('kishore', 776566784)])\n",
      "naresh 998878899\n",
      "suresh 556676677\n",
      "ramesh 556778975\n",
      "kishore 776566784\n"
     ]
    }
   ],
   "source": [
    "contacts={'naresh':998878899,\n",
    "'suresh':556676677,\n",
    "'ramesh':556778975,\n",
    "'kishore':776566784}\n",
    "\n",
    "names=contacts.keys()\n",
    "print(names)\n",
    "for name in names:\n",
    "    print(name)\n",
    "\n",
    "\n",
    "values=contacts.values()\n",
    "print(values)\n",
    "for value in values:\n",
    "    print(value)\n",
    "\n",
    "items=contacts.items()\n",
    "print(items)\n",
    "for i in items:\n",
    "    print(i[0],i[1])"
   ]
  },
  {
   "cell_type": "code",
   "execution_count": null,
   "id": "019c853a-02d8-434a-a566-85f5221595e6",
   "metadata": {},
   "outputs": [],
   "source": []
  },
  {
   "cell_type": "code",
   "execution_count": null,
   "id": "f44484c3-7dca-4e9d-a3f1-85fbac5b0daf",
   "metadata": {},
   "outputs": [],
   "source": []
  }
 ],
 "metadata": {
  "kernelspec": {
   "display_name": "Python 3 (ipykernel)",
   "language": "python",
   "name": "python3"
  },
  "language_info": {
   "codemirror_mode": {
    "name": "ipython",
    "version": 3
   },
   "file_extension": ".py",
   "mimetype": "text/x-python",
   "name": "python",
   "nbconvert_exporter": "python",
   "pygments_lexer": "ipython3",
   "version": "3.13.5"
  }
 },
 "nbformat": 4,
 "nbformat_minor": 5
}
