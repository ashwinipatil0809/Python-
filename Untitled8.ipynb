{
 "cells": [
  {
   "cell_type": "markdown",
   "id": "2fe2cc89-0df5-414a-8d92-4a64f020a23f",
   "metadata": {},
   "source": [
    "# Test"
   ]
  },
  {
   "cell_type": "code",
   "execution_count": null,
   "id": "d5be516b-837a-4eee-a1ca-8f9f9c5c5588",
   "metadata": {},
   "outputs": [],
   "source": [
    "2.Scenario: You are working as a data analyst in a customer service company. \n",
    "The company has a customer data list where each element is a tuple containing customer name and age.\n",
    "customer_data = [(\"John\", 25), (\"Alice\", 15), (\"Bob\", 65), (\"Mike\", 35), (\"Sara\", 9), (\"Tom\", 14)]\n",
    "Task: Classify customers into different age groups (children: 0-12, teenagers: 13-19, adults: 20-59, seniors: 60+). \n",
    "Implement this logic using loops and conditional statements"
   ]
  },
  {
   "cell_type": "code",
   "execution_count": 20,
   "id": "42b904b0-f9af-4a0a-92cb-e852184e2d3d",
   "metadata": {},
   "outputs": [
    {
     "name": "stdout",
     "output_type": "stream",
     "text": [
      "children name= ['Sara']\n",
      "teenagers name = ['Alice', 'Tom']\n",
      "adults name = ['John', 'Mike']\n",
      "seniors name = ['Bob']\n"
     ]
    }
   ],
   "source": [
    "customer_data = [(\"John\", 25), (\"Alice\", 15), (\"Bob\", 65), (\"Mike\", 35), (\"Sara\", 9), (\"Tom\", 14)]\n",
    "#custr=max(age for customer,age in customer_data)\n",
    "children=[]\n",
    "teenagers=[]\n",
    "adults=[]\n",
    "seniors=[]\n",
    "for name,age in customer_data:\n",
    "    if 0<= age <=12:\n",
    "        children.append(name)\n",
    "    elif 13<= age <=19:\n",
    "        teenagers.append(name)\n",
    "    elif 20<= age <=59:\n",
    "        adults.append(name)\n",
    "    else:\n",
    "        seniors.append(name)\n",
    "\n",
    "print(\"children name=\",children)\n",
    "print(\"teenagers name =\",teenagers)\n",
    "print(\"adults name =\",adults)\n",
    "print(\"seniors name =\",seniors)\n",
    "   \n",
    "        \n",
    "        "
   ]
  },
  {
   "cell_type": "code",
   "execution_count": null,
   "id": "063bc02b-de61-471b-a173-7477cf0499fd",
   "metadata": {},
   "outputs": [],
   "source": []
  },
  {
   "cell_type": "code",
   "execution_count": 35,
   "id": "5911dbce-4182-47d6-aed5-6af9dd4df680",
   "metadata": {},
   "outputs": [
    {
     "name": "stdout",
     "output_type": "stream",
     "text": [
      "shipped but not billed : [101, 105]\n",
      "billed but not shipped.: [104, 109]\n"
     ]
    }
   ],
   "source": [
    "#7.Scenario: Find orders that are shipped but not billed and billed but not shipped.\n",
    "shipped_orders = [101, 102, 103, 105, 108]\n",
    "billed_orders = [102, 103, 104, 108, 109]\n",
    "sbn=[]\n",
    "bsn=[]\n",
    "for order in shipped_orders:\n",
    "    if order not in billed_orders:\n",
    "        sbn.append(order)\n",
    "\n",
    "for order in billed_orders:\n",
    "    if order not in shipped_orders:\n",
    "        bsn.append(order)\n",
    "\n",
    "print(\"shipped but not billed :\",sbn)\n",
    "print(\"billed but not shipped.:\",bsn)\n",
    "    \n",
    "\n",
    "    \n",
    "    "
   ]
  },
  {
   "cell_type": "code",
   "execution_count": null,
   "id": "60e0be18-1b72-4e99-80ee-ac8cce28ec12",
   "metadata": {},
   "outputs": [],
   "source": [
    "4.Scenario:You are working in an order processing team. The shipping system and billing system each produce a list of order IDs.\n",
    "shipped_orders = [101, 102, 103, 105, 108]\n",
    "billed_orders = [102, 103, 104, 108, 109]\n",
    "Task:Your task is to find out which orders are mismatched:\n",
    "● Either shipped but not billed\n",
    "● Or billed but not shipped"
   ]
  },
  {
   "cell_type": "code",
   "execution_count": 122,
   "id": "e5d3e5b3-03f5-4c65-bc3e-7f24033882d8",
   "metadata": {},
   "outputs": [
    {
     "name": "stdout",
     "output_type": "stream",
     "text": [
      "shipped but not billed: [101, 105]\n",
      "billed but not shipped [104, 109]\n"
     ]
    }
   ],
   "source": [
    "shipped_orders = [101, 102, 103, 105, 108]\n",
    "billed_orders = [102, 103, 104, 108, 109]\n",
    "sbn=[]\n",
    "bns=[]\n",
    "for order in shipped_orders:\n",
    "    if order not in billed_orders:\n",
    "        sbn.append(order)\n",
    "\n",
    "for order in billed_orders:\n",
    "    if order not in shipped_orders:\n",
    "        bns.append(order)\n",
    "\n",
    "\n",
    "print(\"shipped but not billed:\",sbn)\n",
    "print(\"billed but not shipped\",bns)\n",
    "    "
   ]
  },
  {
   "cell_type": "code",
   "execution_count": null,
   "id": "6fb0736c-7ffc-4578-a680-f4eeaf21ec21",
   "metadata": {},
   "outputs": [],
   "source": [
    "3.Scenario:You are working for a logistics company. You're given inventory data from two warehouses. \n",
    "Each warehouse provides a list of tuples (product_name, quantity).\n",
    "warehouse1 = [(\"Pen\", 10), (\"Notebook\", 5), (\"Eraser\", -2)]\n",
    "warehouse2 = [(\"Pen\", -10), (\"Notebook\", 2), (\"Marker\", 4), (\"Eraser\", 1)]\n",
    "Task:Your task is to merge, sum up the quantities, and remove any product with total quantity 0.`"
   ]
  },
  {
   "cell_type": "code",
   "execution_count": 78,
   "id": "88cebecf-41dc-4eb3-9efa-87c0c6c9cf8a",
   "metadata": {},
   "outputs": [
    {
     "name": "stdout",
     "output_type": "stream",
     "text": [
      "10\n",
      "5\n",
      "-2\n",
      "-10\n",
      "2\n",
      "4\n",
      "1\n"
     ]
    }
   ],
   "source": [
    "warehouse1 = [(\"Pen\", 10), (\"Notebook\", 5), (\"Eraser\", -2)]\n",
    "warehouse2 = [(\"Pen\", -10), (\"Notebook\", 2), (\"Marker\", 4), (\"Eraser\", 1)]\n",
    "sum=[]\n",
    "for product_name, quantity1 in warehouse1:\n",
    "    print(quantity1)\n",
    "    \n",
    "for product_name, quantity2 in warehouse2:\n",
    "    print(quantity2)\n",
    "\n"
   ]
  },
  {
   "cell_type": "code",
   "execution_count": 79,
   "id": "b2120fa6-8ecb-4764-a9ca-a40c6c3518c4",
   "metadata": {},
   "outputs": [
    {
     "name": "stdout",
     "output_type": "stream",
     "text": [
      "Pen : 0\n",
      "Notebook : 7\n",
      "Eraser : -1\n",
      "Marker : 4\n"
     ]
    }
   ],
   "source": [
    "warehouse1 = [(\"Pen\", 10), (\"Notebook\", 5), (\"Eraser\", -2)]\n",
    "warehouse2 = [(\"Pen\", -10), (\"Notebook\", 2), (\"Marker\", 4), (\"Eraser\", 1)]\n",
    "total={}\n",
    "for product, qty in warehouse1 + warehouse2:   # join both lists\n",
    "    if product in total:\n",
    "        total[product] += qty\n",
    "    else:\n",
    "        total[product] = qty\n",
    "\n",
    "# Print result\n",
    "for product, qty in total.items():\n",
    "    print(product, \":\", qty)"
   ]
  },
  {
   "cell_type": "code",
   "execution_count": 128,
   "id": "af4ccc0f-deab-47a4-b723-19be1e579461",
   "metadata": {},
   "outputs": [
    {
     "name": "stdout",
     "output_type": "stream",
     "text": [
      "Notebook : 7\n",
      "Eraser : -1\n",
      "Marker : 4\n"
     ]
    }
   ],
   "source": [
    "warehouse1 = [(\"Pen\", 10), (\"Notebook\", 5), (\"Eraser\", -2)]\n",
    "warehouse2 = [(\"Pen\", -10), (\"Notebook\", 2), (\"Marker\", 4), (\"Eraser\", 1)]\n",
    "tot={}\n",
    "for products, quantity in warehouse1 + warehouse2:\n",
    "    if products in tot:\n",
    "        tot[products]+=quantity\n",
    "    else:\n",
    "        tot[products]=quantity\n",
    "        \n",
    "for products in list(tot.keys()):\n",
    "    if tot[products]==0:\n",
    "        del tot[products]\n",
    "\n",
    "for products, quantity in tot.items():    \n",
    "    print(products,\":\",quantity)\n",
    "\n"
   ]
  },
  {
   "cell_type": "code",
   "execution_count": null,
   "id": "9c8164c9-0b04-4390-a5be-1098c8f30c4f",
   "metadata": {},
   "outputs": [],
   "source": []
  },
  {
   "cell_type": "code",
   "execution_count": null,
   "id": "8d7a3999-200b-4ed3-b72b-3f83c7cc1341",
   "metadata": {},
   "outputs": [],
   "source": [
    "5.Scenario: Classify customers into children / teenagers / adults / seniors.\n",
    "customer_data = [(\"John\", 25), (\"Alice\", 15), (\"Bob\", 65), (\"Mike\", 35), (\"Sara\", 9), (\"Tom\", 14)]"
   ]
  },
  {
   "cell_type": "code",
   "execution_count": 123,
   "id": "7af4823b-937a-4ec6-9330-f41856e0d90a",
   "metadata": {},
   "outputs": [
    {
     "name": "stdout",
     "output_type": "stream",
     "text": [
      "children name= ['Sara']\n",
      "teenagers name = ['Alice', 'Tom']\n",
      "adults name = ['John', 'Mike']\n",
      "seniors name = ['Bob']\n"
     ]
    }
   ],
   "source": [
    "children=[]\n",
    "teenagers=[]\n",
    "adults=[]\n",
    "seniors=[]\n",
    "for name,age in customer_data:\n",
    "    if 0<= age <=12:\n",
    "        children.append(name)\n",
    "    elif 13<= age <=19:\n",
    "        teenagers.append(name)\n",
    "    elif 20<= age <=59:\n",
    "        adults.append(name)\n",
    "    else:\n",
    "        seniors.append(name)\n",
    "\n",
    "print(\"children name=\",children)\n",
    "print(\"teenagers name =\",teenagers)\n",
    "print(\"adults name =\",adults)\n",
    "print(\"seniors name =\",seniors)"
   ]
  },
  {
   "cell_type": "code",
   "execution_count": null,
   "id": "aa38244f-53c4-4753-a4f3-aecd0325472e",
   "metadata": {},
   "outputs": [],
   "source": [
    "1.Scenario: You're working in a warehouse automation system. You receive real-time stock data, but it includes items that are out of stock (quantity = 0).\n",
    "inventory = [(\"Pen\", 10), (\"Pencil\", 0), (\"Notebook\", 5), (\"Eraser\", 0)]\n",
    "Task:Your job is to clean the data so that only products"
   ]
  },
  {
   "cell_type": "code",
   "execution_count": 131,
   "id": "0ac969cc-dad7-46af-919f-739437a94463",
   "metadata": {},
   "outputs": [
    {
     "data": {
      "text/plain": [
       "[('Marker', 10), ('Marker', 5)]"
      ]
     },
     "execution_count": 131,
     "metadata": {},
     "output_type": "execute_result"
    }
   ],
   "source": [
    "inventory = [(\"Pen\", 10), (\"Pencil\", 0), (\"Notebook\", 5), (\"Eraser\", 0)]\n",
    "clean_data=[(product,quantity) for quantity,quantity in inventory if quantity>0]\n",
    "clean_data        \n",
    "    \n",
    "\n",
    "    "
   ]
  },
  {
   "cell_type": "code",
   "execution_count": null,
   "id": "3dca8f51-d511-4780-a515-aa2d468f67ac",
   "metadata": {},
   "outputs": [],
   "source": []
  },
  {
   "cell_type": "code",
   "execution_count": null,
   "id": "4c8d908c-6f5e-4d41-9d42-9e034c393d2a",
   "metadata": {},
   "outputs": [],
   "source": [
    "\n",
    "\n"
   ]
  },
  {
   "cell_type": "code",
   "execution_count": null,
   "id": "6f50ec05-c411-41e4-b6c5-6295610a5457",
   "metadata": {},
   "outputs": [],
   "source": [
    "\n",
    "    "
   ]
  },
  {
   "cell_type": "code",
   "execution_count": null,
   "id": "bba359f5-3f5f-4c6d-8289-9c70a39096d4",
   "metadata": {},
   "outputs": [],
   "source": []
  },
  {
   "cell_type": "code",
   "execution_count": null,
   "id": "db4af160-fe33-461a-ad00-a0d9792e5236",
   "metadata": {},
   "outputs": [],
   "source": [
    "6.Scenario: Merge two warehouse lists, sum quantities per product, remove products whose total is 0.\n",
    "warehouse1 = [(\"Pen\", 10), (\"Notebook\", 5), (\"Eraser\", -2)]\n",
    "warehouse2 = [(\"Pen\", -10), (\"Notebook\", 2), (\"Marker\", 4), (\"Eraser\", 1)]"
   ]
  },
  {
   "cell_type": "code",
   "execution_count": 120,
   "id": "0cd77929-3be6-4ed1-aa6a-aa1720b2e64f",
   "metadata": {},
   "outputs": [
    {
     "name": "stdout",
     "output_type": "stream",
     "text": [
      "Notebook : 7\n",
      "Eraser : -1\n",
      "Marker : 4\n"
     ]
    }
   ],
   "source": [
    "warehouse1 = [(\"Pen\", 10), (\"Notebook\", 5), (\"Eraser\", -2)]\n",
    "warehouse2 = [(\"Pen\", -10), (\"Notebook\", 2), (\"Marker\", 4), (\"Eraser\", 1)]\n",
    "tot={}\n",
    "for product, quantity in warehouse1 + warehouse2:\n",
    "    if product in tot:\n",
    "        tot[product]+=quantity\n",
    "    else:\n",
    "        tot[product]=quantity\n",
    "        \n",
    "for product in list(tot.keys()):\n",
    "    if tot[product]==0:\n",
    "        del tot[product]\n",
    "\n",
    "for product, quantity in tot.items():    \n",
    "    print(product,\":\",quantity)\n",
    "\n"
   ]
  },
  {
   "cell_type": "code",
   "execution_count": null,
   "id": "2491c501-1970-4d2b-84ba-dc97da2c2bda",
   "metadata": {},
   "outputs": [],
   "source": []
  },
  {
   "cell_type": "code",
   "execution_count": null,
   "id": "b647116e-13cb-4183-87a4-18e0382107d6",
   "metadata": {},
   "outputs": [],
   "source": []
  },
  {
   "cell_type": "code",
   "execution_count": null,
   "id": "674af192-3bc5-446a-989d-97c8e3211656",
   "metadata": {},
   "outputs": [],
   "source": []
  },
  {
   "cell_type": "code",
   "execution_count": null,
   "id": "3573fcb5-7268-451b-9f31-b1e2ac776872",
   "metadata": {},
   "outputs": [],
   "source": []
  },
  {
   "cell_type": "code",
   "execution_count": null,
   "id": "356e6c8b-ed43-4548-9f41-ac3c964da39d",
   "metadata": {},
   "outputs": [],
   "source": []
  },
  {
   "cell_type": "code",
   "execution_count": null,
   "id": "87c13dea-bd42-4f43-98c4-3ad95c152684",
   "metadata": {},
   "outputs": [],
   "source": []
  },
  {
   "cell_type": "code",
   "execution_count": null,
   "id": "0aae25ba-4e57-48d7-ba26-a0d8ccc63d98",
   "metadata": {},
   "outputs": [],
   "source": []
  },
  {
   "cell_type": "code",
   "execution_count": null,
   "id": "a19e3106-2334-42b1-82d9-469112650612",
   "metadata": {},
   "outputs": [],
   "source": []
  },
  {
   "cell_type": "code",
   "execution_count": null,
   "id": "2ccb8ff4-ecb4-40f3-8a7b-d15bcce8b867",
   "metadata": {},
   "outputs": [],
   "source": []
  }
 ],
 "metadata": {
  "kernelspec": {
   "display_name": "Python 3 (ipykernel)",
   "language": "python",
   "name": "python3"
  },
  "language_info": {
   "codemirror_mode": {
    "name": "ipython",
    "version": 3
   },
   "file_extension": ".py",
   "mimetype": "text/x-python",
   "name": "python",
   "nbconvert_exporter": "python",
   "pygments_lexer": "ipython3",
   "version": "3.13.5"
  }
 },
 "nbformat": 4,
 "nbformat_minor": 5
}
