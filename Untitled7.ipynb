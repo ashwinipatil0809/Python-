{
 "cells": [
  {
   "cell_type": "markdown",
   "id": "52d8de22-af53-4df4-aa78-132e199872ed",
   "metadata": {},
   "source": [
    "# Error\n"
   ]
  },
  {
   "cell_type": "code",
   "execution_count": 4,
   "id": "fbbaecd8-c2f6-452f-842a-1a7c1d42dd88",
   "metadata": {},
   "outputs": [
    {
     "data": {
      "text/plain": [
       "[1, 2, 3, 8]"
      ]
     },
     "execution_count": 4,
     "metadata": {},
     "output_type": "execute_result"
    }
   ],
   "source": [
    "a=[1,2,3]\n",
    "a.append(8)\n",
    "a"
   ]
  },
  {
   "cell_type": "code",
   "execution_count": 5,
   "id": "e1d27f7c-98d7-4741-90c4-740a3ac66215",
   "metadata": {},
   "outputs": [
    {
     "data": {
      "text/plain": [
       "[1, 2, 3, 8]"
      ]
     },
     "execution_count": 5,
     "metadata": {},
     "output_type": "execute_result"
    }
   ],
   "source": [
    "a=[1,2,3]\n",
    "a.append(8)\n",
    "a"
   ]
  },
  {
   "cell_type": "code",
   "execution_count": 6,
   "id": "d5c66f60-9e96-41e4-968f-f92f2bceca70",
   "metadata": {},
   "outputs": [
    {
     "ename": "AttributeError",
     "evalue": "'tuple' object has no attribute 'append'",
     "output_type": "error",
     "traceback": [
      "\u001b[1;31m---------------------------------------------------------------------------\u001b[0m",
      "\u001b[1;31mAttributeError\u001b[0m                            Traceback (most recent call last)",
      "Cell \u001b[1;32mIn[6], line 2\u001b[0m\n\u001b[0;32m      1\u001b[0m a\u001b[38;5;241m=\u001b[39m(\u001b[38;5;241m10\u001b[39m,\u001b[38;5;241m2\u001b[39m)\n\u001b[1;32m----> 2\u001b[0m a\u001b[38;5;241m.\u001b[39mappend(\u001b[38;5;241m8\u001b[39m)\n\u001b[0;32m      3\u001b[0m a\n",
      "\u001b[1;31mAttributeError\u001b[0m: 'tuple' object has no attribute 'append'"
     ]
    }
   ],
   "source": [
    "a=(10,2)     #syntax correct but rule coreect but ex\n",
    "a.append(8)\n",
    "a"
   ]
  },
  {
   "cell_type": "code",
   "execution_count": 8,
   "id": "2fda512a-4600-4c10-8677-d5cccd1e144e",
   "metadata": {},
   "outputs": [
    {
     "ename": "IndexError",
     "evalue": "list index out of range",
     "output_type": "error",
     "traceback": [
      "\u001b[1;31m---------------------------------------------------------------------------\u001b[0m",
      "\u001b[1;31mIndexError\u001b[0m                                Traceback (most recent call last)",
      "Cell \u001b[1;32mIn[8], line 2\u001b[0m\n\u001b[0;32m      1\u001b[0m a\u001b[38;5;241m=\u001b[39m[\u001b[38;5;241m10\u001b[39m,\u001b[38;5;241m4\u001b[39m,\u001b[38;5;241m5\u001b[39m,\u001b[38;5;241m2\u001b[39m]  \u001b[38;5;66;03m#rule is fllow but some unexteced happy when exception occur\u001b[39;00m\n\u001b[1;32m----> 2\u001b[0m a[\u001b[38;5;241m5\u001b[39m]\n\u001b[0;32m      3\u001b[0m a\n",
      "\u001b[1;31mIndexError\u001b[0m: list index out of range"
     ]
    }
   ],
   "source": [
    "a=[10,4,5,2]  #rule is fllow but some unexteced happy when exception occur\n",
    "a[5]\n",
    "a"
   ]
  },
  {
   "cell_type": "code",
   "execution_count": null,
   "id": "00076628-9448-442e-98dd-620d29a02ac5",
   "metadata": {},
   "outputs": [],
   "source": []
  },
  {
   "cell_type": "code",
   "execution_count": 9,
   "id": "7b7616ba-5eba-4c8a-90ff-84b822e3d670",
   "metadata": {},
   "outputs": [
    {
     "ename": "NameError",
     "evalue": "name 'x' is not defined",
     "output_type": "error",
     "traceback": [
      "\u001b[1;31m---------------------------------------------------------------------------\u001b[0m",
      "\u001b[1;31mNameError\u001b[0m                                 Traceback (most recent call last)",
      "Cell \u001b[1;32mIn[9], line 1\u001b[0m\n\u001b[1;32m----> 1\u001b[0m \u001b[38;5;28mprint\u001b[39m(x)\n",
      "\u001b[1;31mNameError\u001b[0m: name 'x' is not defined"
     ]
    }
   ],
   "source": [
    "print(x)"
   ]
  },
  {
   "cell_type": "code",
   "execution_count": 10,
   "id": "aa3184cf-68fe-4847-86cd-016e30cba697",
   "metadata": {},
   "outputs": [
    {
     "ename": "_IncompleteInputError",
     "evalue": "incomplete input (4061749129.py, line 1)",
     "output_type": "error",
     "traceback": [
      "\u001b[1;36m  Cell \u001b[1;32mIn[10], line 1\u001b[1;36m\u001b[0m\n\u001b[1;33m    print(a\u001b[0m\n\u001b[1;37m           ^\u001b[0m\n\u001b[1;31m_IncompleteInputError\u001b[0m\u001b[1;31m:\u001b[0m incomplete input\n"
     ]
    }
   ],
   "source": [
    "print(a"
   ]
  },
  {
   "cell_type": "code",
   "execution_count": 11,
   "id": "41dba9e1-87d1-46e0-84e2-b2dd2d4c4b5a",
   "metadata": {},
   "outputs": [
    {
     "ename": "IndentationError",
     "evalue": "unexpected indent (4160134449.py, line 2)",
     "output_type": "error",
     "traceback": [
      "\u001b[1;36m  Cell \u001b[1;32mIn[11], line 2\u001b[1;36m\u001b[0m\n\u001b[1;33m    print(a)\u001b[0m\n\u001b[1;37m    ^\u001b[0m\n\u001b[1;31mIndentationError\u001b[0m\u001b[1;31m:\u001b[0m unexpected indent\n"
     ]
    }
   ],
   "source": [
    "a=10\n",
    "    print(a)"
   ]
  },
  {
   "cell_type": "code",
   "execution_count": 12,
   "id": "8e2f9ad4-4219-4067-a13a-031ce6cb1bc2",
   "metadata": {},
   "outputs": [
    {
     "ename": "ZeroDivisionError",
     "evalue": "division by zero",
     "output_type": "error",
     "traceback": [
      "\u001b[1;31m---------------------------------------------------------------------------\u001b[0m",
      "\u001b[1;31mZeroDivisionError\u001b[0m                         Traceback (most recent call last)",
      "Cell \u001b[1;32mIn[12], line 1\u001b[0m\n\u001b[1;32m----> 1\u001b[0m \u001b[38;5;241m100\u001b[39m\u001b[38;5;241m/\u001b[39m\u001b[38;5;241m0\u001b[39m\n",
      "\u001b[1;31mZeroDivisionError\u001b[0m: division by zero"
     ]
    }
   ],
   "source": [
    "100/0"
   ]
  },
  {
   "cell_type": "code",
   "execution_count": 13,
   "id": "d3c3ff92-7a7c-42f2-ab39-6f8dde3643ac",
   "metadata": {},
   "outputs": [
    {
     "ename": "ValueError",
     "evalue": "invalid literal for int() with base 10: 'heelo'",
     "output_type": "error",
     "traceback": [
      "\u001b[1;31m---------------------------------------------------------------------------\u001b[0m",
      "\u001b[1;31mValueError\u001b[0m                                Traceback (most recent call last)",
      "Cell \u001b[1;32mIn[13], line 1\u001b[0m\n\u001b[1;32m----> 1\u001b[0m num\u001b[38;5;241m=\u001b[39m\u001b[38;5;28mint\u001b[39m(\u001b[38;5;124m\"\u001b[39m\u001b[38;5;124mheelo\u001b[39m\u001b[38;5;124m\"\u001b[39m)\n",
      "\u001b[1;31mValueError\u001b[0m: invalid literal for int() with base 10: 'heelo'"
     ]
    }
   ],
   "source": [
    "num=int(\"heelo\")"
   ]
  },
  {
   "cell_type": "code",
   "execution_count": 14,
   "id": "a16c454e-48c3-4dc7-a601-75fe3ec1aaba",
   "metadata": {},
   "outputs": [
    {
     "ename": "TypeError",
     "evalue": "unsupported operand type(s) for +: 'int' and 'str'",
     "output_type": "error",
     "traceback": [
      "\u001b[1;31m---------------------------------------------------------------------------\u001b[0m",
      "\u001b[1;31mTypeError\u001b[0m                                 Traceback (most recent call last)",
      "Cell \u001b[1;32mIn[14], line 1\u001b[0m\n\u001b[1;32m----> 1\u001b[0m result\u001b[38;5;241m=\u001b[39m\u001b[38;5;241m98\u001b[39m\u001b[38;5;241m+\u001b[39m\u001b[38;5;124m\"\u001b[39m\u001b[38;5;124mji\u001b[39m\u001b[38;5;124m\"\u001b[39m\n",
      "\u001b[1;31mTypeError\u001b[0m: unsupported operand type(s) for +: 'int' and 'str'"
     ]
    }
   ],
   "source": [
    "result=98+\"ji\""
   ]
  },
  {
   "cell_type": "code",
   "execution_count": null,
   "id": "e6f6e1fa-ad54-4b86-94a1-778eda377d4b",
   "metadata": {},
   "outputs": [],
   "source": [
    "if a=5:\n",
    "pr"
   ]
  },
  {
   "cell_type": "code",
   "execution_count": null,
   "id": "45068cec-131a-4028-811f-471763b806b7",
   "metadata": {},
   "outputs": [],
   "source": [
    "Exception"
   ]
  },
  {
   "cell_type": "code",
   "execution_count": 16,
   "id": "356c9758-7557-4735-98ef-a3d3baef882f",
   "metadata": {},
   "outputs": [
    {
     "name": "stdout",
     "output_type": "stream",
     "text": [
      "helllo\n"
     ]
    }
   ],
   "source": [
    "try:\n",
    "    print(\"helllo\")\n",
    "except:\n",
    "    print(\"hello\")"
   ]
  },
  {
   "cell_type": "code",
   "execution_count": 17,
   "id": "fc1ddec4-7540-4a11-8700-70fdc0344b91",
   "metadata": {},
   "outputs": [
    {
     "name": "stdout",
     "output_type": "stream",
     "text": [
      "helllo\n",
      "byee\n"
     ]
    }
   ],
   "source": [
    "try:\n",
    "    print(\"helllo\")\n",
    "    print(x)\n",
    "except:\n",
    "    print(\"byee\")"
   ]
  },
  {
   "cell_type": "code",
   "execution_count": 28,
   "id": "22280988-584b-444c-9fe3-5e67d8d52835",
   "metadata": {},
   "outputs": [
    {
     "name": "stdout",
     "output_type": "stream",
     "text": [
      "None\n",
      "exceute when expenation occur\n",
      "***********************************\n"
     ]
    },
    {
     "name": "stderr",
     "output_type": "stream",
     "text": [
      "Traceback (most recent call last):\n",
      "  File \"C:\\Users\\Ashwini\\AppData\\Local\\Temp\\ipykernel_20628\\218691097.py\", line 4, in <module>\n",
      "    a.append(100)    #o?p ky nhi yenar ,anun none\n",
      "    ^^^^^^^^\n",
      "AttributeError: 'tuple' object has no attribute 'append'\n"
     ]
    }
   ],
   "source": [
    "import traceback #sytex correct but\n",
    "try:\n",
    "    a=(3,4,6,8)\n",
    "    a.append(100)    #o?p ky nhi yenar ,anun none\n",
    "    print(\"this is a try block\")\n",
    "except:\n",
    "    print(traceback.print_exc()) #so that we aaply nhi mahiti konta erroe tyasathi  traceback as karaych..mg samzty ki Nameeeor ahe..\n",
    "    print(\"exceute when expenation occur\")\n",
    "\n",
    "print(\"***********************************\")"
   ]
  },
  {
   "cell_type": "code",
   "execution_count": 29,
   "id": "8ca9019a-110d-4fd7-8be3-643d8ae489e7",
   "metadata": {},
   "outputs": [
    {
     "name": "stdout",
     "output_type": "stream",
     "text": [
      "in try block\n",
      "None\n",
      "exceute when expenation occur\n",
      "***********************************\n"
     ]
    },
    {
     "name": "stderr",
     "output_type": "stream",
     "text": [
      "Traceback (most recent call last):\n",
      "  File \"C:\\Users\\Ashwini\\AppData\\Local\\Temp\\ipykernel_20628\\3723046752.py\", line 4, in <module>\n",
      "    f=open(\"filename.txt\",\"r\")  # hi file nhi mnaun traceback ne sagital ki FileNotFoundError\n",
      "  File \"C:\\ProgramData\\anaconda3\\Lib\\site-packages\\IPython\\core\\interactiveshell.py\", line 324, in _modified_open\n",
      "    return io_open(file, *args, **kwargs)\n",
      "FileNotFoundError: [Errno 2] No such file or directory: 'filename.txt'\n"
     ]
    }
   ],
   "source": [
    "import traceback #sytex correct but\n",
    "try:\n",
    "    print(\"in try block\")\n",
    "    f=open(\"filename.txt\",\"r\")  # hi file nhi mnaun traceback ne sagital ki FileNotFoundError\n",
    "    a=f.read()\n",
    "    print(a)\n",
    "    f.close()\n",
    "    \n",
    "    \n",
    "except:\n",
    "    print(traceback.print_exc())\n",
    "    print(\"exceute when expenation occur\")\n",
    "\n",
    "print(\"***********************************\")"
   ]
  },
  {
   "cell_type": "code",
   "execution_count": 3,
   "id": "11700b6f-d358-4205-875c-db61bef50a11",
   "metadata": {},
   "outputs": [
    {
     "name": "stdout",
     "output_type": "stream",
     "text": [
      "in try block\n",
      "[Errno 2] No such file or directory: 'test7.txt'\n",
      "exceute when expenation occur\n",
      "***********************************\n"
     ]
    }
   ],
   "source": [
    "#import traceback #sytex correct but\n",
    "try:\n",
    "    print(\"in try block\")\n",
    "    f=open(\"test7.txt\",\"r\")\n",
    "    a=f.read()\n",
    "    print(a)\n",
    "    f.close()\n",
    "    \n",
    "    \n",
    "except FileNotFoundError as e:\n",
    "      print(e)\n",
    "   # print(traceback.print_exc())  if ypu know the propable of exceptioon or what is exception occour you just put on except keyword\n",
    "print(\"exceute when expenation occur\")\n",
    "\n",
    "print(\"***********************************\")"
   ]
  },
  {
   "cell_type": "code",
   "execution_count": 31,
   "id": "f4e74c3a-ecb6-44a9-bf5c-cde8fd8f8d41",
   "metadata": {},
   "outputs": [
    {
     "name": "stdout",
     "output_type": "stream",
     "text": [
      "in try block\n"
     ]
    },
    {
     "ename": "FileExistsError",
     "evalue": "[Errno 17] File exists: 'test2.txt'",
     "output_type": "error",
     "traceback": [
      "\u001b[1;31m---------------------------------------------------------------------------\u001b[0m",
      "\u001b[1;31mFileExistsError\u001b[0m                           Traceback (most recent call last)",
      "Cell \u001b[1;32mIn[31], line 4\u001b[0m\n\u001b[0;32m      2\u001b[0m \u001b[38;5;28;01mtry\u001b[39;00m:\n\u001b[0;32m      3\u001b[0m     \u001b[38;5;28mprint\u001b[39m(\u001b[38;5;124m\"\u001b[39m\u001b[38;5;124min try block\u001b[39m\u001b[38;5;124m\"\u001b[39m)\n\u001b[1;32m----> 4\u001b[0m     f\u001b[38;5;241m=\u001b[39m\u001b[38;5;28mopen\u001b[39m(\u001b[38;5;124m\"\u001b[39m\u001b[38;5;124mtest2.txt\u001b[39m\u001b[38;5;124m\"\u001b[39m,\u001b[38;5;124m\"\u001b[39m\u001b[38;5;124mx\u001b[39m\u001b[38;5;124m\"\u001b[39m) \u001b[38;5;66;03m#x mode if file exit--->so hat\u001b[39;00m\n\u001b[0;32m      5\u001b[0m     f\u001b[38;5;241m.\u001b[39mwrite(\u001b[38;5;124m\"\u001b[39m\u001b[38;5;124mtesting x mode\u001b[39m\u001b[38;5;124m\"\u001b[39m)\n\u001b[0;32m      6\u001b[0m     f\u001b[38;5;241m.\u001b[39mclose()\n",
      "File \u001b[1;32mC:\\ProgramData\\anaconda3\\Lib\\site-packages\\IPython\\core\\interactiveshell.py:324\u001b[0m, in \u001b[0;36m_modified_open\u001b[1;34m(file, *args, **kwargs)\u001b[0m\n\u001b[0;32m    317\u001b[0m \u001b[38;5;28;01mif\u001b[39;00m file \u001b[38;5;129;01min\u001b[39;00m {\u001b[38;5;241m0\u001b[39m, \u001b[38;5;241m1\u001b[39m, \u001b[38;5;241m2\u001b[39m}:\n\u001b[0;32m    318\u001b[0m     \u001b[38;5;28;01mraise\u001b[39;00m \u001b[38;5;167;01mValueError\u001b[39;00m(\n\u001b[0;32m    319\u001b[0m         \u001b[38;5;124mf\u001b[39m\u001b[38;5;124m\"\u001b[39m\u001b[38;5;124mIPython won\u001b[39m\u001b[38;5;124m'\u001b[39m\u001b[38;5;124mt let you open fd=\u001b[39m\u001b[38;5;132;01m{\u001b[39;00mfile\u001b[38;5;132;01m}\u001b[39;00m\u001b[38;5;124m by default \u001b[39m\u001b[38;5;124m\"\u001b[39m\n\u001b[0;32m    320\u001b[0m         \u001b[38;5;124m\"\u001b[39m\u001b[38;5;124mas it is likely to crash IPython. If you know what you are doing, \u001b[39m\u001b[38;5;124m\"\u001b[39m\n\u001b[0;32m    321\u001b[0m         \u001b[38;5;124m\"\u001b[39m\u001b[38;5;124myou can use builtins\u001b[39m\u001b[38;5;124m'\u001b[39m\u001b[38;5;124m open.\u001b[39m\u001b[38;5;124m\"\u001b[39m\n\u001b[0;32m    322\u001b[0m     )\n\u001b[1;32m--> 324\u001b[0m \u001b[38;5;28;01mreturn\u001b[39;00m io_open(file, \u001b[38;5;241m*\u001b[39margs, \u001b[38;5;241m*\u001b[39m\u001b[38;5;241m*\u001b[39mkwargs)\n",
      "\u001b[1;31mFileExistsError\u001b[0m: [Errno 17] File exists: 'test2.txt'"
     ]
    }
   ],
   "source": [
    "import traceback #sytex correct but\n",
    "try:\n",
    "    print(\"in try block\")\n",
    "    f=open(\"test2.txt\",\"x\") #x mode if file exit--->so hat\n",
    "    f.write(\"testing x mode\")\n",
    "    f.close()\n",
    "    \n",
    "    \n",
    "except FileNotFoundError as e:  #i kown what error will be occur\n",
    "      print(e)\n",
    "   # print(traceback.print_exc())\n",
    "print(\"exceute when expenation occur\")\n",
    "\n",
    "print(\"***********************************\")"
   ]
  },
  {
   "cell_type": "code",
   "execution_count": 32,
   "id": "8ac08ef3-71d0-49b9-96e3-a0f736b31c3e",
   "metadata": {},
   "outputs": [
    {
     "name": "stdout",
     "output_type": "stream",
     "text": [
      "in try block\n"
     ]
    },
    {
     "ename": "NameError",
     "evalue": "name 'FileExistError' is not defined",
     "output_type": "error",
     "traceback": [
      "\u001b[1;31m---------------------------------------------------------------------------\u001b[0m",
      "\u001b[1;31mFileExistsError\u001b[0m                           Traceback (most recent call last)",
      "Cell \u001b[1;32mIn[32], line 5\u001b[0m\n\u001b[0;32m      4\u001b[0m \u001b[38;5;28mprint\u001b[39m(\u001b[38;5;124m\"\u001b[39m\u001b[38;5;124min try block\u001b[39m\u001b[38;5;124m\"\u001b[39m)\n\u001b[1;32m----> 5\u001b[0m f\u001b[38;5;241m=\u001b[39m\u001b[38;5;28mopen\u001b[39m(\u001b[38;5;124m\"\u001b[39m\u001b[38;5;124mtest2.txt\u001b[39m\u001b[38;5;124m\"\u001b[39m,\u001b[38;5;124m\"\u001b[39m\u001b[38;5;124mx\u001b[39m\u001b[38;5;124m\"\u001b[39m) \u001b[38;5;66;03m#x mode if file exit in x mode error(fle exits)---->so we know the rror we can put in except directly\u001b[39;00m\n\u001b[0;32m      6\u001b[0m f\u001b[38;5;241m.\u001b[39mwrite(\u001b[38;5;124m\"\u001b[39m\u001b[38;5;124mtesting x mode\u001b[39m\u001b[38;5;124m\"\u001b[39m)\n",
      "File \u001b[1;32mC:\\ProgramData\\anaconda3\\Lib\\site-packages\\IPython\\core\\interactiveshell.py:324\u001b[0m, in \u001b[0;36m_modified_open\u001b[1;34m(file, *args, **kwargs)\u001b[0m\n\u001b[0;32m    318\u001b[0m     \u001b[38;5;28;01mraise\u001b[39;00m \u001b[38;5;167;01mValueError\u001b[39;00m(\n\u001b[0;32m    319\u001b[0m         \u001b[38;5;124mf\u001b[39m\u001b[38;5;124m\"\u001b[39m\u001b[38;5;124mIPython won\u001b[39m\u001b[38;5;124m'\u001b[39m\u001b[38;5;124mt let you open fd=\u001b[39m\u001b[38;5;132;01m{\u001b[39;00mfile\u001b[38;5;132;01m}\u001b[39;00m\u001b[38;5;124m by default \u001b[39m\u001b[38;5;124m\"\u001b[39m\n\u001b[0;32m    320\u001b[0m         \u001b[38;5;124m\"\u001b[39m\u001b[38;5;124mas it is likely to crash IPython. If you know what you are doing, \u001b[39m\u001b[38;5;124m\"\u001b[39m\n\u001b[0;32m    321\u001b[0m         \u001b[38;5;124m\"\u001b[39m\u001b[38;5;124myou can use builtins\u001b[39m\u001b[38;5;124m'\u001b[39m\u001b[38;5;124m open.\u001b[39m\u001b[38;5;124m\"\u001b[39m\n\u001b[0;32m    322\u001b[0m     )\n\u001b[1;32m--> 324\u001b[0m \u001b[38;5;28;01mreturn\u001b[39;00m io_open(file, \u001b[38;5;241m*\u001b[39margs, \u001b[38;5;241m*\u001b[39m\u001b[38;5;241m*\u001b[39mkwargs)\n",
      "\u001b[1;31mFileExistsError\u001b[0m: [Errno 17] File exists: 'test2.txt'",
      "\nDuring handling of the above exception, another exception occurred:\n",
      "\u001b[1;31mNameError\u001b[0m                                 Traceback (most recent call last)",
      "Cell \u001b[1;32mIn[32], line 13\u001b[0m\n\u001b[0;32m     11\u001b[0m       \u001b[38;5;28mprint\u001b[39m(e)\n\u001b[0;32m     12\u001b[0m    \u001b[38;5;66;03m# print(traceback.print_exc())\u001b[39;00m\n\u001b[1;32m---> 13\u001b[0m \u001b[38;5;28;01mexcept\u001b[39;00m FileExistError \u001b[38;5;28;01mas\u001b[39;00m e:\n\u001b[0;32m     14\u001b[0m     \u001b[38;5;28mprint\u001b[39m(e)\n\u001b[0;32m     15\u001b[0m     \u001b[38;5;28mprint\u001b[39m(\u001b[38;5;124m\"\u001b[39m\u001b[38;5;124min the 2 nd except block\u001b[39m\u001b[38;5;124m\"\u001b[39m)\n",
      "\u001b[1;31mNameError\u001b[0m: name 'FileExistError' is not defined"
     ]
    }
   ],
   "source": [
    "#multiple except\n",
    "import traceback #sytex correct but\n",
    "try:\n",
    "    print(\"in try block\")\n",
    "    f=open(\"test2.txt\",\"x\") #x mode if file exit in x mode error(fle exits)---->so we know the rror we can put in except directly\n",
    "    f.write(\"testing x mode\")\n",
    "    f.close()\n",
    "    \n",
    "    \n",
    "except FileNotFoundError as e:\n",
    "      print(e)\n",
    "   # print(traceback.print_exc())\n",
    "except FileExistError as e:\n",
    "    print(e)\n",
    "    print(\"in the 2 nd except block\")\n",
    "print(\"exceute when expenation occur\")\n",
    "\n",
    "prit(\"***********************************\")"
   ]
  },
  {
   "cell_type": "code",
   "execution_count": 33,
   "id": "fbf97e66-d06d-4095-a3ef-5d259b716d01",
   "metadata": {},
   "outputs": [
    {
     "name": "stdout",
     "output_type": "stream",
     "text": [
      "hii\n"
     ]
    },
    {
     "ename": "NameError",
     "evalue": "name 'FileExistError' is not defined",
     "output_type": "error",
     "traceback": [
      "\u001b[1;31m---------------------------------------------------------------------------\u001b[0m",
      "\u001b[1;31mNameError\u001b[0m                                 Traceback (most recent call last)",
      "Cell \u001b[1;32mIn[33], line 5\u001b[0m\n\u001b[0;32m      4\u001b[0m     \u001b[38;5;28mprint\u001b[39m(\u001b[38;5;124m\"\u001b[39m\u001b[38;5;124mhii\u001b[39m\u001b[38;5;124m\"\u001b[39m)\n\u001b[1;32m----> 5\u001b[0m     \u001b[38;5;28mprint\u001b[39m(prq)\n\u001b[0;32m      8\u001b[0m \u001b[38;5;28;01mexcept\u001b[39;00m \u001b[38;5;167;01mFileNotFoundError\u001b[39;00m \u001b[38;5;28;01mas\u001b[39;00m e:\n",
      "\u001b[1;31mNameError\u001b[0m: name 'prq' is not defined",
      "\nDuring handling of the above exception, another exception occurred:\n",
      "\u001b[1;31mNameError\u001b[0m                                 Traceback (most recent call last)",
      "Cell \u001b[1;32mIn[33], line 11\u001b[0m\n\u001b[0;32m      9\u001b[0m       \u001b[38;5;28mprint\u001b[39m(e)\n\u001b[0;32m     10\u001b[0m    \u001b[38;5;66;03m# print(traceback.print_exc())\u001b[39;00m\n\u001b[1;32m---> 11\u001b[0m \u001b[38;5;28;01mexcept\u001b[39;00m FileExistError \u001b[38;5;28;01mas\u001b[39;00m e:\n\u001b[0;32m     12\u001b[0m     \u001b[38;5;28mprint\u001b[39m(e)\n\u001b[0;32m     13\u001b[0m     \u001b[38;5;28mprint\u001b[39m(\u001b[38;5;124m\"\u001b[39m\u001b[38;5;124min the 2 nd except block\u001b[39m\u001b[38;5;124m\"\u001b[39m)\n",
      "\u001b[1;31mNameError\u001b[0m: name 'FileExistError' is not defined"
     ]
    }
   ],
   "source": [
    "#multiple except\n",
    "import traceback #sytex correct but\n",
    "try:\n",
    "    print(\"hii\")\n",
    "    print(prq)\n",
    "    \n",
    "    \n",
    "except FileNotFoundError as e:\n",
    "      print(e)\n",
    "   # print(traceback.print_exc())\n",
    "    print(\"excute\n",
    "except FileExistError as e:\n",
    "    print(e)\n",
    "    print(\"in the 2 nd except block\")\n",
    "print(\"exceute when expenation occur\")\n",
    "\n",
    "prit(\"***********************************\")"
   ]
  },
  {
   "cell_type": "code",
   "execution_count": null,
   "id": "b46cd65e-989e-4821-a261-f06964a8ab40",
   "metadata": {},
   "outputs": [],
   "source": []
  },
  {
   "cell_type": "code",
   "execution_count": 35,
   "id": "29e93587-e966-4c41-bcc2-86f3cecf62cb",
   "metadata": {},
   "outputs": [
    {
     "name": "stdout",
     "output_type": "stream",
     "text": [
      "None\n",
      "file not founf FileNotFoundError the fil name\n",
      "***********************************\n"
     ]
    },
    {
     "name": "stderr",
     "output_type": "stream",
     "text": [
      "Traceback (most recent call last):\n",
      "  File \"C:\\Users\\Ashwini\\AppData\\Local\\Temp\\ipykernel_20628\\3813384872.py\", line 2, in <module>\n",
      "    f=open(\"filename.txt\",\"r\")  # hi file nhi mnaun traceback ne sagital ki FileNotFoundError\n",
      "  File \"C:\\ProgramData\\anaconda3\\Lib\\site-packages\\IPython\\core\\interactiveshell.py\", line 324, in _modified_open\n",
      "    return io_open(file, *args, **kwargs)\n",
      "FileNotFoundError: [Errno 2] No such file or directory: 'filename.txt'\n"
     ]
    }
   ],
   "source": [
    "# doni pn use kelel expample ...production ani dveloment"
   ]
  },
  {
   "cell_type": "code",
   "execution_count": null,
   "id": "a08d4abe-9491-4842-a97f-90f71607fab7",
   "metadata": {},
   "outputs": [],
   "source": []
  },
  {
   "cell_type": "code",
   "execution_count": 37,
   "id": "f1fece27-d79d-4845-b22c-f69b4f291af8",
   "metadata": {},
   "outputs": [
    {
     "name": "stdout",
     "output_type": "stream",
     "text": [
      "  good  good\n",
      "aa\n"
     ]
    }
   ],
   "source": [
    "try:\n",
    "    f=open(\"test2.txt\",\"r\")   # try will be correct so that else willl be excuted\n",
    "except FileNotFoundError as e:\n",
    "    print(\"file not found! please check the filenae\")\n",
    "\n",
    "else:\n",
    "    data=f.read()\n",
    "    print(data)\n",
    "    f.close()\n"
   ]
  },
  {
   "cell_type": "code",
   "execution_count": 38,
   "id": "81dbf092-9211-4985-af8b-f1d238901190",
   "metadata": {},
   "outputs": [
    {
     "name": "stdout",
     "output_type": "stream",
     "text": [
      "file not found! please check the filenae\n"
     ]
    }
   ],
   "source": [
    "try:\n",
    "    f=open(\"test2e.txt\",\"r\")  # try will be false so that else will not be exceptrd directly except block will be excute\n",
    "except FileNotFoundError as e:\n",
    "    print(\"file not found! please check the filenae\")\n",
    "\n",
    "else:\n",
    "    data=f.read()\n",
    "    print(data)\n",
    "    f.close()\n"
   ]
  },
  {
   "cell_type": "code",
   "execution_count": 41,
   "id": "741e3693-4626-4f8a-b954-441d663e21ec",
   "metadata": {},
   "outputs": [
    {
     "ename": "NameError",
     "evalue": "name 'dra' is not defined",
     "output_type": "error",
     "traceback": [
      "\u001b[1;31m---------------------------------------------------------------------------\u001b[0m",
      "\u001b[1;31mNameError\u001b[0m                                 Traceback (most recent call last)",
      "Cell \u001b[1;32mIn[41], line 8\u001b[0m\n\u001b[0;32m      6\u001b[0m \u001b[38;5;28;01melse\u001b[39;00m:\n\u001b[0;32m      7\u001b[0m     dta\u001b[38;5;241m=\u001b[39mf\u001b[38;5;241m.\u001b[39mread()\n\u001b[1;32m----> 8\u001b[0m     \u001b[38;5;28mprint\u001b[39m(dra)\n\u001b[0;32m      9\u001b[0m     f\u001b[38;5;241m.\u001b[39mclose()\n",
      "\u001b[1;31mNameError\u001b[0m: name 'dra' is not defined"
     ]
    }
   ],
   "source": [
    "try:\n",
    "    f=open(\"test2.txt\",\"r\")\n",
    "except FileNotFoundError as e:\n",
    "    print(\"file not found! please check the filenae\")\n",
    "\n",
    "else:\n",
    "    dta=f.read()\n",
    "    print(dra) #typo error\n",
    "    f.close()\n"
   ]
  },
  {
   "cell_type": "code",
   "execution_count": null,
   "id": "70df73ab-0df4-4cfd-a9fc-676e8e837c6f",
   "metadata": {},
   "outputs": [],
   "source": []
  },
  {
   "cell_type": "code",
   "execution_count": null,
   "id": "1ed04829-2fd0-4d01-96f9-567e29348db9",
   "metadata": {},
   "outputs": [],
   "source": [
    "try:\n",
    "    f=open(\"test2.txt\",\"r\")   # try will be correct so that else willl be excuted\n",
    "except FileNotFoundError as e:\n",
    "    print(\"file not found! please check the filenae\")\n",
    "\n",
    "else:\n",
    "    data=f.read()\n",
    "    print(data)\n",
    "    f.close()\n"
   ]
  },
  {
   "cell_type": "code",
   "execution_count": null,
   "id": "b773e566-3397-4e34-a29b-72e087931756",
   "metadata": {},
   "outputs": [],
   "source": []
  },
  {
   "cell_type": "code",
   "execution_count": null,
   "id": "3deeabf3-2b4a-4cb1-99fa-b7b25727e19e",
   "metadata": {},
   "outputs": [],
   "source": [
    "try:\n",
    "    f=open(\"test2.txt\",\"r\")\n",
    "except FileNotFoundError as e:\n",
    "    print(\"file not found! please check the filenae\")\n",
    "\n",
    "else:\n",
    "    dta=f.read()\n",
    "    print(dra) #typo error\n",
    "    f.close()\n"
   ]
  },
  {
   "cell_type": "code",
   "execution_count": 46,
   "id": "8bd8de33-d925-4917-ad96-15a62307c903",
   "metadata": {},
   "outputs": [
    {
     "name": "stdout",
     "output_type": "stream",
     "text": [
      "addition of 10 and 20 :30\n"
     ]
    }
   ],
   "source": [
    "x=10\n",
    "y=20\n",
    "add=x+y\n",
    "print(f\"addition of {x} and {y} :{add}\")"
   ]
  },
  {
   "cell_type": "code",
   "execution_count": null,
   "id": "4fff8703-4828-45ff-9dbe-8ce465370339",
   "metadata": {},
   "outputs": [],
   "source": []
  },
  {
   "cell_type": "code",
   "execution_count": null,
   "id": "535cf53f-7cf0-423c-be87-afe1dfd43b8e",
   "metadata": {},
   "outputs": [],
   "source": []
  },
  {
   "cell_type": "code",
   "execution_count": null,
   "id": "71f8fff6-1c3a-40a4-9b4b-d9b537d5a2c6",
   "metadata": {},
   "outputs": [],
   "source": []
  },
  {
   "cell_type": "code",
   "execution_count": null,
   "id": "ddcf9d38-fb2f-4ee0-ba32-94df83c379ab",
   "metadata": {},
   "outputs": [],
   "source": []
  },
  {
   "cell_type": "code",
   "execution_count": null,
   "id": "d97f7315-1cc9-4d67-bed1-d4114c33fe86",
   "metadata": {},
   "outputs": [],
   "source": []
  },
  {
   "cell_type": "code",
   "execution_count": null,
   "id": "a8785503-8fa0-4ac2-a5cf-9bee0ad180f7",
   "metadata": {},
   "outputs": [],
   "source": []
  },
  {
   "cell_type": "code",
   "execution_count": null,
   "id": "38610b82-286e-4fe6-895a-340985e20bdc",
   "metadata": {},
   "outputs": [],
   "source": []
  },
  {
   "cell_type": "code",
   "execution_count": null,
   "id": "8ed2aed6-0442-43a0-b8d6-3ef7d0aa074a",
   "metadata": {},
   "outputs": [],
   "source": []
  },
  {
   "cell_type": "code",
   "execution_count": null,
   "id": "55792d79-3551-48dc-a594-4190c7639e0a",
   "metadata": {},
   "outputs": [],
   "source": []
  },
  {
   "cell_type": "code",
   "execution_count": null,
   "id": "4f58ce78-c514-41d2-b473-4162fa10c21e",
   "metadata": {},
   "outputs": [],
   "source": []
  },
  {
   "cell_type": "code",
   "execution_count": null,
   "id": "4be96cd2-d2dc-4fef-a659-a97957658292",
   "metadata": {},
   "outputs": [],
   "source": []
  },
  {
   "cell_type": "code",
   "execution_count": null,
   "id": "e206685a-b550-447d-b063-27a16a19bfec",
   "metadata": {},
   "outputs": [],
   "source": []
  },
  {
   "cell_type": "code",
   "execution_count": null,
   "id": "1f1b2ef8-2fd6-4add-99ca-6a02fede5c95",
   "metadata": {},
   "outputs": [],
   "source": []
  }
 ],
 "metadata": {
  "kernelspec": {
   "display_name": "Python 3 (ipykernel)",
   "language": "python",
   "name": "python3"
  },
  "language_info": {
   "codemirror_mode": {
    "name": "ipython",
    "version": 3
   },
   "file_extension": ".py",
   "mimetype": "text/x-python",
   "name": "python",
   "nbconvert_exporter": "python",
   "pygments_lexer": "ipython3",
   "version": "3.13.5"
  }
 },
 "nbformat": 4,
 "nbformat_minor": 5
}
