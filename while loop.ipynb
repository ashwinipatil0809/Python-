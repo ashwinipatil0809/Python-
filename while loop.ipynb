{
 "cells": [
  {
   "cell_type": "code",
   "execution_count": 3,
   "id": "ec7ba8bc-90b4-456c-b456-3be22bb531a2",
   "metadata": {},
   "outputs": [
    {
     "name": "stdout",
     "output_type": "stream",
     "text": [
      "i==1\n",
      "i==2\n",
      "i==3\n",
      "i==4\n",
      "i==5\n",
      "i==6\n",
      "value found\n",
      "out of while loop\n"
     ]
    }
   ],
   "source": [
    "#while loop\n",
    "i=1\n",
    "while i<=10:\n",
    "    print(f\"i=={i}\")\n",
    "    if i==6:\n",
    "        print(\"value found\")\n",
    "        break\n",
    "    i=i+1\n",
    "print(\"out of while loop\")"
   ]
  },
  {
   "cell_type": "code",
   "execution_count": 4,
   "id": "7be35216-2009-4e1c-b0ea-ef0ef1d74c2c",
   "metadata": {},
   "outputs": [
    {
     "name": "stdout",
     "output_type": "stream",
     "text": [
      "i==1\n",
      "hello\n",
      "i==2\n",
      "hello\n",
      "i==3\n",
      "hello\n",
      "i==4\n",
      "hello\n",
      "i==5\n",
      "hello\n",
      "i==6\n",
      "value found\n",
      "out of while loop\n"
     ]
    }
   ],
   "source": [
    "#while loop\n",
    "i=1\n",
    "while i<=10:\n",
    "    print(f\"i=={i}\")\n",
    "    if i==6:\n",
    "        print(\"value found\")\n",
    "        break\n",
    "    print(\"hello\")\n",
    "    i=i+1\n",
    "print(\"out of while loop\")"
   ]
  },
  {
   "cell_type": "code",
   "execution_count": null,
   "id": "b7f9407c-a3f8-4819-920a-1977b2a12399",
   "metadata": {},
   "outputs": [],
   "source": [
    "#while loop\n",
    "i=1\n",
    "while i<=10:\n",
    "\n",
    "\n",
    "\n",
    "i=i+1\n",
    "    print(f\"i=={i}\")\n",
    "    if i==6:\n",
    "        print(\"value found\")\n",
    "        break\n",
    "    print(\"hello\")\n",
    "    \n",
    "print(\"out of while loop\")"
   ]
  },
  {
   "cell_type": "code",
   "execution_count": null,
   "id": "7d3cc06b-aa57-4c7c-8f9c-953528e83547",
   "metadata": {},
   "outputs": [],
   "source": [
    "#while loop\n",
    "i=1\n",
    "while i<=10:\n",
    "    print(f\"i=={i}\")\n",
    "      i=i+1\n",
    "    if i==6:\n",
    "        print(\"value found\")\n",
    "        break\n",
    "    print(\"hello\")\n",
    "  \n",
    "print(\"out of while loop\")"
   ]
  }
 ],
 "metadata": {
  "kernelspec": {
   "display_name": "Python 3 (ipykernel)",
   "language": "python",
   "name": "python3"
  },
  "language_info": {
   "codemirror_mode": {
    "name": "ipython",
    "version": 3
   },
   "file_extension": ".py",
   "mimetype": "text/x-python",
   "name": "python",
   "nbconvert_exporter": "python",
   "pygments_lexer": "ipython3",
   "version": "3.13.5"
  }
 },
 "nbformat": 4,
 "nbformat_minor": 5
}
