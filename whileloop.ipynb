{
 "cells": [
  {
   "cell_type": "code",
   "execution_count": 3,
   "id": "12bff837-bd1d-47f9-8173-a09f4416bd2d",
   "metadata": {},
   "outputs": [
    {
     "name": "stdout",
     "output_type": "stream",
     "text": [
      "5\n",
      "20\n",
      "60\n",
      "120\n"
     ]
    }
   ],
   "source": [
    "#factorial\n",
    "n=5\n",
    "i=n\n",
    "fact=1\n",
    "while i>1:\n",
    "    fact=fact*i\n",
    "    print(fact)\n",
    "    i=i-1"
   ]
  },
  {
   "cell_type": "code",
   "execution_count": null,
   "id": "0546bece-f19c-4d04-8325-872807c214b1",
   "metadata": {},
   "outputs": [],
   "source": [
    "15*1\n",
    "15*2=30"
   ]
  },
  {
   "cell_type": "code",
   "execution_count": null,
   "id": "8cb0df95-7e2a-4e50-ad01-22e52ee0a2f3",
   "metadata": {},
   "outputs": [],
   "source": [
    "n=15\n",
    "i=1\n",
    "\n",
    "while i<10:\n",
    "    n=n*i\n",
    "    print(n)\n",
    "    i=i+1"
   ]
  },
  {
   "cell_type": "code",
   "execution_count": null,
   "id": "e18dec82-fd3b-4669-9670-13f89a2d4561",
   "metadata": {},
   "outputs": [],
   "source": [
    "n=15\n",
    "i=1\n",
    "\n",
    "while i<10:\n",
    "    n=n*i\n",
    "    print(n)\n",
    "    i=i+1"
   ]
  }
 ],
 "metadata": {
  "kernelspec": {
   "display_name": "Python 3 (ipykernel)",
   "language": "python",
   "name": "python3"
  },
  "language_info": {
   "codemirror_mode": {
    "name": "ipython",
    "version": 3
   },
   "file_extension": ".py",
   "mimetype": "text/x-python",
   "name": "python",
   "nbconvert_exporter": "python",
   "pygments_lexer": "ipython3",
   "version": "3.13.5"
  }
 },
 "nbformat": 4,
 "nbformat_minor": 5
}
