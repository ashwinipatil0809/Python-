{
 "cells": [
  {
   "cell_type": "code",
   "execution_count": 1,
   "id": "acd9486a-0d2b-4c9b-9577-42a47d0bacd6",
   "metadata": {},
   "outputs": [
    {
     "name": "stdin",
     "output_type": "stream",
     "text": [
      "Enter an integer value: 10\n",
      "enter an float value: 20.7\n",
      "Enter an string value: \"ashu\"\n",
      "Enter a boolean (True/False):  True\n",
      "Enter a list value: [20,30,50]\n",
      "Enter a tuple value: (10,2,3)\n"
     ]
    },
    {
     "name": "stdout",
     "output_type": "stream",
     "text": [
      "Type of num: <class 'int'>\n",
      "Type of float: <class 'float'>\n",
      "Type of string: <class 'type'>\n",
      "Type of boolean : <class 'bool'>\n",
      "Type of lst: <class 'list'>\n",
      "Type of tupl: <class 'tuple'>\n"
     ]
    }
   ],
   "source": [
    "num=int(input(\"Enter an integer value:\"))\n",
    "flt=float(input(\"enter an float value:\"))\n",
    "string=str(input(\"Enter an string value:\"))\n",
    "boolean = eval(input(\"Enter a boolean (True/False): \"))\n",
    "lst=list(input(\"Enter a list value:\"))\n",
    "tupl=tuple(input(\"Enter a tuple value:\"))\n",
    "\n",
    "\n",
    "print(\"Type of num:\",type(num))\n",
    "print(\"Type of float:\",type(flt))\n",
    "print(\"Type of string:\",type(str))\n",
    "print(\"Type of boolean :\",type(boolean))\n",
    "print(\"Type of lst:\",type(lst))\n",
    "print(\"Type of tupl:\",type(tupl))"
   ]
  }
 ],
 "metadata": {
  "kernelspec": {
   "display_name": "Python 3 (ipykernel)",
   "language": "python",
   "name": "python3"
  },
  "language_info": {
   "codemirror_mode": {
    "name": "ipython",
    "version": 3
   },
   "file_extension": ".py",
   "mimetype": "text/x-python",
   "name": "python",
   "nbconvert_exporter": "python",
   "pygments_lexer": "ipython3",
   "version": "3.13.5"
  }
 },
 "nbformat": 4,
 "nbformat_minor": 5
}
