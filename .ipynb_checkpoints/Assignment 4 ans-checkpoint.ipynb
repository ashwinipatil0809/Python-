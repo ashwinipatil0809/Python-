{
 "cells": [
  {
   "cell_type": "code",
   "execution_count": 6,
   "id": "2f078069-2a83-4d92-afee-2a5cabf3ad5b",
   "metadata": {},
   "outputs": [
    {
     "name": "stdout",
     "output_type": "stream",
     "text": [
      "['a', 'b', 'c']\n"
     ]
    }
   ],
   "source": [
    "data=[None,\"NA\",\"a\",\"b\",\"c\",\"NA\"]\n",
    "for i in data:\n",
    "    if None in data:\n",
    "        data.remove(None)\n",
    "      \n",
    "    if \"NA\" in data:\n",
    "        data.remove(\"NA\")\n",
    "print(data)"
   ]
  },
  {
   "cell_type": "code",
   "execution_count": 14,
   "id": "f700df51-7125-49d1-bb88-d203088ad926",
   "metadata": {},
   "outputs": [
    {
     "name": "stdout",
     "output_type": "stream",
     "text": [
      "after delelting[10, 30, 405, 0, 6, 2, 1, 3, 4, 5]\n"
     ]
    }
   ],
   "source": [
    "a=[10,20,30,405,0,6,20,20,2,1,3,4,5]\n",
    "while True:\n",
    "    if 20 in a:\n",
    "        a.remove(20)\n",
    "    else:\n",
    "        break\n",
    "print(f\"after delelting{a}\")"
   ]
  },
  {
   "cell_type": "code",
   "execution_count": null,
   "id": "a4e3125e-f68d-4b45-a25a-7ddefc82743d",
   "metadata": {},
   "outputs": [],
   "source": []
  },
  {
   "cell_type": "code",
   "execution_count": 27,
   "id": "914a492b-df94-4738-a8d8-c40b36105a22",
   "metadata": {},
   "outputs": [
    {
     "name": "stdout",
     "output_type": "stream",
     "text": [
      "6\n"
     ]
    }
   ],
   "source": [
    "data=[101,102,101,103,104,101]\n",
    "cnt=0\n",
    "for i in range(len(data)):\n",
    "    cnt=cnt+1\n",
    "print(cnt)\n",
    "    \n",
    "    "
   ]
  },
  {
   "cell_type": "code",
   "execution_count": 4,
   "id": "3d903ca0-662c-45fd-b37c-03843a016f57",
   "metadata": {},
   "outputs": [
    {
     "name": "stdout",
     "output_type": "stream",
     "text": [
      "2\n"
     ]
    }
   ],
   "source": [
    "data=[101,102,101,103,102,101,104]\n",
    "#print(list(set(data)))\n",
    "seen=set()\n",
    "duplicate=set()\n",
    "for i in data:\n",
    "    if i in seen:\n",
    "        duplicate.add(i)\n",
    "    else:\n",
    "        seen.add(i)\n",
    "print(len(duplicate))\n"
   ]
  },
  {
   "cell_type": "code",
   "execution_count": 3,
   "id": "69e06360-fd77-4c29-bcfd-316fafba6ab1",
   "metadata": {},
   "outputs": [
    {
     "name": "stdout",
     "output_type": "stream",
     "text": [
      "[104, 101, 102, 103]\n",
      "2\n"
     ]
    }
   ],
   "source": [
    "data=[101,102,101,103,102,101,104]\n",
    "print(list(set(data)))\n",
    "seen=set()\n",
    "duplicate=set()\n",
    "for i in data:\n",
    "    if i in seen:\n",
    "        duplicate.add(i)\n",
    "    else:\n",
    "        seen.add(i)\n",
    "print(len(duplicate))\n"
   ]
  },
  {
   "cell_type": "code",
   "execution_count": 2,
   "id": "3e49bfb5-473e-4a8b-8219-800e9a238e8b",
   "metadata": {},
   "outputs": [
    {
     "data": {
      "text/plain": [
       "7"
      ]
     },
     "execution_count": 2,
     "metadata": {},
     "output_type": "execute_result"
    }
   ],
   "source": [
    "data=[101,102,101,103,102,101,104]\n",
    "count=0\n",
    "for i in data:\n",
    "    count=count+1\n",
    "count"
   ]
  },
  {
   "cell_type": "code",
   "execution_count": 1,
   "id": "944e0fef-fd3b-4932-aafa-131fb07d0f32",
   "metadata": {},
   "outputs": [
    {
     "data": {
      "text/plain": [
       "103"
      ]
     },
     "execution_count": 1,
     "metadata": {},
     "output_type": "execute_result"
    }
   ],
   "source": [
    "data=[101,102,101,103,102,101,104,104]\n",
    "data=list(set(data))\n",
    "a=sorted(data,reverse=True)\n",
    "a[1]"
   ]
  },
  {
   "cell_type": "code",
   "execution_count": null,
   "id": "f80a4e37-bd15-4fab-8dfe-16174da0e24d",
   "metadata": {},
   "outputs": [],
   "source": [
    "n=[5,2,9,1,7]\n",
    "a=sorted(n,reverse=True)\n",
    "print(a[1])"
   ]
  },
  {
   "cell_type": "code",
   "execution_count": null,
   "id": "5e573678-fd0d-48bf-838b-db097c6b4b52",
   "metadata": {},
   "outputs": [],
   "source": []
  },
  {
   "cell_type": "code",
   "execution_count": null,
   "id": "08b242da-b187-4f5d-b976-6a082b413261",
   "metadata": {},
   "outputs": [],
   "source": []
  }
 ],
 "metadata": {
  "kernelspec": {
   "display_name": "Python 3 (ipykernel)",
   "language": "python",
   "name": "python3"
  },
  "language_info": {
   "codemirror_mode": {
    "name": "ipython",
    "version": 3
   },
   "file_extension": ".py",
   "mimetype": "text/x-python",
   "name": "python",
   "nbconvert_exporter": "python",
   "pygments_lexer": "ipython3",
   "version": "3.13.5"
  }
 },
 "nbformat": 4,
 "nbformat_minor": 5
}
