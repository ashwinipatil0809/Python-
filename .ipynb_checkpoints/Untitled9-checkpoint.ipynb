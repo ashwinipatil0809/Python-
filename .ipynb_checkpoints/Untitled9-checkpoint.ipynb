{
 "cells": [
  {
   "cell_type": "markdown",
   "id": "fc4ef149-3bfe-48a6-adb7-cb525323e741",
   "metadata": {},
   "source": [
    "# Exception handling in pyhon"
   ]
  },
  {
   "cell_type": "markdown",
   "id": "5972beb2-a9ab-4898-a59e-938d580bea08",
   "metadata": {},
   "source": [
    "## 1.try"
   ]
  },
  {
   "cell_type": "code",
   "execution_count": null,
   "id": "9cffffec-af3f-4203-a963-f815539148a3",
   "metadata": {},
   "outputs": [],
   "source": [
    "- try keyword is used to specify a block whrere we should place exception code.\n",
    "- run the code under the try statement.\n",
    "- the try block must be followed by either catch or finally.\n",
    "  it mean we cant try block alone."
   ]
  },
  {
   "cell_type": "code",
   "execution_count": null,
   "id": "1b4435fc-49ac-4f28-b0de-0a45cb547a9d",
   "metadata": {},
   "outputs": [],
   "source": [
    "# Syntax:\n",
    "try:\n",
    "    statement-1\n",
    "    statement-2\n"
   ]
  },
  {
   "cell_type": "markdown",
   "id": "dbe53dfb-718d-45d9-aa2d-852448555e7e",
   "metadata": {},
   "source": [
    "## 2.Except"
   ]
  },
  {
   "cell_type": "code",
   "execution_count": null,
   "id": "f7a0f157-7434-45cb-bfe5-edef878a381b",
   "metadata": {},
   "outputs": [],
   "source": [
    "- the except block is used to handle the exception.\n",
    "-when an exception is raised,execute the code under the except statement.\n",
    "-A catch (or except) block cannot be used alone; it must always come after a try block."
   ]
  },
  {
   "cell_type": "code",
   "execution_count": null,
   "id": "b7c8a0f4-1922-4288-a0ca-1058a05e9cdf",
   "metadata": {},
   "outputs": [],
   "source": [
    "#Syntax- try block with one except block\n",
    "try:\n",
    "   statement-1\n",
    "   statement-2\n",
    "except <error-type>:\n",
    "    statement-3\n",
    "\n"
   ]
  },
  {
   "cell_type": "code",
   "execution_count": 3,
   "id": "b6f71b50-e812-407b-a00c-8a9a84079d2e",
   "metadata": {},
   "outputs": [
    {
     "name": "stdout",
     "output_type": "stream",
     "text": [
      "under the try block is execute\n",
      "an exception has occurred!\n"
     ]
    }
   ],
   "source": [
    "try:\n",
    "    print(\"under the try block is execute\")\n",
    "    print(x)\n",
    "except:\n",
    "    print(\"an exception has occurred!\")"
   ]
  },
  {
   "cell_type": "code",
   "execution_count": 6,
   "id": "2a9405f3-e3e2-4a22-ad61-d420fd01f415",
   "metadata": {},
   "outputs": [
    {
     "name": "stdout",
     "output_type": "stream",
     "text": [
      "None\n",
      "exceute when expenation occur\n",
      "***********************************\n"
     ]
    },
    {
     "name": "stderr",
     "output_type": "stream",
     "text": [
      "Traceback (most recent call last):\n",
      "  File \"C:\\Users\\Ashwini\\AppData\\Local\\Temp\\ipykernel_3512\\4252454546.py\", line 5, in <module>\n",
      "    result = a / b\n",
      "             ~~^~~\n",
      "ZeroDivisionError: division by zero\n"
     ]
    }
   ],
   "source": [
    "import traceback \n",
    "try:\n",
    "    a = 10\n",
    "    b = 0\n",
    "    result = a / b\n",
    "    print(\"Result:\", result)\n",
    "except:\n",
    "    print(traceback.print_exc()) \n",
    "    print(\"exceute when expenation occur\")\n",
    "\n",
    "print(\"***********************************\")\n"
   ]
  },
  {
   "cell_type": "code",
   "execution_count": 4,
   "id": "11efbf71-1707-4d16-84d5-c8c99120794c",
   "metadata": {},
   "outputs": [
    {
     "name": "stdout",
     "output_type": "stream",
     "text": [
      "Error: Cannot divide by zero!\n"
     ]
    }
   ],
   "source": [
    "try:\n",
    "    a = 10\n",
    "    b = 0\n",
    "    result = a / b\n",
    "    print(\"Result:\", result)\n",
    "except ZeroDivisionError:\n",
    "    print(\"Error: Cannot divide by zero!\")"
   ]
  },
  {
   "cell_type": "code",
   "execution_count": 7,
   "id": "cb51a968-83af-4621-8c0d-adbf76415c32",
   "metadata": {},
   "outputs": [
    {
     "name": "stdin",
     "output_type": "stream",
     "text": [
      "Enter a number:  0\n"
     ]
    },
    {
     "name": "stdout",
     "output_type": "stream",
     "text": [
      "Error: Cannot divide by zero!\n"
     ]
    }
   ],
   "source": [
    "#handling multiple exception\n",
    "try:\n",
    "    num = int(input(\"Enter a number: \"))\n",
    "    result = 10 / num\n",
    "    print(\"Result:\", result)\n",
    "except ValueError:\n",
    "    print(\"Error: Invalid input! Please enter a number.\")\n",
    "except ZeroDivisionError:\n",
    "    print(\"Error: Cannot divide by zero!\")"
   ]
  },
  {
   "cell_type": "code",
   "execution_count": null,
   "id": "9b736b5b-3427-4fb6-bda6-2c3d9a2e3983",
   "metadata": {},
   "outputs": [],
   "source": [
    "-if user enters a non-numeric value,valueError is caught.\n",
    "-if user enters 0,ZeroDivisionError is caught."
   ]
  },
  {
   "cell_type": "code",
   "execution_count": 8,
   "id": "bcac5b93-31c2-4f82-8f27-8a30c64c3b16",
   "metadata": {},
   "outputs": [
    {
     "name": "stdin",
     "output_type": "stream",
     "text": [
      "Enter a number:  5\n"
     ]
    },
    {
     "name": "stdout",
     "output_type": "stream",
     "text": [
      "Result: 2.0\n"
     ]
    }
   ],
   "source": [
    "#handling multiple exception\n",
    "try:\n",
    "    num = int(input(\"Enter a number: \"))\n",
    "    result = 10 / num\n",
    "    print(\"Result:\", result)\n",
    "except ValueError:\n",
    "    print(\"Error: Invalid input! Please enter a number.\")\n",
    "except ZeroDivisionError:\n",
    "    print(\"Error: Cannot divide by zero!\")"
   ]
  },
  {
   "cell_type": "code",
   "execution_count": 10,
   "id": "8c9d3ce6-9b1f-4809-9ddc-5e385f43ef71",
   "metadata": {},
   "outputs": [
    {
     "name": "stdout",
     "output_type": "stream",
     "text": [
      "in try block\n",
      "None\n",
      "exceute when expenation occur\n",
      "***********************************\n"
     ]
    },
    {
     "name": "stderr",
     "output_type": "stream",
     "text": [
      "Traceback (most recent call last):\n",
      "  File \"C:\\Users\\Ashwini\\AppData\\Local\\Temp\\ipykernel_3512\\3723046752.py\", line 4, in <module>\n",
      "    f=open(\"filename.txt\",\"r\")  # hi file nhi mnaun traceback ne sagital ki FileNotFoundError\n",
      "  File \"C:\\ProgramData\\anaconda3\\Lib\\site-packages\\IPython\\core\\interactiveshell.py\", line 324, in _modified_open\n",
      "    return io_open(file, *args, **kwargs)\n",
      "FileNotFoundError: [Errno 2] No such file or directory: 'filename.txt'\n"
     ]
    }
   ],
   "source": [
    "import traceback #sytex correct but\n",
    "try:\n",
    "    print(\"in try block\")\n",
    "    f=open(\"filename.txt\",\"r\")  # hi file nhi mnaun traceback ne sagital ki FileNotFoundError\n",
    "    a=f.read()\n",
    "    print(a)\n",
    "    f.close()\n",
    "    \n",
    "    \n",
    "except:\n",
    "    print(traceback.print_exc())\n",
    "    print(\"exceute when expenation occur\")\n",
    "\n",
    "print(\"***********************************\")"
   ]
  },
  {
   "cell_type": "code",
   "execution_count": 11,
   "id": "9b780fea-5a41-4707-b019-7adf84c8ccb8",
   "metadata": {},
   "outputs": [
    {
     "name": "stdout",
     "output_type": "stream",
     "text": [
      "in try block\n",
      "[Errno 2] No such file or directory: 'test7.txt'\n",
      "exceute when expenation occur\n",
      "***********************************\n"
     ]
    }
   ],
   "source": [
    "#without traceback\n",
    "#import traceback #sytex correct but\n",
    "try:\n",
    "    print(\"in try block\")\n",
    "    f=open(\"test7.txt\",\"r\")\n",
    "    a=f.read()\n",
    "    print(a)\n",
    "    f.close()\n",
    "    \n",
    "    \n",
    "except FileNotFoundError as e:\n",
    "      print(e)\n",
    "   # print(traceback.print_exc())  if ypu know the propable of exceptioon or what is exception occour you just put on except keyword\n",
    "print(\"exceute when expenation occur\")\n",
    "\n",
    "print(\"***********************************\")"
   ]
  },
  {
   "cell_type": "code",
   "execution_count": 13,
   "id": "09e530d1-7aec-4d6b-aba4-8dd7a1ecc182",
   "metadata": {},
   "outputs": [
    {
     "name": "stdout",
     "output_type": "stream",
     "text": [
      "in try block\n",
      "python is easygoodgood  good\n",
      "exceute when expenation occur\n",
      "***********************************\n"
     ]
    }
   ],
   "source": [
    "#without traceback\n",
    "#import traceback #sytex correct but\n",
    "try:\n",
    "    print(\"in try block\")\n",
    "    f=open(\"test.txt\",\"r\")\n",
    "    a=f.read()\n",
    "    print(a)\n",
    "    f.close()\n",
    "    \n",
    "    \n",
    "except FileNotFoundError as e:\n",
    "      print(e)\n",
    "   # print(traceback.print_exc())  if ypu know the propable of exceptioon or what is exception occour you just put on except keyword\n",
    "print(\"exceute when expenation occur\")\n",
    "\n",
    "print(\"***********************************\")"
   ]
  },
  {
   "cell_type": "markdown",
   "id": "85425762-cef2-417d-bac4-c68c793379d2",
   "metadata": {},
   "source": [
    "## 3. else\n"
   ]
  },
  {
   "cell_type": "code",
   "execution_count": null,
   "id": "b095502b-efe9-4d39-8f6f-39c1b2327a64",
   "metadata": {},
   "outputs": [],
   "source": [
    "-The else block runs only if no exception occurs in the try block.\n",
    "-Useful for code that should execute only when there’s no error, keeping it separate from try and except\n",
    "-else runs only if no exception."
   ]
  },
  {
   "cell_type": "code",
   "execution_count": 14,
   "id": "fdd7c3a4-5c4d-4edb-869b-ab84805ffa84",
   "metadata": {},
   "outputs": [
    {
     "name": "stdin",
     "output_type": "stream",
     "text": [
      "Enter a number:  5\n"
     ]
    },
    {
     "name": "stdout",
     "output_type": "stream",
     "text": [
      "Division successful, result: 2.0\n"
     ]
    }
   ],
   "source": [
    "try:\n",
    "    x = int(input(\"Enter a number: \"))\n",
    "    y = 10 / x\n",
    "except ZeroDivisionError:\n",
    "    print(\"Cannot divide by zero!\")\n",
    "except ValueError:\n",
    "    print(\"Invalid input! Please enter a number.\")\n",
    "else:\n",
    "    print(\"Division successful, result:\", y)"
   ]
  },
  {
   "cell_type": "code",
   "execution_count": null,
   "id": "cd74a3d1-1f8a-4e18-89e2-12ad2df93b40",
   "metadata": {},
   "outputs": [],
   "source": [
    "If user enters 0 → except ZeroDivisionError runs.\n",
    "\n",
    "If user enters \"abc\" → except ValueError runs.\n",
    "\n",
    "If user enters 2 → else runs, prints the result."
   ]
  },
  {
   "cell_type": "markdown",
   "id": "660bac88-1a2d-4f34-afdc-122d10fcc900",
   "metadata": {},
   "source": [
    "## 4.finally"
   ]
  },
  {
   "cell_type": "code",
   "execution_count": null,
   "id": "1e1fd4d0-fb3d-4017-b077-c01413571f09",
   "metadata": {},
   "outputs": [],
   "source": [
    "finally runs always, whether error occurred or no"
   ]
  },
  {
   "cell_type": "code",
   "execution_count": 15,
   "id": "b1260234-ac64-4764-9fa8-97b452f55412",
   "metadata": {},
   "outputs": [
    {
     "name": "stdin",
     "output_type": "stream",
     "text": [
      "Enter a number:  0\n"
     ]
    },
    {
     "name": "stdout",
     "output_type": "stream",
     "text": [
      "Cannot divide by zero!\n",
      "Finally block: This always runs, closing resources if needed\n"
     ]
    }
   ],
   "source": [
    "try:\n",
    "    x = int(input(\"Enter a number: \"))\n",
    "    y = 10 / x\n",
    "except ZeroDivisionError:\n",
    "    print(\"Cannot divide by zero!\")\n",
    "except ValueError:\n",
    "    print(\"Invalid input! Please enter a number.\")\n",
    "else:\n",
    "    print(\"Division successful, result:\", y)\n",
    "finally:\n",
    "    print(\"Finally block: This always runs, closing resources if needed\")"
   ]
  },
  {
   "cell_type": "markdown",
   "id": "41af1036-4da2-4e31-a459-8310151d38e1",
   "metadata": {},
   "source": [
    "# All example"
   ]
  },
  {
   "cell_type": "code",
   "execution_count": 16,
   "id": "0feb644a-2b52-465e-97ba-a10ea650ca8a",
   "metadata": {},
   "outputs": [
    {
     "name": "stdin",
     "output_type": "stream",
     "text": [
      "Enter a number to divide 100:  50\n"
     ]
    },
    {
     "name": "stdout",
     "output_type": "stream",
     "text": [
      "Success! The result is: 2.0\n",
      "Execution finished. This runs no matter what.\n"
     ]
    }
   ],
   "source": [
    "try:\n",
    "    num = int(input(\"Enter a number to divide 100: \"))\n",
    "    result = 100 / num  # This may raise ZeroDivisionError\n",
    "except ZeroDivisionError:\n",
    "    print(\"Error: Cannot divide by zero!\")\n",
    "except ValueError:\n",
    "    print(\"Error: Invalid input! Please enter a number.\")\n",
    "else:\n",
    "    print(\"Success! The result is:\", result)\n",
    "finally:\n",
    "    print(\"Execution finished. This runs no matter what.\")\n"
   ]
  },
  {
   "cell_type": "code",
   "execution_count": null,
   "id": "a66fe93f-90ee-444d-80a8-6d5fd656da24",
   "metadata": {},
   "outputs": [],
   "source": [
    "try → Code that might cause an exception.\n",
    "\n",
    "except → Runs if an error occurs (ZeroDivisionError or ValueError).\n",
    "\n",
    "else → Runs only if no exception occurred.\n",
    "\n",
    "finally → Runs always, no matter what."
   ]
  },
  {
   "cell_type": "code",
   "execution_count": null,
   "id": "ac894a1c-8538-4082-9156-06b5a49db2c8",
   "metadata": {},
   "outputs": [],
   "source": []
  }
 ],
 "metadata": {
  "kernelspec": {
   "display_name": "Python 3 (ipykernel)",
   "language": "python",
   "name": "python3"
  },
  "language_info": {
   "codemirror_mode": {
    "name": "ipython",
    "version": 3
   },
   "file_extension": ".py",
   "mimetype": "text/x-python",
   "name": "python",
   "nbconvert_exporter": "python",
   "pygments_lexer": "ipython3",
   "version": "3.13.5"
  }
 },
 "nbformat": 4,
 "nbformat_minor": 5
}
