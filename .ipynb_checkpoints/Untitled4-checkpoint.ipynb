{
 "cells": [
  {
   "cell_type": "code",
   "execution_count": null,
   "id": "438e9c0a-f134-4715-a5e0-904860b3d764",
   "metadata": {},
   "outputs": [],
   "source": []
  }
 ],
 "metadata": {
  "kernelspec": {
   "display_name": "",
   "name": ""
  },
  "language_info": {
   "name": ""
  }
 },
 "nbformat": 4,
 "nbformat_minor": 5
}
