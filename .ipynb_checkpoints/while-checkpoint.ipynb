{
 "cells": [
  {
   "cell_type": "code",
   "execution_count": 1,
   "id": "64ae3ef6-57b6-45d0-82bc-73ee1efd665d",
   "metadata": {},
   "outputs": [
    {
     "name": "stdout",
     "output_type": "stream",
     "text": [
      "15 *1=15\n",
      "15 *2=30\n",
      "15 *3=45\n",
      "15 *4=60\n",
      "15 *5=75\n",
      "15 *6=90\n",
      "15 *7=105\n",
      "15 *8=120\n",
      "15 *9=135\n",
      "15 *10=150\n"
     ]
    }
   ],
   "source": [
    "n=15\n",
    "i=1\n",
    "while i<=10:\n",
    "    print(f\"{n} *{i}={n*i}\")\n",
    "    i=i+1\n"
   ]
  },
  {
   "cell_type": "code",
   "execution_count": 5,
   "id": "c9f2fbc2-c388-4f6b-a450-8f828ff22489",
   "metadata": {},
   "outputs": [
    {
     "ename": "NameError",
     "evalue": "name 'lst' is not defined",
     "output_type": "error",
     "traceback": [
      "\u001b[1;31m---------------------------------------------------------------------------\u001b[0m",
      "\u001b[1;31mNameError\u001b[0m                                 Traceback (most recent call last)",
      "Cell \u001b[1;32mIn[5], line 7\u001b[0m\n\u001b[0;32m      5\u001b[0m i\u001b[38;5;241m=\u001b[39m\u001b[38;5;241m0\u001b[39m\n\u001b[0;32m      6\u001b[0m \u001b[38;5;28;01mwhile\u001b[39;00m i\u001b[38;5;241m<\u001b[39m\u001b[38;5;28mlen\u001b[39m(lst1):\n\u001b[1;32m----> 7\u001b[0m     \u001b[38;5;28;01mif\u001b[39;00m lst[i]\u001b[38;5;241m%\u001b[39m\u001b[38;5;241m2\u001b[39m\u001b[38;5;241m==\u001b[39m\u001b[38;5;241m0\u001b[39m:\n\u001b[0;32m      8\u001b[0m         even_lst\u001b[38;5;241m.\u001b[39mappend(lst1[i])\n\u001b[0;32m      9\u001b[0m     \u001b[38;5;28;01melse\u001b[39;00m:\n",
      "\u001b[1;31mNameError\u001b[0m: name 'lst' is not defined"
     ]
    }
   ],
   "source": [
    "lst1=[10,3,45,48,89,63,77,64,90]\n",
    "even_lst=[]\n",
    "odd_lst=[]\n",
    "#lst1[0]    #indexing\n",
    "i=0\n",
    "while i<len(lst1):\n",
    "    if lst[i]%2==0:\n",
    "        even_lst.append(lst1[i])\n",
    "    else:\n",
    "        odd_lst.append(lst1[i])\n",
    "    i=i+1\n",
    "print(\"even number list--->\",even_lst)\n",
    "print(\"even number list--->\",odd_lst)"
   ]
  },
  {
   "cell_type": "code",
   "execution_count": 3,
   "id": "7d08c56c-aeb2-446f-90a8-48b5f2eb2e77",
   "metadata": {},
   "outputs": [
    {
     "data": {
      "text/plain": [
       "[10, 3, 45, 48, 89, 63, 77, 64, 90]"
      ]
     },
     "execution_count": 3,
     "metadata": {},
     "output_type": "execute_result"
    }
   ],
   "source": [
    "lst1[0:]"
   ]
  },
  {
   "cell_type": "code",
   "execution_count": null,
   "id": "c87cb94e-6788-422c-996f-4bf8770054d7",
   "metadata": {},
   "outputs": [],
   "source": []
  },
  {
   "cell_type": "code",
   "execution_count": null,
   "id": "67337e32-6138-49b1-9a94-197b7e84f0c1",
   "metadata": {},
   "outputs": [],
   "source": []
  },
  {
   "cell_type": "code",
   "execution_count": null,
   "id": "0e0f1aa9-264a-4b04-a7be-73cf241fd3fa",
   "metadata": {},
   "outputs": [],
   "source": []
  },
  {
   "cell_type": "code",
   "execution_count": null,
   "id": "f0f428c2-b1d8-455e-a20f-17616ac2e0e2",
   "metadata": {},
   "outputs": [],
   "source": []
  }
 ],
 "metadata": {
  "kernelspec": {
   "display_name": "Python 3 (ipykernel)",
   "language": "python",
   "name": "python3"
  },
  "language_info": {
   "codemirror_mode": {
    "name": "ipython",
    "version": 3
   },
   "file_extension": ".py",
   "mimetype": "text/x-python",
   "name": "python",
   "nbconvert_exporter": "python",
   "pygments_lexer": "ipython3",
   "version": "3.13.5"
  }
 },
 "nbformat": 4,
 "nbformat_minor": 5
}
