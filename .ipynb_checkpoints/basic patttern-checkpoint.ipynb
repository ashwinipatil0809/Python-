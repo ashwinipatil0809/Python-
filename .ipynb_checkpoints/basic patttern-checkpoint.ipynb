{
 "cells": [
  {
   "cell_type": "code",
   "execution_count": 1,
   "id": "630d10e5-0033-4545-87c0-bf969906a537",
   "metadata": {},
   "outputs": [
    {
     "name": "stdout",
     "output_type": "stream",
     "text": [
      "2\n",
      "3\n",
      "4\n"
     ]
    }
   ],
   "source": [
    "for i in range(2,5):\n",
    "    print(i)\n",
    "    if i==5:\n",
    "        print(i)\n",
    "        print(\"Value found\")\n",
    "        break"
   ]
  },
  {
   "cell_type": "code",
   "execution_count": 3,
   "id": "dffa1767-cabb-49e3-becc-32f38cd491ac",
   "metadata": {},
   "outputs": [
    {
     "name": "stdout",
     "output_type": "stream",
     "text": [
      "number is: 10\n",
      "we are testing break statement\n",
      "number is: 11\n",
      "we are testing break statement\n",
      "number is: 12\n",
      "required number found\n"
     ]
    }
   ],
   "source": [
    "for num in range(10,15):\n",
    "    print(\"number is:\",num)\n",
    "    if num==12:\n",
    "        print(\"required number found\")\n",
    "        break\n",
    "    print(\"we are testing break statement\")"
   ]
  },
  {
   "cell_type": "code",
   "execution_count": 5,
   "id": "f7ef6274-d15f-49ce-831b-82ca8095c16c",
   "metadata": {},
   "outputs": [
    {
     "name": "stdout",
     "output_type": "stream",
     "text": [
      "number is: 10\n",
      "we are testing break statement\n",
      "number is: 11\n",
      "we are testing break statement\n",
      "number is: 12\n",
      "required number found\n",
      "number is: 13\n",
      "we are testing break statement\n",
      "number is: 14\n",
      "we are testing break statement\n"
     ]
    }
   ],
   "source": [
    "for num in range(10,15):\n",
    "    print(\"number is:\",num)\n",
    "    if num==12:\n",
    "        print(\"required number found\")\n",
    "        continue\n",
    "    print(\"we are testing break statement\")"
   ]
  },
  {
   "cell_type": "code",
   "execution_count": 7,
   "id": "d802447b-02eb-427b-be4f-3d00cc151eeb",
   "metadata": {},
   "outputs": [
    {
     "name": "stdout",
     "output_type": "stream",
     "text": [
      "integer list----> [3, 1, 4, 6, 7, 10, 20]\n",
      "string list----> ['python', 'pune', 'mumbai']\n",
      "float list-----> [10.3, 51.21]\n"
     ]
    }
   ],
   "source": [
    "list1=[3,1,4,6,7,\"python\",\"pune\",10.30,51.21,\"mumbai\",10,20]\n",
    "int_lst=[]\n",
    "str_lst=[]\n",
    "float_lst=[]\n",
    "for i in list1:\n",
    "    if type(i)==int:\n",
    "        int_lst.append(i)\n",
    "    elif type(i)==str:\n",
    "        str_lst.append(i)\n",
    "    else:\n",
    "        float_lst.append(i)\n",
    "print(\"integer list---->\",int_lst)\n",
    "print(\"string list---->\",str_lst)\n",
    "print(\"float list----->\",float_lst)"
   ]
  },
  {
   "cell_type": "code",
   "execution_count": 8,
   "id": "8eb9be97-7a8c-4d3b-a317-43cd5f225237",
   "metadata": {},
   "outputs": [
    {
     "name": "stdout",
     "output_type": "stream",
     "text": [
      "integer list----> [3]\n",
      "string list----> []\n",
      "float list-----> []\n"
     ]
    }
   ],
   "source": [
    "list1=[3,1,4,6,7,\"python\",\"pune\",10.30,51.21,\"mumbai\",10,20]\n",
    "int_lst=[]\n",
    "str_lst=[]\n",
    "float_lst=[]\n",
    "for i in list1:\n",
    "    if type(i)==int:\n",
    "        int_lst.append(i)\n",
    "        break\n",
    "    elif type(i)==str:\n",
    "        str_lst.append(i)\n",
    "        break\n",
    "    else:\n",
    "        float_lst.append(i)\n",
    "        break\n",
    "print(\"integer list---->\",int_lst)\n",
    "print(\"string list---->\",str_lst)\n",
    "print(\"float list----->\",float_lst)"
   ]
  },
  {
   "cell_type": "code",
   "execution_count": 14,
   "id": "09c370d8-d52c-40a0-8f25-2d4d346a1d06",
   "metadata": {},
   "outputs": [
    {
     "name": "stdout",
     "output_type": "stream",
     "text": [
      "integer list----> [3, 1, 4, 6, 7]\n",
      "string list----> ['python']\n",
      "float list-----> []\n"
     ]
    }
   ],
   "source": [
    "list1=[3,1,4,6,7,\"python\",\"pune\",10.30,51.21,\"mumbai\",10,20]\n",
    "int_lst=[]\n",
    "str_lst=[]\n",
    "float_lst=[]\n",
    "for i in list1:\n",
    "    if type(i)==int:\n",
    "        int_lst.append(i)\n",
    "        continue\n",
    "    elif type(i)==str:\n",
    "        str_lst.append(i)\n",
    "        break\n",
    "    else:\n",
    "        float_lst.append(i)\n",
    "        break\n",
    "print(\"integer list---->\",int_lst)\n",
    "print(\"string list---->\",str_lst)\n",
    "print(\"float list----->\",float_lst)"
   ]
  },
  {
   "cell_type": "code",
   "execution_count": 13,
   "id": "6d026938-9266-4b8b-b734-ce22e193c82f",
   "metadata": {},
   "outputs": [
    {
     "name": "stdout",
     "output_type": "stream",
     "text": [
      "integer list----> [3, 1, 4, 6, 7]\n",
      "string list----> ['python', 'pune']\n",
      "float list-----> [10.3]\n"
     ]
    }
   ],
   "source": [
    "list1=[3,1,4,6,7,\"python\",\"pune\",10.30,51.21,\"mumbai\",10,20]\n",
    "int_lst=[]\n",
    "str_lst=[]\n",
    "float_lst=[]\n",
    "for i in list1:\n",
    "    if type(i)==int:\n",
    "        int_lst.append(i)\n",
    "        continue\n",
    "    elif type(i)==str:\n",
    "        str_lst.append(i)\n",
    "        continue\n",
    "    else:\n",
    "        float_lst.append(i)\n",
    "        break\n",
    "print(\"integer list---->\",int_lst)\n",
    "print(\"string list---->\",str_lst)\n",
    "print(\"float list----->\",float_lst)"
   ]
  },
  {
   "cell_type": "code",
   "execution_count": 15,
   "id": "54f420a3-afbf-4fc3-b242-dc9a60945c1a",
   "metadata": {},
   "outputs": [
    {
     "name": "stdout",
     "output_type": "stream",
     "text": [
      "good\n",
      "good\n",
      "good\n",
      "good\n"
     ]
    }
   ],
   "source": [
    "for i in range(1,5):\n",
    "    print(\"good\")\n",
    "    continue\n",
    "    print(\"Great\")\n",
    "    break"
   ]
  },
  {
   "cell_type": "code",
   "execution_count": 16,
   "id": "08b89370-ee04-4232-ba7b-35b41000115c",
   "metadata": {},
   "outputs": [
    {
     "name": "stdout",
     "output_type": "stream",
     "text": [
      "Nedd to work\n"
     ]
    }
   ],
   "source": [
    "for i in range(2,7):\n",
    "    print(\"Nedd to work\")\n",
    "    break\n",
    "    print(\"work is done\")"
   ]
  },
  {
   "cell_type": "code",
   "execution_count": 17,
   "id": "35594486-4328-444a-a64b-1a668a1c2cb5",
   "metadata": {},
   "outputs": [
    {
     "ename": "SyntaxError",
     "evalue": "invalid syntax (720832551.py, line 1)",
     "output_type": "error",
     "traceback": [
      "\u001b[1;36m  Cell \u001b[1;32mIn[17], line 1\u001b[1;36m\u001b[0m\n\u001b[1;33m    `for i in range(5):\u001b[0m\n\u001b[1;37m    ^\u001b[0m\n\u001b[1;31mSyntaxError\u001b[0m\u001b[1;31m:\u001b[0m invalid syntax\n"
     ]
    }
   ],
   "source": [
    "`for i in range(5):\n",
    "    print(\"value of i---->\",i)\n",
    "else:\n",
    "    print(\"for loop is completed\")"
   ]
  },
  {
   "cell_type": "code",
   "execution_count": null,
   "id": "100c84ea-11a2-42cb-a2f4-01db4c6a6eee",
   "metadata": {},
   "outputs": [],
   "source": [
    "5!=5*4*3*2*1"
   ]
  },
  {
   "cell_type": "code",
   "execution_count": null,
   "id": "57138d17-39f0-4c26-afb7-0ae84e319317",
   "metadata": {},
   "outputs": [],
   "source": [
    "n=5\n",
    "fact=1"
   ]
  },
  {
   "cell_type": "code",
   "execution_count": 18,
   "id": "a4a257a8-6162-4865-90e3-4519800a1f6b",
   "metadata": {},
   "outputs": [
    {
     "data": {
      "text/plain": [
       "[1, 3, 5, 7, 9]"
      ]
     },
     "execution_count": 18,
     "metadata": {},
     "output_type": "execute_result"
    }
   ],
   "source": [
    "list(range(1,10,2))"
   ]
  },
  {
   "cell_type": "code",
   "execution_count": 27,
   "id": "932c41e6-8d30-464b-a1db-707494773dcb",
   "metadata": {},
   "outputs": [
    {
     "name": "stdout",
     "output_type": "stream",
     "text": [
      "2\n",
      "11is a prime number\n",
      "3\n",
      "11is a prime number\n",
      "4\n",
      "11is a prime number\n",
      "5\n",
      "11is a prime number\n",
      "6\n",
      "11is a prime number\n",
      "7\n",
      "11is a prime number\n",
      "8\n",
      "11is a prime number\n",
      "9\n",
      "11is a prime number\n",
      "10\n",
      "11is a prime number\n"
     ]
    }
   ],
   "source": [
    "n=11\n",
    "for i in range(2,n):\n",
    "    print(i)\n",
    "    if n%i==0:\n",
    "        print(f\"{n}is not prime number\")\n",
    "    else:\n",
    "        print(f\"{n}is a prime number\")\n",
    "    "
   ]
  },
  {
   "cell_type": "code",
   "execution_count": 26,
   "id": "09912e38-c04b-489f-8e4d-72774739622d",
   "metadata": {},
   "outputs": [
    {
     "name": "stdout",
     "output_type": "stream",
     "text": [
      "2\n",
      "11is a prime number\n"
     ]
    }
   ],
   "source": [
    "n=11\n",
    "for i in range(2,n):\n",
    "    print(i)\n",
    "    if n%i==0:\n",
    "        print(f\"{n}is not prime number\")\n",
    "    else:\n",
    "        print(f\"{n}is a prime number\")\n",
    "        break"
   ]
  },
  {
   "cell_type": "code",
   "execution_count": 25,
   "id": "77333c05-9b57-47cf-8572-69c517cd4027",
   "metadata": {},
   "outputs": [
    {
     "name": "stdout",
     "output_type": "stream",
     "text": [
      "2\n",
      "12is not prime number\n",
      "3\n",
      "12is not prime number\n",
      "4\n",
      "12is not prime number\n",
      "5\n",
      "12is a prime number\n"
     ]
    }
   ],
   "source": [
    "n=12\n",
    "for i in range(2,n):\n",
    "    print(i)\n",
    "    if n%i==0:\n",
    "        print(f\"{n}is not prime number\")\n",
    "    else:\n",
    "        print(f\"{n}is a prime number\")\n",
    "        break"
   ]
  },
  {
   "cell_type": "code",
   "execution_count": 28,
   "id": "b7b60a79-cfe9-4489-95a0-b604fc67b1ad",
   "metadata": {},
   "outputs": [
    {
     "name": "stdout",
     "output_type": "stream",
     "text": [
      "2\n",
      "12is not prime number\n"
     ]
    }
   ],
   "source": [
    "n=12\n",
    "for i in range(2,n):\n",
    "    print(i)\n",
    "    if n%i==0:\n",
    "        print(f\"{n}is not prime number\")\n",
    "        break\n",
    "else:\n",
    "        print(f\"{n}is a prime number\")\n",
    "\n",
    "    "
   ]
  },
  {
   "cell_type": "code",
   "execution_count": 29,
   "id": "93e7054d-4a94-4bc2-b9d4-57998ce40bbc",
   "metadata": {},
   "outputs": [
    {
     "name": "stdin",
     "output_type": "stream",
     "text": [
      "Enter the number: 10\n"
     ]
    },
    {
     "name": "stdout",
     "output_type": "stream",
     "text": [
      "10is not prime number\n"
     ]
    }
   ],
   "source": [
    "n=int(input(\"Enter the number:\"))\n",
    "for i in range(2,n):\n",
    "   # print(i)\n",
    "    if n%i==0:\n",
    "        print(f\"{n}is not prime number\")\n",
    "        break\n",
    "else:\n",
    "        print(f\"{n}is a prime number\")"
   ]
  },
  {
   "cell_type": "code",
   "execution_count": 30,
   "id": "481f0a58-7fd6-4aeb-9a17-9183c31c08c3",
   "metadata": {},
   "outputs": [
    {
     "name": "stdout",
     "output_type": "stream",
     "text": [
      "Char is: P\n",
      "number is: 0\n",
      "number is: 1\n",
      "number is: 2\n",
      "number is: 3\n",
      "number is: 4\n",
      "Char is: y\n",
      "number is: 0\n",
      "number is: 1\n",
      "number is: 2\n",
      "number is: 3\n",
      "number is: 4\n",
      "Char is: h\n",
      "number is: 0\n",
      "number is: 1\n",
      "number is: 2\n",
      "number is: 3\n",
      "number is: 4\n",
      "Char is: t\n",
      "number is: 0\n",
      "number is: 1\n",
      "number is: 2\n",
      "number is: 3\n",
      "number is: 4\n",
      "Char is: o\n",
      "number is: 0\n",
      "number is: 1\n",
      "number is: 2\n",
      "number is: 3\n",
      "number is: 4\n"
     ]
    }
   ],
   "source": [
    "for char in \"Pyhton\":\n",
    "    print(\"Char is:\",char)\n",
    "    for i in range(5):\n",
    "        print(\"number is:\",i)"
   ]
  },
  {
   "cell_type": "code",
   "execution_count": 31,
   "id": "a96d356c-c8b3-4913-8d26-8bbbbaed272f",
   "metadata": {},
   "outputs": [
    {
     "name": "stdout",
     "output_type": "stream",
     "text": [
      "Char is: P\n",
      "number is: 1\n",
      "number is: 2\n",
      "Char is: y\n",
      "number is: 1\n",
      "number is: 2\n",
      "Char is: h\n",
      "number is: 1\n",
      "number is: 2\n",
      "Char is: t\n",
      "number is: 1\n",
      "number is: 2\n",
      "Char is: o\n",
      "number is: 1\n",
      "number is: 2\n",
      "Char is: n\n",
      "number is: 1\n",
      "number is: 2\n"
     ]
    }
   ],
   "source": [
    "for char in \"Pyhton\":\n",
    "    print(\"Char is:\",char)\n",
    "    for i in range(1,3):\n",
    "        print(\"number is:\",i)"
   ]
  },
  {
   "cell_type": "code",
   "execution_count": 32,
   "id": "4c9f02d7-49c0-4288-a293-f5120d1a1b60",
   "metadata": {},
   "outputs": [
    {
     "name": "stdout",
     "output_type": "stream",
     "text": [
      "********************************* 1\n",
      "********************************* 2\n"
     ]
    }
   ],
   "source": [
    "for i in range(1,3):\n",
    "    print(\"*********************************\",i)"
   ]
  },
  {
   "cell_type": "code",
   "execution_count": 38,
   "id": "402c5513-f7c6-4f59-9dd1-a89a62d7f053",
   "metadata": {},
   "outputs": [
    {
     "name": "stdout",
     "output_type": "stream",
     "text": [
      "number is: 1\n",
      "*********** 1\n",
      "*********** 2\n",
      "\n",
      "number is: 2\n",
      "*********** 1\n",
      "*********** 2\n",
      "\n",
      "number is: 3\n",
      "*********** 1\n",
      "*********** 2\n",
      "\n",
      "number is: 4\n",
      "*********** 1\n",
      "*********** 2\n",
      "\n"
     ]
    }
   ],
   "source": [
    "for i in range(1,5):\n",
    "    print(\"number is:\",i)\n",
    "    for j in range(1,3):\n",
    "        print(\"***********\",j)\n",
    "    print()"
   ]
  },
  {
   "cell_type": "code",
   "execution_count": 37,
   "id": "a1cd43d2-6d69-4dd6-b62d-778b630f1ad6",
   "metadata": {},
   "outputs": [
    {
     "name": "stdout",
     "output_type": "stream",
     "text": [
      "number is: 1\n",
      "python\n",
      "python\n",
      "\n",
      "number is: 2\n",
      "python\n",
      "python\n",
      "\n",
      "number is: 3\n",
      "python\n",
      "python\n",
      "\n",
      "number is: 4\n",
      "python\n",
      "python\n",
      "\n"
     ]
    }
   ],
   "source": [
    "for i in range(1,5):\n",
    "    print(\"number is:\",i)\n",
    "    for j in range(1,3):\n",
    "        print(\"python\")\n",
    "    print()"
   ]
  },
  {
   "cell_type": "code",
   "execution_count": 39,
   "id": "4e6fdeee-dbd1-473f-b959-bb17fa7f7c5a",
   "metadata": {},
   "outputs": [
    {
     "name": "stdout",
     "output_type": "stream",
     "text": [
      "number is: 1\n",
      "*\n",
      "*\n",
      "*\n",
      "*\n",
      "\n",
      "number is: 2\n",
      "*\n",
      "*\n",
      "*\n",
      "*\n",
      "\n",
      "number is: 3\n",
      "*\n",
      "*\n",
      "*\n",
      "*\n",
      "\n",
      "number is: 4\n",
      "*\n",
      "*\n",
      "*\n",
      "*\n",
      "\n"
     ]
    }
   ],
   "source": [
    "for i in range(1,5):\n",
    "    print(\"number is:\",i)\n",
    "    for j in range(1,5):\n",
    "        print(\"*\")\n",
    "    print()"
   ]
  },
  {
   "cell_type": "code",
   "execution_count": 40,
   "id": "86d0e51f-4031-49ac-b3ae-6ff0f2a4a73e",
   "metadata": {},
   "outputs": [
    {
     "name": "stdout",
     "output_type": "stream",
     "text": [
      "******\n",
      "******\n",
      "******\n",
      "******\n",
      "\n",
      "******\n",
      "******\n",
      "******\n",
      "******\n",
      "\n",
      "******\n",
      "******\n",
      "******\n",
      "******\n",
      "\n",
      "******\n",
      "******\n",
      "******\n",
      "******\n",
      "\n"
     ]
    }
   ],
   "source": [
    "for i in range(1,5): #i=1  #i=2\n",
    "    for j in range(1,5): #j=1,2,3,4\n",
    "        print(\"******\")\n",
    "    print()"
   ]
  },
  {
   "cell_type": "code",
   "execution_count": null,
   "id": "5139325f-7f46-4342-8538-b884fd1f2a28",
   "metadata": {},
   "outputs": [],
   "source": []
  },
  {
   "cell_type": "code",
   "execution_count": null,
   "id": "0ffe3801-4669-4632-9e62-42f47e571866",
   "metadata": {},
   "outputs": [],
   "source": []
  },
  {
   "cell_type": "code",
   "execution_count": null,
   "id": "8c005333-5d10-4463-be02-1b06ed66b073",
   "metadata": {},
   "outputs": [],
   "source": []
  },
  {
   "cell_type": "code",
   "execution_count": null,
   "id": "0f43f235-e9e3-4eb6-a624-e90a4b061964",
   "metadata": {},
   "outputs": [],
   "source": []
  },
  {
   "cell_type": "code",
   "execution_count": null,
   "id": "2ed812fc-595b-4f69-9b43-2f853dfa1232",
   "metadata": {},
   "outputs": [],
   "source": []
  },
  {
   "cell_type": "code",
   "execution_count": null,
   "id": "90638727-6916-4fe6-bddd-fba798f2388e",
   "metadata": {},
   "outputs": [],
   "source": []
  }
 ],
 "metadata": {
  "kernelspec": {
   "display_name": "Python 3 (ipykernel)",
   "language": "python",
   "name": "python3"
  },
  "language_info": {
   "codemirror_mode": {
    "name": "ipython",
    "version": 3
   },
   "file_extension": ".py",
   "mimetype": "text/x-python",
   "name": "python",
   "nbconvert_exporter": "python",
   "pygments_lexer": "ipython3",
   "version": "3.13.5"
  }
 },
 "nbformat": 4,
 "nbformat_minor": 5
}
