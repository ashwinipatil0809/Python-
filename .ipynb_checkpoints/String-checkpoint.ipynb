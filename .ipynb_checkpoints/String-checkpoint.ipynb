{
 "cells": [
  {
   "cell_type": "markdown",
   "id": "effa57b1-3e85-4fe0-bed7-87363f6c59f4",
   "metadata": {},
   "source": [
    "#String"
   ]
  },
  {
   "cell_type": "code",
   "execution_count": null,
   "id": "aa4bbbf9-fe2a-4c6c-a851-0c711588481b",
   "metadata": {},
   "outputs": [],
   "source": [
    "a=\"we are learing\"\n"
   ]
  },
  {
   "cell_type": "code",
   "execution_count": 1,
   "id": "6da3e3b3-968f-4be2-92ab-e1ed54600a23",
   "metadata": {},
   "outputs": [
    {
     "data": {
      "text/plain": [
       "'p'"
      ]
     },
     "execution_count": 1,
     "metadata": {},
     "output_type": "execute_result"
    }
   ],
   "source": [
    "a=\"python\"\n",
    "a[0]"
   ]
  },
  {
   "cell_type": "code",
   "execution_count": 3,
   "id": "31bc4244-e501-4d3f-a9fd-a95fd08a4d14",
   "metadata": {},
   "outputs": [
    {
     "ename": "IndexError",
     "evalue": "string index out of range",
     "output_type": "error",
     "traceback": [
      "\u001b[1;31m---------------------------------------------------------------------------\u001b[0m",
      "\u001b[1;31mIndexError\u001b[0m                                Traceback (most recent call last)",
      "Cell \u001b[1;32mIn[3], line 1\u001b[0m\n\u001b[1;32m----> 1\u001b[0m a[\u001b[38;5;241m6\u001b[39m]\n",
      "\u001b[1;31mIndexError\u001b[0m: string index out of range"
     ]
    }
   ],
   "source": [
    "a[6]\n"
   ]
  },
  {
   "cell_type": "code",
   "execution_count": 4,
   "id": "51a75ff8-9631-4c73-8c71-8573a14a3ed1",
   "metadata": {},
   "outputs": [
    {
     "data": {
      "text/plain": [
       "'t'"
      ]
     },
     "execution_count": 4,
     "metadata": {},
     "output_type": "execute_result"
    }
   ],
   "source": [
    "a=\"python\"    #-ve indexing\n",
    "a[-4]\n"
   ]
  },
  {
   "cell_type": "code",
   "execution_count": 5,
   "id": "e2ba746c-3544-4375-9404-406018435755",
   "metadata": {},
   "outputs": [
    {
     "data": {
      "text/plain": [
       "'n'"
      ]
     },
     "execution_count": 5,
     "metadata": {},
     "output_type": "execute_result"
    }
   ],
   "source": [
    "a[-1]"
   ]
  },
  {
   "cell_type": "code",
   "execution_count": 6,
   "id": "95cb144e-9323-4f8a-bc61-4d4adad5b174",
   "metadata": {},
   "outputs": [
    {
     "data": {
      "text/plain": [
       "'lass l'"
      ]
     },
     "execution_count": 6,
     "metadata": {},
     "output_type": "execute_result"
    }
   ],
   "source": [
    "a=\"we class learing\" \n",
    "#  0 1 2 3 4 5  6 7 \n",
    "a[4:10]"
   ]
  },
  {
   "cell_type": "code",
   "execution_count": 7,
   "id": "6718b87a-1644-4f18-9f8f-649d80d7db00",
   "metadata": {},
   "outputs": [
    {
     "data": {
      "text/plain": [
       "'ass learing'"
      ]
     },
     "execution_count": 7,
     "metadata": {},
     "output_type": "execute_result"
    }
   ],
   "source": [
    "a[5:]"
   ]
  },
  {
   "cell_type": "code",
   "execution_count": 8,
   "id": "ae9c2d22-328e-485b-8335-42dcd0b22b58",
   "metadata": {},
   "outputs": [
    {
     "data": {
      "text/plain": [
       "'w ls ern'"
      ]
     },
     "execution_count": 8,
     "metadata": {},
     "output_type": "execute_result"
    }
   ],
   "source": [
    "a[0::2]    \n"
   ]
  },
  {
   "cell_type": "code",
   "execution_count": 16,
   "id": "14f8a8fc-199e-4f92-b4ce-71cdab1473d6",
   "metadata": {},
   "outputs": [
    {
     "name": "stdout",
     "output_type": "stream",
     "text": [
      "same name\n"
     ]
    }
   ],
   "source": [
    "adhar=\"ashwini\"\n",
    "pan_card=\"ASHWINI\"\n",
    "#pan_card.lower()\n",
    "if adhar.lower()==pan_card.lower():\n",
    "    print(\"same name\")\n",
    "else:\n",
    "    print(\"not same\")"
   ]
  },
  {
   "cell_type": "code",
   "execution_count": null,
   "id": "96129434-d477-4c34-bf1e-e043e7c23702",
   "metadata": {},
   "outputs": [],
   "source": []
  },
  {
   "cell_type": "raw",
   "id": "3c9bd8a9-d147-4542-9bb6-d5f0b26f271c",
   "metadata": {},
   "source": [
    "str=\" machine    learuing    \"\n",
    "str1=str1.replace(\"  \",\"\")"
   ]
  },
  {
   "cell_type": "code",
   "execution_count": 19,
   "id": "8d49bedb-fbe1-4a41-914d-9607769e098b",
   "metadata": {},
   "outputs": [
    {
     "data": {
      "text/plain": [
       "' machinelearuing'"
      ]
     },
     "execution_count": 19,
     "metadata": {},
     "output_type": "execute_result"
    }
   ],
   "source": [
    "str1=\" machine    learuing    \"\n",
    "str1=str1.replace(\"  \",\"\")\n",
    "str1"
   ]
  },
  {
   "cell_type": "code",
   "execution_count": 21,
   "id": "6d77755c-8633-4a3d-99f7-867fc9e8a0a9",
   "metadata": {},
   "outputs": [
    {
     "data": {
      "text/plain": [
       "'bachine mmmmmmmmmmmmmm'"
      ]
     },
     "execution_count": 21,
     "metadata": {},
     "output_type": "execute_result"
    }
   ],
   "source": [
    "str1=(\"machine mmmmmmmmmmmmmm\")\n",
    "str1.replace(\"m\",\"b\",1)"
   ]
  },
  {
   "cell_type": "code",
   "execution_count": 24,
   "id": "e7a74eb3-13d8-46e3-900f-6c5eb49bfeec",
   "metadata": {},
   "outputs": [
    {
     "data": {
      "text/plain": [
       "6"
      ]
     },
     "execution_count": 24,
     "metadata": {},
     "output_type": "execute_result"
    }
   ],
   "source": [
    "string=\"hello python\"\n",
    "string.index(\"p\")"
   ]
  },
  {
   "cell_type": "code",
   "execution_count": 25,
   "id": "661be693-6459-4a25-816f-c18c81c583fe",
   "metadata": {},
   "outputs": [
    {
     "data": {
      "text/plain": [
       "6"
      ]
     },
     "execution_count": 25,
     "metadata": {},
     "output_type": "execute_result"
    }
   ],
   "source": [
    "string=\"hello python\"\n",
    "string.index(\"p\",5)"
   ]
  },
  {
   "cell_type": "code",
   "execution_count": 26,
   "id": "a3371828-b228-41bf-9a41-5dbcd0558496",
   "metadata": {},
   "outputs": [
    {
     "name": "stdout",
     "output_type": "stream",
     "text": [
      "found at index: 4\n",
      "found at index: 10\n"
     ]
    }
   ],
   "source": [
    "string=\"hello python\"\n",
    "for i,v in enumerate(string):\n",
    "    if v==\"o\":\n",
    "        print(\"found at index:\",i)"
   ]
  },
  {
   "cell_type": "code",
   "execution_count": null,
   "id": "60cf5d25-81db-43b9-a7be-0a1bb7630b82",
   "metadata": {},
   "outputs": [],
   "source": []
  },
  {
   "cell_type": "code",
   "execution_count": null,
   "id": "96026f9b-0496-44d4-8f12-e8fbe122ee04",
   "metadata": {},
   "outputs": [],
   "source": []
  },
  {
   "cell_type": "code",
   "execution_count": null,
   "id": "79a67eab-8ee7-4b48-a659-c99353126eb5",
   "metadata": {},
   "outputs": [],
   "source": []
  }
 ],
 "metadata": {
  "kernelspec": {
   "display_name": "Python 3 (ipykernel)",
   "language": "python",
   "name": "python3"
  },
  "language_info": {
   "codemirror_mode": {
    "name": "ipython",
    "version": 3
   },
   "file_extension": ".py",
   "mimetype": "text/x-python",
   "name": "python",
   "nbconvert_exporter": "python",
   "pygments_lexer": "ipython3",
   "version": "3.13.5"
  }
 },
 "nbformat": 4,
 "nbformat_minor": 5
}
