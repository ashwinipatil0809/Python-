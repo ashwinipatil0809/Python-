{
 "cells": [
  {
   "cell_type": "code",
   "execution_count": null,
   "id": "18475ce9-6355-4458-8561-5c12a4f0be54",
   "metadata": {},
   "outputs": [],
   "source": [
    "lst=[67,"
   ]
  },
  {
   "cell_type": "code",
   "execution_count": 9,
   "id": "fe2df28b-d3c8-4d2b-ab14-6f8212c6be49",
   "metadata": {},
   "outputs": [],
   "source": [
    "def addition(a,b):\n",
    "    print(a)\n",
    "    print(b)\n",
    "    c=a+b\n",
    "    return c"
   ]
  },
  {
   "cell_type": "code",
   "execution_count": 10,
   "id": "13499c64-a5dc-4574-b3b5-b7f6cca665cf",
   "metadata": {},
   "outputs": [
    {
     "name": "stdout",
     "output_type": "stream",
     "text": [
      "2\n",
      "3\n"
     ]
    },
    {
     "data": {
      "text/plain": [
       "5"
      ]
     },
     "execution_count": 10,
     "metadata": {},
     "output_type": "execute_result"
    }
   ],
   "source": [
    "addition (2,3) # call   number of parametre equal"
   ]
  },
  {
   "cell_type": "code",
   "execution_count": null,
   "id": "fb5ae042-1f1e-4a3f-bf47-e08ada2f9303",
   "metadata": {},
   "outputs": [],
   "source": []
  },
  {
   "cell_type": "code",
   "execution_count": 7,
   "id": "b9f0ca43-cd0f-46b3-be97-81687208cb48",
   "metadata": {},
   "outputs": [],
   "source": [
    "def area(sq_ft,rate):\n",
    "    price=sq_ft*rate\n",
    "    return price\n",
    "    "
   ]
  },
  {
   "cell_type": "code",
   "execution_count": 8,
   "id": "e4cb65b0-cbdc-4b2f-90ff-d97893e6d9e9",
   "metadata": {},
   "outputs": [
    {
     "data": {
      "text/plain": [
       "1500000"
      ]
     },
     "execution_count": 8,
     "metadata": {},
     "output_type": "execute_result"
    }
   ],
   "source": [
    "area(600,2500)"
   ]
  },
  {
   "cell_type": "code",
   "execution_count": 11,
   "id": "40ea20f2-78bc-450f-9413-e193fb8b0848",
   "metadata": {},
   "outputs": [],
   "source": [
    "a=[23,34,45,6]\n",
    "def addition(a):\n",
    "    add=sum(a)\n",
    "    return add\n",
    "    "
   ]
  },
  {
   "cell_type": "code",
   "execution_count": 12,
   "id": "c9293140-ffaa-424b-afaf-2101351b2fe8",
   "metadata": {},
   "outputs": [
    {
     "data": {
      "text/plain": [
       "108"
      ]
     },
     "execution_count": 12,
     "metadata": {},
     "output_type": "execute_result"
    }
   ],
   "source": [
    "addition(a)"
   ]
  },
  {
   "cell_type": "code",
   "execution_count": 13,
   "id": "8f542cc9-5916-4c10-a470-85a5ec6f6147",
   "metadata": {},
   "outputs": [],
   "source": [
    "a=[20,10]\n",
    "def addition(a):\n",
    "    add=sum(a)\n",
    "    return add\n",
    "    "
   ]
  },
  {
   "cell_type": "code",
   "execution_count": 14,
   "id": "3fd3527e-bda9-43e6-a01f-8b8858f9fef4",
   "metadata": {},
   "outputs": [
    {
     "data": {
      "text/plain": [
       "30"
      ]
     },
     "execution_count": 14,
     "metadata": {},
     "output_type": "execute_result"
    }
   ],
   "source": [
    "addition(a)"
   ]
  },
  {
   "cell_type": "code",
   "execution_count": 17,
   "id": "36446f61-8618-4267-abec-77c64c175c83",
   "metadata": {},
   "outputs": [],
   "source": [
    "a=[23,34,45,6]\n",
    "def addition(lst):  #just varaible\n",
    "    add=0\n",
    "    for i in lst:\n",
    "        add=add+i\n",
    "    return add"
   ]
  },
  {
   "cell_type": "code",
   "execution_count": 16,
   "id": "716aeb13-df40-4bdb-9ac5-deff06b051c8",
   "metadata": {},
   "outputs": [
    {
     "data": {
      "text/plain": [
       "108"
      ]
     },
     "execution_count": 16,
     "metadata": {},
     "output_type": "execute_result"
    }
   ],
   "source": [
    "addition(a)"
   ]
  },
  {
   "cell_type": "code",
   "execution_count": 1,
   "id": "0233d57e-ff2c-4980-80ad-eaedbc86a1a3",
   "metadata": {},
   "outputs": [],
   "source": [
    "#average\n",
    "def average(a,b,c):\n",
    "    avg=(a+b+c)/3\n",
    "    print(\"avrage of three number is:\",avg)\n",
    "    return avg"
   ]
  },
  {
   "cell_type": "code",
   "execution_count": 2,
   "id": "8eec617e-bd3f-4022-a92a-7d0a9f1b1936",
   "metadata": {},
   "outputs": [
    {
     "name": "stdout",
     "output_type": "stream",
     "text": [
      "avrage of three number is: 20.0\n"
     ]
    },
    {
     "data": {
      "text/plain": [
       "20.0"
      ]
     },
     "execution_count": 2,
     "metadata": {},
     "output_type": "execute_result"
    }
   ],
   "source": [
    "average(10,20,30)"
   ]
  },
  {
   "cell_type": "code",
   "execution_count": 13,
   "id": "5bd8f80f-9d42-4526-be06-31d48ef53f6e",
   "metadata": {},
   "outputs": [],
   "source": [
    "#average\n",
    "def average(a,b,c):\n",
    "    avg=(a+b+c)/3\n",
    "    \n",
    "    #return avg"
   ]
  },
  {
   "cell_type": "code",
   "execution_count": 15,
   "id": "176fa7f4-0389-427c-84b9-a6b509eddebc",
   "metadata": {},
   "outputs": [
    {
     "name": "stdout",
     "output_type": "stream",
     "text": [
      "None\n"
     ]
    }
   ],
   "source": [
    "v=average(10,20,30)\n",
    "print(v)"
   ]
  },
  {
   "cell_type": "code",
   "execution_count": null,
   "id": "b7066e99-e0fa-4819-a887-0fdaaa947351",
   "metadata": {},
   "outputs": [],
   "source": []
  },
  {
   "cell_type": "code",
   "execution_count": 23,
   "id": "7137ce81-6a7c-4a1f-993e-41adffeb95cd",
   "metadata": {},
   "outputs": [],
   "source": [
    "lst=[10,20,4,5,6]\n",
    "def number(a):\n",
    "    for i in a:\n",
    "        if i%2==0:\n",
    "            print(i,\"is even\")\n",
    "        else:\n",
    "            print(i,\"odd number\")\n",
    "    "
   ]
  },
  {
   "cell_type": "code",
   "execution_count": 24,
   "id": "9506beb4-554a-4bef-a1de-90d189f47f51",
   "metadata": {},
   "outputs": [
    {
     "name": "stdout",
     "output_type": "stream",
     "text": [
      "10 is even\n",
      "20 is even\n",
      "4 is even\n",
      "5 odd number\n",
      "6 is even\n"
     ]
    }
   ],
   "source": [
    "number(lst)"
   ]
  },
  {
   "cell_type": "code",
   "execution_count": 32,
   "id": "1233754b-83e2-4c07-9c0d-dcb35f0e5045",
   "metadata": {},
   "outputs": [],
   "source": [
    "lst=[10,20,4,5,6]\n",
    "def get_even_odd_number(lst):\n",
    "    even_number=[i for i in lst if i%2==0]\n",
    "    odd_number=[i for i in lst if i%2!=0]\n",
    "    return even_number,odd_number"
   ]
  },
  {
   "cell_type": "code",
   "execution_count": 40,
   "id": "c1fe5f5f-be13-40c8-8652-d53dd6d39371",
   "metadata": {},
   "outputs": [
    {
     "name": "stdout",
     "output_type": "stream",
     "text": [
      "even number list [10, 20, 4, 6]\n",
      "odd number list [5]\n"
     ]
    }
   ],
   "source": [
    "#even,odd=get_even_odd_number(lst) #store even,odd\n",
    "even,odd=get_even_odd_number([10,20,4,5,6]) \n",
    "print(\"even number list\",even)\n",
    "print(\"odd number list\",odd)\n"
   ]
  },
  {
   "cell_type": "code",
   "execution_count": 41,
   "id": "8abba58b-2ccd-4a64-8b85-8ab438c01ed6",
   "metadata": {},
   "outputs": [
    {
     "data": {
      "text/plain": [
       "[10, 20, 4, 6, 45]"
      ]
     },
     "execution_count": 41,
     "metadata": {},
     "output_type": "execute_result"
    }
   ],
   "source": [
    "even.append(45)\n",
    "even"
   ]
  },
  {
   "cell_type": "code",
   "execution_count": 38,
   "id": "9f192cbc-15b4-47c1-aa92-b25afc7efca3",
   "metadata": {},
   "outputs": [],
   "source": [
    "\n"
   ]
  },
  {
   "cell_type": "code",
   "execution_count": null,
   "id": "9fbe827b-e750-4ef0-8409-6c78fa78c9d5",
   "metadata": {},
   "outputs": [],
   "source": []
  },
  {
   "cell_type": "code",
   "execution_count": null,
   "id": "fa50ef5c-8b29-433b-9046-06da59ed68cf",
   "metadata": {},
   "outputs": [],
   "source": []
  },
  {
   "cell_type": "code",
   "execution_count": 44,
   "id": "678042c2-b2d4-4f99-9fbd-307f59ab8e02",
   "metadata": {},
   "outputs": [],
   "source": [
    "lst=[]\n",
    "for i in range(10,31):\n",
    "    def square_first_f_last_f(a):\n",
    "        first_five=[i for i in a*a]\n",
    "        last_five=[i for i in a*a]    "
   ]
  },
  {
   "cell_type": "code",
   "execution_count": 45,
   "id": "8b26533c-e435-48c2-a7dc-5097a8e4e1cd",
   "metadata": {},
   "outputs": [
    {
     "ename": "TypeError",
     "evalue": "can't multiply sequence by non-int of type 'list'",
     "output_type": "error",
     "traceback": [
      "\u001b[1;31m---------------------------------------------------------------------------\u001b[0m",
      "\u001b[1;31mTypeError\u001b[0m                                 Traceback (most recent call last)",
      "Cell \u001b[1;32mIn[45], line 1\u001b[0m\n\u001b[1;32m----> 1\u001b[0m square_first_f_last_f(lst)\n",
      "Cell \u001b[1;32mIn[44], line 4\u001b[0m, in \u001b[0;36msquare_first_f_last_f\u001b[1;34m(a)\u001b[0m\n\u001b[0;32m      3\u001b[0m \u001b[38;5;28;01mdef\u001b[39;00m\u001b[38;5;250m \u001b[39m\u001b[38;5;21msquare_first_f_last_f\u001b[39m(a):\n\u001b[1;32m----> 4\u001b[0m     first_five\u001b[38;5;241m=\u001b[39m[i \u001b[38;5;28;01mfor\u001b[39;00m i \u001b[38;5;129;01min\u001b[39;00m a\u001b[38;5;241m*\u001b[39ma]\n\u001b[0;32m      5\u001b[0m     last_five\u001b[38;5;241m=\u001b[39m[i \u001b[38;5;28;01mfor\u001b[39;00m i \u001b[38;5;129;01min\u001b[39;00m a\u001b[38;5;241m*\u001b[39ma]\n",
      "\u001b[1;31mTypeError\u001b[0m: can't multiply sequence by non-int of type 'list'"
     ]
    }
   ],
   "source": [
    "square_first_f_last_f(lst)"
   ]
  },
  {
   "cell_type": "code",
   "execution_count": 49,
   "id": "d7bd522f-57ad-49e6-9f6b-8ddcbb122edb",
   "metadata": {},
   "outputs": [],
   "source": [
    "def square(start,end):\n",
    "    lst=[]\n",
    "    for i in range(start,start+5):\n",
    "        lst.append(i**2)\n",
    "    for j in range(end-4,end+1):\n",
    "        lst.append(j**2)\n",
    "    return lst"
   ]
  },
  {
   "cell_type": "code",
   "execution_count": 50,
   "id": "ae97de50-19f0-47c8-b591-1ed67470f9bb",
   "metadata": {},
   "outputs": [
    {
     "data": {
      "text/plain": [
       "[900, 961, 1024, 1089, 1156, 3136, 3249, 3364, 3481, 3600]"
      ]
     },
     "execution_count": 50,
     "metadata": {},
     "output_type": "execute_result"
    }
   ],
   "source": [
    "square(30,60)"
   ]
  },
  {
   "cell_type": "code",
   "execution_count": 51,
   "id": "2b6dac79-3f3f-4d9d-bd42-ae0bbc0450bd",
   "metadata": {},
   "outputs": [
    {
     "name": "stdout",
     "output_type": "stream",
     "text": [
      " result: [900, 961, 1024, 1089, 1156, 3136, 3249, 3364, 3481, 3600]\n"
     ]
    }
   ],
   "source": [
    "val=square(30,60)\n",
    "print(\" result:\",val)"
   ]
  },
  {
   "cell_type": "code",
   "execution_count": 52,
   "id": "a1232749-c786-4d1e-80ef-4c704825b0d7",
   "metadata": {},
   "outputs": [],
   "source": [
    "def square(start,end):\n",
    "    lst=[]\n",
    "    for i in range(start,start+5):\n",
    "        lst.append(i**2)\n",
    "    for j in range(end-4,end+1):\n",
    "        lst.append(j**2)\n",
    "    return "
   ]
  },
  {
   "cell_type": "code",
   "execution_count": 53,
   "id": "04a6b4b3-2993-41c2-a49b-f6add87b136f",
   "metadata": {},
   "outputs": [
    {
     "name": "stdout",
     "output_type": "stream",
     "text": [
      " result: None\n"
     ]
    }
   ],
   "source": [
    "val=square(30,60)\n",
    "print(\" result:\",val)    # because we cannot retrun "
   ]
  },
  {
   "cell_type": "code",
   "execution_count": null,
   "id": "eef02b83-58da-485b-96f3-aedc2346b162",
   "metadata": {},
   "outputs": [],
   "source": []
  },
  {
   "cell_type": "code",
   "execution_count": 56,
   "id": "535e39bd-05c8-49e7-9815-847a4203c718",
   "metadata": {},
   "outputs": [],
   "source": [
    "#avegae of square of number\n",
    "def square(start,end):\n",
    "    lst=[]\n",
    "    for i in range(start,start+5):\n",
    "        lst.append(i**2)\n",
    "    for j in range(end-4,end+1):\n",
    "        lst.append(j**2)\n",
    "    return lst"
   ]
  },
  {
   "cell_type": "code",
   "execution_count": 59,
   "id": "f15b81e1-c15f-47ec-9d81-421210349bd5",
   "metadata": {},
   "outputs": [
    {
     "name": "stdout",
     "output_type": "stream",
     "text": [
      " result: [100, 121, 144, 169, 196, 676, 729, 784, 841, 900]\n"
     ]
    }
   ],
   "source": [
    "val=square(10,30)\n",
    "print(\" result:\",val)  "
   ]
  },
  {
   "cell_type": "code",
   "execution_count": 60,
   "id": "eaae1b2f-6997-4f75-b083-c03611f474ff",
   "metadata": {},
   "outputs": [
    {
     "data": {
      "text/plain": [
       "466.0"
      ]
     },
     "execution_count": 60,
     "metadata": {},
     "output_type": "execute_result"
    }
   ],
   "source": [
    "sum(val)/len(val)"
   ]
  },
  {
   "cell_type": "code",
   "execution_count": null,
   "id": "6f877988-26da-40fd-9713-844c405ec927",
   "metadata": {},
   "outputs": [],
   "source": []
  },
  {
   "cell_type": "markdown",
   "id": "eafed702-a57f-4156-ad02-456097e8939c",
   "metadata": {},
   "source": [
    "# Types of argument"
   ]
  },
  {
   "cell_type": "markdown",
   "id": "7998d1c0-4c5e-4245-9faf-974b17e57bf5",
   "metadata": {},
   "source": [
    "## 1.Positional argument"
   ]
  },
  {
   "cell_type": "code",
   "execution_count": 43,
   "id": "01cefed1-6e7b-4f31-bd61-8f5b35d16efd",
   "metadata": {},
   "outputs": [],
   "source": [
    "def addition(a,b):\n",
    "    print(f\"a=={a},b=={b}\")\n",
    "    add=a+b\n",
    "    print(f\"addition of {a} and {b} is {add}\")\n",
    "    "
   ]
  },
  {
   "cell_type": "code",
   "execution_count": 44,
   "id": "b6fee678-5e64-4054-96d5-7791c2920860",
   "metadata": {},
   "outputs": [
    {
     "name": "stdout",
     "output_type": "stream",
     "text": [
      "a==10,b==20\n",
      "addition of 10 and 20 is 30\n"
     ]
    }
   ],
   "source": [
    "addition(10,20)"
   ]
  },
  {
   "cell_type": "code",
   "execution_count": 45,
   "id": "5cff0a56-f695-413d-93b7-d64074b9db6d",
   "metadata": {},
   "outputs": [
    {
     "name": "stdout",
     "output_type": "stream",
     "text": [
      "a==67,b==20\n",
      "addition of 67 and 20 is 87\n"
     ]
    }
   ],
   "source": [
    "addition(67,20)"
   ]
  },
  {
   "cell_type": "code",
   "execution_count": 50,
   "id": "a7658d5d-f2ee-42a6-ba28-463ff0259563",
   "metadata": {},
   "outputs": [],
   "source": [
    "def greet(name,message):\n",
    "    print(f\"hello,{name},{message}\")\n",
    "   "
   ]
  },
  {
   "cell_type": "code",
   "execution_count": 51,
   "id": "a69cefcf-3ea3-42d0-b112-7e93eaee6c23",
   "metadata": {},
   "outputs": [
    {
     "name": "stdout",
     "output_type": "stream",
     "text": [
      "hello,ashu,welcome in IT vedant\n"
     ]
    }
   ],
   "source": [
    " greet(\"ashu\",\"welcome in IT vedant\")"
   ]
  },
  {
   "cell_type": "markdown",
   "id": "349eae51-304d-49b9-ad82-fc175c77367a",
   "metadata": {},
   "source": [
    "# 2.default Argument"
   ]
  },
  {
   "cell_type": "code",
   "execution_count": 57,
   "id": "873f6017-6f41-4637-9edc-c9738b5387fa",
   "metadata": {},
   "outputs": [],
   "source": [
    "def addition(a=45,b=10,c=44):\n",
    "    print(f\"a={a},b={b},c={c}\")\n",
    "    add=a+b+c\n",
    "    print(f\"addition of {a},{b} and {c} is {add}\")"
   ]
  },
  {
   "cell_type": "code",
   "execution_count": 59,
   "id": "30f934a5-76f3-41b5-952b-e75cdf83fd4a",
   "metadata": {},
   "outputs": [
    {
     "name": "stdout",
     "output_type": "stream",
     "text": [
      "a=45,b=10,c=44\n",
      "addition of 45,10 and 44 is 99\n"
     ]
    }
   ],
   "source": [
    "addition()"
   ]
  },
  {
   "cell_type": "code",
   "execution_count": 60,
   "id": "f06a3866-bb9d-4d40-a22f-df99759602f2",
   "metadata": {},
   "outputs": [
    {
     "name": "stdout",
     "output_type": "stream",
     "text": [
      "a=23,b=10,c=44\n",
      "addition of 23,10 and 44 is 77\n"
     ]
    }
   ],
   "source": [
    "addition(23)"
   ]
  },
  {
   "cell_type": "code",
   "execution_count": 1,
   "id": "8987b7cc-3842-4bdd-b08d-c6044c6d4b0f",
   "metadata": {},
   "outputs": [],
   "source": [
    "def showinfo(name,city=\"hydrabad\"):\n",
    "    print(\"name:\",name)\n",
    "    print(\"city:\",city)\n",
    "    return"
   ]
  },
  {
   "cell_type": "code",
   "execution_count": 4,
   "id": "a9974413-30fc-4d94-affa-98ca3cf76783",
   "metadata": {},
   "outputs": [
    {
     "name": "stdout",
     "output_type": "stream",
     "text": [
      "name: mahii\n",
      "city: hydrabad\n",
      "name: paras\n",
      "city: pune\n"
     ]
    }
   ],
   "source": [
    "showinfo(\"mahii\")\n",
    "showinfo(name=\"paras\",city=\"pune\")\n"
   ]
  },
  {
   "cell_type": "markdown",
   "id": "e6ae748f-38e3-4003-820a-e85e689a6f36",
   "metadata": {},
   "source": [
    "## 3.keyword arrgument"
   ]
  },
  {
   "cell_type": "code",
   "execution_count": null,
   "id": "860ad7e6-3130-4319-806e-97d538342c70",
   "metadata": {},
   "outputs": [],
   "source": [
    "def addition(a,b=10,c=44):\n",
    "    print(f\"a={a},b={b},c={c}\")\n",
    "    add=a+b+c\n",
    "    print(f\"addition of {a},{b} and {c} is {add}\")"
   ]
  },
  {
   "cell_type": "code",
   "execution_count": null,
   "id": "f6996d4a-0c7e-4ed7-bbc2-a58cb04c1061",
   "metadata": {},
   "outputs": [],
   "source": [
    "addition(95,c=10)   #b is defalt....95 p"
   ]
  },
  {
   "cell_type": "code",
   "execution_count": null,
   "id": "abf8cc32-c755-42ed-8088-a7b49b2e780e",
   "metadata": {},
   "outputs": [],
   "source": []
  },
  {
   "cell_type": "markdown",
   "id": "744ca47f-69bc-4132-af75-9f3d63f9f94d",
   "metadata": {},
   "source": [
    "## 4.Arbitrary positional aarument"
   ]
  },
  {
   "cell_type": "code",
   "execution_count": 2,
   "id": "8ec603d4-03b0-4ff3-88ea-3c90cf68f5ff",
   "metadata": {},
   "outputs": [],
   "source": [
    "def multiplication(n1,n2,n3,n4):\n",
    "    multi=n1*n2*n3*n4\n",
    "    print(f\"multiplication is====>,{multi}\")"
   ]
  },
  {
   "cell_type": "code",
   "execution_count": 3,
   "id": "2071db74-082a-443f-88e3-91105f81003c",
   "metadata": {},
   "outputs": [
    {
     "name": "stdout",
     "output_type": "stream",
     "text": [
      "multiplication is====>,120\n"
     ]
    }
   ],
   "source": [
    "multiplication(2,3,4,5)"
   ]
  },
  {
   "cell_type": "code",
   "execution_count": 4,
   "id": "bdef32aa-a5d9-4e7e-ad93-bee79182e7eb",
   "metadata": {},
   "outputs": [],
   "source": [
    "def multiplication(*arg):\n",
    "    print(arg)\n"
   ]
  },
  {
   "cell_type": "code",
   "execution_count": 5,
   "id": "b0c982b3-1519-4b1d-97bb-f132f969f85b",
   "metadata": {},
   "outputs": [
    {
     "name": "stdout",
     "output_type": "stream",
     "text": [
      "(2, 3, 4, 5)\n"
     ]
    }
   ],
   "source": [
    "multiplication(2,3,4,5)   #variabe assign so that tuple"
   ]
  },
  {
   "cell_type": "code",
   "execution_count": null,
   "id": "ebd165bd-64ec-4db4-809b-df1d4730a0a1",
   "metadata": {},
   "outputs": [],
   "source": []
  },
  {
   "cell_type": "code",
   "execution_count": 8,
   "id": "1eaddb95-93c3-480a-973e-0456f6d13cfc",
   "metadata": {},
   "outputs": [],
   "source": [
    "def multiplication(*args):\n",
    "    print(args)\n",
    "    mul=1\n",
    "    for i in args:\n",
    "        mul=mul*i\n",
    "        \n",
    "  \n",
    "    print(f\"multiplication is====>,{mul}\")"
   ]
  },
  {
   "cell_type": "code",
   "execution_count": 9,
   "id": "9c84dca4-5992-4e0f-ad95-f330cb1c5079",
   "metadata": {},
   "outputs": [
    {
     "name": "stdout",
     "output_type": "stream",
     "text": [
      "(2, 3, 4, 5)\n",
      "multiplication is====>,120\n"
     ]
    }
   ],
   "source": [
    "multiplication(2,3,4,5)   "
   ]
  },
  {
   "cell_type": "code",
   "execution_count": null,
   "id": "68a268f2-8d0d-4192-8689-52946d5b89f6",
   "metadata": {},
   "outputs": [],
   "source": []
  },
  {
   "cell_type": "code",
   "execution_count": 10,
   "id": "c5a9bafb-b0dc-4c13-a46b-5aef403b760d",
   "metadata": {},
   "outputs": [],
   "source": [
    "def multiplication(var):\n",
    "    print(var)\n",
    "    avg=sum(var)/len(var)\n",
    "       \n",
    "  \n",
    "    print(f\"multiplication is====>,{avg}\")"
   ]
  },
  {
   "cell_type": "code",
   "execution_count": 11,
   "id": "d5ca9136-a76b-4833-b434-feed9c6eb58d",
   "metadata": {},
   "outputs": [
    {
     "ename": "NameError",
     "evalue": "name 'avgg' is not defined",
     "output_type": "error",
     "traceback": [
      "\u001b[1;31m---------------------------------------------------------------------------\u001b[0m",
      "\u001b[1;31mNameError\u001b[0m                                 Traceback (most recent call last)",
      "Cell \u001b[1;32mIn[11], line 1\u001b[0m\n\u001b[1;32m----> 1\u001b[0m avgg(\u001b[38;5;241m2\u001b[39m,\u001b[38;5;241m3\u001b[39m,\u001b[38;5;241m4\u001b[39m,\u001b[38;5;241m5\u001b[39m)\n",
      "\u001b[1;31mNameError\u001b[0m: name 'avgg' is not defined"
     ]
    }
   ],
   "source": [
    "avgg(2,3,4,5)"
   ]
  },
  {
   "cell_type": "code",
   "execution_count": null,
   "id": "b128c9cd-2dd0-45e3-8d39-70efda98e307",
   "metadata": {},
   "outputs": [],
   "source": []
  },
  {
   "cell_type": "code",
   "execution_count": 12,
   "id": "657a75a8-7689-4f63-ae88-f867c8d80130",
   "metadata": {},
   "outputs": [],
   "source": [
    "a=67       #global --inside and outside aslo\n",
    "def multiplication(var):\n",
    "    print(var)\n",
    "    avg=sum((var)/len(var))*a\n",
    "       \n",
    "  \n",
    "    print(f\"multiplication is====>,{avg}\")"
   ]
  },
  {
   "cell_type": "code",
   "execution_count": null,
   "id": "ff64d892-76da-4e97-a6a1-961c69a56f2d",
   "metadata": {},
   "outputs": [],
   "source": []
  },
  {
   "cell_type": "code",
   "execution_count": 13,
   "id": "e91bef65-9c9b-4a97-9975-33efff703d37",
   "metadata": {},
   "outputs": [],
   "source": [
    "def addition(a,b,*args):\n",
    "    print(f\"a=={a},b=={b}\")\n",
    "    print(\"args==>\",args)"
   ]
  },
  {
   "cell_type": "code",
   "execution_count": 14,
   "id": "d6d89169-1352-494d-a740-5e8c25595cd0",
   "metadata": {},
   "outputs": [
    {
     "name": "stdout",
     "output_type": "stream",
     "text": [
      "a==34,b==5\n",
      "args==> (87, 5, 3, 2, 9)\n"
     ]
    }
   ],
   "source": [
    "addition(34,5,87,5,3,2,9)"
   ]
  },
  {
   "cell_type": "code",
   "execution_count": null,
   "id": "dec82219-1f1c-487b-a307-f4dc978a7650",
   "metadata": {},
   "outputs": [],
   "source": []
  },
  {
   "cell_type": "code",
   "execution_count": 15,
   "id": "c29d0812-0373-4e55-a500-6baa2bafb526",
   "metadata": {},
   "outputs": [],
   "source": [
    "#order\n",
    "def addition(*args,a,b):   #error bec p\n",
    "    print(f\"a=={a},b=={b}\")\n",
    "    print(\"args==>\",args)"
   ]
  },
  {
   "cell_type": "code",
   "execution_count": 16,
   "id": "2bd7db13-8b48-4bb1-a405-93a8543e295a",
   "metadata": {},
   "outputs": [
    {
     "ename": "TypeError",
     "evalue": "addition() missing 2 required keyword-only arguments: 'a' and 'b'",
     "output_type": "error",
     "traceback": [
      "\u001b[1;31m---------------------------------------------------------------------------\u001b[0m",
      "\u001b[1;31mTypeError\u001b[0m                                 Traceback (most recent call last)",
      "Cell \u001b[1;32mIn[16], line 1\u001b[0m\n\u001b[1;32m----> 1\u001b[0m addition(\u001b[38;5;241m34\u001b[39m,\u001b[38;5;241m5\u001b[39m,\u001b[38;5;241m87\u001b[39m,\u001b[38;5;241m5\u001b[39m,\u001b[38;5;241m3\u001b[39m,\u001b[38;5;241m2\u001b[39m,\u001b[38;5;241m9\u001b[39m)\n",
      "\u001b[1;31mTypeError\u001b[0m: addition() missing 2 required keyword-only arguments: 'a' and 'b'"
     ]
    }
   ],
   "source": [
    "addition(34,5,87,5,3,2,9)"
   ]
  },
  {
   "cell_type": "code",
   "execution_count": null,
   "id": "8f293705-7a10-440f-b9a2-f21fda25e335",
   "metadata": {},
   "outputs": [],
   "source": []
  },
  {
   "cell_type": "code",
   "execution_count": null,
   "id": "50c3a31e-c936-4af6-b5bd-1d683ced2a6b",
   "metadata": {},
   "outputs": [],
   "source": [
    "def addition(a,b,c=34,d=78,*args)   #error bec p\n",
    "    print(f\"a=={a},b=={b}\")\n",
    "    print(\"args==>\",args)"
   ]
  },
  {
   "cell_type": "code",
   "execution_count": 17,
   "id": "986e9fbb-b45c-40fe-88db-6877efcf8e82",
   "metadata": {},
   "outputs": [
    {
     "ename": "TypeError",
     "evalue": "addition() missing 2 required keyword-only arguments: 'a' and 'b'",
     "output_type": "error",
     "traceback": [
      "\u001b[1;31m---------------------------------------------------------------------------\u001b[0m",
      "\u001b[1;31mTypeError\u001b[0m                                 Traceback (most recent call last)",
      "Cell \u001b[1;32mIn[17], line 1\u001b[0m\n\u001b[1;32m----> 1\u001b[0m addition(\u001b[38;5;241m34\u001b[39m,\u001b[38;5;241m20\u001b[39m,\u001b[38;5;241m5\u001b[39m,\u001b[38;5;241m6\u001b[39m)\n",
      "\u001b[1;31mTypeError\u001b[0m: addition() missing 2 required keyword-only arguments: 'a' and 'b'"
     ]
    }
   ],
   "source": [
    "addition(34,20,5,6)"
   ]
  },
  {
   "cell_type": "code",
   "execution_count": null,
   "id": "0b3ec25d-f852-498a-a131-07c9188798d9",
   "metadata": {},
   "outputs": [],
   "source": []
  },
  {
   "cell_type": "code",
   "execution_count": null,
   "id": "0f43ac9c-ad7e-4c1f-98ec-3f38be1d22a2",
   "metadata": {},
   "outputs": [],
   "source": [
    "5."
   ]
  },
  {
   "cell_type": "code",
   "execution_count": 18,
   "id": "6a49fc01-06a6-438c-80f9-c4b96205fcbe",
   "metadata": {},
   "outputs": [
    {
     "name": "stdout",
     "output_type": "stream",
     "text": [
      "56 34\n"
     ]
    }
   ],
   "source": [
    "def result(a,b):\n",
    "    print(a,b)\n",
    "\n",
    "result(b=34,a=56)"
   ]
  },
  {
   "cell_type": "code",
   "execution_count": 21,
   "id": "a971a6fb-881a-446b-9e34-63239d076593",
   "metadata": {},
   "outputs": [
    {
     "name": "stdout",
     "output_type": "stream",
     "text": [
      "{'b': 34, 'a': 56}\n"
     ]
    }
   ],
   "source": [
    "def result(**kwargs):\n",
    "    print(kwargs)\n",
    "\n",
    "result(b=34,a=56)"
   ]
  },
  {
   "cell_type": "code",
   "execution_count": 22,
   "id": "15870f44-3bb7-4b69-8c57-d4961f0d7707",
   "metadata": {},
   "outputs": [
    {
     "name": "stdout",
     "output_type": "stream",
     "text": [
      "{'math': 34, 'chem': 56}\n"
     ]
    }
   ],
   "source": [
    "def result(**kwargs):\n",
    "    print(kwargs)\n",
    "\n",
    "result(math=34,chem=56)"
   ]
  },
  {
   "cell_type": "code",
   "execution_count": 23,
   "id": "407a814a-63f3-4e36-bef8-2e2e436e21d4",
   "metadata": {},
   "outputs": [
    {
     "name": "stdout",
     "output_type": "stream",
     "text": [
      "45.0\n"
     ]
    }
   ],
   "source": [
    "#percentah\n",
    "def result(**kwargs):\n",
    "    print(sum(kwargs.values())/len(kwargs))\n",
    "\n",
    "result(math=34,chem=56)"
   ]
  },
  {
   "cell_type": "code",
   "execution_count": null,
   "id": "5c85c5c3-8557-48c2-b1f7-793b1f0d7a0e",
   "metadata": {},
   "outputs": [],
   "source": []
  },
  {
   "cell_type": "code",
   "execution_count": 27,
   "id": "a53beedd-8e9f-4b37-ac15-9579d39b90ca",
   "metadata": {},
   "outputs": [],
   "source": [
    "# order\n",
    "def test_args(a,b,c,*args,x=100,y=20,**kwargs):\n",
    "    print(\"positional argument==>\",a,b,c)\n",
    "    print(\"arbitaray postional ag==>\",args)\n",
    "    print(\"default argument==>\",x,y)\n",
    "    print(\"arbiatary keyword ==>\",kwargs)\n"
   ]
  },
  {
   "cell_type": "code",
   "execution_count": 29,
   "id": "edffe354-7e1b-44bf-855d-53fc8070f5da",
   "metadata": {},
   "outputs": [
    {
     "name": "stdout",
     "output_type": "stream",
     "text": [
      "positional argument==> 2 3 4\n",
      "arbitaray postional ag==> (5, 6, 7, 8, 9)\n",
      "default argument==> 10 40\n",
      "arbiatary keyword ==> {'n1': 2, 'n2': 4, 'n3': 8}\n"
     ]
    }
   ],
   "source": [
    "test_args(2,3,4,5,6,7,8,9,x=10,y=40,n1=2,n2=4,n3=8)"
   ]
  },
  {
   "cell_type": "code",
   "execution_count": null,
   "id": "fa36e138-5cfe-46f2-b801-8ac4fd5d0ed8",
   "metadata": {},
   "outputs": [],
   "source": []
  },
  {
   "cell_type": "code",
   "execution_count": 30,
   "id": "5d858762-31a9-4d53-8844-b64bc117c680",
   "metadata": {},
   "outputs": [
    {
     "name": "stdout",
     "output_type": "stream",
     "text": [
      "120\n"
     ]
    }
   ],
   "source": [
    "#factorail\n",
    "num=5\n",
    "fact=1   #initalize\n",
    "for i in range(1,num+1):\n",
    "    fact=fact*i\n",
    "print(fact)"
   ]
  },
  {
   "cell_type": "code",
   "execution_count": null,
   "id": "2d8270c6-5dc6-48c5-870d-61eda5542b38",
   "metadata": {},
   "outputs": [],
   "source": [
    "5!=5*4*3*2*1     5*4!   n*fact(4)\n",
    "4!=4*3*2*1       4*fact(3)\n",
    "3!=3*2*1          3*fact(2)"
   ]
  },
  {
   "cell_type": "code",
   "execution_count": 31,
   "id": "475432d4-137a-42a6-9edc-95f8999d9e9c",
   "metadata": {},
   "outputs": [],
   "source": [
    "#fact using recusive\n",
    "def factorail(n):\n",
    "    if n==1:\n",
    "        return 1\n",
    "    else:\n",
    "        return n*factorail(n-1) #n*factoral(4)  #n*factoral(3) #n*factoral(2)=2*1\n",
    "                                   --   6*4=24                 <-- 2*3=6          <--2*1=2"
   ]
  },
  {
   "cell_type": "code",
   "execution_count": 32,
   "id": "2aaf5f6d-c2ca-4cca-a2bb-11f1e3b83f35",
   "metadata": {},
   "outputs": [
    {
     "data": {
      "text/plain": [
       "120"
      ]
     },
     "execution_count": 32,
     "metadata": {},
     "output_type": "execute_result"
    }
   ],
   "source": [
    "factorail(5)"
   ]
  },
  {
   "cell_type": "code",
   "execution_count": 35,
   "id": "804d4d61-47c8-424e-b05e-251674f7eab4",
   "metadata": {},
   "outputs": [
    {
     "name": "stdout",
     "output_type": "stream",
     "text": [
      "value in function: 11\n",
      "value outside function: 0\n"
     ]
    }
   ],
   "source": [
    "result=0\n",
    "def add(a,b):\n",
    "    #global result\n",
    "    result=a+b\n",
    "    print(\"value in function:\",result)\n",
    "\n",
    "add(3,8)\n",
    "print(\"value outside function:\",result)"
   ]
  },
  {
   "cell_type": "code",
   "execution_count": 34,
   "id": "e66ec809-cd11-40bf-b808-aa72e3dba403",
   "metadata": {},
   "outputs": [
    {
     "name": "stdout",
     "output_type": "stream",
     "text": [
      "value in function: 11\n",
      "value outside function: 11\n"
     ]
    }
   ],
   "source": [
    "\n",
    "#global variable\n",
    "result=0\n",
    "def add(a,b):\n",
    "    global result\n",
    "    result=a+b\n",
    "    print(\"value in function:\",result)\n",
    "\n",
    "add(3,8)\n",
    "print(\"value outside function:\",result)"
   ]
  },
  {
   "cell_type": "code",
   "execution_count": 37,
   "id": "9d6e678e-59fc-4a45-b7b2-544c5159a2ac",
   "metadata": {},
   "outputs": [],
   "source": [
    "# simple\n",
    "def square(a):\n",
    "    return a**2"
   ]
  },
  {
   "cell_type": "code",
   "execution_count": null,
   "id": "404e47d5-9de4-43e4-85e7-cbbf32bb5d66",
   "metadata": {},
   "outputs": [],
   "source": [
    "square(4)"
   ]
  },
  {
   "cell_type": "code",
   "execution_count": 41,
   "id": "1a574dfe-3d86-4727-ad93-f2ae1b249591",
   "metadata": {},
   "outputs": [
    {
     "data": {
      "text/plain": [
       "9"
      ]
     },
     "execution_count": 41,
     "metadata": {},
     "output_type": "execute_result"
    }
   ],
   "source": [
    "#ambda\n",
    "(lambda a:a**2)(3)"
   ]
  },
  {
   "cell_type": "code",
   "execution_count": 43,
   "id": "71c54f19-fb45-4d04-ae36-c2394701c98f",
   "metadata": {},
   "outputs": [
    {
     "data": {
      "text/plain": [
       "<function __main__.<lambda>(a, b)>"
      ]
     },
     "execution_count": 43,
     "metadata": {},
     "output_type": "execute_result"
    }
   ],
   "source": [
    "add=(lambda a,b:a+b)    # object in python\n",
    "add"
   ]
  },
  {
   "cell_type": "code",
   "execution_count": 44,
   "id": "a18d6a7f-ee46-4fee-99a7-47ab0ca61e8a",
   "metadata": {},
   "outputs": [
    {
     "data": {
      "text/plain": [
       "6"
      ]
     },
     "execution_count": 44,
     "metadata": {},
     "output_type": "execute_result"
    }
   ],
   "source": [
    "add=(lambda a,b:a+b)   \n",
    "add(2,4)"
   ]
  },
  {
   "cell_type": "code",
   "execution_count": 47,
   "id": "d67dd38d-8db9-40b8-8e41-a61ca97029d8",
   "metadata": {},
   "outputs": [
    {
     "data": {
      "text/plain": [
       "38"
      ]
     },
     "execution_count": 47,
     "metadata": {},
     "output_type": "execute_result"
    }
   ],
   "source": [
    "add=(lambda lst:sum(lst)) \n",
    "add([23,4,5,6])"
   ]
  },
  {
   "cell_type": "code",
   "execution_count": 49,
   "id": "7548510c-d891-46aa-bbaf-b542f1e07258",
   "metadata": {},
   "outputs": [
    {
     "data": {
      "text/plain": [
       "20.0"
      ]
     },
     "execution_count": 49,
     "metadata": {},
     "output_type": "execute_result"
    }
   ],
   "source": [
    "#aveage\n",
    "add=(lambda a,b,c:(a+b+c)/3) \n",
    "add(10,20,30)"
   ]
  },
  {
   "cell_type": "code",
   "execution_count": null,
   "id": "16d99bd4-d01f-4668-b171-4a7bd12bac56",
   "metadata": {},
   "outputs": [],
   "source": [
    "#we can put all argument\n"
   ]
  },
  {
   "cell_type": "code",
   "execution_count": 50,
   "id": "77e1021d-1744-4c98-b9bf-4239b751a7a2",
   "metadata": {},
   "outputs": [
    {
     "data": {
      "text/plain": [
       "[4, 9, 25, 36, 49, 4]"
      ]
     },
     "execution_count": 50,
     "metadata": {},
     "output_type": "execute_result"
    }
   ],
   "source": [
    "a=[2,3,5,6,7,2]\n",
    "[i**2 for i in a]"
   ]
  },
  {
   "cell_type": "code",
   "execution_count": 51,
   "id": "ff068e48-b065-4365-b2ec-969d4bb7c4c6",
   "metadata": {},
   "outputs": [
    {
     "data": {
      "text/plain": [
       "[4, 9, 25, 36, 49, 4]"
      ]
     },
     "execution_count": 51,
     "metadata": {},
     "output_type": "execute_result"
    }
   ],
   "source": [
    "sqr=lambda a: [i**2 for i in a]\n",
    "sqr([2,3,5,6,7,2])"
   ]
  },
  {
   "cell_type": "code",
   "execution_count": 52,
   "id": "ecff23f9-13b3-4c80-9c5d-f0268c1a0ff2",
   "metadata": {},
   "outputs": [
    {
     "data": {
      "text/plain": [
       "20"
      ]
     },
     "execution_count": 52,
     "metadata": {},
     "output_type": "execute_result"
    }
   ],
   "source": [
    "#short hand if\n",
    "x=20\n",
    "y=10\n",
    "x if x>y else y"
   ]
  },
  {
   "cell_type": "code",
   "execution_count": 53,
   "id": "07bed4d1-4c94-45f8-b5ff-2e94534d4c93",
   "metadata": {},
   "outputs": [],
   "source": [
    "maximum=lambda x,y:x if x>y else y"
   ]
  },
  {
   "cell_type": "code",
   "execution_count": 54,
   "id": "19b5ab2f-b1be-4ff8-bb09-2801bb84937d",
   "metadata": {},
   "outputs": [
    {
     "data": {
      "text/plain": [
       "45"
      ]
     },
     "execution_count": 54,
     "metadata": {},
     "output_type": "execute_result"
    }
   ],
   "source": [
    "maximum(45,6)"
   ]
  },
  {
   "cell_type": "code",
   "execution_count": null,
   "id": "dfd3d5cb-a9e4-4e9b-b9e6-32636777839f",
   "metadata": {},
   "outputs": [],
   "source": [
    "maximum=lambda x,y:print(f\"{x} is greater\") x if x>y else print(f\" {y} is greater\")"
   ]
  },
  {
   "cell_type": "code",
   "execution_count": null,
   "id": "cf0df76f-45c2-4fae-b04f-db2713d96379",
   "metadata": {},
   "outputs": [],
   "source": []
  },
  {
   "cell_type": "code",
   "execution_count": null,
   "id": "69a827aa-181b-4bfe-8ce8-b92cfa25302e",
   "metadata": {},
   "outputs": [],
   "source": []
  },
  {
   "cell_type": "code",
   "execution_count": null,
   "id": "596af40e-6f12-4b3f-8508-ad9670a63036",
   "metadata": {},
   "outputs": [],
   "source": []
  },
  {
   "cell_type": "code",
   "execution_count": null,
   "id": "595cc854-aa53-4aa2-b560-8c7278bc011f",
   "metadata": {},
   "outputs": [],
   "source": []
  }
 ],
 "metadata": {
  "kernelspec": {
   "display_name": "Python 3 (ipykernel)",
   "language": "python",
   "name": "python3"
  },
  "language_info": {
   "codemirror_mode": {
    "name": "ipython",
    "version": 3
   },
   "file_extension": ".py",
   "mimetype": "text/x-python",
   "name": "python",
   "nbconvert_exporter": "python",
   "pygments_lexer": "ipython3",
   "version": "3.13.5"
  }
 },
 "nbformat": 4,
 "nbformat_minor": 5
}
