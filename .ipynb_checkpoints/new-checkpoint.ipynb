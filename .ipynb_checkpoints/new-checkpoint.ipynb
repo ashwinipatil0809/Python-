{
 "cells": [
  {
   "cell_type": "code",
   "execution_count": null,
   "id": "438e9c0a-f134-4715-a5e0-904860b3d764",
   "metadata": {},
   "outputs": [],
   "source": [
    "wrb creslslla"
   ]
  }
 ],
 "metadata": {
  "kernelspec": {
   "display_name": "Python 3 (ipykernel)",
   "language": "python",
   "name": "python3"
  },
  "language_info": {
   "codemirror_mode": {
    "name": "ipython",
    "version": 3
   },
   "file_extension": ".py",
   "mimetype": "text/x-python",
   "name": "python",
   "nbconvert_exporter": "python",
   "pygments_lexer": "ipython3",
   "version": "3.13.5"
  }
 },
 "nbformat": 4,
 "nbformat_minor": 5
}
