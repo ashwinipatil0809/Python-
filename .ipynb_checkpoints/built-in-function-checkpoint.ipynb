{
 "cells": [
  {
   "cell_type": "markdown",
   "id": "c73c5256-a5a2-48a4-a934-f2099a839c4b",
   "metadata": {},
   "source": [
    "# Built in function"
   ]
  },
  {
   "cell_type": "markdown",
   "id": "4416cd70-a8fe-4833-b4f0-593687821383",
   "metadata": {},
   "source": [
    "# 1.all()"
   ]
  },
  {
   "cell_type": "code",
   "execution_count": 14,
   "id": "9ed02437-dd13-4485-a8fe-4c6010525622",
   "metadata": {},
   "outputs": [
    {
     "data": {
      "text/plain": [
       "True"
      ]
     },
     "execution_count": 14,
     "metadata": {},
     "output_type": "execute_result"
    }
   ],
   "source": [
    "list1=[1,2,3,4]   #0 and false not present in a lsit\n",
    "all(list1)"
   ]
  },
  {
   "cell_type": "code",
   "execution_count": 3,
   "id": "4ad96339-018b-4b95-a0e5-c9d6e90cc941",
   "metadata": {},
   "outputs": [
    {
     "data": {
      "text/plain": [
       "False"
      ]
     },
     "execution_count": 3,
     "metadata": {},
     "output_type": "execute_result"
    }
   ],
   "source": [
    "list1=[1,2,3,4,0]   # 0 is present in a lsit so that it is false\n",
    "all(list1)"
   ]
  },
  {
   "cell_type": "code",
   "execution_count": 15,
   "id": "04368bbc-57b6-48ae-b788-7a423b60ce51",
   "metadata": {},
   "outputs": [
    {
     "data": {
      "text/plain": [
       "True"
      ]
     },
     "execution_count": 15,
     "metadata": {},
     "output_type": "execute_result"
    }
   ],
   "source": [
    "lst=[]           #list is empty so that it is false\n",
    "all(lst)"
   ]
  },
  {
   "cell_type": "code",
   "execution_count": 17,
   "id": "659e9034-7f19-4bf0-98d5-f76e69bab98e",
   "metadata": {},
   "outputs": [
    {
     "data": {
      "text/plain": [
       "False"
      ]
     },
     "execution_count": 17,
     "metadata": {},
     "output_type": "execute_result"
    }
   ],
   "source": [
    "list1=[1,2,3,4,False] #bcz of false\n",
    "all(list1)"
   ]
  },
  {
   "cell_type": "markdown",
   "id": "3c71da05-0481-4439-80a1-597ec016a8f5",
   "metadata": {},
   "source": [
    "# 2.any()"
   ]
  },
  {
   "cell_type": "code",
   "execution_count": 19,
   "id": "67a5a7c6-0146-4670-b942-ba11b039e043",
   "metadata": {},
   "outputs": [
    {
     "data": {
      "text/plain": [
       "True"
      ]
     },
     "execution_count": 19,
     "metadata": {},
     "output_type": "execute_result"
    }
   ],
   "source": [
    "lst=[1,2,3,4] #any element one is true\n",
    "any(lst)"
   ]
  },
  {
   "cell_type": "code",
   "execution_count": 21,
   "id": "ae059f33-b0cc-47bd-8f39-f24ae7b58243",
   "metadata": {},
   "outputs": [
    {
     "data": {
      "text/plain": [
       "True"
      ]
     },
     "execution_count": 21,
     "metadata": {},
     "output_type": "execute_result"
    }
   ],
   "source": [
    "list1=[1,2,3,4,False]    #any element one is true\n",
    "any(list1)"
   ]
  },
  {
   "cell_type": "code",
   "execution_count": 22,
   "id": "3d003a65-f08a-424f-a5d9-cf9fe2d8d535",
   "metadata": {},
   "outputs": [
    {
     "data": {
      "text/plain": [
       "False"
      ]
     },
     "execution_count": 22,
     "metadata": {},
     "output_type": "execute_result"
    }
   ],
   "source": [
    "lst=[]   #list is empty so that it is false\n",
    "any(lst)"
   ]
  },
  {
   "cell_type": "code",
   "execution_count": 23,
   "id": "2cb5127c-c832-49b4-9baf-276136e12d87",
   "metadata": {},
   "outputs": [
    {
     "data": {
      "text/plain": [
       "True"
      ]
     },
     "execution_count": 23,
     "metadata": {},
     "output_type": "execute_result"
    }
   ],
   "source": [
    "d1={\"A\":34,\"c\":0}   # we can put value as a 0 but not key in a dictionary\n",
    "all(d1)"
   ]
  },
  {
   "cell_type": "code",
   "execution_count": 31,
   "id": "3c7b3e41-9317-4071-ab09-c67f426e3783",
   "metadata": {},
   "outputs": [
    {
     "data": {
      "text/plain": [
       "True"
      ]
     },
     "execution_count": 31,
     "metadata": {},
     "output_type": "execute_result"
    }
   ],
   "source": [
    "d1={\"A\":34,\"B\":77,0:100}\n",
    "any(d1)"
   ]
  },
  {
   "cell_type": "markdown",
   "id": "0710db07-0099-4fb1-bb27-e4b9929b87f1",
   "metadata": {},
   "source": [
    "# 3.char()"
   ]
  },
  {
   "cell_type": "code",
   "execution_count": 37,
   "id": "01599f4d-14d8-4bd0-8297-5ccd766ac272",
   "metadata": {},
   "outputs": [
    {
     "name": "stdout",
     "output_type": "stream",
     "text": [
      "A\n",
      "a\n"
     ]
    }
   ],
   "source": [
    "print(chr(65))\n",
    "print(chr(97))"
   ]
  },
  {
   "cell_type": "markdown",
   "id": "37eb78f6-9ece-4fef-a77f-2bbf954c4f5e",
   "metadata": {},
   "source": [
    "## 4.ord()"
   ]
  },
  {
   "cell_type": "code",
   "execution_count": 47,
   "id": "b52b67de-e129-4258-b873-ea492300a638",
   "metadata": {},
   "outputs": [
    {
     "data": {
      "text/plain": [
       "65"
      ]
     },
     "execution_count": 47,
     "metadata": {},
     "output_type": "execute_result"
    }
   ],
   "source": [
    "ord('A')"
   ]
  },
  {
   "cell_type": "code",
   "execution_count": 51,
   "id": "7cbba3fe-0c75-4aed-a7f3-3d0f389dbbfc",
   "metadata": {},
   "outputs": [
    {
     "name": "stdout",
     "output_type": "stream",
     "text": [
      "90\n",
      "97\n",
      "75\n"
     ]
    }
   ],
   "source": [
    "print(ord('Z'))\n",
    "print(ord('a'))\n",
    "print(ord('K'))"
   ]
  },
  {
   "cell_type": "markdown",
   "id": "58be3f2c-eea5-4315-bdea-6d9a2a66413d",
   "metadata": {},
   "source": [
    "## 5.bin()"
   ]
  },
  {
   "cell_type": "code",
   "execution_count": 41,
   "id": "45234c23-61fb-4c4e-bac7-c8a6f8d58d34",
   "metadata": {},
   "outputs": [
    {
     "data": {
      "text/plain": [
       "'0b101'"
      ]
     },
     "execution_count": 41,
     "metadata": {},
     "output_type": "execute_result"
    }
   ],
   "source": [
    "bin(5)\n"
   ]
  },
  {
   "cell_type": "code",
   "execution_count": 40,
   "id": "e2d9c155-d0da-4461-bfce-ed170fe97fd1",
   "metadata": {},
   "outputs": [
    {
     "name": "stdout",
     "output_type": "stream",
     "text": [
      "0b1011010\n"
     ]
    }
   ],
   "source": [
    "print(bin(90))"
   ]
  },
  {
   "cell_type": "code",
   "execution_count": 42,
   "id": "bf8bf56f-f6c4-44ca-9b0c-9bf53b5e9b22",
   "metadata": {},
   "outputs": [
    {
     "name": "stdout",
     "output_type": "stream",
     "text": [
      "0b1010\n"
     ]
    }
   ],
   "source": [
    "print(bin(10))"
   ]
  },
  {
   "cell_type": "markdown",
   "id": "7f5ace8d-25f8-417c-8a72-4bfb2c3e0509",
   "metadata": {},
   "source": [
    "## 6.bool()"
   ]
  },
  {
   "cell_type": "code",
   "execution_count": 45,
   "id": "90b837b1-2b61-4901-824f-641441f12e4c",
   "metadata": {},
   "outputs": [
    {
     "name": "stdout",
     "output_type": "stream",
     "text": [
      "False\n"
     ]
    }
   ],
   "source": [
    "print(bool())"
   ]
  },
  {
   "cell_type": "code",
   "execution_count": 44,
   "id": "7de26c4d-b966-4343-94a5-007a55ce6cf8",
   "metadata": {},
   "outputs": [
    {
     "name": "stdout",
     "output_type": "stream",
     "text": [
      "False\n"
     ]
    }
   ],
   "source": [
    "print(bool(0))"
   ]
  },
  {
   "cell_type": "markdown",
   "id": "51e4252d-164c-405c-bdb9-8fb073c87225",
   "metadata": {},
   "source": [
    "## 7.enumerate"
   ]
  },
  {
   "cell_type": "code",
   "execution_count": 56,
   "id": "7c284c64-8707-46b1-8feb-957718fb5294",
   "metadata": {},
   "outputs": [
    {
     "name": "stdout",
     "output_type": "stream",
     "text": [
      "0 apple\n",
      "1 banana\n",
      "2 gava\n"
     ]
    }
   ],
   "source": [
    "fruits=[\"apple\",\"banana\",\"gava\"]\n",
    "for i,fruit in enumerate(fruits):\n",
    "    print(i,fruit)"
   ]
  },
  {
   "cell_type": "code",
   "execution_count": 58,
   "id": "29f3aa03-3247-4367-8d50-74f9135e7b66",
   "metadata": {},
   "outputs": [
    {
     "name": "stdout",
     "output_type": "stream",
     "text": [
      "100 apple\n",
      "101 banana\n",
      "102 gava\n"
     ]
    }
   ],
   "source": [
    "fruits=[\"apple\",\"banana\",\"gava\"]\n",
    "for i,fruit in enumerate(fruits,start=100):\n",
    "    print(i,fruit)"
   ]
  },
  {
   "cell_type": "markdown",
   "id": "0532da3b-4a10-4152-b3c7-0b36b9d7fe79",
   "metadata": {},
   "source": [
    "## 8.abs()"
   ]
  },
  {
   "cell_type": "code",
   "execution_count": 59,
   "id": "f59bc33b-e132-4d1a-937e-da516564910c",
   "metadata": {},
   "outputs": [
    {
     "name": "stdout",
     "output_type": "stream",
     "text": [
      "20\n"
     ]
    }
   ],
   "source": [
    "print(abs(-20))"
   ]
  },
  {
   "cell_type": "code",
   "execution_count": 60,
   "id": "8d14b6f6-62af-451c-86b4-50abd0a18280",
   "metadata": {},
   "outputs": [
    {
     "name": "stdout",
     "output_type": "stream",
     "text": [
      "90\n"
     ]
    }
   ],
   "source": [
    "print(abs(-90))"
   ]
  },
  {
   "cell_type": "markdown",
   "id": "4e9094dc-11ce-481a-a4d7-2877c162b48c",
   "metadata": {},
   "source": [
    "## 9.Round()"
   ]
  },
  {
   "cell_type": "code",
   "execution_count": 61,
   "id": "4b580430-053d-4ba8-a0f3-9a9de7e4fcc9",
   "metadata": {},
   "outputs": [
    {
     "name": "stdout",
     "output_type": "stream",
     "text": [
      "14.35\n"
     ]
    }
   ],
   "source": [
    "s=14.34526\n",
    "print(round(s,2))"
   ]
  },
  {
   "cell_type": "code",
   "execution_count": 62,
   "id": "28914dff-ec4e-4c72-ad5d-5903f74e80c2",
   "metadata": {},
   "outputs": [
    {
     "name": "stdout",
     "output_type": "stream",
     "text": [
      "14.345\n"
     ]
    }
   ],
   "source": [
    "s=14.34526\n",
    "print(round(s,3))"
   ]
  },
  {
   "cell_type": "markdown",
   "id": "919583bc-95c5-4d5e-90f8-8718c266bcc0",
   "metadata": {},
   "source": [
    "## 10.pow()"
   ]
  },
  {
   "cell_type": "code",
   "execution_count": 63,
   "id": "13678f2d-0ccb-4d69-a6be-ea04e0963cba",
   "metadata": {},
   "outputs": [
    {
     "data": {
      "text/plain": [
       "9"
      ]
     },
     "execution_count": 63,
     "metadata": {},
     "output_type": "execute_result"
    }
   ],
   "source": [
    "print(pow(3,3))"
   ]
  },
  {
   "cell_type": "code",
   "execution_count": 65,
   "id": "7e7fd24d-a73a-4043-a97b-d395b7678797",
   "metadata": {},
   "outputs": [
    {
     "name": "stdout",
     "output_type": "stream",
     "text": [
      "125\n"
     ]
    }
   ],
   "source": [
    "print(pow(5,3))"
   ]
  },
  {
   "cell_type": "markdown",
   "id": "25431690-2538-4a81-b38e-cb2aef89f0e2",
   "metadata": {},
   "source": [
    "## 11.divmod()"
   ]
  },
  {
   "cell_type": "code",
   "execution_count": 68,
   "id": "daa11334-8304-48d6-9737-5bc2b666c5bc",
   "metadata": {},
   "outputs": [
    {
     "name": "stdout",
     "output_type": "stream",
     "text": [
      "(3, 1)\n"
     ]
    }
   ],
   "source": [
    "print(divmod(10,3))  #give both remainder and quotient"
   ]
  }
 ],
 "metadata": {
  "kernelspec": {
   "display_name": "Python 3 (ipykernel)",
   "language": "python",
   "name": "python3"
  },
  "language_info": {
   "codemirror_mode": {
    "name": "ipython",
    "version": 3
   },
   "file_extension": ".py",
   "mimetype": "text/x-python",
   "name": "python",
   "nbconvert_exporter": "python",
   "pygments_lexer": "ipython3",
   "version": "3.13.5"
  }
 },
 "nbformat": 4,
 "nbformat_minor": 5
}
