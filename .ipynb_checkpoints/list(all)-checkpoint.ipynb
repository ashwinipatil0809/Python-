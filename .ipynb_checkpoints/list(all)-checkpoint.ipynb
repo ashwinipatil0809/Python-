{
 "cells": [
  {
   "cell_type": "markdown",
   "id": "af4a00af-5ac1-422e-a4c9-e5dc149ce783",
   "metadata": {},
   "source": [
    "# List"
   ]
  },
  {
   "cell_type": "code",
   "execution_count": 1,
   "id": "a9c1a0ba-517e-4c02-95f9-c8c7a46ad5d6",
   "metadata": {},
   "outputs": [
    {
     "data": {
      "text/plain": [
       "['pune', 'hydrabad', 'kolkata', ['sangli', 'dhule']]"
      ]
     },
     "execution_count": 1,
     "metadata": {},
     "output_type": "execute_result"
    }
   ],
   "source": [
    "city_name=[\"pune\",\"hydrabad\",\"kolkata\"]\n",
    "new_vity_list=[\"sangli\",\"dhule\"]\n",
    "city_name.append (new_vity_list)\n",
    "city_name"
   ]
  },
  {
   "cell_type": "code",
   "execution_count": 2,
   "id": "bb8624a7-5f95-4eb3-b2e7-310a5cce8e84",
   "metadata": {},
   "outputs": [
    {
     "data": {
      "text/plain": [
       "4"
      ]
     },
     "execution_count": 2,
     "metadata": {},
     "output_type": "execute_result"
    }
   ],
   "source": [
    "len(city_name)"
   ]
  },
  {
   "cell_type": "markdown",
   "id": "09caffe2-f85b-4df5-8771-034507a0e631",
   "metadata": {},
   "source": [
    "## extend function"
   ]
  },
  {
   "cell_type": "code",
   "execution_count": 4,
   "id": "421f3832-b4eb-496d-b83c-f47d4e69984a",
   "metadata": {},
   "outputs": [
    {
     "data": {
      "text/plain": [
       "['pune', 'hydrabad', 'kolkata', 'sangli', 'dhule']"
      ]
     },
     "execution_count": 4,
     "metadata": {},
     "output_type": "execute_result"
    }
   ],
   "source": [
    "## extend function\n",
    "city_name=[\"pune\",\"hydrabad\",\"kolkata\"]\n",
    "new_vity_list=[\"sangli\",\"dhule\"]\n",
    "city_name.extend(new_vity_list)\n",
    "city_name"
   ]
  },
  {
   "cell_type": "code",
   "execution_count": 5,
   "id": "928df18c-0d80-4a2b-bb61-172c6dcf1df6",
   "metadata": {},
   "outputs": [
    {
     "data": {
      "text/plain": [
       "['hydrabad']"
      ]
     },
     "execution_count": 5,
     "metadata": {},
     "output_type": "execute_result"
    }
   ],
   "source": [
    "a=\"hydrabad\"\n",
    "a.split()"
   ]
  },
  {
   "cell_type": "code",
   "execution_count": 6,
   "id": "4620d1f2-e765-4db3-b058-029604fb752f",
   "metadata": {},
   "outputs": [
    {
     "data": {
      "text/plain": [
       "['h', 'y', 'd', 'r', 'a', 'b', 'a', 'd']"
      ]
     },
     "execution_count": 6,
     "metadata": {},
     "output_type": "execute_result"
    }
   ],
   "source": [
    "#list constuctor    Q convert into a list\n",
    "a=\"hydrabad\"\n",
    "list(a)"
   ]
  },
  {
   "cell_type": "code",
   "execution_count": 8,
   "id": "b84a23bd-c8e3-4a83-b137-3707c6299f20",
   "metadata": {},
   "outputs": [
    {
     "data": {
      "text/plain": [
       "['A', 's', 'h', 'u']"
      ]
     },
     "execution_count": 8,
     "metadata": {},
     "output_type": "execute_result"
    }
   ],
   "source": [
    "a=\"Ashu\"\n",
    "list(a)"
   ]
  },
  {
   "cell_type": "code",
   "execution_count": 7,
   "id": "77fcc2f0-fb3d-49e8-a0e4-4c92df4b31a5",
   "metadata": {},
   "outputs": [
    {
     "ename": "TypeError",
     "evalue": "'int' object is not iterable",
     "output_type": "error",
     "traceback": [
      "\u001b[1;31m---------------------------------------------------------------------------\u001b[0m",
      "\u001b[1;31mTypeError\u001b[0m                                 Traceback (most recent call last)",
      "Cell \u001b[1;32mIn[7], line 2\u001b[0m\n\u001b[0;32m      1\u001b[0m a\u001b[38;5;241m=\u001b[39m\u001b[38;5;241m10\u001b[39m\n\u001b[1;32m----> 2\u001b[0m \u001b[38;5;28mlist\u001b[39m(a)\n",
      "\u001b[1;31mTypeError\u001b[0m: 'int' object is not iterable"
     ]
    }
   ],
   "source": [
    "a=10\n",
    "list(a)   #because we cannot iterable integer"
   ]
  },
  {
   "cell_type": "code",
   "execution_count": 12,
   "id": "99a5b92e-9e06-4990-baae-b3808439d917",
   "metadata": {},
   "outputs": [
    {
     "data": {
      "text/plain": [
       "['pune', 'hydrabad', 'kolkata', ['sangli', 'dhule']]"
      ]
     },
     "execution_count": 12,
     "metadata": {},
     "output_type": "execute_result"
    }
   ],
   "source": [
    "# but use bulit in function then list will not be updated\n",
    "city_name=[\"pune\",\"hydrabad\",\"kolkata\"]\n",
    "new_vity_list=[\"sangli\",\"dhule\"]\n",
    "\n",
    "city_name.append(new_vity_list)\n",
    "city_name"
   ]
  },
  {
   "cell_type": "code",
   "execution_count": 9,
   "id": "e8f0ea7b-d51c-4415-be39-3a6214fe0b49",
   "metadata": {},
   "outputs": [
    {
     "data": {
      "text/plain": [
       "['pune', 'hydrabad', 'kolkata', 'sangli', 'dhule']"
      ]
     },
     "execution_count": 9,
     "metadata": {},
     "output_type": "execute_result"
    }
   ],
   "source": [
    "# but not use bulit in function then list will not be updated\n",
    "city_name=[\"pune\",\"hydrabad\",\"kolkata\"]\n",
    "new_vity_list=[\"sangli\",\"dhule\"]\n",
    "city_name+new_vity_list"
   ]
  },
  {
   "cell_type": "code",
   "execution_count": 14,
   "id": "c9e5ec92-3932-4c0e-a21a-67e04c51b490",
   "metadata": {},
   "outputs": [
    {
     "data": {
      "text/plain": [
       "[10000, 5, 6, 90, 9]"
      ]
     },
     "execution_count": 14,
     "metadata": {},
     "output_type": "execute_result"
    }
   ],
   "source": [
    "# remove\n",
    "l1=[10000,3,5,6,90,9]\n",
    "l1.remove(3)\n",
    "l1\n"
   ]
  },
  {
   "cell_type": "code",
   "execution_count": 15,
   "id": "80449a57-15d2-488b-9c0a-8af99f5f37bd",
   "metadata": {},
   "outputs": [
    {
     "ename": "ValueError",
     "evalue": "list.remove(x): x not in list",
     "output_type": "error",
     "traceback": [
      "\u001b[1;31m---------------------------------------------------------------------------\u001b[0m",
      "\u001b[1;31mValueError\u001b[0m                                Traceback (most recent call last)",
      "Cell \u001b[1;32mIn[15], line 2\u001b[0m\n\u001b[0;32m      1\u001b[0m l1\u001b[38;5;241m=\u001b[39m[\u001b[38;5;241m10000\u001b[39m,\u001b[38;5;241m3\u001b[39m,\u001b[38;5;241m5\u001b[39m,\u001b[38;5;241m6\u001b[39m,\u001b[38;5;241m90\u001b[39m,\u001b[38;5;241m9\u001b[39m]\n\u001b[1;32m----> 2\u001b[0m l1\u001b[38;5;241m.\u001b[39mremove(\u001b[38;5;241m0\u001b[39m)\n\u001b[0;32m      3\u001b[0m l1\n",
      "\u001b[1;31mValueError\u001b[0m: list.remove(x): x not in list"
     ]
    }
   ],
   "source": [
    "l1=[10000,3,5,6,90,9]\n",
    "l1.remove(0)       #not presnet\n",
    "l1"
   ]
  },
  {
   "cell_type": "code",
   "execution_count": 16,
   "id": "b359b400-4428-4b55-976e-548b277937ea",
   "metadata": {},
   "outputs": [
    {
     "name": "stderr",
     "output_type": "stream",
     "text": [
      "<>:2: SyntaxWarning: invalid decimal literal\n",
      "<>:2: SyntaxWarning: invalid decimal literal\n",
      "C:\\Users\\Ashwini\\AppData\\Local\\Temp\\ipykernel_10408\\1464378138.py:2: SyntaxWarning: invalid decimal literal\n",
      "  if 9in l1:\n"
     ]
    },
    {
     "data": {
      "text/plain": [
       "[10000, 3, 5, 6, 90]"
      ]
     },
     "execution_count": 16,
     "metadata": {},
     "output_type": "execute_result"
    }
   ],
   "source": [
    "l1=[10000,3,5,6,90,9]\n",
    "if 9in l1:\n",
    "    l1.remove(9)\n",
    "else:\n",
    "    print(\"not in list\")\n",
    "l1"
   ]
  },
  {
   "cell_type": "code",
   "execution_count": null,
   "id": "eb55c591-d24d-4397-a353-0d155d650f47",
   "metadata": {},
   "outputs": [],
   "source": []
  },
  {
   "cell_type": "code",
   "execution_count": null,
   "id": "342afb39-cbe8-4d90-b280-761764eb5677",
   "metadata": {},
   "outputs": [],
   "source": []
  },
  {
   "cell_type": "code",
   "execution_count": 17,
   "id": "88e6ccde-e3ed-4916-ab3a-492470a8e4e3",
   "metadata": {},
   "outputs": [
    {
     "data": {
      "text/plain": [
       "[1, 2, 4, 8, 10, 20, 40, 60, 80]"
      ]
     },
     "execution_count": 17,
     "metadata": {},
     "output_type": "execute_result"
    }
   ],
   "source": [
    "#Sort\n",
    "list1=[10,20,40,60,80,4,2,1,8]\n",
    "list1.sort()\n",
    "list1"
   ]
  },
  {
   "cell_type": "code",
   "execution_count": 18,
   "id": "d1ab55ae-977f-4332-8873-dc56517a6259",
   "metadata": {},
   "outputs": [
    {
     "data": {
      "text/plain": [
       "[80, 60, 40, 20, 10, 8, 4, 2, 1]"
      ]
     },
     "execution_count": 18,
     "metadata": {},
     "output_type": "execute_result"
    }
   ],
   "source": [
    "#des sort\n",
    "list1=[10,20,40,60,80,4,2,1,8]\n",
    "list1.sort(reverse=True)\n",
    "list1"
   ]
  },
  {
   "cell_type": "code",
   "execution_count": 21,
   "id": "a3cbc48b-dfcb-4ee2-8115-025481d2875e",
   "metadata": {},
   "outputs": [
    {
     "data": {
      "text/plain": [
       "['M', 'P', 'R', 'eng', 'h']"
      ]
     },
     "execution_count": 21,
     "metadata": {},
     "output_type": "execute_result"
    }
   ],
   "source": [
    "sub_name=[\"M\",\"P\",\"R\",\"h\",\"eng\"]\n",
    "sub_name.sort()       # Captical because of asscii number\n",
    "sub_name\n"
   ]
  },
  {
   "cell_type": "code",
   "execution_count": 22,
   "id": "b4aae2d9-99d9-4ae5-bae8-b446e8fc39a7",
   "metadata": {},
   "outputs": [
    {
     "ename": "TypeError",
     "evalue": "'<' not supported between instances of 'int' and 'str'",
     "output_type": "error",
     "traceback": [
      "\u001b[1;31m---------------------------------------------------------------------------\u001b[0m",
      "\u001b[1;31mTypeError\u001b[0m                                 Traceback (most recent call last)",
      "Cell \u001b[1;32mIn[22], line 2\u001b[0m\n\u001b[0;32m      1\u001b[0m sub_name\u001b[38;5;241m=\u001b[39m[\u001b[38;5;124m\"\u001b[39m\u001b[38;5;124mM\u001b[39m\u001b[38;5;124m\"\u001b[39m,\u001b[38;5;124m\"\u001b[39m\u001b[38;5;124mP\u001b[39m\u001b[38;5;124m\"\u001b[39m,\u001b[38;5;124m\"\u001b[39m\u001b[38;5;124mR\u001b[39m\u001b[38;5;124m\"\u001b[39m,\u001b[38;5;124m\"\u001b[39m\u001b[38;5;124mh\u001b[39m\u001b[38;5;124m\"\u001b[39m,\u001b[38;5;124m\"\u001b[39m\u001b[38;5;124meng\u001b[39m\u001b[38;5;124m\"\u001b[39m,\u001b[38;5;241m89\u001b[39m,\u001b[38;5;241m3\u001b[39m,\u001b[38;5;241m45\u001b[39m,\u001b[38;5;241m1\u001b[39m]\n\u001b[1;32m----> 2\u001b[0m sub_name\u001b[38;5;241m.\u001b[39msort()       \u001b[38;5;66;03m# \u001b[39;00m\n\u001b[0;32m      3\u001b[0m sub_name\n",
      "\u001b[1;31mTypeError\u001b[0m: '<' not supported between instances of 'int' and 'str'"
     ]
    }
   ],
   "source": [
    "sub_name=[\"M\",\"P\",\"R\",\"h\",\"eng\",89,3,45,1]\n",
    "sub_name.sort()       #error buz co \n",
    "sub_name\n"
   ]
  },
  {
   "cell_type": "markdown",
   "id": "4406b68b-a794-4b9b-8ced-ecc60303c1f4",
   "metadata": {},
   "source": [
    "# Reverse"
   ]
  },
  {
   "cell_type": "code",
   "execution_count": 24,
   "id": "a1fe526b-cc9a-4d1d-8618-04d86b41d944",
   "metadata": {},
   "outputs": [
    {
     "data": {
      "text/plain": [
       "[0, 3, 8, 1, 4, 30, 20, 10]"
      ]
     },
     "execution_count": 24,
     "metadata": {},
     "output_type": "execute_result"
    }
   ],
   "source": [
    "list1=[10,20,30,4,1,8,3,0]\n",
    "list1[::-1]"
   ]
  },
  {
   "cell_type": "code",
   "execution_count": 25,
   "id": "61e2b8aa-a3c4-456a-bc98-fdc3599b9573",
   "metadata": {},
   "outputs": [
    {
     "data": {
      "text/plain": [
       "[0, 3, 8, 1, 4, 30, 20, 10]"
      ]
     },
     "execution_count": 25,
     "metadata": {},
     "output_type": "execute_result"
    }
   ],
   "source": [
    "list1=[10,20,30,4,1,8,3,0]\n",
    "list1.reverse()\n",
    "list1"
   ]
  },
  {
   "cell_type": "code",
   "execution_count": 28,
   "id": "c370be44-f169-444c-96aa-86d6724dfc15",
   "metadata": {},
   "outputs": [
    {
     "data": {
      "text/plain": [
       "[0, 3, 8, 1, 4, 30, 20, 10]"
      ]
     },
     "execution_count": 28,
     "metadata": {},
     "output_type": "execute_result"
    }
   ],
   "source": [
    "##Reversed\n",
    "list1=[10,20,30,4,1,8,3,0]\n",
    "list(reversed(list1))  #use list contuctor bez not bult in function and \n",
    "                            to result assign new variable\n"
   ]
  },
  {
   "cell_type": "markdown",
   "id": "de770229-420e-43f0-9422-b551c68bc61c",
   "metadata": {},
   "source": [
    "# index"
   ]
  },
  {
   "cell_type": "code",
   "execution_count": 33,
   "id": "b7129a32-c002-4bfa-8927-e303d5605caa",
   "metadata": {},
   "outputs": [
    {
     "data": {
      "text/plain": [
       "3"
      ]
     },
     "execution_count": 33,
     "metadata": {},
     "output_type": "execute_result"
    }
   ],
   "source": [
    "list1=[10,2,4,7,4,9]\n",
    "list1.index(7)"
   ]
  },
  {
   "cell_type": "markdown",
   "id": "b659e664-2661-49fa-a2fe-b6e245092c34",
   "metadata": {},
   "source": [
    "# Count"
   ]
  },
  {
   "cell_type": "code",
   "execution_count": 34,
   "id": "41342945-00e0-40bc-aba4-504d14a5bf53",
   "metadata": {},
   "outputs": [
    {
     "data": {
      "text/plain": [
       "1"
      ]
     },
     "execution_count": 34,
     "metadata": {},
     "output_type": "execute_result"
    }
   ],
   "source": [
    "# it count occurance of element in list\n",
    "list1=[10,2,4,7,4,9]\n",
    "list1.count(7)"
   ]
  },
  {
   "cell_type": "code",
   "execution_count": 36,
   "id": "f18691bd-4d74-44fc-8a49-7d97430a20d3",
   "metadata": {},
   "outputs": [
    {
     "data": {
      "text/plain": [
       "10"
      ]
     },
     "execution_count": 36,
     "metadata": {},
     "output_type": "execute_result"
    }
   ],
   "source": [
    "list1=[10,2,4,7,4,9]\n",
    "max(list1)"
   ]
  },
  {
   "cell_type": "code",
   "execution_count": 51,
   "id": "b120a263-122f-47e0-a37e-62c5ef894aa6",
   "metadata": {},
   "outputs": [],
   "source": [
    "num1=[23,45,5,23]\n",
    "num2=[]\n",
    "for i in num1:\n",
    "   \n",
    "    num2.append(i**2)\n",
    "    \n",
    "    \n",
    "    "
   ]
  },
  {
   "cell_type": "code",
   "execution_count": 44,
   "id": "b73954a7-ae25-4ed0-a6fd-e00e3ddd8739",
   "metadata": {},
   "outputs": [],
   "source": [
    "num1=[23,45,5,23]\n",
    "num2=[]\n",
    "for i in num1:\n",
    "   \n",
    "    num2.append(i**2)"
   ]
  },
  {
   "cell_type": "code",
   "execution_count": 52,
   "id": "719b807c-be21-456e-91b4-a2a7eb5d983d",
   "metadata": {},
   "outputs": [
    {
     "data": {
      "text/plain": [
       "[529, 2025, 25, 529]"
      ]
     },
     "execution_count": 52,
     "metadata": {},
     "output_type": "execute_result"
    }
   ],
   "source": [
    "#list compration\n",
    "a=[i**2 for i in num1]\n",
    "a"
   ]
  },
  {
   "cell_type": "code",
   "execution_count": 59,
   "id": "4f5e5c49-de1d-4cc4-a676-4399853c5607",
   "metadata": {},
   "outputs": [
    {
     "data": {
      "text/plain": [
       "[100, 400]"
      ]
     },
     "execution_count": 59,
     "metadata": {},
     "output_type": "execute_result"
    }
   ],
   "source": [
    "# even number list\n",
    "num=[923,45,67,10,20]\n",
    "num2=[]\n",
    "for i in num:\n",
    "    if i%2==0:\n",
    "        num2.append(i**2)\n",
    "num2"
   ]
  },
  {
   "cell_type": "code",
   "execution_count": 60,
   "id": "5c637dec-b64f-4978-abb0-9a9133b5da9c",
   "metadata": {},
   "outputs": [
    {
     "data": {
      "text/plain": [
       "[100, 400]"
      ]
     },
     "execution_count": 60,
     "metadata": {},
     "output_type": "execute_result"
    }
   ],
   "source": [
    "#list compresion use above program\n",
    "[i**2 for i in num if i%2==0]"
   ]
  },
  {
   "cell_type": "code",
   "execution_count": 61,
   "id": "e741e9f9-78d1-47bb-87d9-13c66d496cbc",
   "metadata": {},
   "outputs": [
    {
     "data": {
      "text/plain": [
       "2"
      ]
     },
     "execution_count": 61,
     "metadata": {},
     "output_type": "execute_result"
    }
   ],
   "source": [
    "# count of even number    #not  possible compresion\n",
    "num=[923,45,67,10,20]\n",
    "cnt=0\n",
    "for i in num:\n",
    "    if i%2==0:\n",
    "        cnt=cnt+1\n",
    "cnt"
   ]
  },
  {
   "cell_type": "code",
   "execution_count": 64,
   "id": "df4269f4-a284-409f-837f-4f3c43a0ced9",
   "metadata": {},
   "outputs": [
    {
     "name": "stdout",
     "output_type": "stream",
     "text": [
      "[1, 2, 3, 4, 5, 6, 7, 8, 9, 10, 11, 12, 13, 14, 15, 16, 17, 18, 19, 20, 21, 22, 23, 24, 25, 26, 27, 28, 29, 30, 31, 32, 33, 34, 35, 36, 37, 38, 39, 40, 41, 42, 43, 44, 45, 46, 47, 48, 49, 50]\n"
     ]
    }
   ],
   "source": [
    "print(list(range(1,51)))"
   ]
  },
  {
   "cell_type": "code",
   "execution_count": 67,
   "id": "b868b130-deb0-4754-983b-948c258ca306",
   "metadata": {},
   "outputs": [
    {
     "name": "stdout",
     "output_type": "stream",
     "text": [
      "[1, 4, 9, 16, 25, 36, 49, 64, 81, 100, 121, 144, 169, 196, 225, 256, 289, 324, 361, 400, 441, 484, 529, 576, 625, 676, 729, 784, 841, 900, 961, 1024, 1089, 1156, 1225, 1296, 1369, 1444, 1521, 1600, 1681, 1764, 1849, 1936, 2025, 2116, 2209, 2304, 2401, 2500]\n"
     ]
    }
   ],
   "source": [
    "a=[]\n",
    "for i in range(1,51):\n",
    "    a.append(i**2)\n",
    "print(a)\n",
    "    \n"
   ]
  },
  {
   "cell_type": "code",
   "execution_count": 68,
   "id": "997f58c5-1d96-4a31-96e5-230bc7787b25",
   "metadata": {},
   "outputs": [
    {
     "name": "stdout",
     "output_type": "stream",
     "text": [
      "[1, 4, 9, 16, 25, 36, 49, 64, 81, 100, 121, 144, 169, 196, 225, 256, 289, 324, 361, 400, 441, 484, 529, 576, 625, 676, 729, 784, 841, 900, 961, 1024, 1089, 1156, 1225, 1296, 1369, 1444, 1521, 1600, 1681, 1764, 1849, 1936, 2025, 2116, 2209, 2304, 2401, 2500]\n"
     ]
    }
   ],
   "source": [
    "print([i**2 for i in range(1,51)])"
   ]
  },
  {
   "cell_type": "markdown",
   "id": "036144f0-7658-4cdf-a176-c11e1cca52c7",
   "metadata": {},
   "source": [
    "# copy function\n"
   ]
  },
  {
   "cell_type": "code",
   "execution_count": 69,
   "id": "8200aece-dd6f-4ce9-8597-b238a395c4dd",
   "metadata": {},
   "outputs": [
    {
     "name": "stdout",
     "output_type": "stream",
     "text": [
      "[2, 5, 7, 8, 9, 3]\n",
      "[2, 5, 7, 8, 9, 3]\n"
     ]
    }
   ],
   "source": [
    "list1=[2,5,7,8,9]\n",
    "list2=list1\n",
    "list1.append(3)\n",
    "print(list1)\n",
    "print(list2)"
   ]
  },
  {
   "cell_type": "code",
   "execution_count": 70,
   "id": "8e28fb7d-f1a0-4ee0-8cce-98ddfcb54bc1",
   "metadata": {},
   "outputs": [
    {
     "data": {
      "text/plain": [
       "2224789681408"
      ]
     },
     "execution_count": 70,
     "metadata": {},
     "output_type": "execute_result"
    }
   ],
   "source": [
    "id(list1)\n"
   ]
  },
  {
   "cell_type": "code",
   "execution_count": 71,
   "id": "ccace7a5-fd7d-4d3e-ad7b-2dbae0a06799",
   "metadata": {},
   "outputs": [
    {
     "data": {
      "text/plain": [
       "2224789681408"
      ]
     },
     "execution_count": 71,
     "metadata": {},
     "output_type": "execute_result"
    }
   ],
   "source": [
    "id(list2)       #id-->memory location same so that we can use cpoy fun()\n"
   ]
  },
  {
   "cell_type": "code",
   "execution_count": 72,
   "id": "d6c03170-4e0c-4a10-a33c-05a70bbb85cd",
   "metadata": {},
   "outputs": [
    {
     "name": "stdout",
     "output_type": "stream",
     "text": [
      "[2, 5, 7, 8, 9, 3]\n",
      "[2, 5, 7, 8, 9]\n"
     ]
    }
   ],
   "source": [
    "list1=[2,5,7,8,9]\n",
    "list2=list1.copy()\n",
    "list1.append(3)\n",
    "print(list1)\n",
    "print(list2)\n",
    "\n"
   ]
  },
  {
   "cell_type": "code",
   "execution_count": 74,
   "id": "0523bf87-b312-4e2e-8f40-5afb245383da",
   "metadata": {},
   "outputs": [
    {
     "name": "stdout",
     "output_type": "stream",
     "text": [
      "[[3, 4], [2, 7], [9, 6]]\n",
      "[[3, 4], [2, 7], [9, 6]]\n"
     ]
    }
   ],
   "source": [
    "#nested list--> (list inside list) ---copy function fail \n",
    "list1=[[3,4],[5,7],[9,6]]\n",
    "list2=list1.copy()\n",
    "list2[1][0]=2\n",
    "print(list1)\n",
    "print(list2)\n"
   ]
  },
  {
   "cell_type": "code",
   "execution_count": 75,
   "id": "853272ba-63a8-4c19-8743-cead2818ebd5",
   "metadata": {},
   "outputs": [
    {
     "name": "stdout",
     "output_type": "stream",
     "text": [
      "[[3, 4], [5, 7], [9, 6]]\n",
      "[[3, 4], [2, 7], [9, 6]]\n"
     ]
    }
   ],
   "source": [
    "#deep copy-->\n",
    "import copy\n",
    "list1=[[3,4],[5,7],[9,6]]\n",
    "list2=copy.deepcopy(list1)\n",
    "list2[1][0]=2\n",
    "print(list1)\n",
    "print(list2)\n"
   ]
  },
  {
   "cell_type": "code",
   "execution_count": 77,
   "id": "ea13d39e-4b1d-4ad1-ace4-e66cf05438ce",
   "metadata": {},
   "outputs": [
    {
     "data": {
      "text/plain": [
       "4"
      ]
     },
     "execution_count": 77,
     "metadata": {},
     "output_type": "execute_result"
    }
   ],
   "source": [
    "#netesd list\n",
    "list1=[[3,4],[5,7],[9,6]]\n",
    "list1[0][1]"
   ]
  },
  {
   "cell_type": "code",
   "execution_count": 78,
   "id": "fffe59b9-b654-41fe-bc7d-507c989d8a92",
   "metadata": {},
   "outputs": [
    {
     "name": "stdout",
     "output_type": "stream",
     "text": [
      "[3, 4]\n",
      "[3, 4]\n",
      "[5, 7]\n",
      "[9, 6]\n",
      "[5, 7]\n",
      "[3, 4]\n",
      "[5, 7]\n",
      "[9, 6]\n",
      "[9, 6]\n",
      "[3, 4]\n",
      "[5, 7]\n",
      "[9, 6]\n"
     ]
    }
   ],
   "source": [
    "list1=[[3,4],[5,7],[9,6]]\n",
    "for i in list1:\n",
    "    print(i)\n",
    "    for j in list1:\n",
    "        print(j)\n"
   ]
  },
  {
   "cell_type": "code",
   "execution_count": 81,
   "id": "aba57292-2bc6-4b0c-96ec-92cca78fd02d",
   "metadata": {},
   "outputs": [
    {
     "name": "stdout",
     "output_type": "stream",
     "text": [
      "[3, 4]\n",
      "[5, 7]\n",
      "[9, 6]\n"
     ]
    },
    {
     "data": {
      "text/plain": [
       "[3, 4, 5, 7, 9, 6]"
      ]
     },
     "execution_count": 81,
     "metadata": {},
     "output_type": "execute_result"
    }
   ],
   "source": [
    "#flating nested list--IMP\n",
    "list1=[[3,4],[5,7],[9,6]]\n",
    "list2=[]\n",
    "for i in list1:\n",
    "    print(i)\n",
    "    for j in i:\n",
    "        list2.append(j)\n",
    "list2\n"
   ]
  },
  {
   "cell_type": "code",
   "execution_count": null,
   "id": "9c9f2ec9-632b-49f5-a6a6-7c1af558e2a4",
   "metadata": {},
   "outputs": [],
   "source": [
    "#faltan using compresion\n",
    "[j for i in list1 for j in i]\n",
    "#outer for lopp   inner for loop"
   ]
  },
  {
   "cell_type": "code",
   "execution_count": null,
   "id": "03f101d5-90c0-42ee-be46-8328a14838e0",
   "metadata": {},
   "outputs": [],
   "source": []
  },
  {
   "cell_type": "code",
   "execution_count": null,
   "id": "5e9245b7-c2b6-4594-82c5-f1286debe703",
   "metadata": {},
   "outputs": [],
   "source": []
  },
  {
   "cell_type": "code",
   "execution_count": null,
   "id": "44d934d8-eebe-4b86-b48a-fd7c1cdf9311",
   "metadata": {},
   "outputs": [],
   "source": []
  },
  {
   "cell_type": "code",
   "execution_count": null,
   "id": "6d7bf43a-7f14-41cd-8f2a-60e6b082eeb6",
   "metadata": {},
   "outputs": [],
   "source": []
  },
  {
   "cell_type": "code",
   "execution_count": null,
   "id": "53a27f03-5901-4b7d-8414-672b4901e0a5",
   "metadata": {},
   "outputs": [],
   "source": []
  },
  {
   "cell_type": "code",
   "execution_count": null,
   "id": "edaf4540-d671-4298-99db-e6b08b92582c",
   "metadata": {},
   "outputs": [],
   "source": []
  },
  {
   "cell_type": "code",
   "execution_count": null,
   "id": "d7ae7d48-8349-4586-b54f-d13acb4a2661",
   "metadata": {},
   "outputs": [],
   "source": []
  },
  {
   "cell_type": "code",
   "execution_count": null,
   "id": "36d0cd8b-fc0b-43f5-8629-12c3d9512c55",
   "metadata": {},
   "outputs": [],
   "source": []
  }
 ],
 "metadata": {
  "kernelspec": {
   "display_name": "Python 3 (ipykernel)",
   "language": "python",
   "name": "python3"
  },
  "language_info": {
   "codemirror_mode": {
    "name": "ipython",
    "version": 3
   },
   "file_extension": ".py",
   "mimetype": "text/x-python",
   "name": "python",
   "nbconvert_exporter": "python",
   "pygments_lexer": "ipython3",
   "version": "3.13.5"
  }
 },
 "nbformat": 4,
 "nbformat_minor": 5
}
