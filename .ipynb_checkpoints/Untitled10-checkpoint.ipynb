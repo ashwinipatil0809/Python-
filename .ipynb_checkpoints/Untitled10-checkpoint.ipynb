{
 "cells": [
  {
   "cell_type": "code",
   "execution_count": null,
   "id": "7918bd00-2308-4a45-a78f-478b84c90fa0",
   "metadata": {},
   "outputs": [],
   "source": [
    "1.Scenario: You're working in a warehouse automation system.\n",
    "You receive real-time stock data, but it includes items that are out of stock (quantity = 0).\n",
    "inventory = [(\"Pen\", 10), (\"Pencil\", 0), (\"Notebook\", 5), (\"Eraser\", 0)]\n",
    "Task:Your job is to clean the data so that only products that are currently available get processed for further tasks like restocking or display."
   ]
  },
  {
   "cell_type": "code",
   "execution_count": 7,
   "id": "3f77757e-f727-4f29-a27f-4c81ffff08b4",
   "metadata": {},
   "outputs": [
    {
     "ename": "NameError",
     "evalue": "name 'products' is not defined",
     "output_type": "error",
     "traceback": [
      "\u001b[1;31m---------------------------------------------------------------------------\u001b[0m",
      "\u001b[1;31mNameError\u001b[0m                                 Traceback (most recent call last)",
      "Cell \u001b[1;32mIn[7], line 2\u001b[0m\n\u001b[0;32m      1\u001b[0m inventory \u001b[38;5;241m=\u001b[39m [(\u001b[38;5;124m\"\u001b[39m\u001b[38;5;124mPen\u001b[39m\u001b[38;5;124m\"\u001b[39m, \u001b[38;5;241m10\u001b[39m), (\u001b[38;5;124m\"\u001b[39m\u001b[38;5;124mPencil\u001b[39m\u001b[38;5;124m\"\u001b[39m, \u001b[38;5;241m0\u001b[39m), (\u001b[38;5;124m\"\u001b[39m\u001b[38;5;124mNotebook\u001b[39m\u001b[38;5;124m\"\u001b[39m, \u001b[38;5;241m5\u001b[39m), (\u001b[38;5;124m\"\u001b[39m\u001b[38;5;124mEraser\u001b[39m\u001b[38;5;124m\"\u001b[39m, \u001b[38;5;241m0\u001b[39m)]\n\u001b[1;32m----> 2\u001b[0m clean_data\u001b[38;5;241m=\u001b[39m[(products,quantity) \u001b[38;5;28;01mfor\u001b[39;00m quantity,quantity \u001b[38;5;129;01min\u001b[39;00m inventory \u001b[38;5;28;01mif\u001b[39;00m quantity\u001b[38;5;241m>\u001b[39m\u001b[38;5;241m0\u001b[39m] \n\u001b[0;32m      3\u001b[0m clean_data\n",
      "\u001b[1;31mNameError\u001b[0m: name 'products' is not defined"
     ]
    }
   ],
   "source": [
    "inventory = [(\"Pen\", 10), (\"Pencil\", 0), (\"Notebook\", 5), (\"Eraser\", 0)]\n",
    "clean_data=[(products,quantity) for quantity,quantity in inventory if quantity>0] \n",
    "clean_data\n",
    "    "
   ]
  },
  {
   "cell_type": "code",
   "execution_count": null,
   "id": "718e0b9b-135f-42e2-b882-768c8021453b",
   "metadata": {},
   "outputs": [],
   "source": []
  },
  {
   "cell_type": "code",
   "execution_count": null,
   "id": "72ec5389-e1bd-4997-aaa6-274380ba85ce",
   "metadata": {},
   "outputs": [],
   "source": [
    "2.Scenario: You are working as a data analyst in a customer service company. \n",
    "The company has a customer data list where each element is a tuple containing customer name and age.\n",
    "customer_data = [(\"John\", 25), (\"Alice\", 15), (\"Bob\", 65), (\"Mike\", 35), (\"Sara\", 9), (\"Tom\", 14)]\n",
    "Task: Classify customers into different age groups (children: 0-12, teenagers: 13-19, adults: 20-59, seniors: 60+). \n",
    "Implement this logic using loops and conditional statements\n"
   ]
  },
  {
   "cell_type": "code",
   "execution_count": 8,
   "id": "60579479-2023-49b4-85e1-7a62c3935a96",
   "metadata": {},
   "outputs": [
    {
     "name": "stdout",
     "output_type": "stream",
     "text": [
      "children name= ['Sara']\n",
      "teenagers name = ['Alice', 'Tom']\n",
      "adults name = ['John', 'Mike']\n",
      "seniors name = ['Bob']\n"
     ]
    }
   ],
   "source": [
    "customer_data = [(\"John\", 25), (\"Alice\", 15), (\"Bob\", 65), (\"Mike\", 35), (\"Sara\", 9), (\"Tom\", 14)]\n",
    "#custr=max(age for customer,age in customer_data)\n",
    "children=[]\n",
    "teenagers=[]\n",
    "adults=[]\n",
    "seniors=[]\n",
    "for name,age in customer_data:\n",
    "    if 0<= age <=12:\n",
    "        children.append(name)\n",
    "    elif 13<= age <=19:\n",
    "        teenagers.append(name)\n",
    "    elif 20<= age <=59:\n",
    "        adults.append(name)\n",
    "    else:\n",
    "        seniors.append(name)\n",
    "\n",
    "print(\"children name=\",children)\n",
    "print(\"teenagers name =\",teenagers)\n",
    "print(\"adults name =\",adults)\n",
    "print(\"seniors name =\",seniors)\n",
    "   \n",
    "        \n",
    "        "
   ]
  },
  {
   "cell_type": "code",
   "execution_count": null,
   "id": "d87f9991-b09d-4f9e-b097-f8847cbcdb09",
   "metadata": {},
   "outputs": [],
   "source": []
  },
  {
   "cell_type": "code",
   "execution_count": null,
   "id": "135667d3-55d7-464b-bb14-06e5b65930da",
   "metadata": {},
   "outputs": [],
   "source": [
    "3.Scenario:You are working for a logistics company. You're given inventory data from two warehouses. Each warehouse provides a list of tuples (product_name, quantity).\n",
    "warehouse1 = [(\"Pen\", 10), (\"Notebook\", 5), (\"Eraser\", -2)]\n",
    "warehouse2 = [(\"Pen\", -10), (\"Notebook\", 2), (\"Marker\", 4), (\"Eraser\", 1)]\n",
    "Task:Your task is to merge, sum up the quantities, and remove any product with total quantity 0."
   ]
  },
  {
   "cell_type": "code",
   "execution_count": 9,
   "id": "87d745c2-ada8-468d-a6bc-48db40e3eb4a",
   "metadata": {},
   "outputs": [
    {
     "name": "stdout",
     "output_type": "stream",
     "text": [
      "10\n",
      "5\n",
      "-2\n",
      "-10\n",
      "2\n",
      "4\n",
      "1\n"
     ]
    }
   ],
   "source": [
    "warehouse1 = [(\"Pen\", 10), (\"Notebook\", 5), (\"Eraser\", -2)]\n",
    "warehouse2 = [(\"Pen\", -10), (\"Notebook\", 2), (\"Marker\", 4), (\"Eraser\", 1)]\n",
    "sum=[]\n",
    "for product_name, quantity1 in warehouse1:\n",
    "    print(quantity1)\n",
    "    \n",
    "for product_name, quantity2 in warehouse2:\n",
    "    print(quantity2)"
   ]
  },
  {
   "cell_type": "code",
   "execution_count": 10,
   "id": "47256eb7-5238-4041-9f83-a96f3dfa709c",
   "metadata": {},
   "outputs": [
    {
     "name": "stdout",
     "output_type": "stream",
     "text": [
      "Pen : 0\n",
      "Notebook : 7\n",
      "Eraser : -1\n",
      "Marker : 4\n"
     ]
    }
   ],
   "source": [
    "warehouse1 = [(\"Pen\", 10), (\"Notebook\", 5), (\"Eraser\", -2)]\n",
    "warehouse2 = [(\"Pen\", -10), (\"Notebook\", 2), (\"Marker\", 4), (\"Eraser\", 1)]\n",
    "total={}\n",
    "for product, qty in warehouse1 + warehouse2:   # join both lists\n",
    "    if product in total:\n",
    "        total[product] += qty\n",
    "    else:\n",
    "        total[product] = qty\n",
    "\n",
    "# Print result\n",
    "for product, qty in total.items():\n",
    "    print(product, \":\", qty)"
   ]
  },
  {
   "cell_type": "code",
   "execution_count": 11,
   "id": "a7dfd89a-aa48-4e47-b5ce-a1b22ffd5060",
   "metadata": {},
   "outputs": [
    {
     "name": "stdout",
     "output_type": "stream",
     "text": [
      "Notebook : 7\n",
      "Eraser : -1\n",
      "Marker : 4\n"
     ]
    }
   ],
   "source": [
    "warehouse1 = [(\"Pen\", 10), (\"Notebook\", 5), (\"Eraser\", -2)]\n",
    "warehouse2 = [(\"Pen\", -10), (\"Notebook\", 2), (\"Marker\", 4), (\"Eraser\", 1)]\n",
    "tot={}\n",
    "for products, quantity in warehouse1 + warehouse2:\n",
    "    if products in tot:\n",
    "        tot[products]+=quantity\n",
    "    else:\n",
    "        tot[products]=quantity\n",
    "        \n",
    "for products in list(tot.keys()):\n",
    "    if tot[products]==0:\n",
    "        del tot[products]\n",
    "\n",
    "for products, quantity in tot.items():    \n",
    "    print(products,\":\",quantity)\n",
    "\n"
   ]
  },
  {
   "cell_type": "code",
   "execution_count": null,
   "id": "2522753e-031c-4b39-ba21-da81fcdc5c60",
   "metadata": {},
   "outputs": [],
   "source": []
  },
  {
   "cell_type": "code",
   "execution_count": null,
   "id": "9fa93deb-6d27-454b-904a-0d7afc359465",
   "metadata": {},
   "outputs": [],
   "source": [
    "4.Scenario:You are working in an order processing team. The shipping system and billing system each produce a list of order IDs.\n",
    "shipped_orders = [101, 102, 103, 105, 108]\n",
    "billed_orders = [102, 103, 104, 108, 109]\n",
    "Task:Your task is to find out which orders are mismatched:\n",
    "● Either shipped but not billed\n",
    "● Or billed but not shipped"
   ]
  },
  {
   "cell_type": "code",
   "execution_count": 12,
   "id": "9ad6caa5-2e61-4abd-b4b1-1fd853a6c208",
   "metadata": {},
   "outputs": [
    {
     "name": "stdout",
     "output_type": "stream",
     "text": [
      "shipped but not billed: [101, 105]\n",
      "billed but not shipped [104, 109]\n"
     ]
    }
   ],
   "source": [
    "shipped_orders = [101, 102, 103, 105, 108]\n",
    "billed_orders = [102, 103, 104, 108, 109]\n",
    "sbn=[]\n",
    "bns=[]\n",
    "for order in shipped_orders:\n",
    "    if order not in billed_orders:\n",
    "        sbn.append(order)\n",
    "\n",
    "for order in billed_orders:\n",
    "    if order not in shipped_orders:\n",
    "        bns.append(order)\n",
    "\n",
    "\n",
    "print(\"shipped but not billed:\",sbn)\n",
    "print(\"billed but not shipped\",bns)\n",
    "    "
   ]
  },
  {
   "cell_type": "code",
   "execution_count": null,
   "id": "b633b9a2-28d5-4a68-8cbc-e61de973a8ab",
   "metadata": {},
   "outputs": [],
   "source": []
  },
  {
   "cell_type": "code",
   "execution_count": null,
   "id": "8bcfd1dd-8a35-48fc-8874-b622f75c5f9e",
   "metadata": {},
   "outputs": [],
   "source": []
  },
  {
   "cell_type": "code",
   "execution_count": null,
   "id": "964799dd-3345-463e-bdeb-362b0d2c58f6",
   "metadata": {},
   "outputs": [],
   "source": [
    "5.Scenario: Classify customers into children / teenagers / adults / seniors.\n",
    "customer_data = [(\"John\", 25), (\"Alice\", 15), (\"Bob\", 65), (\"Mike\", 35), (\"Sara\", 9), (\"Tom\", 14)]"
   ]
  },
  {
   "cell_type": "code",
   "execution_count": 13,
   "id": "cedd6b19-a06a-4ed3-a696-96cff5e665c2",
   "metadata": {},
   "outputs": [
    {
     "name": "stdout",
     "output_type": "stream",
     "text": [
      "children name= ['Sara']\n",
      "teenagers name = ['Alice', 'Tom']\n",
      "adults name = ['John', 'Mike']\n",
      "seniors name = ['Bob']\n"
     ]
    }
   ],
   "source": [
    "children=[]\n",
    "teenagers=[]\n",
    "adults=[]\n",
    "seniors=[]\n",
    "for name,age in customer_data:\n",
    "    if 0<= age <=12:\n",
    "        children.append(name)\n",
    "    elif 13<= age <=19:\n",
    "        teenagers.append(name)\n",
    "    elif 20<= age <=59:\n",
    "        adults.append(name)\n",
    "    else:\n",
    "        seniors.append(name)\n",
    "\n",
    "print(\"children name=\",children)\n",
    "print(\"teenagers name =\",teenagers)\n",
    "print(\"adults name =\",adults)\n",
    "print(\"seniors name =\",seniors)"
   ]
  },
  {
   "cell_type": "code",
   "execution_count": null,
   "id": "062c8d2a-509d-42d8-b2db-1d76ccde4cf1",
   "metadata": {},
   "outputs": [],
   "source": []
  },
  {
   "cell_type": "code",
   "execution_count": null,
   "id": "0ae92317-6b80-4a62-b6d2-0d63ae6dec6d",
   "metadata": {},
   "outputs": [],
   "source": []
  },
  {
   "cell_type": "code",
   "execution_count": null,
   "id": "5b5f6745-7dc2-4b7d-a8cb-48a537727fc6",
   "metadata": {},
   "outputs": [],
   "source": [
    "6.Scenario: Merge two warehouse lists, sum quantities per product, remove products whose total is 0.\n",
    "warehouse1 = [(\"Pen\", 10), (\"Notebook\", 5), (\"Eraser\", -2)]\n",
    "warehouse2 = [(\"Pen\", -10), (\"Notebook\", 2), (\"Marker\", 4), (\"Eraser\", 1)]"
   ]
  },
  {
   "cell_type": "code",
   "execution_count": null,
   "id": "667bf330-a329-40af-ba56-8391c6f3cf65",
   "metadata": {},
   "outputs": [],
   "source": []
  },
  {
   "cell_type": "code",
   "execution_count": null,
   "id": "215e8450-81eb-44a1-ab9c-cf1d652a07b1",
   "metadata": {},
   "outputs": [],
   "source": [
    "7.Scenario: Find orders that are shipped but not billed and billed but not shipped.\n",
    "shipped_orders = [101, 102, 103, 105, 108]\n",
    "billed_orders = [102, 103, 104, 108, 109]"
   ]
  }
 ],
 "metadata": {
  "kernelspec": {
   "display_name": "Python 3 (ipykernel)",
   "language": "python",
   "name": "python3"
  },
  "language_info": {
   "codemirror_mode": {
    "name": "ipython",
    "version": 3
   },
   "file_extension": ".py",
   "mimetype": "text/x-python",
   "name": "python",
   "nbconvert_exporter": "python",
   "pygments_lexer": "ipython3",
   "version": "3.13.5"
  }
 },
 "nbformat": 4,
 "nbformat_minor": 5
}
