{
 "cells": [
  {
   "cell_type": "code",
   "execution_count": null,
   "id": "d72d59cb-a301-48ab-ab57-fd4acefcad62",
   "metadata": {},
   "outputs": [],
   "source": []
  }
 ],
 "metadata": {
  "kernelspec": {
   "display_name": "",
   "name": ""
  },
  "language_info": {
   "name": ""
  }
 },
 "nbformat": 4,
 "nbformat_minor": 5
}
