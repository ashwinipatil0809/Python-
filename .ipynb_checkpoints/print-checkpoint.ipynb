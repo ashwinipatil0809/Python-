{
 "cells": [
  {
   "cell_type": "code",
   "execution_count": 2,
   "id": "6e2e8ffc-0093-499e-9610-a10ec0e21220",
   "metadata": {},
   "outputs": [
    {
     "name": "stdin",
     "output_type": "stream",
     "text": [
      "enter a number 78\n"
     ]
    },
    {
     "name": "stdout",
     "output_type": "stream",
     "text": [
      "78\n"
     ]
    }
   ],
   "source": [
    "x=input(\"enter a number\")\n",
    "print(x)"
   ]
  },
  {
   "cell_type": "raw",
   "id": "bdd44b6d-1396-4a09-ac51-f2ca4b90f337",
   "metadata": {},
   "source": [
    "y=input(\"enter a number\")\n",
    "print(y)"
   ]
  },
  {
   "cell_type": "code",
   "execution_count": 3,
   "id": "9c32784f-cd05-4a5e-89e7-207e407bdc1d",
   "metadata": {},
   "outputs": [
    {
     "name": "stdin",
     "output_type": "stream",
     "text": [
      "enter a number 10\n"
     ]
    },
    {
     "name": "stdout",
     "output_type": "stream",
     "text": [
      "10\n"
     ]
    }
   ],
   "source": [
    "a=input(\"enter a number\")\n",
    "print(a)"
   ]
  },
  {
   "cell_type": "code",
   "execution_count": 7,
   "id": "74b539ac-deb2-4c51-8240-328c32ecf8b2",
   "metadata": {},
   "outputs": [
    {
     "name": "stdin",
     "output_type": "stream",
     "text": [
      "enter a number 10\n"
     ]
    },
    {
     "name": "stdout",
     "output_type": "stream",
     "text": [
      "10\n",
      "<class 'int'>\n"
     ]
    },
    {
     "data": {
      "text/plain": [
       "100"
      ]
     },
     "execution_count": 7,
     "metadata": {},
     "output_type": "execute_result"
    }
   ],
   "source": [
    "a=int(input(\"enter a number\"))\n",
    "print(a)\n",
    "print(type(a))\n",
    "a*a\n"
   ]
  },
  {
   "cell_type": "code",
   "execution_count": null,
   "id": "1fc2ba5d-0ba1-4261-bf40-b0acef8a2b00",
   "metadata": {},
   "outputs": [],
   "source": [
    "a=int(input(\"enter a number:\"))\n",
    "print(a)\n",
    "print(type(a))"
   ]
  },
  {
   "cell_type": "code",
   "execution_count": 10,
   "id": "56992ce3-b234-46cc-bbdb-5652c5027ebe",
   "metadata": {},
   "outputs": [
    {
     "name": "stdout",
     "output_type": "stream",
     "text": [
      "value of a: 23\n",
      "square of a: 529\n"
     ]
    }
   ],
   "source": [
    "a=23\n",
    "print(\"value of a:\",a)\n",
    "print(\"square of a:\",a*a)"
   ]
  },
  {
   "cell_type": "code",
   "execution_count": 11,
   "id": "86730b82-c52b-4f9b-8e6e-3c058890a76a",
   "metadata": {},
   "outputs": [
    {
     "name": "stdout",
     "output_type": "stream",
     "text": [
      "addition of 80 and 10 is: 90\n"
     ]
    }
   ],
   "source": [
    "a=80\n",
    "b=10\n",
    "print(f\"addition of {a} and {b} is: {a+b}\")\n"
   ]
  },
  {
   "cell_type": "code",
   "execution_count": null,
   "id": "0f8b648c-84d9-4d59-9d1a-87706a635e57",
   "metadata": {},
   "outputs": [],
   "source": []
  },
  {
   "cell_type": "code",
   "execution_count": 14,
   "id": "6b507726-d943-4f41-b142-47169bb29874",
   "metadata": {},
   "outputs": [
    {
     "name": "stdin",
     "output_type": "stream",
     "text": [
      "enter a number 10\n"
     ]
    },
    {
     "name": "stdout",
     "output_type": "stream",
     "text": [
      "square of 10 is 100\n"
     ]
    }
   ],
   "source": [
    "a=eval(input(\"enter a number\"))\n",
    "print(f\"square of {a} is {a*a}\")"
   ]
  },
  {
   "cell_type": "code",
   "execution_count": 15,
   "id": "6967ae67-0241-4b70-9a76-13bc520d3f14",
   "metadata": {},
   "outputs": [
    {
     "name": "stdout",
     "output_type": "stream",
     "text": [
      "addition of 30 and 20 is:50\n"
     ]
    }
   ],
   "source": [
    "a=30\n",
    "b=20\n",
    "print(\"addition of {} and {} is:{}\".format(a,b,a+b))"
   ]
  },
  {
   "cell_type": "code",
   "execution_count": 22,
   "id": "086e7b10-fb9e-4863-a33d-cc94546cd8b8",
   "metadata": {},
   "outputs": [
    {
     "name": "stdout",
     "output_type": "stream",
     "text": [
      "ABC International school\n",
      "Name\tSubject\tmarks\t\n",
      "Ashwini\tPython\t45\t\n"
     ]
    }
   ],
   "source": [
    "print(\"ABC International school\")\n",
    "print(\"Name\\t\" \"Subject\\t\"  \"marks\\t\")\n",
    "print(\"Ashwini\\t\" \"Python\\t\" \"45\\t\")"
   ]
  },
  {
   "cell_type": "code",
   "execution_count": 25,
   "id": "d9dcb75b-42af-4390-9ee1-26f8e1b4c827",
   "metadata": {},
   "outputs": [
    {
     "name": "stdout",
     "output_type": "stream",
     "text": [
      "ABC International school\n",
      "Name\tSubject\tmarks\t\n",
      "Ashwini\tPython\t45\t\n"
     ]
    }
   ],
   "source": [
    "print(\"ABC International school\"\"\\nName\\t\" \"Subject\\t\"  \"marks\\t\"\"\\nAshwini\\t\" \"Python\\t\" \"45\\t\")\n",
    "# print(\"Name\\t\" \"Subject\\t\"  \"marks\\t\")\n",
    "# print(\"Ashwini\\t\" \"Python\\t\" \"45\\t\")"
   ]
  }
 ],
 "metadata": {
  "kernelspec": {
   "display_name": "Python 3 (ipykernel)",
   "language": "python",
   "name": "python3"
  },
  "language_info": {
   "codemirror_mode": {
    "name": "ipython",
    "version": 3
   },
   "file_extension": ".py",
   "mimetype": "text/x-python",
   "name": "python",
   "nbconvert_exporter": "python",
   "pygments_lexer": "ipython3",
   "version": "3.13.5"
  }
 },
 "nbformat": 4,
 "nbformat_minor": 5
}
