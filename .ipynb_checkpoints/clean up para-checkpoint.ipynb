{
 "cells": [
  {
   "cell_type": "code",
   "execution_count": 2,
   "id": "0968dbbc-7eb6-421d-8249-fb9582fe9f95",
   "metadata": {},
   "outputs": [
    {
     "name": "stdout",
     "output_type": "stream",
     "text": [
      "['Machine learning (ML) is a field of artificial intelligence that allows computer systems to learn and improve from data without being e', 'xplicitly programmed. By analyzing large datasets, ML algorithms identify patterns, make predictions, and perform tasks, getting better over ', 'time as they are exposed to more information. Common applications include recommendation engines, autonomous ', '', '', '', '', '', '', 'vehicles, and email spam filters, demonstrating ML\\'s ability to solve complex problems by \"training\" software models to', 'generate content or make informed decisions.']\n"
     ]
    }
   ],
   "source": [
    "deep_leraning=\"\"\"Machine learning (ML) is a field of artificial intelligence that allows computer systems to learn and improve from data without being e\n",
    "xplicitly programmed. By analyzing large datasets, ML algorithms identify patterns, make predictions, and perform tasks, getting better over \n",
    "time as they are exposed to more information. Common applications include recommendation engines, autonomous \n",
    "\n",
    "\n",
    "\n",
    "\n",
    "\n",
    "\n",
    "vehicles, and email spam filters, demonstrating ML's ability to solve complex problems by \"training\" software models to\n",
    "generate content or make informed decisions.\"\"\"\n",
    "list1= deep_leraning.split(\"\\n\")\n",
    "print(list1)"
   ]
  },
  {
   "cell_type": "code",
   "execution_count": 4,
   "id": "c6f8f24b-94aa-4eac-8750-4d244fed69f3",
   "metadata": {},
   "outputs": [
    {
     "name": "stdout",
     "output_type": "stream",
     "text": [
      "Machine learning (ML) is a field of artificial intelligence that allows computer systems to learn and improve from data without being e\n",
      "xplicitly programmed. By analyzing large datasets, ML algorithms identify patterns, make predictions, and perform tasks, getting better over \n",
      "time as they are exposed to more information. Common applications include recommendation engines, autonomous \n",
      "\n",
      "\n",
      "\n",
      "\n",
      "\n",
      "\n",
      "vehicles, and email spam filters, demonstrating ML's ability to solve complex problems by \"training\" software models to\n",
      "generate content or make informed decisions.\n"
     ]
    }
   ],
   "source": [
    "deep_leraning=\"\"\"Machine learning (ML) is a field of artificial intelligence that allows computer systems to learn and improve from data without being e\n",
    "xplicitly programmed. By analyzing large datasets, ML algorithms identify patterns, make predictions, and perform tasks, getting better over \n",
    "time as they are exposed to more information. Common applications include recommendation engines, autonomous \n",
    "\n",
    "\n",
    "\n",
    "\n",
    "\n",
    "\n",
    "vehicles, and email spam filters, demonstrating ML's ability to solve complex problems by \"training\" software models to\n",
    "generate content or make informed decisions.\"\"\"\n",
    "list1= deep_leraning.split(\"\\n\")\n",
    "list2=[]\n",
    "for line in list1:\n",
    "    #print(line)\n",
    "    if line.isspace():\n",
    "        pass\n",
    "    else:\n",
    "        list2.append(line)\n",
    "#print(list2)\n",
    "print(\"\\n\".join(list2))"
   ]
  },
  {
   "cell_type": "code",
   "execution_count": null,
   "id": "9996a926-8202-464e-aaff-d9bce0f6c47b",
   "metadata": {},
   "outputs": [],
   "source": [
    " # List"
   ]
  },
  {
   "cell_type": "code",
   "execution_count": null,
   "id": "512d98f6-b838-40bd-a615-427b2bdb76cd",
   "metadata": {},
   "outputs": [],
   "source": []
  },
  {
   "cell_type": "code",
   "execution_count": null,
   "id": "d497d19d-d384-4a70-a6c5-7fcc3af36b5d",
   "metadata": {},
   "outputs": [],
   "source": []
  }
 ],
 "metadata": {
  "kernelspec": {
   "display_name": "Python 3 (ipykernel)",
   "language": "python",
   "name": "python3"
  },
  "language_info": {
   "codemirror_mode": {
    "name": "ipython",
    "version": 3
   },
   "file_extension": ".py",
   "mimetype": "text/x-python",
   "name": "python",
   "nbconvert_exporter": "python",
   "pygments_lexer": "ipython3",
   "version": "3.13.5"
  }
 },
 "nbformat": 4,
 "nbformat_minor": 5
}
