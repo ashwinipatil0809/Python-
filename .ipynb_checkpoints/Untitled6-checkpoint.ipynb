{
 "cells": [
  {
   "cell_type": "markdown",
   "id": "95306fed-1875-4309-9d57-ac288ea2930e",
   "metadata": {},
   "source": [
    "# File Handling"
   ]
  },
  {
   "cell_type": "code",
   "execution_count": null,
   "id": "0cdd8d4f-c63d-4e57-aa8a-90772ab7140f",
   "metadata": {},
   "outputs": [],
   "source": [
    "1.txt\n",
    "- read\n",
    "- write\n",
    "- apend\n",
    "- close\n",
    "- delete\n",
    "- create"
   ]
  },
  {
   "cell_type": "code",
   "execution_count": null,
   "id": "26874e25-a2e9-4bb9-bf2b-d8feb4839107",
   "metadata": {},
   "outputs": [],
   "source": [
    "modes:\n",
    "\"w\"\n",
    "\"r\"\n",
    "\"a\"\n",
    "\"w\""
   ]
  },
  {
   "cell_type": "code",
   "execution_count": null,
   "id": "c4133359-9841-4823-9725-11d3f4c6aaac",
   "metadata": {},
   "outputs": [],
   "source": [
    "open"
   ]
  },
  {
   "cell_type": "code",
   "execution_count": null,
   "id": "7b8ecdcf-5173-4fe3-9cbc-ff1e7a718f0f",
   "metadata": {},
   "outputs": [],
   "source": [
    "open(fle_name,mode)"
   ]
  },
  {
   "cell_type": "code",
   "execution_count": 1,
   "id": "5bcccf93-0a0a-4da4-a01e-649be006e1db",
   "metadata": {},
   "outputs": [
    {
     "data": {
      "text/plain": [
       "<_io.TextIOWrapper name='test.txt' mode='w' encoding='cp1252'>"
      ]
     },
     "execution_count": 1,
     "metadata": {},
     "output_type": "execute_result"
    }
   ],
   "source": [
    "file_obj=open(\"test.txt\",\"w\")\n",
    "file_obj"
   ]
  },
  {
   "cell_type": "code",
   "execution_count": 2,
   "id": "4f87b23b-2746-4ed1-a05b-66da6883e635",
   "metadata": {},
   "outputs": [
    {
     "data": {
      "text/plain": [
       "18"
      ]
     },
     "execution_count": 2,
     "metadata": {},
     "output_type": "execute_result"
    }
   ],
   "source": [
    "file_obj=open(\"test.txt\",\"w\")\n",
    "file_obj.write(\"hello Good morning\")"
   ]
  },
  {
   "cell_type": "code",
   "execution_count": 3,
   "id": "5456f2de-20d4-431c-8f48-bd44d4ab3c7e",
   "metadata": {},
   "outputs": [],
   "source": [
    "file_obj=open(\"test.txt\",\"w\")\n",
    "file_obj.write(\"hello Good morning\")\n",
    "file_obj.close()\n"
   ]
  },
  {
   "cell_type": "code",
   "execution_count": 4,
   "id": "549bc77e-1787-4074-9c12-e6182e3424ef",
   "metadata": {},
   "outputs": [],
   "source": [
    "file_obj=open(\"test.txt\",\"w\")\n",
    "file_obj.write(\"python is easy\")\n",
    "file_obj.close()\n"
   ]
  },
  {
   "cell_type": "code",
   "execution_count": 6,
   "id": "788a0b03-9113-4d5b-add4-78f1e0cdbdc6",
   "metadata": {},
   "outputs": [],
   "source": [
    "#text add as it file append mode\n",
    "file_obj=open(\"test.txt\",\"a\")\n",
    "file_obj.write(\"  good\")\n",
    "file_obj.close()"
   ]
  },
  {
   "cell_type": "code",
   "execution_count": 9,
   "id": "4c7cb8c6-0710-4ebe-a396-6bb5ac509c6b",
   "metadata": {},
   "outputs": [],
   "source": [
    "#file not exits\n",
    "file_obj=open(\"test2.txt\",\"a\")\n",
    "file_obj.write(\"  good\\naa\")\n",
    "file_obj.close()"
   ]
  },
  {
   "cell_type": "code",
   "execution_count": null,
   "id": "1808d8b5-ddf3-46e0-a33a-8946afc1a997",
   "metadata": {},
   "outputs": [],
   "source": [
    "Read\n",
    "# by default read mode"
   ]
  },
  {
   "cell_type": "code",
   "execution_count": 10,
   "id": "be26fd48-02be-4edb-b37e-9be0f25dbe65",
   "metadata": {},
   "outputs": [
    {
     "data": {
      "text/plain": [
       "'python is easygoodgood  good'"
      ]
     },
     "execution_count": 10,
     "metadata": {},
     "output_type": "execute_result"
    }
   ],
   "source": [
    "\n",
    "file_obj=open(\"test.txt\",\"r\")\n",
    "file_obj.read()"
   ]
  },
  {
   "cell_type": "code",
   "execution_count": 11,
   "id": "d4b915cb-2d0c-4818-ad71-9cfeea4699f5",
   "metadata": {},
   "outputs": [],
   "source": [
    "file_obj=open(\"test.txt\",\"r\")\n",
    "a=file_obj.read()\n",
    "file_obj.close()"
   ]
  },
  {
   "cell_type": "code",
   "execution_count": 12,
   "id": "c00cd14e-3512-42ce-84fd-02b9f67aef0d",
   "metadata": {},
   "outputs": [
    {
     "data": {
      "text/plain": [
       "'python is easygoodgood  good'"
      ]
     },
     "execution_count": 12,
     "metadata": {},
     "output_type": "execute_result"
    }
   ],
   "source": [
    "a"
   ]
  },
  {
   "cell_type": "code",
   "execution_count": 13,
   "id": "6694a2ba-bb0d-41ac-8a32-157b904eee33",
   "metadata": {},
   "outputs": [
    {
     "ename": "FileNotFoundError",
     "evalue": "[Errno 2] No such file or directory: 'test7.txt'",
     "output_type": "error",
     "traceback": [
      "\u001b[1;31m---------------------------------------------------------------------------\u001b[0m",
      "\u001b[1;31mFileNotFoundError\u001b[0m                         Traceback (most recent call last)",
      "Cell \u001b[1;32mIn[13], line 1\u001b[0m\n\u001b[1;32m----> 1\u001b[0m file_obj\u001b[38;5;241m=\u001b[39m\u001b[38;5;28mopen\u001b[39m(\u001b[38;5;124m\"\u001b[39m\u001b[38;5;124mtest7.txt\u001b[39m\u001b[38;5;124m\"\u001b[39m,\u001b[38;5;124m\"\u001b[39m\u001b[38;5;124mr\u001b[39m\u001b[38;5;124m\"\u001b[39m)\n\u001b[0;32m      2\u001b[0m a\u001b[38;5;241m=\u001b[39mfile_obj\u001b[38;5;241m.\u001b[39mread()\n\u001b[0;32m      3\u001b[0m file_obj\u001b[38;5;241m.\u001b[39mclose()\n",
      "File \u001b[1;32mC:\\ProgramData\\anaconda3\\Lib\\site-packages\\IPython\\core\\interactiveshell.py:324\u001b[0m, in \u001b[0;36m_modified_open\u001b[1;34m(file, *args, **kwargs)\u001b[0m\n\u001b[0;32m    317\u001b[0m \u001b[38;5;28;01mif\u001b[39;00m file \u001b[38;5;129;01min\u001b[39;00m {\u001b[38;5;241m0\u001b[39m, \u001b[38;5;241m1\u001b[39m, \u001b[38;5;241m2\u001b[39m}:\n\u001b[0;32m    318\u001b[0m     \u001b[38;5;28;01mraise\u001b[39;00m \u001b[38;5;167;01mValueError\u001b[39;00m(\n\u001b[0;32m    319\u001b[0m         \u001b[38;5;124mf\u001b[39m\u001b[38;5;124m\"\u001b[39m\u001b[38;5;124mIPython won\u001b[39m\u001b[38;5;124m'\u001b[39m\u001b[38;5;124mt let you open fd=\u001b[39m\u001b[38;5;132;01m{\u001b[39;00mfile\u001b[38;5;132;01m}\u001b[39;00m\u001b[38;5;124m by default \u001b[39m\u001b[38;5;124m\"\u001b[39m\n\u001b[0;32m    320\u001b[0m         \u001b[38;5;124m\"\u001b[39m\u001b[38;5;124mas it is likely to crash IPython. If you know what you are doing, \u001b[39m\u001b[38;5;124m\"\u001b[39m\n\u001b[0;32m    321\u001b[0m         \u001b[38;5;124m\"\u001b[39m\u001b[38;5;124myou can use builtins\u001b[39m\u001b[38;5;124m'\u001b[39m\u001b[38;5;124m open.\u001b[39m\u001b[38;5;124m\"\u001b[39m\n\u001b[0;32m    322\u001b[0m     )\n\u001b[1;32m--> 324\u001b[0m \u001b[38;5;28;01mreturn\u001b[39;00m io_open(file, \u001b[38;5;241m*\u001b[39margs, \u001b[38;5;241m*\u001b[39m\u001b[38;5;241m*\u001b[39mkwargs)\n",
      "\u001b[1;31mFileNotFoundError\u001b[0m: [Errno 2] No such file or directory: 'test7.txt'"
     ]
    }
   ],
   "source": [
    "file_obj=open(\"test7.txt\",\"r\")  #eeor\n",
    "a=file_obj.read()\n",
    "file_obj.close()"
   ]
  },
  {
   "cell_type": "code",
   "execution_count": 15,
   "id": "9f3367a9-d1e6-4740-8691-dceef74c2d8a",
   "metadata": {},
   "outputs": [],
   "source": [
    "data=\"\"\"Python is a high-level, general-purpose programming language. \n",
    "Its design philosophy emphasizes code readability with the use of significant indentation.[34]\n",
    "Python is dynamically type-checked and garbage-collected. It supports multiple programming paradigms, including structured (particularly procedural), \n",
    "object-oriented and functional programming.\"\"\"\n",
    "\n"
   ]
  },
  {
   "cell_type": "code",
   "execution_count": 30,
   "id": "e00fa155-c8f2-44df-b4be-2816b7d4cd61",
   "metadata": {},
   "outputs": [],
   "source": [
    "file=open(\"PY.txt\",\"w\")\n",
    "file.write(data)\n",
    "file.close()"
   ]
  },
  {
   "cell_type": "code",
   "execution_count": 31,
   "id": "e0e17cc4-9a99-49b4-85fc-299f08dd3a67",
   "metadata": {},
   "outputs": [],
   "source": [
    "file=open(\"PY.txt\")\n",
    "a=file.read()\n",
    "file.close()"
   ]
  },
  {
   "cell_type": "code",
   "execution_count": 29,
   "id": "3997a53f-e13e-42c2-967c-c7e149367704",
   "metadata": {},
   "outputs": [
    {
     "name": "stdout",
     "output_type": "stream",
     "text": [
      "\n"
     ]
    }
   ],
   "source": [
    "print(a)"
   ]
  },
  {
   "cell_type": "code",
   "execution_count": 27,
   "id": "537c3cbe-575d-45a2-86e2-3630540c3a9d",
   "metadata": {},
   "outputs": [
    {
     "name": "stdout",
     "output_type": "stream",
     "text": [
      "\n",
      "\n"
     ]
    }
   ],
   "source": [
    "file=open(\"PY.txt\")\n",
    "a=file.readline()\n",
    "print(a)\n",
    "a=file.readline()\n",
    "print(a)\n",
    "file.close()"
   ]
  },
  {
   "cell_type": "code",
   "execution_count": 34,
   "id": "d9ad4992-3f7d-4229-867f-19edbea1707a",
   "metadata": {},
   "outputs": [
    {
     "name": "stdout",
     "output_type": "stream",
     "text": [
      "['Python is a high-level, general-purpose programming language. \\n', 'Its design philosophy emphasizes code readability with the use of significant indentation.[34]\\n', 'Python is dynamically type-checked and garbage-collected. It supports multiple programming paradigms, including structured (particularly procedural), \\n', 'object-oriented and functional programming.']\n"
     ]
    }
   ],
   "source": [
    "file=open(\"PY.txt\")\n",
    "a=file.readlines()\n",
    "print(a)\n",
    "#file.close()"
   ]
  },
  {
   "cell_type": "code",
   "execution_count": 93,
   "id": "b0a15259-4a1a-4594-a5df-c05b169f88d7",
   "metadata": {},
   "outputs": [
    {
     "name": "stdout",
     "output_type": "stream",
     "text": [
      "Python is a high-level, general-purpose programming language. \n",
      "\n"
     ]
    }
   ],
   "source": [
    "file=open(\"PY.txt\")\n",
    "a=file.readline()\n",
    "print(a)"
   ]
  },
  {
   "cell_type": "code",
   "execution_count": 98,
   "id": "a4518bdc-38d7-4e77-b3b5-153a57d44f37",
   "metadata": {},
   "outputs": [
    {
     "ename": "FileExistsError",
     "evalue": "[Errno 17] File exists: 'PY.txt'",
     "output_type": "error",
     "traceback": [
      "\u001b[1;31m---------------------------------------------------------------------------\u001b[0m",
      "\u001b[1;31mFileExistsError\u001b[0m                           Traceback (most recent call last)",
      "Cell \u001b[1;32mIn[98], line 1\u001b[0m\n\u001b[1;32m----> 1\u001b[0m file\u001b[38;5;241m=\u001b[39m\u001b[38;5;28mopen\u001b[39m(\u001b[38;5;124m\"\u001b[39m\u001b[38;5;124mPY.txt\u001b[39m\u001b[38;5;124m\"\u001b[39m,\u001b[38;5;124m\"\u001b[39m\u001b[38;5;124mx\u001b[39m\u001b[38;5;124m\"\u001b[39m)\n\u001b[0;32m      2\u001b[0m a\u001b[38;5;241m=\u001b[39mfile\u001b[38;5;241m.\u001b[39mreadlines()\n\u001b[0;32m      3\u001b[0m \u001b[38;5;28mprint\u001b[39m(a)\n",
      "File \u001b[1;32mC:\\ProgramData\\anaconda3\\Lib\\site-packages\\IPython\\core\\interactiveshell.py:324\u001b[0m, in \u001b[0;36m_modified_open\u001b[1;34m(file, *args, **kwargs)\u001b[0m\n\u001b[0;32m    317\u001b[0m \u001b[38;5;28;01mif\u001b[39;00m file \u001b[38;5;129;01min\u001b[39;00m {\u001b[38;5;241m0\u001b[39m, \u001b[38;5;241m1\u001b[39m, \u001b[38;5;241m2\u001b[39m}:\n\u001b[0;32m    318\u001b[0m     \u001b[38;5;28;01mraise\u001b[39;00m \u001b[38;5;167;01mValueError\u001b[39;00m(\n\u001b[0;32m    319\u001b[0m         \u001b[38;5;124mf\u001b[39m\u001b[38;5;124m\"\u001b[39m\u001b[38;5;124mIPython won\u001b[39m\u001b[38;5;124m'\u001b[39m\u001b[38;5;124mt let you open fd=\u001b[39m\u001b[38;5;132;01m{\u001b[39;00mfile\u001b[38;5;132;01m}\u001b[39;00m\u001b[38;5;124m by default \u001b[39m\u001b[38;5;124m\"\u001b[39m\n\u001b[0;32m    320\u001b[0m         \u001b[38;5;124m\"\u001b[39m\u001b[38;5;124mas it is likely to crash IPython. If you know what you are doing, \u001b[39m\u001b[38;5;124m\"\u001b[39m\n\u001b[0;32m    321\u001b[0m         \u001b[38;5;124m\"\u001b[39m\u001b[38;5;124myou can use builtins\u001b[39m\u001b[38;5;124m'\u001b[39m\u001b[38;5;124m open.\u001b[39m\u001b[38;5;124m\"\u001b[39m\n\u001b[0;32m    322\u001b[0m     )\n\u001b[1;32m--> 324\u001b[0m \u001b[38;5;28;01mreturn\u001b[39;00m io_open(file, \u001b[38;5;241m*\u001b[39margs, \u001b[38;5;241m*\u001b[39m\u001b[38;5;241m*\u001b[39mkwargs)\n",
      "\u001b[1;31mFileExistsError\u001b[0m: [Errno 17] File exists: 'PY.txt'"
     ]
    }
   ],
   "source": [
    "File Already Exists--->so that give eroor\n",
    "file=open(\"PY.txt\",\"x\")\n",
    "a=file.readlines()\n",
    "print(a)\n"
   ]
  },
  {
   "cell_type": "code",
   "execution_count": 99,
   "id": "8217d9f6-2930-4eb3-84e1-4e07d886d21d",
   "metadata": {},
   "outputs": [
    {
     "ename": "TypeError",
     "evalue": "write() argument must be str, not list",
     "output_type": "error",
     "traceback": [
      "\u001b[1;31m---------------------------------------------------------------------------\u001b[0m",
      "\u001b[1;31mTypeError\u001b[0m                                 Traceback (most recent call last)",
      "Cell \u001b[1;32mIn[99], line 3\u001b[0m\n\u001b[0;32m      1\u001b[0m \u001b[38;5;66;03m#path\u001b[39;00m\n\u001b[0;32m      2\u001b[0m \u001b[38;5;28;01mwith\u001b[39;00m \u001b[38;5;28mopen\u001b[39m(\u001b[38;5;124mr\u001b[39m\u001b[38;5;124m\"\u001b[39m\u001b[38;5;124mC:\u001b[39m\u001b[38;5;124m\\\u001b[39m\u001b[38;5;124msc\u001b[39m\u001b[38;5;124m\\\u001b[39m\u001b[38;5;124mPY.txt\u001b[39m\u001b[38;5;124m\"\u001b[39m,\u001b[38;5;124m\"\u001b[39m\u001b[38;5;124mw\u001b[39m\u001b[38;5;124m\"\u001b[39m) \u001b[38;5;28;01mas\u001b[39;00m file:\n\u001b[1;32m----> 3\u001b[0m     file\u001b[38;5;241m.\u001b[39mwrite(data)\n",
      "\u001b[1;31mTypeError\u001b[0m: write() argument must be str, not list"
     ]
    }
   ],
   "source": [
    "#path\n",
    "with open(r\"C:\\sc\\PY.txt\",\"w\") as file:\n",
    "    file.write(data)"
   ]
  },
  {
   "cell_type": "code",
   "execution_count": 39,
   "id": "ff71147e-46ec-4058-a51b-d9b2209b7967",
   "metadata": {},
   "outputs": [],
   "source": [
    "bank_data=\"\"\"                       10000 walnut\n",
    "                            kansas city\n",
    "\n",
    "Jane froster\n",
    "\n",
    "                           1234 anywheere\n",
    "\n",
    "small town\n",
    "               primary acoount numner:12333\"\"\"\n",
    "\n",
    "with open(r\"D:\\Python\\customer_data.txt\",\"w\")as file:\n",
    "    file.write(bank_data)"
   ]
  },
  {
   "cell_type": "code",
   "execution_count": 104,
   "id": "b977945c-f862-4545-83ef-1a6ed0d67c07",
   "metadata": {},
   "outputs": [],
   "source": [
    "file_data=open(\"personal_data\",\"w\")\n",
    "file_data.write(bank_data)\n",
    "file_data.close()"
   ]
  },
  {
   "cell_type": "code",
   "execution_count": 106,
   "id": "23f6e43e-464e-4a3f-b526-d1f99e25dbc9",
   "metadata": {},
   "outputs": [
    {
     "name": "stdout",
     "output_type": "stream",
     "text": [
      "                       10000 walnut\n",
      "                            kansas city\n",
      "\n",
      "Jane froster\n",
      "\n",
      "                           1234 anywheere\n",
      "\n",
      "small town\n",
      "               primary acoount numner:12333\n"
     ]
    }
   ],
   "source": [
    "file_data=open(\"personal_data\",\"r\")\n",
    "a=file_data.read()\n",
    "print(a)"
   ]
  },
  {
   "cell_type": "code",
   "execution_count": 109,
   "id": "4e62833b-a583-43be-a922-b6c89d4c266f",
   "metadata": {},
   "outputs": [
    {
     "ename": "SyntaxError",
     "evalue": "unexpected character after line continuation character (2386565550.py, line 2)",
     "output_type": "error",
     "traceback": [
      "\u001b[1;36m  Cell \u001b[1;32mIn[109], line 2\u001b[1;36m\u001b[0m\n\u001b[1;33m    file_data.write(\\n)\u001b[0m\n\u001b[1;37m                     ^\u001b[0m\n\u001b[1;31mSyntaxError\u001b[0m\u001b[1;31m:\u001b[0m unexpected character after line continuation character\n"
     ]
    }
   ],
   "source": [
    "file_data=open(\"personal_data\",\"r\")\n",
    "file_data.write(\\n)\n",
    "file_data.close()"
   ]
  },
  {
   "cell_type": "code",
   "execution_count": 107,
   "id": "ee09fbc2-fbc2-400d-bbfa-6393387f8273",
   "metadata": {},
   "outputs": [
    {
     "data": {
      "text/plain": [
       "['                       10000 walnut\\n',\n",
       " '                            kansas city\\n',\n",
       " '\\n',\n",
       " 'Jane froster\\n',\n",
       " '\\n',\n",
       " '                           1234 anywheere\\n',\n",
       " '\\n',\n",
       " 'small town\\n',\n",
       " '               primary acoount numner:12333']"
      ]
     },
     "execution_count": 107,
     "metadata": {},
     "output_type": "execute_result"
    }
   ],
   "source": [
    "with open(r\"D:\\Python\\customer_data.txt\",\"r\")as file:\n",
    "    data=file.readlines()\n",
    "data\n"
   ]
  },
  {
   "cell_type": "code",
   "execution_count": null,
   "id": "45f41658-4fc1-48d6-98e2-3ad909c58e75",
   "metadata": {},
   "outputs": [],
   "source": [
    "clean_data=[]\n",
    "with open(r\"D:\\Python\\customer_data.txt\",\"r\")as file:\n",
    "    data=file.readlines()\n",
    "for line in data:\n",
    "    print(line)\n",
    "    if line.isspace():\n",
    "        continue:\n",
    "    else:\n",
    "        new_line"
   ]
  },
  {
   "cell_type": "code",
   "execution_count": 68,
   "id": "b1449076-25ba-462d-a597-8ad7efcfaf4c",
   "metadata": {},
   "outputs": [
    {
     "data": {
      "text/plain": [
       "{'name': 'ashu', 'age': 56}"
      ]
     },
     "execution_count": 68,
     "metadata": {},
     "output_type": "execute_result"
    }
   ],
   "source": [
    "# JISON\n",
    "dictt={\"name\":\"ashu\",\"age\":56}\n",
    "dictt"
   ]
  },
  {
   "cell_type": "code",
   "execution_count": 69,
   "id": "27ef8985-0dc4-4c64-a4ae-d3ab4509e0a9",
   "metadata": {},
   "outputs": [],
   "source": [
    "import json\n",
    "with open(r\"D:\\Python\\personal.json\",\"w\")as file:\n",
    "    json.dump(dictt,file)\n"
   ]
  },
  {
   "cell_type": "code",
   "execution_count": 70,
   "id": "778c4506-0bea-4277-8dbc-9602057ff820",
   "metadata": {},
   "outputs": [
    {
     "data": {
      "text/plain": [
       "{'name': 'ashu', 'age': 56}"
      ]
     },
     "execution_count": 70,
     "metadata": {},
     "output_type": "execute_result"
    }
   ],
   "source": [
    "import json\n",
    "with open(\"D:\\Python\\personal.json\",\"r\")as file:\n",
    "   a=json.load(file)\n",
    "a"
   ]
  },
  {
   "cell_type": "code",
   "execution_count": 74,
   "id": "db21666b-86a6-4ff0-b0e5-af3a9616173a",
   "metadata": {},
   "outputs": [
    {
     "ename": "AttributeError",
     "evalue": "'dict' object has no attribute 'upadte'",
     "output_type": "error",
     "traceback": [
      "\u001b[1;31m---------------------------------------------------------------------------\u001b[0m",
      "\u001b[1;31mAttributeError\u001b[0m                            Traceback (most recent call last)",
      "Cell \u001b[1;32mIn[74], line 7\u001b[0m\n\u001b[0;32m      5\u001b[0m \u001b[38;5;66;03m# new dict\u001b[39;00m\n\u001b[0;32m      6\u001b[0m dict2\u001b[38;5;241m=\u001b[39m{\u001b[38;5;124m\"\u001b[39m\u001b[38;5;124mEmail\u001b[39m\u001b[38;5;124m\"\u001b[39m:\u001b[38;5;124m\"\u001b[39m\u001b[38;5;124mashupatil09\u001b[39m\u001b[38;5;124m\"\u001b[39m,\u001b[38;5;124m\"\u001b[39m\u001b[38;5;124mphone\u001b[39m\u001b[38;5;124m\"\u001b[39m:\u001b[38;5;241m1235464\u001b[39m}\n\u001b[1;32m----> 7\u001b[0m a\u001b[38;5;241m.\u001b[39mupadte(dictt)\n\u001b[0;32m      8\u001b[0m a\n\u001b[0;32m      9\u001b[0m \u001b[38;5;28;01mimport\u001b[39;00m\u001b[38;5;250m \u001b[39m\u001b[38;5;21;01mjson\u001b[39;00m\n",
      "\u001b[1;31mAttributeError\u001b[0m: 'dict' object has no attribute 'upadte'"
     ]
    }
   ],
   "source": [
    "import json\n",
    "with open(\"D:\\Python\\personal.json\",\"r\")as file:\n",
    "   a=json.load(file)\n",
    "a\n",
    "# new dict\n",
    "dict2={\"Email\":\"ashupatil09\",\"phone\":1235464}\n",
    "a.upadte(dictt)\n",
    "a\n",
    "with open(r\"D:\\Python\\personal.json\",\"w\")as file:\n",
    "    json.dump(a)"
   ]
  },
  {
   "cell_type": "code",
   "execution_count": 88,
   "id": "ff399128-e244-4485-82a1-768b5c6911e2",
   "metadata": {},
   "outputs": [
    {
     "name": "stdout",
     "output_type": "stream",
     "text": [
      "Overwriting mymodule.py\n"
     ]
    }
   ],
   "source": [
    "%%writefile mymodule.py\n",
    "def caculation(a,b):\n",
    "    return a+b\n",
    "    "
   ]
  },
  {
   "cell_type": "code",
   "execution_count": 89,
   "id": "1b8837b7-01cb-4e8c-af73-082cc3cd6aeb",
   "metadata": {},
   "outputs": [],
   "source": [
    "import mymodule"
   ]
  },
  {
   "cell_type": "code",
   "execution_count": 91,
   "id": "e677d545-69fc-4175-9be6-2470395cd337",
   "metadata": {},
   "outputs": [
    {
     "data": {
      "text/plain": [
       "12"
      ]
     },
     "execution_count": 91,
     "metadata": {},
     "output_type": "execute_result"
    }
   ],
   "source": [
    "mymodule.caculation(10,2)"
   ]
  },
  {
   "cell_type": "code",
   "execution_count": 2,
   "id": "bda66991-68a1-4f6e-86dd-9a29d044342d",
   "metadata": {},
   "outputs": [
    {
     "name": "stdout",
     "output_type": "stream",
     "text": [
      "Overwriting mymodule.py\n"
     ]
    }
   ],
   "source": [
    "%%writefile mymodule.py\n",
    "def addition(a,b):\n",
    "    return a+b\n",
    "def substraction(a,b):\n",
    "    return a-b"
   ]
  },
  {
   "cell_type": "code",
   "execution_count": 6,
   "id": "2a2241b2-59d4-4715-9296-919371e2fda9",
   "metadata": {},
   "outputs": [],
   "source": [
    "from mymodule import substraction"
   ]
  },
  {
   "cell_type": "code",
   "execution_count": 7,
   "id": "05d43088-505f-4bd6-8a65-1aeca90a6ee1",
   "metadata": {},
   "outputs": [
    {
     "data": {
      "text/plain": [
       "8"
      ]
     },
     "execution_count": 7,
     "metadata": {},
     "output_type": "execute_result"
    }
   ],
   "source": [
    "substraction(10,2)"
   ]
  },
  {
   "cell_type": "code",
   "execution_count": null,
   "id": "0c8934a6-6764-453c-a0de-d0658eba8dec",
   "metadata": {},
   "outputs": [],
   "source": []
  },
  {
   "cell_type": "code",
   "execution_count": 8,
   "id": "0edf0396-f079-452e-822d-ff954d1d3051",
   "metadata": {},
   "outputs": [
    {
     "ename": "TypeError",
     "evalue": "product.product_details() takes 4 positional arguments but 5 were given",
     "output_type": "error",
     "traceback": [
      "\u001b[1;31m---------------------------------------------------------------------------\u001b[0m",
      "\u001b[1;31mTypeError\u001b[0m                                 Traceback (most recent call last)",
      "Cell \u001b[1;32mIn[8], line 10\u001b[0m\n\u001b[0;32m      7\u001b[0m         \u001b[38;5;28mself\u001b[39m\u001b[38;5;241m.\u001b[39mqty\u001b[38;5;241m=\u001b[39mqty\n\u001b[0;32m      9\u001b[0m p\u001b[38;5;241m=\u001b[39mproduct()\n\u001b[1;32m---> 10\u001b[0m p\u001b[38;5;241m.\u001b[39mproduct_details(\u001b[38;5;241m101\u001b[39m,\u001b[38;5;124m\"\u001b[39m\u001b[38;5;124mashu\u001b[39m\u001b[38;5;124m\"\u001b[39m,\u001b[38;5;241m10000\u001b[39m,\u001b[38;5;241m10\u001b[39m)\n",
      "\u001b[1;31mTypeError\u001b[0m: product.product_details() takes 4 positional arguments but 5 were given"
     ]
    }
   ],
   "source": [
    "class product:\n",
    "    def __init__(self):\n",
    "        self.id=id\n",
    "    def product_details(self,name,price,qty):\n",
    "        super().__init__(id)\n",
    "        self.price=price\n",
    "        self.qty=qty\n",
    "        def display(self):\n",
    "        print(\"Product ID:\", self.id)\n",
    "        print(\"Product Name:\", self.name)\n",
    "        print(\"Product Price:\", self.price)\n",
    "        print(\"Product Quantity:\", self.qty)\n",
    "        \n",
    "\n",
    "p=product()\n",
    "p.product_details(101,\"ashu\",10000,10)\n"
   ]
  },
  {
   "cell_type": "code",
   "execution_count": 9,
   "id": "019e14df-7f2b-460b-adfd-718136ff3a02",
   "metadata": {},
   "outputs": [
    {
     "name": "stdout",
     "output_type": "stream",
     "text": [
      "Product ID: 101\n",
      "Product Name: Laptop\n",
      "Product Price: 55000\n",
      "Product Quantity: 10\n"
     ]
    }
   ],
   "source": [
    "class Product:\n",
    "    def __init__(self, pid, name, price, qty):\n",
    "        self.id = pid\n",
    "        self.name = name\n",
    "        self.price = price\n",
    "        self.qty = qty\n",
    "\n",
    "    def display(self):\n",
    "        print(\"Product ID:\", self.id)\n",
    "        print(\"Product Name:\", self.name)\n",
    "        print(\"Product Price:\", self.price)\n",
    "        print(\"Product Quantity:\", self.qty)\n",
    "\n",
    "\n",
    "p1 = Product(101, \"Laptop\", 55000, 10)\n",
    "p1.display()\n"
   ]
  },
  {
   "cell_type": "code",
   "execution_count": 14,
   "id": "9d2a670a-a004-4463-841e-3bdf530a0f48",
   "metadata": {},
   "outputs": [
    {
     "ename": "TypeError",
     "evalue": "product.__init__() missing 3 required positional arguments: 'name', 'price', and 'qty'",
     "output_type": "error",
     "traceback": [
      "\u001b[1;31m---------------------------------------------------------------------------\u001b[0m",
      "\u001b[1;31mTypeError\u001b[0m                                 Traceback (most recent call last)",
      "Cell \u001b[1;32mIn[14], line 19\u001b[0m\n\u001b[0;32m     16\u001b[0m         \u001b[38;5;28mprint\u001b[39m(\u001b[38;5;124m\"\u001b[39m\u001b[38;5;124mProduct Price:\u001b[39m\u001b[38;5;124m\"\u001b[39m,\u001b[38;5;28mself\u001b[39m\u001b[38;5;241m.\u001b[39mprice)\n\u001b[0;32m     17\u001b[0m         \u001b[38;5;28mprint\u001b[39m(\u001b[38;5;124m\"\u001b[39m\u001b[38;5;124mProduct Quntity:\u001b[39m\u001b[38;5;124m\"\u001b[39m,\u001b[38;5;28mself\u001b[39m\u001b[38;5;241m.\u001b[39mqty)\n\u001b[1;32m---> 19\u001b[0m p1 \u001b[38;5;241m=\u001b[39m product(\u001b[38;5;241m101\u001b[39m)                    \n\u001b[0;32m     20\u001b[0m p1\u001b[38;5;241m.\u001b[39mproduct_details(\u001b[38;5;124m\"\u001b[39m\u001b[38;5;124mLaptop\u001b[39m\u001b[38;5;124m\"\u001b[39m, \u001b[38;5;241m55000\u001b[39m, \u001b[38;5;241m10\u001b[39m)\n\u001b[0;32m     21\u001b[0m p1\u001b[38;5;241m.\u001b[39mdisplay()\n",
      "\u001b[1;31mTypeError\u001b[0m: product.__init__() missing 3 required positional arguments: 'name', 'price', and 'qty'"
     ]
    }
   ],
   "source": [
    "class product:\n",
    "    def __init__(self,pid,name,price,qty):\n",
    "        self.pid=pid\n",
    "        self.name=\"\"\n",
    "        self.price=0.0\n",
    "        self.qty=0\n",
    "\n",
    "    def product_details(self,name,price,qty):\n",
    "        self.name=name\n",
    "        self.price=price\n",
    "        self.qty=qty\n",
    "\n",
    "    def Display(self):\n",
    "        print(\"Product ID:\",self.pid)\n",
    "        print(\"Product Name:\",self.name)\n",
    "        print(\"Product Price:\",self.price)\n",
    "        print(\"Product Quntity:\",self.qty)\n",
    "\n",
    "p1 = product(101)                    \n",
    "p1.product_details(\"Laptop\", 55000,10)\n",
    "p1.display()  \n",
    "    "
   ]
  },
  {
   "cell_type": "code",
   "execution_count": null,
   "id": "f947056b-33cc-4268-b672-f2188a6d680d",
   "metadata": {},
   "outputs": [],
   "source": []
  },
  {
   "cell_type": "code",
   "execution_count": null,
   "id": "13c84988-c473-49a1-b60f-e4c0496995f7",
   "metadata": {},
   "outputs": [],
   "source": []
  }
 ],
 "metadata": {
  "kernelspec": {
   "display_name": "Python 3 (ipykernel)",
   "language": "python",
   "name": "python3"
  },
  "language_info": {
   "codemirror_mode": {
    "name": "ipython",
    "version": 3
   },
   "file_extension": ".py",
   "mimetype": "text/x-python",
   "name": "python",
   "nbconvert_exporter": "python",
   "pygments_lexer": "ipython3",
   "version": "3.13.5"
  }
 },
 "nbformat": 4,
 "nbformat_minor": 5
}
