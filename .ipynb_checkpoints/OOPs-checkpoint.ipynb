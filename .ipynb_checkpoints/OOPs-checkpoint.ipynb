{
 "cells": [
  {
   "cell_type": "markdown",
   "id": "ad9c2fbb-07a2-4360-b89f-49159dbd0e35",
   "metadata": {},
   "source": [
    "# inheritance"
   ]
  },
  {
   "cell_type": "markdown",
   "id": "f27d1dbe-2cdd-49f3-ad40-c84567830c46",
   "metadata": {},
   "source": [
    "## 1.single inheitance"
   ]
  },
  {
   "cell_type": "code",
   "execution_count": 1,
   "id": "91b43aa4-b6bd-4b82-a43c-d95211fa15a3",
   "metadata": {},
   "outputs": [
    {
     "name": "stdout",
     "output_type": "stream",
     "text": [
      "Ashu Data analyst 30000\n"
     ]
    }
   ],
   "source": [
    "class person:\n",
    "    def __init__(self,name):\n",
    "        self.name=name\n",
    "\n",
    "class employee(person): # parent class inherit in child class\n",
    "    def __init__(self,name,job,salary):\n",
    "        super().__init__(name)\n",
    "        self.job=job\n",
    "        self.salary=salary\n",
    "\n",
    "\n",
    "emp=employee(\"Ashu\",\"Data analyst\",30000)\n",
    "print(emp.name,emp.job,emp.salary)"
   ]
  },
  {
   "cell_type": "markdown",
   "id": "c1dda660-6cd2-4bdc-89fe-3242bf236eb8",
   "metadata": {},
   "source": [
    "## 2.MultiLevel inheritance"
   ]
  },
  {
   "cell_type": "code",
   "execution_count": null,
   "id": "f45f77d2-f542-4994-9951-df967d242793",
   "metadata": {},
   "outputs": [],
   "source": [
    "#A chain of inheritance (grandparent → parent → child).\n",
    "#. If a class is derived from another derived class it is called multilevel inheritance."
   ]
  },
  {
   "cell_type": "code",
   "execution_count": 8,
   "id": "f6fc606c-2616-4ada-9b79-00b3a3b3ae82",
   "metadata": {},
   "outputs": [
    {
     "name": "stdout",
     "output_type": "stream",
     "text": [
      "Ramesh Accountant 1000\n"
     ]
    }
   ],
   "source": [
    "class Person:              # Parent\n",
    "    def __init__(self, name):\n",
    "        self.name = name\n",
    "\n",
    "class Employee(Person):    # Child of Person\n",
    "    def __init__(self, name, job):\n",
    "        super().__init__(name)\n",
    "        self.job = job\n",
    "\n",
    "class Worker(Employee):    # Child of Employee\n",
    "    def __init__(self, name, job, wage):\n",
    "        super().__init__(name, job)\n",
    "        self.wage = wage\n",
    "\n",
    "# Object of Worker\n",
    "w1 = Worker(\"Ramesh\", \"Accountant\", 1000)\n",
    "print(w1.name, w1.job, w1.wage)\n"
   ]
  },
  {
   "cell_type": "markdown",
   "id": "2f65f25d-2ec1-495d-bcde-ea6d3b6fa330",
   "metadata": {},
   "source": [
    "## 3.multiple inheritance"
   ]
  },
  {
   "cell_type": "code",
   "execution_count": null,
   "id": "267e4fcc-925e-45bf-9e72-840b80a7e963",
   "metadata": {},
   "outputs": [],
   "source": [
    "# A class which contain more base class and only one derived class\n",
    "# One child class inherits from more than one parent class."
   ]
  },
  {
   "cell_type": "code",
   "execution_count": 9,
   "id": "3d611310-f770-4af4-93ed-94c084a593dc",
   "metadata": {},
   "outputs": [
    {
     "name": "stdout",
     "output_type": "stream",
     "text": [
      "100 200 300\n"
     ]
    }
   ],
   "source": [
    "class A:  \n",
    "    def __init__(self, x):  \n",
    "        self.x = x  \n",
    "\n",
    "class B:  \n",
    "    def __init__(self, y):  \n",
    "        self.y = y  \n",
    "\n",
    "class C(A, B):  \n",
    "    def __init__(self, x, y, z):  \n",
    "        A.__init__(self, x)  \n",
    "        B.__init__(self, y)  \n",
    "        self.z = z  \n",
    "\n",
    "# Object of C\n",
    "obj = C(100, 200, 300)\n",
    "print(obj.x, obj.y, obj.z)\n"
   ]
  },
  {
   "cell_type": "markdown",
   "id": "ef4da91e-17f5-46fd-a7e6-fed3d822a95d",
   "metadata": {},
   "source": [
    "## 4.Hierarchical inheritance"
   ]
  },
  {
   "cell_type": "code",
   "execution_count": null,
   "id": "c3361830-1fb9-4a66-bc43-2f0bfe544bb5",
   "metadata": {},
   "outputs": [],
   "source": [
    "# only one base & multiple derived class but each derived class can access base class\n",
    "# Multiple child classes inherit from the same parent."
   ]
  },
  {
   "cell_type": "code",
   "execution_count": 10,
   "id": "b47eec92-5ac5-4f97-81fe-8880395f2d08",
   "metadata": {},
   "outputs": [
    {
     "name": "stdout",
     "output_type": "stream",
     "text": [
      "Naresh 50000\n",
      "Ramesh Python\n"
     ]
    }
   ],
   "source": [
    "class Person:  \n",
    "    def __init__(self, name):  \n",
    "        self.name = name  \n",
    "\n",
    "class Customer(Person):  \n",
    "    def __init__(self, name, credit_limit):  \n",
    "        super().__init__(name)  \n",
    "        self.credit_limit = credit_limit  \n",
    "\n",
    "class Student(Person):  \n",
    "    def __init__(self, name, course):  \n",
    "        super().__init__(name)  \n",
    "        self.course = course  \n",
    "\n",
    "# Objects\n",
    "cust1 = Customer(\"Naresh\", 50000)  \n",
    "print(cust1.name, cust1.credit_limit)  \n",
    "\n",
    "stud1 = Student(\"Ramesh\", \"Python\")  \n",
    "print(stud1.name, stud1.course)\n"
   ]
  },
  {
   "cell_type": "markdown",
   "id": "85082686-e53a-49bb-a66a-31f6e90a8913",
   "metadata": {},
   "source": [
    "## 5.Hybrid inhritance"
   ]
  },
  {
   "cell_type": "code",
   "execution_count": null,
   "id": "ec91d7d7-cbc5-4e03-9497-416954319599",
   "metadata": {},
   "outputs": [],
   "source": [
    "# Hybrid Inheritance is a combination of two or more types of inheritance (like single, multiple, multilevel, hierarchical) within the same program."
   ]
  },
  {
   "cell_type": "code",
   "execution_count": null,
   "id": "5adc4e36-b95b-415f-919f-c824795815f1",
   "metadata": {},
   "outputs": [],
   "source": []
  },
  {
   "cell_type": "markdown",
   "id": "31e2d913-38f3-4b0d-83e9-2bc1d073bfc4",
   "metadata": {},
   "source": [
    "# Polymorphism"
   ]
  },
  {
   "cell_type": "code",
   "execution_count": null,
   "id": "d84d5dd1-076e-4236-8269-43e54aaf8c1d",
   "metadata": {},
   "outputs": [],
   "source": [
    "polymorphism is a greek word and polymorphism means having many forms.\n"
   ]
  },
  {
   "cell_type": "markdown",
   "id": "f4e6304f-5b43-4453-8ab9-dfa1748e7266",
   "metadata": {},
   "source": [
    "## 1.built-in ploymorphism\n"
   ]
  },
  {
   "cell_type": "code",
   "execution_count": null,
   "id": "cf2d0be8-370c-4cfe-9aba-5b87f05751f9",
   "metadata": {},
   "outputs": [],
   "source": [
    "print(10 + 20)        # addition (numbers)\n",
    "print(\"Hello \" + \"World\")  # concatenation (strings)\n",
    "print([1, 2] + [3, 4])     # merge (lists)\n"
   ]
  },
  {
   "cell_type": "markdown",
   "id": "0e34907e-08f0-4d97-af2d-4f6eef1c26a4",
   "metadata": {},
   "source": [
    "## 2.ploymorphism with function\n"
   ]
  },
  {
   "cell_type": "code",
   "execution_count": 12,
   "id": "6cad5db9-d492-4c87-8612-7d32c25e229c",
   "metadata": {},
   "outputs": [
    {
     "name": "stdout",
     "output_type": "stream",
     "text": [
      "BarK\n",
      "Meow\n"
     ]
    }
   ],
   "source": [
    "\n",
    "class dog:\n",
    "    def sound(self):\n",
    "        return \"BarK\"\n",
    "class cat:\n",
    "    def sound(self):\n",
    "        return \"Meow\"\n",
    "obj=dog()\n",
    "obj.sound()\n",
    "\n",
    "obj1=cat()\n",
    "obj1.sound()\n",
    "for animal in (dog(),cat()):\n",
    "    print(animal.sound())"
   ]
  },
  {
   "cell_type": "markdown",
   "id": "5344c8fc-f1ef-4147-a516-f604620d6a77",
   "metadata": {},
   "source": [
    "## 3.method overriding"
   ]
  },
  {
   "cell_type": "code",
   "execution_count": null,
   "id": "b2968ada-d139-4a09-a874-3fc8960a4731",
   "metadata": {},
   "outputs": [],
   "source": [
    "when a derived class has a method with the same name as the base class,and the derived method replaces/overrides the base  method at runtime"
   ]
  },
  {
   "cell_type": "code",
   "execution_count": 15,
   "id": "00200466-6e01-462f-9871-dfde578a12fe",
   "metadata": {},
   "outputs": [
    {
     "name": "stdout",
     "output_type": "stream",
     "text": [
      "vehicle is starting......\n",
      "when car key on car is starting...\n",
      "key on bike is starting...\n"
     ]
    }
   ],
   "source": [
    "class vehicle():\n",
    "    def start(self):\n",
    "        print(\"vehicle is starting......\")\n",
    "\n",
    "class car(vehicle):\n",
    "    def start(self):\n",
    "        print(\"when car key on car is starting...\")\n",
    "\n",
    "class Bike(car):\n",
    "    def start(self):\n",
    "        print(\"key on bike is starting...\")\n",
    "\n",
    "v=vehicle()\n",
    "c=car()\n",
    "b=Bike()\n",
    "\n",
    "v.start()\n",
    "c.start()\n",
    "b.start()\n",
    "    "
   ]
  },
  {
   "cell_type": "markdown",
   "id": "d821febb-574c-45c8-a165-aaf6e083157d",
   "metadata": {},
   "source": [
    "## 4.method overloading(not support in python)"
   ]
  },
  {
   "cell_type": "code",
   "execution_count": 18,
   "id": "641578aa-3af7-4b3f-aee5-03e056f14e95",
   "metadata": {},
   "outputs": [
    {
     "name": "stdout",
     "output_type": "stream",
     "text": [
      "15\n",
      "9\n"
     ]
    }
   ],
   "source": [
    "class math:\n",
    "    def add(self,a=0,b=0,c=0):\n",
    "        return a+b+c\n",
    "\n",
    "m=math()\n",
    "print(m.add(5,10))\n",
    "print(m.add(2,3,4))"
   ]
  },
  {
   "cell_type": "code",
   "execution_count": null,
   "id": "ce738684-9b3a-4adf-bf78-e111e4d197ac",
   "metadata": {},
   "outputs": [],
   "source": [
    "*** Operator overloading\n",
    "Python uses special methods (also called magic methods) for operator overloading."
   ]
  },
  {
   "cell_type": "code",
   "execution_count": null,
   "id": "fc56fddb-f69c-4ada-b721-55a39434239b",
   "metadata": {},
   "outputs": [],
   "source": [
    "Python uses special methods (also called magic methods) for operator overloading.\n",
    "For example:\n",
    "\n",
    "Operator\tMethod Name\n",
    "\n",
    "+\t         _add_\n",
    "-\t         _sub_\n",
    "*\t         _mul_\n",
    "==\t          _eq_\n",
    "<\t          _lt_\n",
    ">\t          _gt_\n",
    "\n",
    "\n",
    "\n"
   ]
  },
  {
   "cell_type": "code",
   "execution_count": 19,
   "id": "640b7876-d1bd-450f-804b-e9fa6aaf2dbf",
   "metadata": {},
   "outputs": [
    {
     "name": "stdout",
     "output_type": "stream",
     "text": [
      "250\n"
     ]
    }
   ],
   "source": [
    "#operator overloading\n",
    "class Book:\n",
    "    def __init__(self,pages):\n",
    "        self.pages=pages\n",
    "    def __add__(self,other):\n",
    "        return self.pages+other.pages\n",
    "\n",
    "b1=Book(150)\n",
    "b2=Book(100)\n",
    "print(b1+b2)"
   ]
  },
  {
   "cell_type": "code",
   "execution_count": null,
   "id": "f434b223-b2c2-4f4d-9e6e-b1baf94b7181",
   "metadata": {},
   "outputs": [],
   "source": []
  },
  {
   "cell_type": "markdown",
   "id": "9db17ee5-375d-4df6-a502-4be485e46e95",
   "metadata": {},
   "source": [
    "# Encapsulation:-\n"
   ]
  },
  {
   "cell_type": "code",
   "execution_count": null,
   "id": "a0b2eaff-fed8-4de0-a963-633cbd8214f8",
   "metadata": {},
   "outputs": [],
   "source": [
    "- Encapsulation hides the internal details of the object.\n",
    " - encapsulation is the process of Hiding the internal data of a class using access modifiers (private, protected)\n",
    "- Encapsulation is hiding the internal details of a class and restricting direct access to its data.\"\n"
   ]
  },
  {
   "cell_type": "code",
   "execution_count": null,
   "id": "28058d79-04a0-48b2-809c-556559d83933",
   "metadata": {},
   "outputs": [],
   "source": []
  },
  {
   "cell_type": "code",
   "execution_count": null,
   "id": "596ec4d0-0060-4499-b25e-207608570368",
   "metadata": {},
   "outputs": [],
   "source": [
    "Types of Access Modifiers in Python:\n",
    "Modifier\t                 How to use\t                       Example\t                   Access\n",
    "Public\t                     No underscore\t                   self.name\t           Accessible anywhere\n",
    "Protected\t               Single underscore _\t              self._balance\t           Accessible in class and subclasses (convention)\n",
    "Private\t                   Double underscore __\t             self.__password\t        Accessible only inside the class"
   ]
  },
  {
   "cell_type": "code",
   "execution_count": 20,
   "id": "fc185c0e-2c8d-441d-8f36-1d412da11e9c",
   "metadata": {},
   "outputs": [
    {
     "name": "stdout",
     "output_type": "stream",
     "text": [
      "Ashwini\n",
      "5000\n",
      "1234\n"
     ]
    }
   ],
   "source": [
    "class Account:\n",
    "    def __init__(self, owner, balance):\n",
    "        self.owner = owner        # Public\n",
    "        self._balance = balance   # Protected\n",
    "        self.__password = \"1234\"  # Private\n",
    "\n",
    "    def get_password(self):\n",
    "        return self.__password    # Access private variable via method\n",
    "\n",
    "    def set_password(self, new_pass):\n",
    "        self.__password = new_pass  # Modify private variable safely\n",
    "\n",
    "acc = Account(\"Ashwini\", 5000)\n",
    "print(acc.owner)         # ✅ Public: Accessible\n",
    "print(acc._balance)      # ⚠ Protected: Can access but not recommended\n",
    "# print(acc.__password)  # ❌ Private: Will give error\n",
    "\n",
    "print(acc.get_password())  # ✅ Access private safely\n",
    "acc.set_password(\"5678\")   # ✅ Update private safely\n"
   ]
  },
  {
   "cell_type": "code",
   "execution_count": null,
   "id": "fd048d1f-02c1-490c-8126-6c200a346987",
   "metadata": {},
   "outputs": [],
   "source": []
  }
 ],
 "metadata": {
  "kernelspec": {
   "display_name": "Python 3 (ipykernel)",
   "language": "python",
   "name": "python3"
  },
  "language_info": {
   "codemirror_mode": {
    "name": "ipython",
    "version": 3
   },
   "file_extension": ".py",
   "mimetype": "text/x-python",
   "name": "python",
   "nbconvert_exporter": "python",
   "pygments_lexer": "ipython3",
   "version": "3.13.5"
  }
 },
 "nbformat": 4,
 "nbformat_minor": 5
}
