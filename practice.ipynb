{
 "cells": [
  {
   "cell_type": "code",
   "execution_count": 1,
   "id": "7027f39d-93ca-495e-92d7-b6646cfdc857",
   "metadata": {},
   "outputs": [
    {
     "name": "stdout",
     "output_type": "stream",
     "text": [
      "hello\n"
     ]
    }
   ],
   "source": [
    "if 10>5:\n",
    "    print(\"hello\")"
   ]
  },
  {
   "cell_type": "code",
   "execution_count": 6,
   "id": "ede7828b-007b-4670-b41c-a27ab2d84fa2",
   "metadata": {},
   "outputs": [],
   "source": [
    "if 10<6:\n",
    "    print(\"hello\")"
   ]
  },
  {
   "cell_type": "code",
   "execution_count": 8,
   "id": "a89fd3c1-76f7-4295-90e5-adde66b14a18",
   "metadata": {},
   "outputs": [
    {
     "name": "stdout",
     "output_type": "stream",
     "text": [
      "one\n",
      "Heyyy you are good girl\n"
     ]
    }
   ],
   "source": [
    "if 10>2:\n",
    "    pass \n",
    "    print(\"one\")\n",
    "    print(\"Heyyy you are good girl\")"
   ]
  },
  {
   "cell_type": "code",
   "execution_count": 9,
   "id": "2dbbeb9e-c198-42e0-a14c-61da0fb47dcf",
   "metadata": {},
   "outputs": [
    {
     "name": "stdout",
     "output_type": "stream",
     "text": [
      "Python\n"
     ]
    }
   ],
   "source": [
    "if True:\n",
    "    print(\"Python\")\n",
    "else:\n",
    "    print(\"Java\")"
   ]
  },
  {
   "cell_type": "code",
   "execution_count": 10,
   "id": "6c7b4411-972a-4930-8a56-e604201cd796",
   "metadata": {},
   "outputs": [
    {
     "name": "stdout",
     "output_type": "stream",
     "text": [
      "Byeeeeee\n"
     ]
    }
   ],
   "source": [
    "if False:\n",
    "    print(\"Hello\")\n",
    "else:\n",
    "    print(\"Byeeeeee\")"
   ]
  },
  {
   "cell_type": "code",
   "execution_count": 13,
   "id": "161ddacc-dd67-4a97-b97a-4e0a5d1b8aca",
   "metadata": {},
   "outputs": [
    {
     "name": "stdin",
     "output_type": "stream",
     "text": [
      "Enter a name: ashu\n",
      "Enter a age: 16\n"
     ]
    },
    {
     "name": "stdout",
     "output_type": "stream",
     "text": [
      "not eligible\n"
     ]
    }
   ],
   "source": [
    "name=str(input(\"Enter a name:\"))\n",
    "age=int(input(\"Enter a age:\"))\n",
    "if age>18:\n",
    "    print(\"eligible\")\n",
    "else:\n",
    "    print(\"not eligible\")"
   ]
  },
  {
   "cell_type": "code",
   "execution_count": 16,
   "id": "6a7105d5-f6b9-477f-9ac5-fa64abea5619",
   "metadata": {},
   "outputs": [
    {
     "name": "stdin",
     "output_type": "stream",
     "text": [
      "Enter a name: paras\n",
      "Enter a age: 50\n"
     ]
    },
    {
     "name": "stdout",
     "output_type": "stream",
     "text": [
      "eligible\n"
     ]
    }
   ],
   "source": [
    "name=str(input(\"Enter a name:\"))\n",
    "age=int(input(\"Enter a age:\"))\n",
    "if age>18:\n",
    "    print(\"eligible\")\n",
    "else:\n",
    "    print(\"not eligible\")"
   ]
  },
  {
   "cell_type": "code",
   "execution_count": 19,
   "id": "fbdf2d34-3c92-4bb6-af0b-19a50c550ea0",
   "metadata": {},
   "outputs": [
    {
     "name": "stdin",
     "output_type": "stream",
     "text": [
      "name: ashu\n",
      "Password: 910\n"
     ]
    },
    {
     "name": "stdout",
     "output_type": "stream",
     "text": [
      "welcome\n"
     ]
    }
   ],
   "source": [
    "uname=input(\"name:\")\n",
    "password=int(input(\"Password:\"))\n",
    "\n",
    "if uname==\"ashu\" and password==910:\n",
    "             print(\"welcome\")\n",
    "else:\n",
    "             print(\"invalid password and uname\")\n",
    "\n"
   ]
  },
  {
   "cell_type": "code",
   "execution_count": 20,
   "id": "6a3e5ced-fe04-4bc7-9605-69b9c9bc3d06",
   "metadata": {},
   "outputs": [
    {
     "name": "stdin",
     "output_type": "stream",
     "text": [
      "name: paras\n",
      "Password: 897\n"
     ]
    },
    {
     "name": "stdout",
     "output_type": "stream",
     "text": [
      "invalid password and uname\n"
     ]
    }
   ],
   "source": [
    "uname=input(\"name:\")\n",
    "password=int(input(\"Password:\"))\n",
    "\n",
    "if uname==\"ashu\" and password==910:\n",
    "             print(\"welcome\")\n",
    "else:\n",
    "             print(\"invalid password and uname\")\n",
    "\n"
   ]
  },
  {
   "cell_type": "code",
   "execution_count": null,
   "id": "96ad638e-bc10-4119-b8b9-1a0289fd04e2",
   "metadata": {},
   "outputs": [],
   "source": [
    "What is the order of precedence in python? i) Parentheses ii)\n",
    "Exponential iii) Multiplication iv) Division v) Addition vi) Subtraction"
   ]
  },
  {
   "cell_type": "code",
   "execution_count": null,
   "id": "49484044-7fbd-43e2-a66a-ba1f6d290f15",
   "metadata": {},
   "outputs": [],
   "source": [
    "What is the order of precedence in python? i) Parentheses ii)\n",
    "Exponential iii) Multiplication iv) Division v) Addition vi) Subtraction"
   ]
  },
  {
   "cell_type": "code",
   "execution_count": 22,
   "id": "8f1a7c99-62fc-4ea4-aee0-077e9ed7b6e4",
   "metadata": {},
   "outputs": [
    {
     "ename": "SyntaxError",
     "evalue": "unterminated string literal (detected at line 1) (3178506253.py, line 1)",
     "output_type": "error",
     "traceback": [
      "\u001b[1;36m  Cell \u001b[1;32mIn[22], line 1\u001b[1;36m\u001b[0m\n\u001b[1;33m    if(\" or 5 and True):\u001b[0m\n\u001b[1;37m       ^\u001b[0m\n\u001b[1;31mSyntaxError\u001b[0m\u001b[1;31m:\u001b[0m unterminated string literal (detected at line 1)\n"
     ]
    }
   ],
   "source": [
    "if(\" or 5 and True):\n",
    "    print(\"Hello\", end=\" \")\n",
    "else:\n",
    "    print('Hi', end=\" \")\n",
    "print('!')"
   ]
  },
  {
   "cell_type": "code",
   "execution_count": 25,
   "id": "5793f4fe-3f58-4136-b4fb-951ba2c583e4",
   "metadata": {},
   "outputs": [
    {
     "name": "stdout",
     "output_type": "stream",
     "text": [
      "false\n"
     ]
    }
   ],
   "source": [
    "if(\"false\"):\n",
    "    print(\"false\")\n",
    "elif(\"true\"):\n",
    "    print(\"true\")\n",
    "else:\n",
    "    print(\"None\")\n"
   ]
  },
  {
   "cell_type": "code",
   "execution_count": 33,
   "id": "c4c26b12-846e-4063-8c2d-5a79153ca7dc",
   "metadata": {},
   "outputs": [],
   "source": [
    "list1 = [3, 2, 5, 6, 0, 7, 9]\n",
    "sum = 0\n",
    "sum1 = 0\n",
    "for elem in list1:\n",
    "    if (elem % 2 == 0):\n",
    "        sum = sum + elem\n",
    "    continue\n",
    "    if (elem % 3 == 0):\n",
    "        sum1 = sum1 + elem\n",
    "        print(sum, end=\" \")\n",
    "        print(sum1)\n",
    "\n",
    "\n"
   ]
  },
  {
   "cell_type": "code",
   "execution_count": null,
   "id": "ba163633-d97c-44d9-8a24-931a60c7dc75",
   "metadata": {},
   "outputs": [],
   "source": [
    "count=0\n",
    "while count<3: \n",
    "    print(count) #0 #1 #2\n",
    "    count=count+1 #1 #2 #3\n",
    "    "
   ]
  },
  {
   "cell_type": "code",
   "execution_count": 2,
   "id": "9d18c92e-1e19-42df-a69d-028afcffe977",
   "metadata": {},
   "outputs": [
    {
     "name": "stdout",
     "output_type": "stream",
     "text": [
      "HelloHello\n"
     ]
    }
   ],
   "source": [
    "s = \"Hello\"\n",
    "print(s* 2)"
   ]
  },
  {
   "cell_type": "code",
   "execution_count": 3,
   "id": "17a8bf7d-24b4-4265-b1ce-87cb513b3524",
   "metadata": {},
   "outputs": [],
   "source": [
    "nums = [1,2,3,4]\n",
    "\n",
    "\n",
    "doubled = [x * 2 for x in nums]"
   ]
  },
  {
   "cell_type": "code",
   "execution_count": 7,
   "id": "5eef648f-d8e3-40ca-a816-63382fb11035",
   "metadata": {},
   "outputs": [
    {
     "name": "stdout",
     "output_type": "stream",
     "text": [
      "15\n"
     ]
    }
   ],
   "source": [
    "def add(x,y=10):\n",
    "    return x+y\n",
    "print(add(5))"
   ]
  },
  {
   "cell_type": "code",
   "execution_count": 1,
   "id": "51b23a43-410c-452c-a205-e13190ca5cd3",
   "metadata": {},
   "outputs": [
    {
     "name": "stdout",
     "output_type": "stream",
     "text": [
      "Hello !\n"
     ]
    }
   ],
   "source": [
    "if('' or 5 and True): \n",
    "    print(\"Hello\",end=\" \") \n",
    "else: \n",
    "    print('Hi',end=\" \") \n",
    "print('!')"
   ]
  },
  {
   "cell_type": "code",
   "execution_count": 10,
   "id": "2e151386-3134-45e0-af7b-162489db9b96",
   "metadata": {},
   "outputs": [
    {
     "name": "stdout",
     "output_type": "stream",
     "text": [
      "30\n"
     ]
    }
   ],
   "source": [
    "class Apple: \n",
    "    def __init__(self, apples):\n",
    "        self.apples = apples\n",
    "a1 = Apple(100)\n",
    "a2 = Apple(25) \n",
    "a3 = Apple(a1.apples % (Apple(10).apples + a2.apples)) \n",
    "print(a3.apples)"
   ]
  }
 ],
 "metadata": {
  "kernelspec": {
   "display_name": "Python 3 (ipykernel)",
   "language": "python",
   "name": "python3"
  },
  "language_info": {
   "codemirror_mode": {
    "name": "ipython",
    "version": 3
   },
   "file_extension": ".py",
   "mimetype": "text/x-python",
   "name": "python",
   "nbconvert_exporter": "python",
   "pygments_lexer": "ipython3",
   "version": "3.13.5"
  }
 },
 "nbformat": 4,
 "nbformat_minor": 5
}
