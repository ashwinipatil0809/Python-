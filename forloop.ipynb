{
 "cells": [
  {
   "cell_type": "code",
   "execution_count": 3,
   "id": "b803ae9e-1344-4b51-b017-c51456439edb",
   "metadata": {},
   "outputs": [
    {
     "name": "stdout",
     "output_type": "stream",
     "text": [
      "python\n",
      "python\n",
      "python\n",
      "python\n",
      "python\n",
      "python\n",
      "python\n",
      "python\n",
      "python\n",
      "python\n"
     ]
    }
   ],
   "source": [
    "str1=\"python\"\n",
    "for i in range(0,10):\n",
    "    print(str1)"
   ]
  },
  {
   "cell_type": "code",
   "execution_count": 4,
   "id": "bacd545e-5656-4c04-a458-8670033583cc",
   "metadata": {},
   "outputs": [
    {
     "ename": "_IncompleteInputError",
     "evalue": "incomplete input (1866703351.py, line 2)",
     "output_type": "error",
     "traceback": [
      "\u001b[1;36m  Cell \u001b[1;32mIn[4], line 2\u001b[1;36m\u001b[0m\n\u001b[1;33m    print(\"the length of tsring is:\",len(str1)\u001b[0m\n\u001b[1;37m                                              ^\u001b[0m\n\u001b[1;31m_IncompleteInputError\u001b[0m\u001b[1;31m:\u001b[0m incomplete input\n"
     ]
    }
   ],
   "source": [
    "str1=\"python and data science\"\n",
    "print(\"the length of tsring is:\",len(str1)"
   ]
  },
  {
   "cell_type": "code",
   "execution_count": 7,
   "id": "e038ed27-1e69-40ac-b545-f3e349616c3b",
   "metadata": {},
   "outputs": [
    {
     "name": "stdout",
     "output_type": "stream",
     "text": [
      "2\n",
      "4\n",
      "6\n",
      "8\n",
      "10\n",
      "12\n",
      "14\n",
      "16\n",
      "18\n",
      "20\n",
      "22\n",
      "24\n",
      "26\n",
      "28\n",
      "30\n",
      "32\n",
      "34\n",
      "36\n",
      "38\n",
      "40\n",
      "42\n",
      "44\n",
      "46\n",
      "48\n",
      "50\n"
     ]
    }
   ],
   "source": [
    "#even number\n",
    "for i in range(1,51):\n",
    "    if i%2==0:\n",
    "        print(i)"
   ]
  },
  {
   "cell_type": "code",
   "execution_count": 10,
   "id": "1f8dce62-b875-4a3a-91c4-d763bee78a6c",
   "metadata": {},
   "outputs": [
    {
     "name": "stdout",
     "output_type": "stream",
     "text": [
      "1\n",
      "3\n",
      "5\n",
      "7\n",
      "9\n",
      "11\n",
      "13\n",
      "15\n",
      "17\n",
      "19\n",
      "21\n",
      "23\n",
      "25\n",
      "27\n",
      "29\n",
      "31\n",
      "33\n",
      "35\n",
      "37\n",
      "39\n",
      "41\n",
      "43\n",
      "45\n",
      "47\n",
      "49\n"
     ]
    }
   ],
   "source": [
    "#odd number\n",
    "for i in range(1,51):\n",
    "    if i%2!=0:\n",
    "        print(i)\n",
    "    "
   ]
  },
  {
   "cell_type": "code",
   "execution_count": 11,
   "id": "0d6733c0-dc57-40fd-a943-f36e8248d0b2",
   "metadata": {},
   "outputs": [
    {
     "name": "stdout",
     "output_type": "stream",
     "text": [
      "length---> 6\n",
      "p\n",
      "python is a programming language\n",
      "y\n",
      "python is a programming language\n",
      "t\n",
      "python is a programming language\n",
      "h\n",
      "python is a programming language\n",
      "o\n",
      "python is a programming language\n",
      "n\n",
      "python is a programming language\n"
     ]
    }
   ],
   "source": [
    "str1=\"python\"\n",
    "print(\"length--->\",len(str1))\n",
    "for char in str1:\n",
    "    print(char)\n",
    "    print(\"python is a programming language\")\n",
    "\n"
   ]
  },
  {
   "cell_type": "code",
   "execution_count": 13,
   "id": "24e33a88-1b94-47a1-89d7-97f63576b506",
   "metadata": {},
   "outputs": [
    {
     "name": "stdout",
     "output_type": "stream",
     "text": [
      "the datatype of2id<class 'int'>\n",
      "the datatype of3id<class 'int'>\n",
      "the datatype of4id<class 'int'>\n",
      "the datatype of5id<class 'int'>\n",
      "the datatype ofpythonid<class 'str'>\n",
      "the datatype ofclassid<class 'str'>\n",
      "the datatype of10id<class 'int'>\n",
      "the datatype of25id<class 'int'>\n",
      "the datatype of4.5id<class 'float'>\n"
     ]
    }
   ],
   "source": [
    "list1=[2,3,4,5,\"python\",\"class\",10,25,4.5]\n",
    "str_list1=[]\n",
    "str_list1=[]\n",
    "str_list1=[]\n",
    "for i in list1:\n",
    "    print(f\"the datatype of{i}id{type(i)}\")"
   ]
  },
  {
   "cell_type": "code",
   "execution_count": null,
   "id": "942ed37e-6d5e-4317-839c-54023a315f12",
   "metadata": {},
   "outputs": [],
   "source": [
    "list1=[2,3,4,5,\"python\",\"class\",10,25,4.5]\n",
    "str_list1=[]\n",
    "str_list1=[]\n",
    "str_list1=[]\n",
    "for i in list1:\n",
    "    print(f\"the datatype of{i}id{type(i)}\")"
   ]
  },
  {
   "cell_type": "code",
   "execution_count": 15,
   "id": "61c166e7-4916-4812-9126-8f8d063ddab4",
   "metadata": {},
   "outputs": [
    {
     "name": "stdout",
     "output_type": "stream",
     "text": [
      "2\n",
      "8\n",
      "56\n",
      "448\n",
      "4032\n"
     ]
    }
   ],
   "source": [
    "lst=[2,4,7,8,9]\n",
    "multi=1\n",
    "for i in lst:\n",
    "    multi=multi*i\n",
    "    print(multi)"
   ]
  },
  {
   "cell_type": "code",
   "execution_count": 16,
   "id": "f243a04e-c6e9-4819-af6c-7aa89c29ac6b",
   "metadata": {},
   "outputs": [
    {
     "name": "stdout",
     "output_type": "stream",
     "text": [
      "19\n",
      "for index number 0\n",
      "p\n",
      "for index number 1\n",
      "y\n",
      "for index number 2\n",
      "t\n",
      "for index number 3\n",
      "h\n",
      "for index number 4\n",
      "o\n",
      "for index number 5\n",
      "n\n",
      "for index number 6\n",
      " \n",
      "for index number 7\n",
      "i\n",
      "for index number 8\n",
      "s\n",
      "for index number 9\n",
      " \n",
      "for index number 10\n",
      "a\n",
      "for index number 11\n",
      " \n",
      "for index number 12\n",
      "p\n",
      "for index number 13\n",
      "r\n",
      "for index number 14\n",
      "o\n",
      "for index number 15\n",
      "g\n",
      "for index number 16\n",
      "r\n",
      "for index number 17\n",
      "m\n",
      "for index number 18\n",
      "a\n"
     ]
    }
   ],
   "source": [
    "string=\"python is a progrma\"\n",
    "print(len(string))\n",
    "for i in range(0,len(string)):\n",
    "    print(\"for index number\",i)\n",
    "    print(string[i])"
   ]
  },
  {
   "cell_type": "code",
   "execution_count": 17,
   "id": "35d055eb-1676-46c5-b7e9-a081151bf398",
   "metadata": {},
   "outputs": [
    {
     "name": "stdout",
     "output_type": "stream",
     "text": [
      "at index number0value isp\n",
      "at index number1value isy\n",
      "at index number2value ist\n",
      "at index number3value ish\n",
      "at index number4value iso\n",
      "at index number5value isn\n",
      "at index number6value is \n",
      "at index number7value isi\n",
      "at index number8value iss\n",
      "at index number9value is \n",
      "at index number10value isa\n",
      "at index number11value is \n",
      "at index number12value isp\n",
      "at index number13value isr\n",
      "at index number14value iso\n",
      "at index number15value isg\n",
      "at index number16value isr\n",
      "at index number17value ism\n",
      "at index number18value isa\n"
     ]
    }
   ],
   "source": [
    "for i,v in enumerate(string):\n",
    "    print(f\"at index number{i}value is{v}\")"
   ]
  },
  {
   "cell_type": "code",
   "execution_count": 19,
   "id": "2e7998df-c8f5-4f89-83e5-979b3a8fa13d",
   "metadata": {},
   "outputs": [
    {
     "name": "stdout",
     "output_type": "stream",
     "text": [
      "1\n",
      "2\n",
      "3\n",
      "4\n",
      "5\n",
      "hello\n",
      "value found\n",
      "6\n",
      "7\n",
      "8\n",
      "9\n",
      "10\n"
     ]
    }
   ],
   "source": [
    "list1=[2,3,4,5,\"python\",\"class\",10,25,4.5]\n",
    "str_list1=[]\n",
    "str_list1=[]\n",
    "str_list1=[]\n",
    "for i in list1:\n",
    "    print(f\"the datatype of{i}id{type(i)}\")"
   ]
  },
  {
   "cell_type": "code",
   "execution_count": 20,
   "id": "1c97f62a-e4dd-4c4f-8ca3-57246acccfbd",
   "metadata": {},
   "outputs": [
    {
     "name": "stdout",
     "output_type": "stream",
     "text": [
      "the datatype of2id<class 'int'>\n"
     ]
    }
   ],
   "source": [
    "list1=[2,3,4,5,\"python\",\"class\",10,25,4.5]\n",
    "str_list1=[]\n",
    "str_list1=[]\n",
    "str_list1=[]\n",
    "for i in list1:\n",
    "    print(f\"the datatype of{i}id{type(i)}\")\n",
    "    break"
   ]
  },
  {
   "cell_type": "code",
   "execution_count": 21,
   "id": "208cd84e-f1ad-48b7-a653-4a997bd82acd",
   "metadata": {},
   "outputs": [
    {
     "name": "stdout",
     "output_type": "stream",
     "text": [
      "1\n",
      "2\n",
      "3\n",
      "4\n",
      "5\n",
      "hello\n"
     ]
    }
   ],
   "source": [
    "for i in range(1,11):\n",
    "    print(i)\n",
    "    if i==5:\n",
    "        print(\"hello\")\n",
    "        break"
   ]
  },
  {
   "cell_type": "code",
   "execution_count": 26,
   "id": "4199a37e-8eb6-40a4-b841-85ce8d56be48",
   "metadata": {},
   "outputs": [
    {
     "name": "stdout",
     "output_type": "stream",
     "text": [
      "iteam---> 12\n",
      "hello\n",
      "iteam---> 23\n",
      "hello\n",
      "iteam---> 4\n",
      "hello\n",
      "iteam---> 5\n",
      "hello\n",
      "iteam---> python\n",
      "string found in lst\n"
     ]
    }
   ],
   "source": [
    "list1=[12,23,4,5,\"python\",7,8]\n",
    "for i in list1:\n",
    "    print(\"iteam--->\",i)\n",
    "    if type(i)==str:\n",
    "        print(\"string found in lst\")\n",
    "        break\n",
    "    print(\"hello\")"
   ]
  },
  {
   "cell_type": "code",
   "execution_count": 29,
   "id": "11ec15d6-65de-46e8-ac02-21918f2fa6d1",
   "metadata": {},
   "outputs": [
    {
     "name": "stdout",
     "output_type": "stream",
     "text": [
      "iteam---> 12\n",
      "######## we are out of for loop #########\n"
     ]
    }
   ],
   "source": [
    "list1=[12,23,4,5,\"python\",7,8]\n",
    "for i in list1:\n",
    "    print(\"iteam--->\",i)\n",
    "    if type(i)==str:\n",
    "        print(\"string found in lst\")\n",
    "    break\n",
    "    print(\"hello\")\n",
    "print(\"######## we are out of for loop #########\")"
   ]
  },
  {
   "cell_type": "code",
   "execution_count": 31,
   "id": "4933df10-48b3-4719-940a-a4a3de42550f",
   "metadata": {},
   "outputs": [
    {
     "name": "stdout",
     "output_type": "stream",
     "text": [
      "iteam---> 12\n",
      "hello\n",
      "######## we are out of for loop #########\n"
     ]
    }
   ],
   "source": [
    "list1=[12,23,4,5,\"python\",7,8]\n",
    "for i in list1:\n",
    "    print(\"iteam--->\",i)\n",
    "    if type(i)==str:\n",
    "        print(\"string found in lst\")\n",
    "    print(\"hello\")\n",
    "    break\n",
    "    print(\"hello\")\n",
    "print(\"######## we are out of for loop #########\")"
   ]
  }
 ],
 "metadata": {
  "kernelspec": {
   "display_name": "Python 3 (ipykernel)",
   "language": "python",
   "name": "python3"
  },
  "language_info": {
   "codemirror_mode": {
    "name": "ipython",
    "version": 3
   },
   "file_extension": ".py",
   "mimetype": "text/x-python",
   "name": "python",
   "nbconvert_exporter": "python",
   "pygments_lexer": "ipython3",
   "version": "3.13.5"
  }
 },
 "nbformat": 4,
 "nbformat_minor": 5
}
