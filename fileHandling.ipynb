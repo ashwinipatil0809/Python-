{
 "cells": [
  {
   "cell_type": "markdown",
   "id": "53dca8f1-b5bc-4d18-8767-5371d36818a2",
   "metadata": {},
   "source": [
    "# File handling"
   ]
  },
  {
   "cell_type": "code",
   "execution_count": null,
   "id": "dcb64d8e-4266-4057-84c6-72b1b25b97bd",
   "metadata": {},
   "outputs": [],
   "source": [
    "1.txt\n",
    "- read\n",
    "- write\n",
    "- apend\n",
    "- close\n",
    "- delete\n",
    "- create"
   ]
  },
  {
   "cell_type": "code",
   "execution_count": null,
   "id": "c12856d2-1dca-4018-9154-4b51a175bc8d",
   "metadata": {},
   "outputs": [],
   "source": [
    "modes:\n",
    "\"w\"\n",
    "\"r\"\n",
    "\"a\"\n",
    "\"w\""
   ]
  },
  {
   "cell_type": "markdown",
   "id": "5c4443df-13af-4e48-974f-852f25e51e8a",
   "metadata": {},
   "source": [
    "## open txt file\n"
   ]
  },
  {
   "cell_type": "code",
   "execution_count": null,
   "id": "359b6dae-5d90-49aa-b242-557552ade43a",
   "metadata": {},
   "outputs": [],
   "source": [
    "open(fle_name,mode)"
   ]
  },
  {
   "cell_type": "code",
   "execution_count": 7,
   "id": "42a0f79a-bc6a-4fbb-9fe0-f5d533f3c2e4",
   "metadata": {},
   "outputs": [
    {
     "data": {
      "text/plain": [
       "19"
      ]
     },
     "execution_count": 7,
     "metadata": {},
     "output_type": "execute_result"
    }
   ],
   "source": [
    "file_obj=open(\"test.txt\",\"w\")\n",
    "file_obj.write(\"hello good evevning\")"
   ]
  },
  {
   "cell_type": "code",
   "execution_count": 8,
   "id": "eea5eebc-56fa-4360-a2c9-45d022d89a25",
   "metadata": {},
   "outputs": [],
   "source": [
    "file_obj=open(\"test.txt\",\"w\")\n",
    "file_obj.write(\"hello good evevning\")\n",
    "file_obj.close()"
   ]
  },
  {
   "cell_type": "code",
   "execution_count": 10,
   "id": "683517b7-537f-4ec0-8018-006e5460b30d",
   "metadata": {},
   "outputs": [],
   "source": [
    "#change statement then ...last current statement on txt file\n",
    "file_obj=open(\"test.txt\",\"w\")\n",
    "file_obj.write(\"hello good night\")\n",
    "file_obj.close()"
   ]
  },
  {
   "cell_type": "code",
   "execution_count": 11,
   "id": "c37c7c05-2cc2-424b-a383-1c2344410307",
   "metadata": {},
   "outputs": [],
   "source": [
    "#append\n",
    "file_obj=open(\"test.txt\",\"a\")\n",
    "file_obj.write(\"goodd\")\n",
    "file_obj.close()"
   ]
  },
  {
   "cell_type": "code",
   "execution_count": 12,
   "id": "ff21b16f-03c1-4a64-a8ac-d3c801341b53",
   "metadata": {},
   "outputs": [],
   "source": [
    "#if file does not exits--->when we create new txt file..then new generate and append\n",
    "file_obj=open(\"test2.txt\",\"a\")\n",
    "file_obj.write(\"python is easy langauage\")\n",
    "file_obj.close()"
   ]
  },
  {
   "cell_type": "code",
   "execution_count": 13,
   "id": "517b003c-c066-4776-870f-cb21d10d440c",
   "metadata": {},
   "outputs": [],
   "source": [
    "file_obj=open(\"test2.txt\",\"a\")\n",
    "file_obj.write(\"python is easy langauage\\nand also provided diffrent function and datatype\")\n",
    "file_obj.close()"
   ]
  },
  {
   "cell_type": "markdown",
   "id": "6d2a102a-1b8a-4183-a1b2-6375fb1c90e5",
   "metadata": {},
   "source": [
    "## Read txt file"
   ]
  },
  {
   "cell_type": "code",
   "execution_count": null,
   "id": "c28c14fb-94b5-4bda-bf71-fe2880a47837",
   "metadata": {},
   "outputs": [],
   "source": [
    "by default mode is read mode\n"
   ]
  },
  {
   "cell_type": "code",
   "execution_count": 14,
   "id": "661cd3de-d79a-49ab-8608-0fca447b8759",
   "metadata": {},
   "outputs": [
    {
     "data": {
      "text/plain": [
       "'hello good nightgoodd'"
      ]
     },
     "execution_count": 14,
     "metadata": {},
     "output_type": "execute_result"
    }
   ],
   "source": [
    "file_obj=open(\"test.txt\",\"r\")\n",
    "file_obj.read()"
   ]
  },
  {
   "cell_type": "code",
   "execution_count": 19,
   "id": "1b1b51ce-1ceb-4cb7-80ea-89b908ac26a1",
   "metadata": {},
   "outputs": [],
   "source": [
    "file_obj=open(\"test.txt\",\"r\")\n",
    "a=file_obj.read()\n",
    "file_obj.close()"
   ]
  },
  {
   "cell_type": "code",
   "execution_count": 20,
   "id": "b8fa6bc2-2c47-4580-bb93-11c73eca9b9c",
   "metadata": {},
   "outputs": [
    {
     "name": "stdout",
     "output_type": "stream",
     "text": [
      "hello good nightgoodd\n"
     ]
    }
   ],
   "source": [
    "print(a)"
   ]
  },
  {
   "cell_type": "code",
   "execution_count": 21,
   "id": "48a7d060-9bf1-4e13-ac79-d3061fe6056f",
   "metadata": {},
   "outputs": [
    {
     "ename": "FileNotFoundError",
     "evalue": "[Errno 2] No such file or directory: 'test6.txt'",
     "output_type": "error",
     "traceback": [
      "\u001b[1;31m---------------------------------------------------------------------------\u001b[0m",
      "\u001b[1;31mFileNotFoundError\u001b[0m                         Traceback (most recent call last)",
      "Cell \u001b[1;32mIn[21], line 2\u001b[0m\n\u001b[0;32m      1\u001b[0m \u001b[38;5;66;03m#if file does not exits --->it will be give error\u001b[39;00m\n\u001b[1;32m----> 2\u001b[0m file_obj\u001b[38;5;241m=\u001b[39m\u001b[38;5;28mopen\u001b[39m(\u001b[38;5;124m\"\u001b[39m\u001b[38;5;124mtest6.txt\u001b[39m\u001b[38;5;124m\"\u001b[39m,\u001b[38;5;124m\"\u001b[39m\u001b[38;5;124mr\u001b[39m\u001b[38;5;124m\"\u001b[39m)\n\u001b[0;32m      3\u001b[0m file_obj\u001b[38;5;241m.\u001b[39mread()\n\u001b[0;32m      4\u001b[0m file_obj\u001b[38;5;241m.\u001b[39mclose()\n",
      "File \u001b[1;32mC:\\ProgramData\\anaconda3\\Lib\\site-packages\\IPython\\core\\interactiveshell.py:324\u001b[0m, in \u001b[0;36m_modified_open\u001b[1;34m(file, *args, **kwargs)\u001b[0m\n\u001b[0;32m    317\u001b[0m \u001b[38;5;28;01mif\u001b[39;00m file \u001b[38;5;129;01min\u001b[39;00m {\u001b[38;5;241m0\u001b[39m, \u001b[38;5;241m1\u001b[39m, \u001b[38;5;241m2\u001b[39m}:\n\u001b[0;32m    318\u001b[0m     \u001b[38;5;28;01mraise\u001b[39;00m \u001b[38;5;167;01mValueError\u001b[39;00m(\n\u001b[0;32m    319\u001b[0m         \u001b[38;5;124mf\u001b[39m\u001b[38;5;124m\"\u001b[39m\u001b[38;5;124mIPython won\u001b[39m\u001b[38;5;124m'\u001b[39m\u001b[38;5;124mt let you open fd=\u001b[39m\u001b[38;5;132;01m{\u001b[39;00mfile\u001b[38;5;132;01m}\u001b[39;00m\u001b[38;5;124m by default \u001b[39m\u001b[38;5;124m\"\u001b[39m\n\u001b[0;32m    320\u001b[0m         \u001b[38;5;124m\"\u001b[39m\u001b[38;5;124mas it is likely to crash IPython. If you know what you are doing, \u001b[39m\u001b[38;5;124m\"\u001b[39m\n\u001b[0;32m    321\u001b[0m         \u001b[38;5;124m\"\u001b[39m\u001b[38;5;124myou can use builtins\u001b[39m\u001b[38;5;124m'\u001b[39m\u001b[38;5;124m open.\u001b[39m\u001b[38;5;124m\"\u001b[39m\n\u001b[0;32m    322\u001b[0m     )\n\u001b[1;32m--> 324\u001b[0m \u001b[38;5;28;01mreturn\u001b[39;00m io_open(file, \u001b[38;5;241m*\u001b[39margs, \u001b[38;5;241m*\u001b[39m\u001b[38;5;241m*\u001b[39mkwargs)\n",
      "\u001b[1;31mFileNotFoundError\u001b[0m: [Errno 2] No such file or directory: 'test6.txt'"
     ]
    }
   ],
   "source": [
    "#if file does not exits --->it will be give error\n",
    "file_obj=open(\"test6.txt\",\"r\")\n",
    "file_obj.read()\n",
    "file_obj.close()"
   ]
  },
  {
   "cell_type": "code",
   "execution_count": 23,
   "id": "7b735dc6-e895-4aa3-8684-d1a8e101e163",
   "metadata": {},
   "outputs": [],
   "source": [
    "data=\"\"\"Python is a high-level, general-purpose programming language. \n",
    "Its design philosophy emphasizes code readability with the use of significant indentation.[34]\n",
    "Python is dynamically type-checked and garbage-collected. It supports multiple programming paradigms, including structured (particularly procedural), \n",
    "object-oriented and functional programming.\"\"\""
   ]
  },
  {
   "cell_type": "code",
   "execution_count": 25,
   "id": "99f891d2-2724-4a3f-be81-bf118e93c9b1",
   "metadata": {},
   "outputs": [],
   "source": [
    "file=open(\"PY.txt\",\"w\")\n",
    "file.write(data)\n",
    "file.close()\n"
   ]
  },
  {
   "cell_type": "code",
   "execution_count": 30,
   "id": "ec0757fa-37aa-4aa1-98d0-79eb4c1244a0",
   "metadata": {},
   "outputs": [
    {
     "data": {
      "text/plain": [
       "'Python is a high-level, general-purpose programming language. \\nIts design philosophy emphasizes code readability with the use of significant indentation.[34]\\nPython is dynamically type-checked and garbage-collected. It supports multiple programming paradigms, including structured (particularly procedural), \\nobject-oriented and functional programming.'"
      ]
     },
     "execution_count": 30,
     "metadata": {},
     "output_type": "execute_result"
    }
   ],
   "source": [
    "file=open(\"PY.txt\",\"r\")\n",
    "file.read()\n"
   ]
  },
  {
   "cell_type": "code",
   "execution_count": 31,
   "id": "7303f087-de0c-40ee-8478-057213f72b23",
   "metadata": {},
   "outputs": [],
   "source": [
    "file=open(\"PY.txt\",\"r\")\n",
    "a=file.read()\n"
   ]
  },
  {
   "cell_type": "code",
   "execution_count": 32,
   "id": "e7a769a5-5f68-47b9-8e67-fb3d1677b3c1",
   "metadata": {},
   "outputs": [
    {
     "name": "stdout",
     "output_type": "stream",
     "text": [
      "Python is a high-level, general-purpose programming language. \n",
      "Its design philosophy emphasizes code readability with the use of significant indentation.[34]\n",
      "Python is dynamically type-checked and garbage-collected. It supports multiple programming paradigms, including structured (particularly procedural), \n",
      "object-oriented and functional programming.\n"
     ]
    }
   ],
   "source": [
    "print(a)"
   ]
  },
  {
   "cell_type": "code",
   "execution_count": 33,
   "id": "8664dbfd-ef41-43ca-a4e6-26d666fd4087",
   "metadata": {},
   "outputs": [],
   "source": [
    "#readline-->it is used to write a text line by line\n",
    "file=open(\"PY.txt\",\"r\")\n",
    "a=file.readline()"
   ]
  },
  {
   "cell_type": "code",
   "execution_count": 34,
   "id": "0704e7e7-c85f-4a96-b45b-3d7c81c54fa4",
   "metadata": {},
   "outputs": [
    {
     "name": "stdout",
     "output_type": "stream",
     "text": [
      "Python is a high-level, general-purpose programming language. \n",
      "\n"
     ]
    }
   ],
   "source": [
    "print(a)"
   ]
  },
  {
   "cell_type": "code",
   "execution_count": 40,
   "id": "592b18d1-57ad-4066-903b-677486382609",
   "metadata": {},
   "outputs": [],
   "source": [
    "file=open(\"PY.txt\",\"r\")\n",
    "a=file.readline()\n",
    "file=open(\"PY.txt\",\"r\")\n",
    "a=file.readline()"
   ]
  },
  {
   "cell_type": "code",
   "execution_count": 41,
   "id": "3584ae1d-dbc1-45f8-9681-2dbb74bd7dd2",
   "metadata": {},
   "outputs": [
    {
     "name": "stdout",
     "output_type": "stream",
     "text": [
      "Python is a high-level, general-purpose programming language. \n",
      "\n"
     ]
    }
   ],
   "source": [
    "print(a)\n"
   ]
  },
  {
   "cell_type": "code",
   "execution_count": 42,
   "id": "cb7f3983-f2aa-48a5-9da2-6b38e9ba3297",
   "metadata": {},
   "outputs": [
    {
     "data": {
      "text/plain": [
       "['Python is a high-level, general-purpose programming language. \\n',\n",
       " 'Its design philosophy emphasizes code readability with the use of significant indentation.[34]\\n',\n",
       " 'Python is dynamically type-checked and garbage-collected. It supports multiple programming paradigms, including structured (particularly procedural), \\n',\n",
       " 'object-oriented and functional programming.']"
      ]
     },
     "execution_count": 42,
     "metadata": {},
     "output_type": "execute_result"
    }
   ],
   "source": [
    "#readlines\n",
    "file=open(\"PY.txt\",\"r\")\n",
    "file.readlines()"
   ]
  },
  {
   "cell_type": "code",
   "execution_count": 43,
   "id": "960d466b-e5c6-4ae6-a312-dc199d1f709a",
   "metadata": {},
   "outputs": [
    {
     "name": "stdout",
     "output_type": "stream",
     "text": [
      "['Python is a high-level, general-purpose programming language. \\n', 'Its design philosophy emphasizes code readability with the use of significant indentation.[34]\\n', 'Python is dynamically type-checked and garbage-collected. It supports multiple programming paradigms, including structured (particularly procedural), \\n', 'object-oriented and functional programming.']\n"
     ]
    }
   ],
   "source": [
    "#readlines\n",
    "file=open(\"PY.txt\",\"r\")\n",
    "a=file.readlines()\n",
    "print(a)"
   ]
  },
  {
   "cell_type": "markdown",
   "id": "0cc12f5e-2703-4978-9393-6fcd987f1285",
   "metadata": {},
   "source": [
    "# x-mode"
   ]
  },
  {
   "cell_type": "code",
   "execution_count": null,
   "id": "9bd4d82c-3a4c-444e-a1a0-f7e9cb28003f",
   "metadata": {},
   "outputs": [],
   "source": [
    "same as a write but if file  exits->it give error\n",
    "if file not exits it will craete new file"
   ]
  },
  {
   "cell_type": "code",
   "execution_count": 50,
   "id": "58df91b7-8880-4e3e-8b6d-993b34826504",
   "metadata": {},
   "outputs": [],
   "source": [
    "#if file not exits it will craete new file\n",
    "file=open(\"newfile4.txt\",\"x\")\n",
    "file.write(\"This is a new file\")\n",
    "file.close()"
   ]
  },
  {
   "cell_type": "code",
   "execution_count": null,
   "id": "f5bb1634-831b-4367-84dd-e6f8590fdc95",
   "metadata": {},
   "outputs": [],
   "source": [
    "#same as a write but if file  exits->it give error\n",
    "file=open(\"newfile4.txt\",\"x\")\n",
    "file.write(\"This is a new file\")\n",
    "file.close()"
   ]
  },
  {
   "cell_type": "code",
   "execution_count": 51,
   "id": "091fd6f6-d945-4271-987d-858fbad86fe9",
   "metadata": {},
   "outputs": [],
   "source": [
    "#path\n",
    "with open(\"D:\\Python\\PY.txt\",\"w\")as file:\n",
    "    file.write(data)"
   ]
  },
  {
   "cell_type": "markdown",
   "id": "26ae3b90-e71e-484d-8e9e-2949a1b3b488",
   "metadata": {},
   "source": [
    "# Module"
   ]
  },
  {
   "cell_type": "markdown",
   "id": "0811a09a-5f61-465c-bd54-db3fbb5fd594",
   "metadata": {},
   "source": [
    "## creating module"
   ]
  },
  {
   "cell_type": "code",
   "execution_count": 1,
   "id": "4fb53b95-5baf-40ea-a2f8-303addd61270",
   "metadata": {},
   "outputs": [
    {
     "name": "stdout",
     "output_type": "stream",
     "text": [
      "Overwriting mymodule.py\n"
     ]
    }
   ],
   "source": [
    "%%writefile mymodule.py\n",
    "def caculation(a,b):\n",
    "    return a+b"
   ]
  },
  {
   "cell_type": "code",
   "execution_count": 3,
   "id": "bb9d3d40-728e-4b3b-be77-ca0a93d11d96",
   "metadata": {},
   "outputs": [],
   "source": [
    "import mymodule"
   ]
  },
  {
   "cell_type": "code",
   "execution_count": 4,
   "id": "2f8ddeb5-08ee-4279-b104-848c675ef214",
   "metadata": {},
   "outputs": [
    {
     "data": {
      "text/plain": [
       "12"
      ]
     },
     "execution_count": 4,
     "metadata": {},
     "output_type": "execute_result"
    }
   ],
   "source": [
    "mymodule.caculation(10,2)"
   ]
  },
  {
   "cell_type": "code",
   "execution_count": null,
   "id": "ef00bc84-0331-446d-bcbe-4fce2140d71d",
   "metadata": {},
   "outputs": [],
   "source": [
    "# particular module of crating my own"
   ]
  },
  {
   "cell_type": "code",
   "execution_count": 12,
   "id": "622dc41b-adb9-4407-aee0-2bd500cb5d78",
   "metadata": {},
   "outputs": [
    {
     "name": "stdout",
     "output_type": "stream",
     "text": [
      "Writing mymodule1.py\n"
     ]
    }
   ],
   "source": [
    "%%writefile mymodule1.py\n",
    "def addition(a,b):\n",
    "    return a+b\n",
    "def substraction(a,b):\n",
    "    return a-b"
   ]
  },
  {
   "cell_type": "code",
   "execution_count": 13,
   "id": "d23889cd-baa7-4f90-b161-758853d174bb",
   "metadata": {},
   "outputs": [],
   "source": [
    "from mymodule1 import substraction"
   ]
  },
  {
   "cell_type": "code",
   "execution_count": 14,
   "id": "1265fd64-8aed-4a36-a4b8-9d8b4b53a327",
   "metadata": {},
   "outputs": [
    {
     "data": {
      "text/plain": [
       "8"
      ]
     },
     "execution_count": 14,
     "metadata": {},
     "output_type": "execute_result"
    }
   ],
   "source": [
    "substraction(10,2)"
   ]
  },
  {
   "cell_type": "code",
   "execution_count": null,
   "id": "01a1b0fd-cf93-481d-8ae0-e655ed15888b",
   "metadata": {},
   "outputs": [],
   "source": []
  },
  {
   "cell_type": "code",
   "execution_count": null,
   "id": "01671a50-3cb3-4851-84e3-3ed3f9f6ad9c",
   "metadata": {},
   "outputs": [],
   "source": []
  },
  {
   "cell_type": "code",
   "execution_count": null,
   "id": "adb7a18e-53f5-4a7d-bab9-4834f9eb1611",
   "metadata": {},
   "outputs": [],
   "source": []
  },
  {
   "cell_type": "code",
   "execution_count": null,
   "id": "acf94d17-d813-41d8-a033-225cfbc366fe",
   "metadata": {},
   "outputs": [],
   "source": []
  },
  {
   "cell_type": "code",
   "execution_count": null,
   "id": "9076ca1b-ae54-4623-8b29-373479652ac7",
   "metadata": {},
   "outputs": [],
   "source": []
  },
  {
   "cell_type": "code",
   "execution_count": null,
   "id": "b7ba893c-e129-4696-9fb8-6a63dab24e97",
   "metadata": {},
   "outputs": [],
   "source": []
  },
  {
   "cell_type": "code",
   "execution_count": null,
   "id": "e9e255e6-9704-4464-8987-5189e16150e4",
   "metadata": {},
   "outputs": [],
   "source": []
  }
 ],
 "metadata": {
  "kernelspec": {
   "display_name": "Python 3 (ipykernel)",
   "language": "python",
   "name": "python3"
  },
  "language_info": {
   "codemirror_mode": {
    "name": "ipython",
    "version": 3
   },
   "file_extension": ".py",
   "mimetype": "text/x-python",
   "name": "python",
   "nbconvert_exporter": "python",
   "pygments_lexer": "ipython3",
   "version": "3.13.5"
  }
 },
 "nbformat": 4,
 "nbformat_minor": 5
}
