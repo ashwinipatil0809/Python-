{
 "cells": [
  {
   "cell_type": "markdown",
   "id": "65a80c46-627f-48f2-be3b-53afb71e967a",
   "metadata": {},
   "source": [
    "\n"
   ]
  },
  {
   "cell_type": "markdown",
   "id": "ed5968bd-c13b-4369-8b84-ce42566e105d",
   "metadata": {},
   "source": [
    "# String Function"
   ]
  },
  {
   "cell_type": "code",
   "execution_count": 4,
   "id": "c1e4e6ee-4dbf-4a55-aaed-8bfcf9304609",
   "metadata": {},
   "outputs": [
    {
     "name": "stdout",
     "output_type": "stream",
     "text": [
      "10\n"
     ]
    },
    {
     "data": {
      "text/plain": [
       "str"
      ]
     },
     "execution_count": 4,
     "metadata": {},
     "output_type": "execute_result"
    }
   ],
   "source": [
    "a=\"10\"\n",
    "print(a)\n",
    "type(a)"
   ]
  },
  {
   "cell_type": "code",
   "execution_count": 6,
   "id": "3d791566-b16f-4e73-a80d-4ff13971384a",
   "metadata": {},
   "outputs": [
    {
     "name": "stdout",
     "output_type": "stream",
     "text": [
      "<class 'str'>\n",
      "<class 'str'>\n",
      "10\n"
     ]
    }
   ],
   "source": [
    "#type casting\n",
    "a=\"10\"\n",
    "b=int(a)\n",
    "print (type(a))\n",
    "print(b)"
   ]
  },
  {
   "cell_type": "code",
   "execution_count": null,
   "id": "3ff71edf-633f-43e2-9d9e-c2e02cc7b4b2",
   "metadata": {},
   "outputs": [],
   "source": [
    "a=\"10.64\"\n",
    "print(type(a))\n",
    "b=int(a)            # we cannot convert in string-->interger\n",
    "print(type(b))"
   ]
  },
  {
   "cell_type": "markdown",
   "id": "cc14e81a-556a-448d-a873-4d8a7615a765",
   "metadata": {},
   "source": [
    "## Feature of string"
   ]
  },
  {
   "cell_type": "code",
   "execution_count": 13,
   "id": "088938a7-7878-43de-80f5-9e4fbc23439c",
   "metadata": {},
   "outputs": [
    {
     "name": "stdout",
     "output_type": "stream",
     "text": [
      "python\n"
     ]
    }
   ],
   "source": [
    "a=\"python\"\n",
    "a.upper     # cannnot change because it is immutable\n",
    "print(a)"
   ]
  },
  {
   "cell_type": "code",
   "execution_count": 16,
   "id": "964a0014-f4e5-49ec-b911-a4de9a6978cf",
   "metadata": {},
   "outputs": [
    {
     "name": "stdout",
     "output_type": "stream",
     "text": [
      "PYTHON\n"
     ]
    }
   ],
   "source": [
    "a=\"python\"\n",
    "b=a.upper()   #because idef conused...so we can store in another variable\n",
    "print(b)"
   ]
  },
  {
   "cell_type": "code",
   "execution_count": 17,
   "id": "1b339972-d86d-4c04-b772-ce92dea76375",
   "metadata": {},
   "outputs": [
    {
     "name": "stdout",
     "output_type": "stream",
     "text": [
      "hhhhhhhhhhhhhagdiiiiiiiiiiii\n"
     ]
    }
   ],
   "source": [
    "String=\"hhhhhhhhhhhhhagdiiiiiiiiiiii\"      # in python duplicate string are allow\n",
    "print(String)\n"
   ]
  },
  {
   "cell_type": "code",
   "execution_count": 11,
   "id": "8e34be69-ed0f-4ac7-a8ab-e3a0f9051fa4",
   "metadata": {},
   "outputs": [
    {
     "name": "stdout",
     "output_type": "stream",
     "text": [
      "<class 'str'>\n"
     ]
    },
    {
     "ename": "ValueError",
     "evalue": "invalid literal for int() with base 10: '10.64'",
     "output_type": "error",
     "traceback": [
      "\u001b[1;31m---------------------------------------------------------------------------\u001b[0m",
      "\u001b[1;31mValueError\u001b[0m                                Traceback (most recent call last)",
      "Cell \u001b[1;32mIn[11], line 3\u001b[0m\n\u001b[0;32m      1\u001b[0m a\u001b[38;5;241m=\u001b[39m\u001b[38;5;124m\"\u001b[39m\u001b[38;5;124m10.64\u001b[39m\u001b[38;5;124m\"\u001b[39m\n\u001b[0;32m      2\u001b[0m \u001b[38;5;28mprint\u001b[39m(\u001b[38;5;28mtype\u001b[39m(a))\n\u001b[1;32m----> 3\u001b[0m b\u001b[38;5;241m=\u001b[39m\u001b[38;5;28mint\u001b[39m(a)\n\u001b[0;32m      4\u001b[0m \u001b[38;5;28mprint\u001b[39m(\u001b[38;5;28mtype\u001b[39m(b))\n",
      "\u001b[1;31mValueError\u001b[0m: invalid literal for int() with base 10: '10.64'"
     ]
    }
   ],
   "source": []
  },
  {
   "cell_type": "code",
   "execution_count": null,
   "id": "6c138541-f27b-4a30-9ce2-fb082e4a9d8b",
   "metadata": {},
   "outputs": [],
   "source": [
    "#in python order data then we are indexing\n"
   ]
  },
  {
   "cell_type": "markdown",
   "id": "ca94f4e0-cd7a-4302-87bf-6f33d7090800",
   "metadata": {},
   "source": [
    "# Indexing"
   ]
  },
  {
   "cell_type": "code",
   "execution_count": null,
   "id": "9cd2683c-3ed8-442d-b651-4ed02e92eb83",
   "metadata": {},
   "outputs": [],
   "source": [
    "indexing   1.Indexing\n",
    "access--    2.slicing\n",
    "            3.for loop\n"
   ]
  },
  {
   "cell_type": "code",
   "execution_count": null,
   "id": "72cce8ed-871f-49fb-aecf-bbf3ef0183ed",
   "metadata": {},
   "outputs": [],
   "source": [
    "#Indexing \n",
    "2 Type  +ve-->start 0,if sholud strat from left to right,use [] to single element\n",
    "        -ve-->start 0,if should start from right to left,use---"
   ]
  },
  {
   "cell_type": "code",
   "execution_count": 20,
   "id": "830b1f17-c438-4555-8e50-a6a2dee560db",
   "metadata": {},
   "outputs": [
    {
     "data": {
      "text/plain": [
       "'p'"
      ]
     },
     "execution_count": 20,
     "metadata": {},
     "output_type": "execute_result"
    }
   ],
   "source": [
    "# +Ve\n",
    "a=\"pytyon\"\n",
    "#  012345\n",
    "a[0]\n"
   ]
  },
  {
   "cell_type": "code",
   "execution_count": 21,
   "id": "0d9ae73c-88a4-49ae-8077-d0b892792997",
   "metadata": {},
   "outputs": [
    {
     "data": {
      "text/plain": [
       "'y'"
      ]
     },
     "execution_count": 21,
     "metadata": {},
     "output_type": "execute_result"
    }
   ],
   "source": [
    "a=\"pytyon\"\n",
    "#  012345\n",
    "a[3]"
   ]
  },
  {
   "cell_type": "code",
   "execution_count": 22,
   "id": "ae5bd938-dd02-4f7a-a6fb-19f7ba46bd5c",
   "metadata": {},
   "outputs": [
    {
     "ename": "IndexError",
     "evalue": "string index out of range",
     "output_type": "error",
     "traceback": [
      "\u001b[1;31m---------------------------------------------------------------------------\u001b[0m",
      "\u001b[1;31mIndexError\u001b[0m                                Traceback (most recent call last)",
      "Cell \u001b[1;32mIn[22], line 3\u001b[0m\n\u001b[0;32m      1\u001b[0m a\u001b[38;5;241m=\u001b[39m\u001b[38;5;124m\"\u001b[39m\u001b[38;5;124mpytyon\u001b[39m\u001b[38;5;124m\"\u001b[39m\n\u001b[0;32m      2\u001b[0m \u001b[38;5;66;03m#  012345\u001b[39;00m\n\u001b[1;32m----> 3\u001b[0m a[\u001b[38;5;241m7\u001b[39m]\n",
      "\u001b[1;31mIndexError\u001b[0m: string index out of range"
     ]
    }
   ],
   "source": [
    "a=\"pytyon\"\n",
    "#  012345      #Error brcause we can put a value is out of range\n",
    "a[7]"
   ]
  },
  {
   "cell_type": "code",
   "execution_count": 11,
   "id": "b692ed09-2d19-46c9-b524-535456d73e92",
   "metadata": {},
   "outputs": [
    {
     "data": {
      "text/plain": [
       "'g'"
      ]
     },
     "execution_count": 11,
     "metadata": {},
     "output_type": "execute_result"
    }
   ],
   "source": [
    "#last indexing\n",
    "a=\"machine learning\"\n",
    "#a[len(a)-1]\n",
    "a[-1]"
   ]
  },
  {
   "cell_type": "code",
   "execution_count": 9,
   "id": "76723dda-db31-4f45-ab14-960f48a9d641",
   "metadata": {},
   "outputs": [
    {
     "data": {
      "text/plain": [
       "'m'"
      ]
     },
     "execution_count": 9,
     "metadata": {},
     "output_type": "execute_result"
    }
   ],
   "source": [
    "a=\"machine learning\"\n",
    "\n",
    "a[0]"
   ]
  },
  {
   "cell_type": "code",
   "execution_count": 28,
   "id": "1ffd2fc9-0300-4f0a-b00f-082f9c951fc5",
   "metadata": {},
   "outputs": [
    {
     "data": {
      "text/plain": [
       "'t'"
      ]
     },
     "execution_count": 28,
     "metadata": {},
     "output_type": "execute_result"
    }
   ],
   "source": [
    "#-ve indexing\n",
    "a=\"python\"\n",
    "#-5-4-3-2-1\n",
    "a[-4]"
   ]
  },
  {
   "cell_type": "code",
   "execution_count": 30,
   "id": "a3aff735-b419-4c3b-9db6-4f6212b40db2",
   "metadata": {},
   "outputs": [
    {
     "data": {
      "text/plain": [
       "'re ler'"
      ]
     },
     "execution_count": 30,
     "metadata": {},
     "output_type": "execute_result"
    }
   ],
   "source": [
    "#silcer\n",
    "a=\"we are leraing\"    #strat from 0 and \n",
    "a[4:10]"
   ]
  },
  {
   "cell_type": "code",
   "execution_count": 31,
   "id": "dbba92d6-3c18-4a7f-a2c9-1a371d2965d2",
   "metadata": {},
   "outputs": [
    {
     "data": {
      "text/plain": [
       "''"
      ]
     },
     "execution_count": 31,
     "metadata": {},
     "output_type": "execute_result"
    }
   ],
   "source": [
    "a[-2:-5]"
   ]
  },
  {
   "cell_type": "code",
   "execution_count": 36,
   "id": "7f29c550-a30e-4f02-81ca-ac925f7e6614",
   "metadata": {},
   "outputs": [
    {
     "data": {
      "text/plain": [
       "'re ler'"
      ]
     },
     "execution_count": 36,
     "metadata": {},
     "output_type": "execute_result"
    }
   ],
   "source": [
    "a[4:10:1]"
   ]
  },
  {
   "cell_type": "code",
   "execution_count": 38,
   "id": "1180753e-4f0d-46e4-80f2-090a781789c2",
   "metadata": {},
   "outputs": [
    {
     "data": {
      "text/plain": [
       "'are le'"
      ]
     },
     "execution_count": 38,
     "metadata": {},
     "output_type": "execute_result"
    }
   ],
   "source": [
    "a[-11:-5:1]     #left to right\n"
   ]
  },
  {
   "cell_type": "code",
   "execution_count": 39,
   "id": "a7225778-76fb-488d-8060-3adfb2bc9e07",
   "metadata": {},
   "outputs": [
    {
     "data": {
      "text/plain": [
       "'we '"
      ]
     },
     "execution_count": 39,
     "metadata": {},
     "output_type": "execute_result"
    }
   ],
   "source": [
    "#first two cahracter\n",
    "#we cannot put number then index start with 0\n",
    "a[:3]"
   ]
  },
  {
   "cell_type": "code",
   "execution_count": 44,
   "id": "3ada5d6a-c5a6-4266-b7d7-bb8cd9cb47a6",
   "metadata": {},
   "outputs": [
    {
     "data": {
      "text/plain": [
       "'ing'"
      ]
     },
     "execution_count": 44,
     "metadata": {},
     "output_type": "execute_result"
    }
   ],
   "source": [
    "#last 3 characte\n",
    "a[-3:]"
   ]
  },
  {
   "cell_type": "code",
   "execution_count": 41,
   "id": "8b7d3761-4f52-46c1-8c32-655b90b561b4",
   "metadata": {},
   "outputs": [
    {
     "data": {
      "text/plain": [
       "'we are leraing'"
      ]
     },
     "execution_count": 41,
     "metadata": {},
     "output_type": "execute_result"
    }
   ],
   "source": [
    "#all string\n",
    "a[:]"
   ]
  },
  {
   "cell_type": "code",
   "execution_count": 42,
   "id": "0effa827-280f-4914-aebd-a3f2abf8dd41",
   "metadata": {},
   "outputs": [
    {
     "data": {
      "text/plain": [
       "'w r ean'"
      ]
     },
     "execution_count": 42,
     "metadata": {},
     "output_type": "execute_result"
    }
   ],
   "source": [
    "#only even number show\n",
    "a[0::2]"
   ]
  },
  {
   "cell_type": "code",
   "execution_count": 43,
   "id": "718e4279-9317-4298-88e7-c8c840266423",
   "metadata": {},
   "outputs": [
    {
     "data": {
      "text/plain": [
       "'eaelrig'"
      ]
     },
     "execution_count": 43,
     "metadata": {},
     "output_type": "execute_result"
    }
   ],
   "source": [
    "#only even number show\n",
    "a[1::2]"
   ]
  },
  {
   "cell_type": "markdown",
   "id": "fe163d2a-7d0e-4408-be44-32ecde375afc",
   "metadata": {},
   "source": [
    "# reverse string"
   ]
  },
  {
   "cell_type": "code",
   "execution_count": 47,
   "id": "231c794e-788d-41af-87c7-d59f46d10059",
   "metadata": {},
   "outputs": [
    {
     "data": {
      "text/plain": [
       "'nohty'"
      ]
     },
     "execution_count": 47,
     "metadata": {},
     "output_type": "execute_result"
    }
   ],
   "source": [
    "a=\"python\"\n",
    "a[len(a)-1:0:-1]"
   ]
  },
  {
   "cell_type": "code",
   "execution_count": 46,
   "id": "7e8c59a0-680a-4c44-bdf6-145e41b6a570",
   "metadata": {},
   "outputs": [
    {
     "data": {
      "text/plain": [
       "'nohtyp'"
      ]
     },
     "execution_count": 46,
     "metadata": {},
     "output_type": "execute_result"
    }
   ],
   "source": [
    "a[::-1]             #we can simple put this wayy\n"
   ]
  },
  {
   "cell_type": "markdown",
   "id": "1e112d95-a352-43eb-a79a-bdba1e199b5f",
   "metadata": {},
   "source": [
    "## String Functions"
   ]
  },
  {
   "cell_type": "code",
   "execution_count": 48,
   "id": "37303482-9b4d-4c06-97e2-0d1d4d287e75",
   "metadata": {},
   "outputs": [
    {
     "data": {
      "text/plain": [
       "'Python is progrraming langugae'"
      ]
     },
     "execution_count": 48,
     "metadata": {},
     "output_type": "execute_result"
    }
   ],
   "source": [
    "# 1.capitilze--->first letter of first word\n",
    "\n",
    "a=\"Python is progrraming langugae\"\n",
    "a.capitalize()"
   ]
  },
  {
   "cell_type": "code",
   "execution_count": 49,
   "id": "95c7aab0-7633-4b41-b540-2fb2f8a08388",
   "metadata": {},
   "outputs": [
    {
     "data": {
      "text/plain": [
       "'Python Is Progrraming Langugae'"
      ]
     },
     "execution_count": 49,
     "metadata": {},
     "output_type": "execute_result"
    }
   ],
   "source": [
    "# 2.Titlecase-->all first letter of word start with captial\n",
    "a=\"Python is progrraming langugae\"\n",
    "a.title()"
   ]
  },
  {
   "cell_type": "markdown",
   "id": "110e8ca2-5519-487a-983a-4ff2fc62b7dc",
   "metadata": {},
   "source": [
    "## Striping"
   ]
  },
  {
   "cell_type": "code",
   "execution_count": 62,
   "id": "68e626cb-ad82-4546-b5dd-6682bd4fac2c",
   "metadata": {},
   "outputs": [
    {
     "name": "stdout",
     "output_type": "stream",
     "text": [
      "                          india\n"
     ]
    }
   ],
   "source": [
    "# 1.lstrip---->left side space remove\n",
    "Country_name=\"                          india\"\n",
    "country_name=Country_name.lstrip()\n",
    "print(Country_name)"
   ]
  },
  {
   "cell_type": "code",
   "execution_count": 63,
   "id": "d4d4b622-9959-4d35-8b5d-11a30ef497e6",
   "metadata": {},
   "outputs": [
    {
     "name": "stdout",
     "output_type": "stream",
     "text": [
      "india                  \n"
     ]
    }
   ],
   "source": [
    "# 2.lstrip---->Right side space remove\n",
    "Country_name=\"india                  \"\n",
    "country_name=Country_name.rstrip()\n",
    "print(Country_name)"
   ]
  },
  {
   "cell_type": "code",
   "execution_count": 64,
   "id": "e76dd913-5f58-4f52-bca5-b2942dd4c2f1",
   "metadata": {},
   "outputs": [
    {
     "name": "stdout",
     "output_type": "stream",
     "text": [
      "                                              india                  \n"
     ]
    }
   ],
   "source": [
    "#3.strip---->both side space remove\n",
    "Country_name=\"                                              india                  \"\n",
    "country_name=Country_name.rstrip()\n",
    "print(Country_name)"
   ]
  },
  {
   "cell_type": "markdown",
   "id": "18636809-1dbb-449a-8fa0-4efd82291518",
   "metadata": {},
   "source": [
    "## Swap function"
   ]
  },
  {
   "cell_type": "code",
   "execution_count": 67,
   "id": "5c3318f0-8a0a-4881-9bea-c5966603d7a9",
   "metadata": {},
   "outputs": [
    {
     "data": {
      "text/plain": [
       "'pYThOn iS pROgRAmINBhG LANGuGAe'"
      ]
     },
     "execution_count": 67,
     "metadata": {},
     "output_type": "execute_result"
    }
   ],
   "source": [
    "#it swape lower to upper and upper to lower\n",
    "a=\"PytHoN Is ProGraMinbHg langUgaE\"\n",
    "a.swapcase()\n"
   ]
  },
  {
   "cell_type": "markdown",
   "id": "fb523a9e-15e2-42d4-a874-d28878e1a08e",
   "metadata": {},
   "source": [
    "# Replace function"
   ]
  },
  {
   "cell_type": "code",
   "execution_count": 12,
   "id": "79894602-969c-4568-9903-71732c4f9008",
   "metadata": {},
   "outputs": [
    {
     "data": {
      "text/plain": [
       "'Python class'"
      ]
     },
     "execution_count": 12,
     "metadata": {},
     "output_type": "execute_result"
    }
   ],
   "source": [
    "str1=\"Python class\"\n",
    "str2=str1.replace(\"python\",\"data science\")\n",
    "str2"
   ]
  },
  {
   "cell_type": "code",
   "execution_count": 71,
   "id": "4a0001b3-55be-4ec7-8e82-2d4fcb930f4c",
   "metadata": {},
   "outputs": [
    {
     "data": {
      "text/plain": [
       "'Pbthon class'"
      ]
     },
     "execution_count": 71,
     "metadata": {},
     "output_type": "execute_result"
    }
   ],
   "source": [
    "str1.replace(\"y\",\"b\",1) #count"
   ]
  },
  {
   "cell_type": "markdown",
   "id": "7b3d425e-5c27-4d59-b9ea-b545388d75c2",
   "metadata": {},
   "source": [
    "# Count function"
   ]
  },
  {
   "cell_type": "code",
   "execution_count": 72,
   "id": "24873618-ae89-4ce3-9a17-15b07a41e0f7",
   "metadata": {},
   "outputs": [
    {
     "data": {
      "text/plain": [
       "2"
      ]
     },
     "execution_count": 72,
     "metadata": {},
     "output_type": "execute_result"
    }
   ],
   "source": [
    "String=\"hello python\"\n",
    "String.count(\"l\")"
   ]
  },
  {
   "cell_type": "code",
   "execution_count": 73,
   "id": "38ab2225-f9c6-47af-a854-294c41fcf850",
   "metadata": {},
   "outputs": [
    {
     "data": {
      "text/plain": [
       "1"
      ]
     },
     "execution_count": 73,
     "metadata": {},
     "output_type": "execute_result"
    }
   ],
   "source": [
    "String=\"hello python\"\n",
    "String.count(\"l\",3,5)"
   ]
  },
  {
   "cell_type": "code",
   "execution_count": 75,
   "id": "9d58a04c-c64d-4bfe-b4f8-bb7dfa22cc26",
   "metadata": {},
   "outputs": [
    {
     "data": {
      "text/plain": [
       "'lo'"
      ]
     },
     "execution_count": 75,
     "metadata": {},
     "output_type": "execute_result"
    }
   ],
   "source": [
    "String[3:5]"
   ]
  },
  {
   "cell_type": "code",
   "execution_count": 76,
   "id": "53303131-e534-4322-96ff-150465417118",
   "metadata": {},
   "outputs": [
    {
     "data": {
      "text/plain": [
       "1"
      ]
     },
     "execution_count": 76,
     "metadata": {},
     "output_type": "execute_result"
    }
   ],
   "source": [
    "String.count(\"l\",3)"
   ]
  },
  {
   "cell_type": "markdown",
   "id": "7008a4db-03fc-4fc0-b5f0-0d303e942b06",
   "metadata": {},
   "source": [
    "# Index function"
   ]
  },
  {
   "cell_type": "code",
   "execution_count": 77,
   "id": "14415e1e-b8ae-40f9-b10b-8e3d7a3a379c",
   "metadata": {},
   "outputs": [
    {
     "data": {
      "text/plain": [
       "6"
      ]
     },
     "execution_count": 77,
     "metadata": {},
     "output_type": "execute_result"
    }
   ],
   "source": [
    "String=\"Hello python\"\n",
    "String.index(\"p\")"
   ]
  },
  {
   "cell_type": "code",
   "execution_count": 78,
   "id": "ffe66bb0-cb1e-48ca-90f8-f518efb7c4fe",
   "metadata": {},
   "outputs": [
    {
     "data": {
      "text/plain": [
       "10"
      ]
     },
     "execution_count": 78,
     "metadata": {},
     "output_type": "execute_result"
    }
   ],
   "source": [
    "String=\"hello python\"\n",
    "String.index(\"o\",5)"
   ]
  },
  {
   "cell_type": "code",
   "execution_count": 79,
   "id": "dafe785a-811a-4b72-bb33-ab5d29a7dc2f",
   "metadata": {},
   "outputs": [
    {
     "ename": "SyntaxError",
     "evalue": "unterminated string literal (detected at line 2) (401654611.py, line 2)",
     "output_type": "error",
     "traceback": [
      "\u001b[1;36m  Cell \u001b[1;32mIn[79], line 2\u001b[1;36m\u001b[0m\n\u001b[1;33m    String.index(\"q)\u001b[0m\n\u001b[1;37m                 ^\u001b[0m\n\u001b[1;31mSyntaxError\u001b[0m\u001b[1;31m:\u001b[0m unterminated string literal (detected at line 2)\n"
     ]
    }
   ],
   "source": [
    "String=\"hello python\"\n",
    "String.index(\"q)     #Character is not present in given string..so that"
   ]
  },
  {
   "cell_type": "code",
   "execution_count": 82,
   "id": "0ed9c487-7dd0-4349-9af8-afac4ee06208",
   "metadata": {},
   "outputs": [
    {
     "name": "stdout",
     "output_type": "stream",
     "text": [
      "found at index: 4\n",
      "found at index: 10\n"
     ]
    }
   ],
   "source": [
    "string=\"hello python\"\n",
    "for i,v in enumerate(string):\n",
    "    if v==\"o\":\n",
    "        print(\"found at index:\",i)"
   ]
  },
  {
   "cell_type": "markdown",
   "id": "333ed4ee-8cd2-443b-acf5-548bdf5d4092",
   "metadata": {},
   "source": [
    "# Find "
   ]
  },
  {
   "cell_type": "code",
   "execution_count": 83,
   "id": "70113811-6780-47f4-88b7-55e6141df74f",
   "metadata": {},
   "outputs": [
    {
     "name": "stdout",
     "output_type": "stream",
     "text": [
      "'Python is a versatile programming language.' - 'is' found at index: 7\n",
      "'Python is a versatile programming language.' - 'java' found at index: -1\n",
      "'Python is a versatile programming language.' - 'language' found within range (20, 40) at index: -1\n"
     ]
    }
   ],
   "source": [
    "text = \"Python is a versatile programming language.\"\n",
    "\n",
    "# Basic usage\n",
    "index1 = text.find(\"is\")\n",
    "print(f\"'{text}' - 'is' found at index: {index1}\")\n",
    "\n",
    "# Substring not found\n",
    "index2 = text.find(\"java\")\n",
    "print(f\"'{text}' - 'java' found at index: {index2}\")\n",
    "\n",
    "# Searching within a specific range\n",
    "index3 = text.find(\"language\", 20, 40)\n",
    "print(f\"'{text}' - 'language' found within range (20, 40) at index: {index3}\")"
   ]
  },
  {
   "cell_type": "markdown",
   "id": "b154a8d7-206b-46e9-8ba4-56d7d25feea0",
   "metadata": {},
   "source": [
    "# split function"
   ]
  },
  {
   "cell_type": "code",
   "execution_count": 86,
   "id": "5660dd05-2964-4972-a8e8-9fae8fa23b61",
   "metadata": {},
   "outputs": [
    {
     "data": {
      "text/plain": [
       "['Machine', 'learning', 'is', 'very', 'easy', 'language']"
      ]
     },
     "execution_count": 86,
     "metadata": {},
     "output_type": "execute_result"
    }
   ],
   "source": [
    "#-->it convert string into llist\n",
    "a=\"Machine learning is very easy language\"\n",
    "a.split()\n"
   ]
  },
  {
   "cell_type": "code",
   "execution_count": 87,
   "id": "bfcab6d5-5525-4f28-a761-b374f68959b2",
   "metadata": {},
   "outputs": [
    {
     "name": "stdout",
     "output_type": "stream",
     "text": [
      "['M', 'chine le', 'rning is very e', 'sy l', 'ngu', 'ge']\n"
     ]
    }
   ],
   "source": [
    "print(a.split(\"a\"))"
   ]
  },
  {
   "cell_type": "code",
   "execution_count": 91,
   "id": "026f05eb-932b-4584-b991-d317829715ac",
   "metadata": {},
   "outputs": [
    {
     "name": "stdout",
     "output_type": "stream",
     "text": [
      "['apple', 'banana', 'cherry']\n"
     ]
    }
   ],
   "source": [
    "#Splitting by a specific delimiter.\n",
    "data = \"apple,banana,cherry\"\n",
    "fruits = data.split(',')\n",
    "print(fruits)"
   ]
  },
  {
   "cell_type": "code",
   "execution_count": 93,
   "id": "4cc3bc4c-0f2a-498e-ba3f-abc39da54f7f",
   "metadata": {},
   "outputs": [
    {
     "name": "stdout",
     "output_type": "stream",
     "text": [
      "['C:', 'Users', 'Documents/file.txt']\n"
     ]
    }
   ],
   "source": [
    "path = \"C:/Users/Documents/file.txt\"\n",
    "parts = path.split('/', 2) # Split at most 2 times\n",
    "print(parts)"
   ]
  },
  {
   "cell_type": "markdown",
   "id": "112b78c7-1776-4c96-abf6-80bcbc6d1f91",
   "metadata": {},
   "source": [
    "# Join function"
   ]
  },
  {
   "cell_type": "code",
   "execution_count": 94,
   "id": "e90a9fd2-6bca-4686-b914-3dd3ec750433",
   "metadata": {},
   "outputs": [
    {
     "name": "stdout",
     "output_type": "stream",
     "text": [
      "['machine', 'learing']\n"
     ]
    }
   ],
   "source": [
    "a=\"machine learing\"\n",
    "b=a.split()\n",
    "print(b)"
   ]
  },
  {
   "cell_type": "code",
   "execution_count": 95,
   "id": "4c7bf9d6-c273-47d4-a04d-7e087ee703aa",
   "metadata": {},
   "outputs": [
    {
     "data": {
      "text/plain": [
       "'machine++learing'"
      ]
     },
     "execution_count": 95,
     "metadata": {},
     "output_type": "execute_result"
    }
   ],
   "source": [
    "\"++\".join(b)"
   ]
  },
  {
   "cell_type": "code",
   "execution_count": 97,
   "id": "c33b78ab-e0d2-4a27-8486-539ac6cebbf1",
   "metadata": {},
   "outputs": [
    {
     "data": {
      "text/plain": [
       "'machine learing'"
      ]
     },
     "execution_count": 97,
     "metadata": {},
     "output_type": "execute_result"
    }
   ],
   "source": [
    "\" \".join(b)"
   ]
  },
  {
   "cell_type": "code",
   "execution_count": 98,
   "id": "8858f170-e88f-457b-a984-f4840bd9a4bd",
   "metadata": {},
   "outputs": [
    {
     "name": "stdout",
     "output_type": "stream",
     "text": [
      "['machine', 'learning', '(ml)', 'is', 'a', 'field', 'of', 'study', 'in', 'artificial', 'intelligence', 'concerned', 'with', 'the', 'development', 'and', 'study', 'of', 'statistical', 'algorithms', 'that', 'can', 'learn', 'from', 'data', 'and', 'generalise', 'to', 'unseen', 'data,', 'and', 'thus', 'perform', 'tasks', 'without', 'explicit', 'instructions.[1]', 'within', 'a', 'subdiscipline', 'in', 'machine', 'learning,', 'advances', 'in', 'the', 'field', 'of', 'deep', 'learning', 'have', 'allowed', 'neural', 'networks,a', 'class', 'of', 'statistical', 'algorithms,', 'to', 'surpass', 'many', 'previous', 'machine', 'learning', 'approaches', 'in', 'performance']\n",
      "count of machine is ---> 3\n",
      "count of learning is ---> 4\n",
      "count of (ml) is ---> 1\n",
      "count of is is ---> 5\n",
      "count of a is ---> 41\n",
      "count of field is ---> 2\n",
      "count of of is ---> 4\n",
      "count of study is ---> 2\n",
      "count of in is ---> 15\n",
      "count of artificial is ---> 1\n",
      "count of intelligence is ---> 1\n",
      "count of concerned is ---> 1\n",
      "count of with is ---> 3\n",
      "count of the is ---> 2\n",
      "count of development is ---> 1\n",
      "count of and is ---> 3\n",
      "count of study is ---> 2\n",
      "count of of is ---> 4\n",
      "count of statistical is ---> 2\n",
      "count of algorithms is ---> 2\n",
      "count of that is ---> 1\n",
      "count of can is ---> 1\n",
      "count of learn is ---> 5\n",
      "count of from is ---> 1\n",
      "count of data is ---> 2\n",
      "count of and is ---> 3\n",
      "count of generalise is ---> 1\n",
      "count of to is ---> 2\n",
      "count of unseen is ---> 1\n",
      "count of data, is ---> 1\n",
      "count of and is ---> 3\n",
      "count of thus is ---> 1\n",
      "count of perform is ---> 2\n",
      "count of tasks is ---> 1\n",
      "count of without is ---> 1\n",
      "count of explicit is ---> 1\n",
      "count of instructions.[1] is ---> 1\n",
      "count of within is ---> 1\n",
      "count of a is ---> 41\n",
      "count of subdiscipline is ---> 1\n",
      "count of in is ---> 15\n",
      "count of machine is ---> 3\n",
      "count of learning, is ---> 1\n",
      "count of advances is ---> 1\n",
      "count of in is ---> 15\n",
      "count of the is ---> 2\n",
      "count of field is ---> 2\n",
      "count of of is ---> 4\n",
      "count of deep is ---> 1\n",
      "count of learning is ---> 4\n",
      "count of have is ---> 1\n",
      "count of allowed is ---> 1\n",
      "count of neural is ---> 1\n",
      "count of networks,a is ---> 1\n",
      "count of class is ---> 1\n",
      "count of of is ---> 4\n",
      "count of statistical is ---> 2\n",
      "count of algorithms, is ---> 1\n",
      "count of to is ---> 2\n",
      "count of surpass is ---> 1\n",
      "count of many is ---> 1\n",
      "count of previous is ---> 1\n",
      "count of machine is ---> 3\n",
      "count of learning is ---> 4\n",
      "count of approaches is ---> 1\n",
      "count of in is ---> 15\n",
      "count of performance is ---> 1\n"
     ]
    }
   ],
   "source": [
    "a=\"\"\"Machine learning (ML) is a field of study in artificial intelligence concerned with the development and\n",
    "study of statistical algorithms that can learn from data and generalise to unseen data, and thus perform tasks \n",
    "without explicit instructions.[1] Within a subdiscipline in machine learning, advances in the field of deep learning\n",
    "have allowed neural networks,a class of statistical algorithms, to surpass many previous machine learning approaches in performance\"\"\"\n",
    "a=a.lower()\n",
    "list1=a.split()\n",
    "print(list1)\n",
    "for i in list1:\n",
    "    cnt=a.count(i)\n",
    "    print(f\"count of {i} is --->\",cnt)"
   ]
  },
  {
   "cell_type": "markdown",
   "id": "08aea726-d47a-4c0d-9fe1-90e0af0f37c9",
   "metadata": {},
   "source": [
    "# Endswith()"
   ]
  },
  {
   "cell_type": "code",
   "execution_count": 101,
   "id": "86af3242-9c48-4d7c-af8a-419f76eab900",
   "metadata": {},
   "outputs": [
    {
     "data": {
      "text/plain": [
       "True"
      ]
     },
     "execution_count": 101,
     "metadata": {},
     "output_type": "execute_result"
    }
   ],
   "source": [
    "a=\"ashu/neeta/abc.pdf\"\n",
    "a.endswith(\"pdf\")"
   ]
  },
  {
   "cell_type": "code",
   "execution_count": 108,
   "id": "f731822e-a9ea-4019-ab43-98aacd2c9f6b",
   "metadata": {},
   "outputs": [
    {
     "name": "stdout",
     "output_type": "stream",
     "text": [
      "yes pdf\n"
     ]
    }
   ],
   "source": [
    "#show only pdf student\n",
    "a=\"ashu/neeta/abc.pdf\"\n",
    "if a.endswith(\"pdf\"):\n",
    "    print(\"yes pdf\")\n",
    "else:\n",
    "    print(\"no\")\n",
    "\n"
   ]
  },
  {
   "cell_type": "markdown",
   "id": "c5337802-72eb-4fb3-90a6-b0c9242df9fb",
   "metadata": {},
   "source": [
    "# startwith()\n"
   ]
  },
  {
   "cell_type": "code",
   "execution_count": 109,
   "id": "b5068b9e-5c72-4f95-85a7-3382f3081b22",
   "metadata": {},
   "outputs": [
    {
     "name": "stdout",
     "output_type": "stream",
     "text": [
      "True\n",
      "False\n",
      "True\n",
      "False\n",
      "True\n"
     ]
    }
   ],
   "source": [
    "my_string = \"Hello, world!\"\n",
    "\n",
    "# Basic usage\n",
    "print(my_string.startswith(\"Hello\"))  # Output: True\n",
    "print(my_string.startswith(\"Hi\"))     # Output: False\n",
    "\n",
    "# With start and end parameters\n",
    "print(my_string.startswith(\"world\", 7, 12)) # Output: True (checks \"world\" within \"world\")\n",
    "print(my_string.startswith(\"world\", 0, 5)) # Output: False (checks \"Hello\" within \"Hello\")\n",
    "\n",
    "# Checking against a tuple of prefixes\n",
    "prefixes = (\"Hola\", \"Hello\")\n",
    "print(my_string.startswith(prefixes)) # Output: True"
   ]
  },
  {
   "cell_type": "markdown",
   "id": "ca3910e8-7b42-40f2-8cd3-d5c11c58ab10",
   "metadata": {},
   "source": [
    "# isdecimal"
   ]
  },
  {
   "cell_type": "code",
   "execution_count": null,
   "id": "752ce5bc-4ad8-44d0-a7b2-bc7b49ce52af",
   "metadata": {},
   "outputs": [],
   "source": [
    "all characters within a string are decimal characters. It returns True if the string consists solely of digits from 0 to 9, and False otherwise. \n",
    "Syntax:"
   ]
  },
  {
   "cell_type": "code",
   "execution_count": 110,
   "id": "296530be-e35c-483b-a2f5-3e0b0ec2c675",
   "metadata": {},
   "outputs": [
    {
     "data": {
      "text/plain": [
       "True"
      ]
     },
     "execution_count": 110,
     "metadata": {},
     "output_type": "execute_result"
    }
   ],
   "source": [
    "string=\"1234788\"\n",
    "string.isdecimal()"
   ]
  },
  {
   "cell_type": "code",
   "execution_count": null,
   "id": "9a191fd3-9816-405a-816c-5a280caaeccf",
   "metadata": {},
   "outputs": [],
   "source": [
    "s1 = \"12345\"\n",
    "print(s1.isdecimal())  # Output: True\n",
    "\n",
    "s2 = \"123.45\"\n",
    "print(s2.isdecimal())  # Output: False (due to the decimal point)\n",
    "\n",
    "s3 = \"abc123\"\n",
    "print(s3.isdecimal())  # Output: False (due to letters)\n",
    "\n",
    "s4 = \"½\"  # Unicode fraction\n",
    "print(s4.isdecimal())  # Output: False (not a decimal character)\n"
   ]
  },
  {
   "cell_type": "markdown",
   "id": "adcd81bc-491a-4d9e-b7b9-188870ee90f3",
   "metadata": {},
   "source": [
    "# isalpha"
   ]
  },
  {
   "cell_type": "code",
   "execution_count": null,
   "id": "0741bade-07cd-47b1-b4ed-28fe37d57802",
   "metadata": {},
   "outputs": [],
   "source": [
    "# Example 1: String with only alphabetic characters\n",
    "text1 = \"HelloWorld\"\n",
    "result1 = text1.isalpha()\n",
    "print(result1)  # Output: True\n",
    "\n",
    "# Example 2: String with numbers\n",
    "text2 = \"Hello123\"\n",
    "result2 = text2.isalpha()\n",
    "print(result2)  # Output: False\n",
    "\n",
    "# Example 3: String with spaces\n",
    "text3 = \"Hello World\"\n",
    "result3 = text3.isalpha()\n",
    "print(result3)  # Output: False\n",
    "\n",
    "# Example 4: Empty string\n",
    "text4 = \"\"\n",
    "result4 = text4.isalpha()\n",
    "print(result4)  # Output: False\n",
    "\n",
    "# Example 5: String with special characters\n",
    "text5 = \"Python!\"\n",
    "result5 = text5.isalpha()\n",
    "print(result5) # Output: False"
   ]
  },
  {
   "cell_type": "code",
   "execution_count": 111,
   "id": "54cd8e5b-60ae-4e7f-af4a-290e04508676",
   "metadata": {},
   "outputs": [
    {
     "name": "stdout",
     "output_type": "stream",
     "text": [
      "True\n",
      "False\n",
      "True\n",
      "True\n"
     ]
    }
   ],
   "source": [
    "#isupper\n",
    "text = \"Hello, world!\"\n",
    "\n",
    "# Check if the string starts with \"Hello\"\n",
    "print(text.startswith(\"Hello\"))  # Output: True\n",
    "\n",
    "# Check if the string starts with \"Hi\"\n",
    "print(text.startswith(\"Hi\"))    # Output: False\n",
    "\n",
    "# Check with a tuple of substrings\n",
    "print(text.startswith((\"Hi\", \"Hello\"))) # Output: True\n",
    "\n",
    "# Check within a specific range\n",
    "print(text.startswith(\"world\", 7)) # Output: True (checks from index 7)"
   ]
  },
  {
   "cell_type": "code",
   "execution_count": 112,
   "id": "5495f3d7-b6d9-4d1f-9892-2b639a414f4d",
   "metadata": {},
   "outputs": [
    {
     "name": "stdout",
     "output_type": "stream",
     "text": [
      "True\n",
      "False\n",
      "True\n",
      "True\n",
      "False\n",
      "False\n"
     ]
    }
   ],
   "source": [
    "#islower\n",
    "# Returns True because all alphabetic characters are lowercase\n",
    "print(\"hello world\".islower())\n",
    "\n",
    "# Returns False because 'W' is uppercase\n",
    "print(\"Hello World\".islower())\n",
    "\n",
    "# Returns True because digits and symbols are not considered for case\n",
    "print(\"123abc!@#\".islower())\n",
    "\n",
    "# Returns True because whitespace is ignored, and 'a' is lowercase\n",
    "print(\" a \".islower())\n",
    "\n",
    "# Returns False because there are no cased characters, and it's empty of cased characters\n",
    "print(\"   \".islower())\n",
    "\n",
    "# Returns False for an empty string\n",
    "print(\"\".islower())"
   ]
  },
  {
   "cell_type": "code",
   "execution_count": null,
   "id": "b6bb0680-6743-42e3-84de-10c445492df2",
   "metadata": {},
   "outputs": [],
   "source": [
    "#istitle,ispace\n"
   ]
  },
  {
   "cell_type": "code",
   "execution_count": 7,
   "id": "b60b6dba-a29b-401a-9ee5-e0eaea2cabd6",
   "metadata": {},
   "outputs": [
    {
     "name": "stdout",
     "output_type": "stream",
     "text": [
      "k\n"
     ]
    }
   ],
   "source": [
    "s=\"GeekForgeeks\"\n",
    "print(s[10])"
   ]
  },
  {
   "cell_type": "code",
   "execution_count": 8,
   "id": "6cd403be-fd00-42f1-b736-d91ce68bd70d",
   "metadata": {},
   "outputs": [
    {
     "name": "stdout",
     "output_type": "stream",
     "text": [
      "g\n"
     ]
    }
   ],
   "source": [
    "s=\"GeekForgeeks\"\n",
    "print(s[-5])"
   ]
  },
  {
   "cell_type": "code",
   "execution_count": null,
   "id": "f19ebdb5-d24f-4d98-9e3d-b130f1aecb96",
   "metadata": {},
   "outputs": [],
   "source": []
  },
  {
   "cell_type": "code",
   "execution_count": null,
   "id": "d20d4ede-a3b5-4cef-9c73-4fe7cb819192",
   "metadata": {},
   "outputs": [],
   "source": []
  }
 ],
 "metadata": {
  "kernelspec": {
   "display_name": "Python 3 (ipykernel)",
   "language": "python",
   "name": "python3"
  },
  "language_info": {
   "codemirror_mode": {
    "name": "ipython",
    "version": 3
   },
   "file_extension": ".py",
   "mimetype": "text/x-python",
   "name": "python",
   "nbconvert_exporter": "python",
   "pygments_lexer": "ipython3",
   "version": "3.13.5"
  }
 },
 "nbformat": 4,
 "nbformat_minor": 5
}
