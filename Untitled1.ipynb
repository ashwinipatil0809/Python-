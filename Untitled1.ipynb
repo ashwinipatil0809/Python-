{
 "cells": [
  {
   "cell_type": "code",
   "execution_count": null,
   "id": "a821168d-7ee5-4604-82b6-6519a1296e7d",
   "metadata": {},
   "outputs": [],
   "source": []
  },
  {
   "cell_type": "code",
   "execution_count": null,
   "id": "3849f869-1cc0-4f19-9083-7b95993718dc",
   "metadata": {},
   "outputs": [],
   "source": [
    "import re\n",
    "text=\"\"\"mobile number is\n",
    "        1234567382\n",
    "        5467389202\n",
    "        5377289101\n",
    "Email id:ashu34@gmail.com\n",
    "        paras@gmail.com\n",
    "        prasad568@gmail.com\"\"\"\n",
    "a=re.findall("
   ]
  },
  {
   "cell_type": "code",
   "execution_count": null,
   "id": "4a05bb7b-4c91-4961-a5a0-b8b8af051c05",
   "metadata": {},
   "outputs": [],
   "source": [
    "import re\n",
    "IFCCode="
   ]
  },
  {
   "cell_type": "code",
   "execution_count": null,
   "id": "0b19c631-5700-4229-84ef-42d42464a976",
   "metadata": {},
   "outputs": [],
   "source": []
  },
  {
   "cell_type": "code",
   "execution_count": null,
   "id": "a229ff13-5ab3-4aa9-99f2-bf9b89ad283c",
   "metadata": {},
   "outputs": [],
   "source": []
  },
  {
   "cell_type": "code",
   "execution_count": null,
   "id": "b05944df-7cf3-41ca-898a-1ddaed4cf3b3",
   "metadata": {},
   "outputs": [],
   "source": []
  },
  {
   "cell_type": "code",
   "execution_count": null,
   "id": "b6927203-52c4-4dbc-a938-11284589da99",
   "metadata": {},
   "outputs": [],
   "source": []
  }
 ],
 "metadata": {
  "kernelspec": {
   "display_name": "Python 3 (ipykernel)",
   "language": "python",
   "name": "python3"
  },
  "language_info": {
   "codemirror_mode": {
    "name": "ipython",
    "version": 3
   },
   "file_extension": ".py",
   "mimetype": "text/x-python",
   "name": "python",
   "nbconvert_exporter": "python",
   "pygments_lexer": "ipython3",
   "version": "3.13.5"
  }
 },
 "nbformat": 4,
 "nbformat_minor": 5
}
