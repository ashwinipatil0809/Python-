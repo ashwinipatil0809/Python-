{
 "cells": [
  {
   "cell_type": "markdown",
   "id": "59fc1e56-44ff-44cb-8a83-1b282d8700b4",
   "metadata": {},
   "source": [
    "# Logical number"
   ]
  },
  {
   "cell_type": "markdown",
   "id": "3a61dfe2-a758-4d15-8027-2dd7d19c8fc0",
   "metadata": {},
   "source": [
    "## 1.Factoral of number"
   ]
  },
  {
   "cell_type": "code",
   "execution_count": 1,
   "id": "7dd10408-281c-4d8f-a1a1-cbc86a22fbe0",
   "metadata": {},
   "outputs": [
    {
     "name": "stdin",
     "output_type": "stream",
     "text": [
      "Enter any number: 5\n"
     ]
    },
    {
     "name": "stdout",
     "output_type": "stream",
     "text": [
      "factorail of  5 is 120\n"
     ]
    }
   ],
   "source": [
    "num=int(input(\"Enter any number:\"))\n",
    "fact=1   #we start from 1 bcz 0 multiplize cannot 0\n",
    "a=1    #inatlaize for a loop\n",
    "while a<=num:  #1<=5       #2<=5    \n",
    "    fact=fact*a #1*1=1     #1*2=2\n",
    "    a=a+1       # a=1+1=2   #2+1=3\n",
    "print(\"factorail of \" ,num ,\"is\",fact)\n"
   ]
  },
  {
   "cell_type": "markdown",
   "id": "6ed7422a-45f4-46e1-b353-5991f9825e3b",
   "metadata": {},
   "source": [
    "## using Function"
   ]
  },
  {
   "cell_type": "code",
   "execution_count": 9,
   "id": "876c39cc-50e5-4b71-925c-23f47630ab12",
   "metadata": {},
   "outputs": [],
   "source": [
    "def fact(num):\n",
    "    fact=1\n",
    "    a=1\n",
    "    while a<=num:\n",
    "        fact=fact*a\n",
    "        a=a+1\n",
    "    print(\"factorail of \" ,num ,\"is\",fact)\n",
    "    return fact\n",
    "    "
   ]
  },
  {
   "cell_type": "code",
   "execution_count": 10,
   "id": "ba6fcf1b-c62a-452f-aba0-21ff54dcbf3d",
   "metadata": {},
   "outputs": [
    {
     "name": "stdout",
     "output_type": "stream",
     "text": [
      "factorail of  5 is 120\n"
     ]
    },
    {
     "data": {
      "text/plain": [
       "120"
      ]
     },
     "execution_count": 10,
     "metadata": {},
     "output_type": "execute_result"
    }
   ],
   "source": [
    "fact(5)"
   ]
  },
  {
   "cell_type": "code",
   "execution_count": null,
   "id": "48706ec2-50bf-4708-9de9-006e67af2783",
   "metadata": {},
   "outputs": [],
   "source": []
  },
  {
   "cell_type": "markdown",
   "id": "ef668098-eca8-4d28-afd5-5994f86a1d6f",
   "metadata": {},
   "source": [
    "## 2.Fibonacci series up to n"
   ]
  },
  {
   "cell_type": "code",
   "execution_count": 15,
   "id": "67bef159-1b61-422d-9285-c4272db0849f",
   "metadata": {},
   "outputs": [
    {
     "name": "stdin",
     "output_type": "stream",
     "text": [
      "Enter a number: 10\n"
     ]
    },
    {
     "name": "stdout",
     "output_type": "stream",
     "text": [
      "0\n",
      "1\n",
      "1\n",
      "2\n",
      "3\n",
      "5\n",
      "8\n",
      "fibonacci series 10 is 13\n"
     ]
    }
   ],
   "source": [
    "n=int(input(\"Enter a number:\"))\n",
    "x=0\n",
    "y=1\n",
    "z=0\n",
    "while z<=n:\n",
    "    print(z)\n",
    "    x=y\n",
    "    y=z\n",
    "    z=x+y\n",
    "#print(\"fibonacci series\",n,\"is\",z)"
   ]
  },
  {
   "cell_type": "code",
   "execution_count": 17,
   "id": "7d329240-f4e6-4235-b08f-45dd2636aac1",
   "metadata": {},
   "outputs": [],
   "source": [
    "def fibbo(n):\n",
    "    x=0\n",
    "    y=1\n",
    "    z=0\n",
    "    while z<=n:\n",
    "        print(z)\n",
    "        x=y\n",
    "        y=z\n",
    "        z=x+y\n",
    "    return(z)"
   ]
  },
  {
   "cell_type": "code",
   "execution_count": 18,
   "id": "831d6a49-0956-48c2-88f0-2e32ec82f3f6",
   "metadata": {},
   "outputs": [
    {
     "name": "stdout",
     "output_type": "stream",
     "text": [
      "0\n",
      "1\n",
      "1\n",
      "2\n",
      "3\n",
      "5\n"
     ]
    },
    {
     "data": {
      "text/plain": [
       "8"
      ]
     },
     "execution_count": 18,
     "metadata": {},
     "output_type": "execute_result"
    }
   ],
   "source": [
    "fibbo(5)"
   ]
  },
  {
   "cell_type": "code",
   "execution_count": null,
   "id": "41eab200-fc33-43c6-ae77-cff0c35e1c7a",
   "metadata": {},
   "outputs": [],
   "source": []
  },
  {
   "cell_type": "markdown",
   "id": "992b5332-e560-4d70-8507-a03dc6bf246e",
   "metadata": {},
   "source": [
    "## 3.Prime number"
   ]
  },
  {
   "cell_type": "code",
   "execution_count": 25,
   "id": "c9d5d5bf-e66b-412d-b6f9-215633fdfcea",
   "metadata": {},
   "outputs": [
    {
     "name": "stdout",
     "output_type": "stream",
     "text": [
      "number is prime\n"
     ]
    }
   ],
   "source": [
    "num=7\n",
    "for i in range(2,num):\n",
    "    if num%i==0:\n",
    "        print(\"number is  not prime\")\n",
    "        break\n",
    "\n",
    "else:\n",
    "    print(\"number is prime\")"
   ]
  },
  {
   "cell_type": "code",
   "execution_count": 36,
   "id": "3266cf50-4446-45f1-991d-3834c164d784",
   "metadata": {},
   "outputs": [],
   "source": [
    "\n",
    "\n",
    "def prime(num):\n",
    "    lst=[]\n",
    "    for i in range(2,num):\n",
    "        if num%i==0:\n",
    "            print(\"number is not prime\")\n",
    "            break\n",
    "    else:\n",
    "        print(\"number is prime\")\n",
    "    return(num)"
   ]
  },
  {
   "cell_type": "code",
   "execution_count": 37,
   "id": "00ae21f3-9550-4e48-96b4-7b1206e27255",
   "metadata": {},
   "outputs": [
    {
     "name": "stdout",
     "output_type": "stream",
     "text": [
      "number is not prime\n"
     ]
    },
    {
     "data": {
      "text/plain": [
       "10"
      ]
     },
     "execution_count": 37,
     "metadata": {},
     "output_type": "execute_result"
    }
   ],
   "source": [
    "prime(10)"
   ]
  },
  {
   "cell_type": "code",
   "execution_count": 57,
   "id": "52d20d04-3403-4d4c-892c-1727fe6f3371",
   "metadata": {},
   "outputs": [],
   "source": [
    "def isprime(n):\n",
    "    lt=int(input(\"enter a number:\"))\n",
    "    for i in range(2,lt+1,1):\n",
    "        if isprime(i):\n",
    "            print(i)"
   ]
  },
  {
   "cell_type": "code",
   "execution_count": null,
   "id": "39c5b770-4eb8-4e88-b02a-e26831a57c21",
   "metadata": {},
   "outputs": [],
   "source": []
  },
  {
   "cell_type": "code",
   "execution_count": null,
   "id": "7cf303a5-fe49-4e2a-86b8-c497b94dab1b",
   "metadata": {},
   "outputs": [],
   "source": []
  }
 ],
 "metadata": {
  "kernelspec": {
   "display_name": "Python 3 (ipykernel)",
   "language": "python",
   "name": "python3"
  },
  "language_info": {
   "codemirror_mode": {
    "name": "ipython",
    "version": 3
   },
   "file_extension": ".py",
   "mimetype": "text/x-python",
   "name": "python",
   "nbconvert_exporter": "python",
   "pygments_lexer": "ipython3",
   "version": "3.13.5"
  }
 },
 "nbformat": 4,
 "nbformat_minor": 5
}
